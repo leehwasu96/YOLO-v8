{
  "nbformat": 4,
  "nbformat_minor": 0,
  "metadata": {
    "colab": {
      "provenance": [],
      "gpuType": "T4",
      "authorship_tag": "ABX9TyND3IvlmcbezZK8C5/sNARk",
      "include_colab_link": true
    },
    "kernelspec": {
      "name": "python3",
      "display_name": "Python 3"
    },
    "language_info": {
      "name": "python"
    },
    "accelerator": "GPU"
  },
  "cells": [
    {
      "cell_type": "markdown",
      "metadata": {
        "id": "view-in-github",
        "colab_type": "text"
      },
      "source": [
        "<a href=\"https://colab.research.google.com/github/leehwasu96/YOLO-v8/blob/main/YOLOv8.ipynb\" target=\"_parent\"><img src=\"https://colab.research.google.com/assets/colab-badge.svg\" alt=\"Open In Colab\"/></a>"
      ]
    },
    {
      "cell_type": "code",
      "execution_count": 2,
      "metadata": {
        "colab": {
          "base_uri": "https://localhost:8080/"
        },
        "collapsed": true,
        "id": "7RWS5jHhvvCA",
        "outputId": "be666e89-0037-42ab-dd3d-c3ab9693887b"
      },
      "outputs": [
        {
          "output_type": "stream",
          "name": "stdout",
          "text": [
            "Collecting ultralytics\n",
            "  Downloading ultralytics-8.2.55-py3-none-any.whl (800 kB)\n",
            "\u001b[2K     \u001b[90m━━━━━━━━━━━━━━━━━━━━━━━━━━━━━━━━━━━━━━━━\u001b[0m \u001b[32m800.2/800.2 kB\u001b[0m \u001b[31m7.3 MB/s\u001b[0m eta \u001b[36m0:00:00\u001b[0m\n",
            "\u001b[?25hRequirement already satisfied: numpy<2.0.0,>=1.23.0 in /usr/local/lib/python3.10/dist-packages (from ultralytics) (1.25.2)\n",
            "Requirement already satisfied: matplotlib>=3.3.0 in /usr/local/lib/python3.10/dist-packages (from ultralytics) (3.7.1)\n",
            "Requirement already satisfied: opencv-python>=4.6.0 in /usr/local/lib/python3.10/dist-packages (from ultralytics) (4.8.0.76)\n",
            "Requirement already satisfied: pillow>=7.1.2 in /usr/local/lib/python3.10/dist-packages (from ultralytics) (9.4.0)\n",
            "Requirement already satisfied: pyyaml>=5.3.1 in /usr/local/lib/python3.10/dist-packages (from ultralytics) (6.0.1)\n",
            "Requirement already satisfied: requests>=2.23.0 in /usr/local/lib/python3.10/dist-packages (from ultralytics) (2.31.0)\n",
            "Requirement already satisfied: scipy>=1.4.1 in /usr/local/lib/python3.10/dist-packages (from ultralytics) (1.11.4)\n",
            "Requirement already satisfied: torch>=1.8.0 in /usr/local/lib/python3.10/dist-packages (from ultralytics) (2.3.0+cu121)\n",
            "Requirement already satisfied: torchvision>=0.9.0 in /usr/local/lib/python3.10/dist-packages (from ultralytics) (0.18.0+cu121)\n",
            "Requirement already satisfied: tqdm>=4.64.0 in /usr/local/lib/python3.10/dist-packages (from ultralytics) (4.66.4)\n",
            "Requirement already satisfied: psutil in /usr/local/lib/python3.10/dist-packages (from ultralytics) (5.9.5)\n",
            "Requirement already satisfied: py-cpuinfo in /usr/local/lib/python3.10/dist-packages (from ultralytics) (9.0.0)\n",
            "Requirement already satisfied: pandas>=1.1.4 in /usr/local/lib/python3.10/dist-packages (from ultralytics) (2.0.3)\n",
            "Requirement already satisfied: seaborn>=0.11.0 in /usr/local/lib/python3.10/dist-packages (from ultralytics) (0.13.1)\n",
            "Collecting ultralytics-thop>=2.0.0 (from ultralytics)\n",
            "  Downloading ultralytics_thop-2.0.0-py3-none-any.whl (25 kB)\n",
            "Requirement already satisfied: contourpy>=1.0.1 in /usr/local/lib/python3.10/dist-packages (from matplotlib>=3.3.0->ultralytics) (1.2.1)\n",
            "Requirement already satisfied: cycler>=0.10 in /usr/local/lib/python3.10/dist-packages (from matplotlib>=3.3.0->ultralytics) (0.12.1)\n",
            "Requirement already satisfied: fonttools>=4.22.0 in /usr/local/lib/python3.10/dist-packages (from matplotlib>=3.3.0->ultralytics) (4.53.0)\n",
            "Requirement already satisfied: kiwisolver>=1.0.1 in /usr/local/lib/python3.10/dist-packages (from matplotlib>=3.3.0->ultralytics) (1.4.5)\n",
            "Requirement already satisfied: packaging>=20.0 in /usr/local/lib/python3.10/dist-packages (from matplotlib>=3.3.0->ultralytics) (24.1)\n",
            "Requirement already satisfied: pyparsing>=2.3.1 in /usr/local/lib/python3.10/dist-packages (from matplotlib>=3.3.0->ultralytics) (3.1.2)\n",
            "Requirement already satisfied: python-dateutil>=2.7 in /usr/local/lib/python3.10/dist-packages (from matplotlib>=3.3.0->ultralytics) (2.8.2)\n",
            "Requirement already satisfied: pytz>=2020.1 in /usr/local/lib/python3.10/dist-packages (from pandas>=1.1.4->ultralytics) (2023.4)\n",
            "Requirement already satisfied: tzdata>=2022.1 in /usr/local/lib/python3.10/dist-packages (from pandas>=1.1.4->ultralytics) (2024.1)\n",
            "Requirement already satisfied: charset-normalizer<4,>=2 in /usr/local/lib/python3.10/dist-packages (from requests>=2.23.0->ultralytics) (3.3.2)\n",
            "Requirement already satisfied: idna<4,>=2.5 in /usr/local/lib/python3.10/dist-packages (from requests>=2.23.0->ultralytics) (3.7)\n",
            "Requirement already satisfied: urllib3<3,>=1.21.1 in /usr/local/lib/python3.10/dist-packages (from requests>=2.23.0->ultralytics) (2.0.7)\n",
            "Requirement already satisfied: certifi>=2017.4.17 in /usr/local/lib/python3.10/dist-packages (from requests>=2.23.0->ultralytics) (2024.6.2)\n",
            "Requirement already satisfied: filelock in /usr/local/lib/python3.10/dist-packages (from torch>=1.8.0->ultralytics) (3.15.4)\n",
            "Requirement already satisfied: typing-extensions>=4.8.0 in /usr/local/lib/python3.10/dist-packages (from torch>=1.8.0->ultralytics) (4.12.2)\n",
            "Requirement already satisfied: sympy in /usr/local/lib/python3.10/dist-packages (from torch>=1.8.0->ultralytics) (1.12.1)\n",
            "Requirement already satisfied: networkx in /usr/local/lib/python3.10/dist-packages (from torch>=1.8.0->ultralytics) (3.3)\n",
            "Requirement already satisfied: jinja2 in /usr/local/lib/python3.10/dist-packages (from torch>=1.8.0->ultralytics) (3.1.4)\n",
            "Requirement already satisfied: fsspec in /usr/local/lib/python3.10/dist-packages (from torch>=1.8.0->ultralytics) (2023.6.0)\n",
            "Collecting nvidia-cuda-nvrtc-cu12==12.1.105 (from torch>=1.8.0->ultralytics)\n",
            "  Using cached nvidia_cuda_nvrtc_cu12-12.1.105-py3-none-manylinux1_x86_64.whl (23.7 MB)\n",
            "Collecting nvidia-cuda-runtime-cu12==12.1.105 (from torch>=1.8.0->ultralytics)\n",
            "  Using cached nvidia_cuda_runtime_cu12-12.1.105-py3-none-manylinux1_x86_64.whl (823 kB)\n",
            "Collecting nvidia-cuda-cupti-cu12==12.1.105 (from torch>=1.8.0->ultralytics)\n",
            "  Using cached nvidia_cuda_cupti_cu12-12.1.105-py3-none-manylinux1_x86_64.whl (14.1 MB)\n",
            "Collecting nvidia-cudnn-cu12==8.9.2.26 (from torch>=1.8.0->ultralytics)\n",
            "  Using cached nvidia_cudnn_cu12-8.9.2.26-py3-none-manylinux1_x86_64.whl (731.7 MB)\n",
            "Collecting nvidia-cublas-cu12==12.1.3.1 (from torch>=1.8.0->ultralytics)\n",
            "  Using cached nvidia_cublas_cu12-12.1.3.1-py3-none-manylinux1_x86_64.whl (410.6 MB)\n",
            "Collecting nvidia-cufft-cu12==11.0.2.54 (from torch>=1.8.0->ultralytics)\n",
            "  Using cached nvidia_cufft_cu12-11.0.2.54-py3-none-manylinux1_x86_64.whl (121.6 MB)\n",
            "Collecting nvidia-curand-cu12==10.3.2.106 (from torch>=1.8.0->ultralytics)\n",
            "  Using cached nvidia_curand_cu12-10.3.2.106-py3-none-manylinux1_x86_64.whl (56.5 MB)\n",
            "Collecting nvidia-cusolver-cu12==11.4.5.107 (from torch>=1.8.0->ultralytics)\n",
            "  Using cached nvidia_cusolver_cu12-11.4.5.107-py3-none-manylinux1_x86_64.whl (124.2 MB)\n",
            "Collecting nvidia-cusparse-cu12==12.1.0.106 (from torch>=1.8.0->ultralytics)\n",
            "  Using cached nvidia_cusparse_cu12-12.1.0.106-py3-none-manylinux1_x86_64.whl (196.0 MB)\n",
            "Collecting nvidia-nccl-cu12==2.20.5 (from torch>=1.8.0->ultralytics)\n",
            "  Using cached nvidia_nccl_cu12-2.20.5-py3-none-manylinux2014_x86_64.whl (176.2 MB)\n",
            "Collecting nvidia-nvtx-cu12==12.1.105 (from torch>=1.8.0->ultralytics)\n",
            "  Using cached nvidia_nvtx_cu12-12.1.105-py3-none-manylinux1_x86_64.whl (99 kB)\n",
            "Requirement already satisfied: triton==2.3.0 in /usr/local/lib/python3.10/dist-packages (from torch>=1.8.0->ultralytics) (2.3.0)\n",
            "Collecting nvidia-nvjitlink-cu12 (from nvidia-cusolver-cu12==11.4.5.107->torch>=1.8.0->ultralytics)\n",
            "  Downloading nvidia_nvjitlink_cu12-12.5.82-py3-none-manylinux2014_x86_64.whl (21.3 MB)\n",
            "\u001b[2K     \u001b[90m━━━━━━━━━━━━━━━━━━━━━━━━━━━━━━━━━━━━━━━━\u001b[0m \u001b[32m21.3/21.3 MB\u001b[0m \u001b[31m52.4 MB/s\u001b[0m eta \u001b[36m0:00:00\u001b[0m\n",
            "\u001b[?25hRequirement already satisfied: six>=1.5 in /usr/local/lib/python3.10/dist-packages (from python-dateutil>=2.7->matplotlib>=3.3.0->ultralytics) (1.16.0)\n",
            "Requirement already satisfied: MarkupSafe>=2.0 in /usr/local/lib/python3.10/dist-packages (from jinja2->torch>=1.8.0->ultralytics) (2.1.5)\n",
            "Requirement already satisfied: mpmath<1.4.0,>=1.1.0 in /usr/local/lib/python3.10/dist-packages (from sympy->torch>=1.8.0->ultralytics) (1.3.0)\n",
            "Installing collected packages: nvidia-nvtx-cu12, nvidia-nvjitlink-cu12, nvidia-nccl-cu12, nvidia-curand-cu12, nvidia-cufft-cu12, nvidia-cuda-runtime-cu12, nvidia-cuda-nvrtc-cu12, nvidia-cuda-cupti-cu12, nvidia-cublas-cu12, nvidia-cusparse-cu12, nvidia-cudnn-cu12, nvidia-cusolver-cu12, ultralytics-thop, ultralytics\n",
            "Successfully installed nvidia-cublas-cu12-12.1.3.1 nvidia-cuda-cupti-cu12-12.1.105 nvidia-cuda-nvrtc-cu12-12.1.105 nvidia-cuda-runtime-cu12-12.1.105 nvidia-cudnn-cu12-8.9.2.26 nvidia-cufft-cu12-11.0.2.54 nvidia-curand-cu12-10.3.2.106 nvidia-cusolver-cu12-11.4.5.107 nvidia-cusparse-cu12-12.1.0.106 nvidia-nccl-cu12-2.20.5 nvidia-nvjitlink-cu12-12.5.82 nvidia-nvtx-cu12-12.1.105 ultralytics-8.2.55 ultralytics-thop-2.0.0\n"
          ]
        }
      ],
      "source": [
        "#YOLO v8 다운로드\n",
        "!pip install ultralytics"
      ]
    },
    {
      "cell_type": "code",
      "source": [
        "from ultralytics import YOLO\n",
        "\n",
        "# YOLOv8 모델 다운로드 및 초기화\n",
        "model = YOLO('yolov8n.pt')  # 'yolov8n.pt'는 가장 작은 모델입니다. 다른 모델 크기도 사용할 수 있습니다."
      ],
      "metadata": {
        "colab": {
          "base_uri": "https://localhost:8080/"
        },
        "collapsed": true,
        "id": "vvmgRNQpwuby",
        "outputId": "b41c61f4-3cd5-4c11-ea27-1cdd9513da8a"
      },
      "execution_count": 3,
      "outputs": [
        {
          "output_type": "stream",
          "name": "stdout",
          "text": [
            "Downloading https://github.com/ultralytics/assets/releases/download/v8.2.0/yolov8n.pt to 'yolov8n.pt'...\n"
          ]
        },
        {
          "output_type": "stream",
          "name": "stderr",
          "text": [
            "100%|██████████| 6.25M/6.25M [00:00<00:00, 123MB/s]\n"
          ]
        }
      ]
    },
    {
      "cell_type": "code",
      "source": [
        "from google.colab import drive\n",
        "drive.mount('/content/drive')"
      ],
      "metadata": {
        "colab": {
          "base_uri": "https://localhost:8080/"
        },
        "collapsed": true,
        "id": "f_EufSHNw4Di",
        "outputId": "588b683d-6f1f-4422-f103-0f415cf57e9f"
      },
      "execution_count": 4,
      "outputs": [
        {
          "output_type": "stream",
          "name": "stdout",
          "text": [
            "Mounted at /content/drive\n"
          ]
        }
      ]
    },
    {
      "cell_type": "code",
      "source": [
        "# 현재 경로 확인\n",
        "!pwd"
      ],
      "metadata": {
        "colab": {
          "base_uri": "https://localhost:8080/"
        },
        "collapsed": true,
        "id": "whnP8G0DxU8K",
        "outputId": "4288ca0e-8060-4cce-9c62-1b68612a8f60"
      },
      "execution_count": 7,
      "outputs": [
        {
          "output_type": "stream",
          "name": "stdout",
          "text": [
            "/content\n"
          ]
        }
      ]
    },
    {
      "cell_type": "code",
      "source": [
        "# Roboflow에서 데이터셋 다운로드\n",
        "# https://universe.roboflow.com/\n",
        "!curl -L \"https://universe.roboflow.com/ds/BtCO0zxaeS?key=eQVDTueP22\" -o /content/roboflow.zip"
      ],
      "metadata": {
        "colab": {
          "base_uri": "https://localhost:8080/"
        },
        "collapsed": true,
        "id": "4XEoaUa_zeyb",
        "outputId": "cfd01c52-5503-4639-bbec-adb427211e47"
      },
      "execution_count": 5,
      "outputs": [
        {
          "output_type": "stream",
          "name": "stdout",
          "text": [
            "  % Total    % Received % Xferd  Average Speed   Time    Time     Time  Current\n",
            "                                 Dload  Upload   Total   Spent    Left  Speed\n",
            "100   903  100   903    0     0   3664      0 --:--:-- --:--:-- --:--:--  3670\n",
            "100 52.5M  100 52.5M    0     0  34.1M      0  0:00:01  0:00:01 --:--:-- 53.0M\n"
          ]
        }
      ]
    },
    {
      "cell_type": "code",
      "source": [
        "# 압축 해제\n",
        "!unzip /content/roboflow.zip -d /content/roboflow"
      ],
      "metadata": {
        "colab": {
          "base_uri": "https://localhost:8080/"
        },
        "collapsed": true,
        "id": "HcHTDKs2zoRD",
        "outputId": "9e003f36-ca29-4a53-9871-9673159a005d"
      },
      "execution_count": 8,
      "outputs": [
        {
          "output_type": "stream",
          "name": "stdout",
          "text": [
            "Archive:  /content/roboflow.zip\n",
            "  inflating: /content/roboflow/README.dataset.txt  \n",
            "  inflating: /content/roboflow/README.roboflow.txt  \n",
            "  inflating: /content/roboflow/data.yaml  \n",
            "   creating: /content/roboflow/test/\n",
            "   creating: /content/roboflow/test/images/\n",
            " extracting: /content/roboflow/test/images/-046E9840-F025-4749-B3AB-19402B34E739-png_jpg.rf.61fb28fc8210dc5a76d27598618bd697.jpg  \n",
            " extracting: /content/roboflow/test/images/-0ACAD937-70A4-46F0-8E49-0CAE6F942CF2-png_jpg.rf.377f60fc8175ff11e4e7f54cee044177.jpg  \n",
            " extracting: /content/roboflow/test/images/-1058CFB8-55AA-4270-937C-FAB55C49F17A-png_jpg.rf.a37ca443adb2be52ce2fe75f438fa3bc.jpg  \n",
            " extracting: /content/roboflow/test/images/-156F82DF-5099-4AEA-8574-19720B40C034-png_jpg.rf.5125e4a224dffbc6e2108adeede2cf5e.jpg  \n",
            " extracting: /content/roboflow/test/images/-192C4A31-07E9-4438-9D0D-63CF545747C8-png_jpg.rf.0e760b39af1d69108c91b0d57946bc2c.jpg  \n",
            " extracting: /content/roboflow/test/images/-192C4A31-07E9-4438-9D0D-63CF545747C8-png_jpg.rf.feeeedec703864cce38248b832a211cc.jpg  \n",
            " extracting: /content/roboflow/test/images/-1D5949D1-5187-454E-8ACC-924AD82CAC9C-png_jpg.rf.4257f1d10bf88337b241f1921985d0c4.jpg  \n",
            " extracting: /content/roboflow/test/images/-1F999A49-2799-4FBC-811D-D10A165F8B02-png_jpg.rf.a487f7b2ff16dc9d73d9c84613dad77c.jpg  \n",
            " extracting: /content/roboflow/test/images/-232CA389-A176-4AB7-A513-8D2D5E477CC2-png_jpg.rf.d7ccac6d546af9de32dd80940b1ab765.jpg  \n",
            " extracting: /content/roboflow/test/images/-23705E7A-1279-43E7-B20A-CE37ADAB61DD-png_jpg.rf.a4bed4bcacfcf0d81e01a9369e93a053.jpg  \n",
            " extracting: /content/roboflow/test/images/-25B75F91-9590-4B9D-A441-755612305E00-png_jpg.rf.56431ad8bdf76ddf844b7cfda9c40d1f.jpg  \n",
            " extracting: /content/roboflow/test/images/-25B75F91-9590-4B9D-A441-755612305E00-png_jpg.rf.6ee240a2ea74dd1e51dcc2be0fcd11bf.jpg  \n",
            " extracting: /content/roboflow/test/images/-2CC30CC7-5872-41C8-80F9-549219177A84-png_jpg.rf.db392bcb9efaf29022fe4cfe703284b5.jpg  \n",
            " extracting: /content/roboflow/test/images/-3571FC71-85E8-4968-8882-3A4B92AC8388-png_jpg.rf.5e5628c6b310ea9f47cf83a7a942a86f.jpg  \n",
            " extracting: /content/roboflow/test/images/-37EAFDFC-4667-4A10-98F7-3C9FB6EC7912-png_jpg.rf.51074a3c0cf146e837494a2599d4f360.jpg  \n",
            " extracting: /content/roboflow/test/images/-3947B75C-299F-46E6-84AF-947CB4AE712E-png_jpg.rf.2e8e505f42cbce0ad702b274fe4e198e.jpg  \n",
            " extracting: /content/roboflow/test/images/-3947B75C-299F-46E6-84AF-947CB4AE712E-png_jpg.rf.abdb52d1d40c78463049869adbb526f4.jpg  \n",
            " extracting: /content/roboflow/test/images/-394F92E4-59B2-4B85-9170-F782BC3DC244-png_jpg.rf.52101b057dd8fbe4b7c36b3e9c873ee0.jpg  \n",
            " extracting: /content/roboflow/test/images/-394F92E4-59B2-4B85-9170-F782BC3DC244-png_jpg.rf.56d37e6f971ef7b751489351a7064111.jpg  \n",
            " extracting: /content/roboflow/test/images/-3B056DBB-3097-4BCB-A38A-F66FA7470A6C-png_jpg.rf.0facdb9cd9493aa19b1ac1f75af9020c.jpg  \n",
            " extracting: /content/roboflow/test/images/-3B056DBB-3097-4BCB-A38A-F66FA7470A6C-png_jpg.rf.2d2c03372648bdf5bde1229cd0285a7a.jpg  \n",
            " extracting: /content/roboflow/test/images/-3B056DBB-3097-4BCB-A38A-F66FA7470A6C-png_jpg.rf.ded41c4b1c564e6856d2459cd55a9e13.jpg  \n",
            " extracting: /content/roboflow/test/images/-3B48CB36-3DE2-4088-B9D1-6F639B60DA9C-png_jpg.rf.f974a4bc8dbd94471f22fa63145c1dfd.jpg  \n",
            " extracting: /content/roboflow/test/images/-3C5B367D-D054-46F4-A427-80D90258A7B3-png_jpg.rf.1d1e31439a1794dc56ab67bdc8c98d64.jpg  \n",
            " extracting: /content/roboflow/test/images/-3C5B367D-D054-46F4-A427-80D90258A7B3-png_jpg.rf.2b809265820995be9fb1ba870921fc5f.jpg  \n",
            " extracting: /content/roboflow/test/images/-3C5B367D-D054-46F4-A427-80D90258A7B3-png_jpg.rf.6ed06051054450428d27ffe9c75b3c76.jpg  \n",
            " extracting: /content/roboflow/test/images/-3C5B367D-D054-46F4-A427-80D90258A7B3-png_jpg.rf.81d3156c179aba8c8ef34ff4bfd52805.jpg  \n",
            " extracting: /content/roboflow/test/images/-3D5128F1-30BE-4617-87D6-DBA1B7BF88DF-png_jpg.rf.c882365de2bbc16924a10368bcc748e2.jpg  \n",
            " extracting: /content/roboflow/test/images/-410FB936-1128-4721-89DE-79E2F58D3B24-png_jpg.rf.e16929b71b3696fbc65d19de9cf65a2e.jpg  \n",
            " extracting: /content/roboflow/test/images/-423FE4FB-F3E1-4E8E-8A40-5A99AEF6C353-png_jpg.rf.41f4a2e99f87b9a7609db1d239684562.jpg  \n",
            " extracting: /content/roboflow/test/images/-431A51B8-216A-4491-8839-72DCD54029AD-png_jpg.rf.adab62e374de3ff5b05a5f26a4eb5b5d.jpg  \n",
            " extracting: /content/roboflow/test/images/-44DB40B6-D520-4654-A07D-E87A49846F12-png_jpg.rf.1837c6b04f3865fa94d5249c6c0e352f.jpg  \n",
            " extracting: /content/roboflow/test/images/-465396AA-4CB9-4625-A390-70D9E748937A-png_jpg.rf.5f09698971eb03f7d1e4c23ab8fdccf1.jpg  \n",
            " extracting: /content/roboflow/test/images/-469593C2-4B3A-4A0B-B78A-24B4A79CCC35-png_jpg.rf.46b612f325b7339b599a23aef13b9c83.jpg  \n",
            " extracting: /content/roboflow/test/images/-4B741C2C-6B83-4220-B69F-FCD31BA7BD93-png_jpg.rf.bfe1ea045ee1193e0e83809604856ffc.jpg  \n",
            " extracting: /content/roboflow/test/images/-4B741C2C-6B83-4220-B69F-FCD31BA7BD93-png_jpg.rf.cbb677c4a9c4a38da5861d21373059f4.jpg  \n",
            " extracting: /content/roboflow/test/images/-4BB97EA4-824F-4351-B178-A426E8AE6051-png_jpg.rf.9401ece81e31821d81676e3c5ebd05f0.jpg  \n",
            " extracting: /content/roboflow/test/images/-4D888E2B-7F5D-4626-B4FF-E092A163D4B5-png_jpg.rf.ad6e5232f48545094c59aaeed1896de9.jpg  \n",
            " extracting: /content/roboflow/test/images/-4F8A1012-5719-437F-9811-1CE117CCBC65-png_jpg.rf.3ff470457c60f257e975675cffc433c7.jpg  \n",
            " extracting: /content/roboflow/test/images/-4F8A1012-5719-437F-9811-1CE117CCBC65-png_jpg.rf.e7ae3a35d241a0a1963e7aa99d3814e8.jpg  \n",
            " extracting: /content/roboflow/test/images/-52262D73-8B4E-4F06-883D-4C6E2E6ADED2-png_jpg.rf.a436abf122773ee46b252cdfa18b7bef.jpg  \n",
            " extracting: /content/roboflow/test/images/-52D877A5-D9D5-4B8F-848F-E449684E4869-png_jpg.rf.5354b63e0534292d518da4f53bf1238b.jpg  \n",
            " extracting: /content/roboflow/test/images/-531F9D36-6096-4999-B709-28F1E5F38DFE-png_jpg.rf.f73027e6472ff45ab7237cdaa2b64b38.jpg  \n",
            " extracting: /content/roboflow/test/images/-5399AA20-C3A4-4841-9CA4-0D18DFCA3806-png_jpg.rf.76820755db89801742bff13aa47c64e0.jpg  \n",
            " extracting: /content/roboflow/test/images/-53C40FB0-F866-4F4A-A410-D32C65C75BB4-png_jpg.rf.405e497cac8fcf41f321fa0bc81e170f.jpg  \n",
            " extracting: /content/roboflow/test/images/-541C6E4C-DEC9-4725-97C0-B773CF5182AB-png_jpg.rf.0cc8853b7611bdb786a1ab628d60c5e0.jpg  \n",
            " extracting: /content/roboflow/test/images/-56EAA0B9-41EA-46F5-99F9-433F614E42FB-png_jpg.rf.3aa756078edb9b3088d5ea6b481668d5.jpg  \n",
            " extracting: /content/roboflow/test/images/-56EF2068-CDF4-4068-80A1-E567375D4AE6-png_jpg.rf.10761915a896d1f68df2510abb968270.jpg  \n",
            " extracting: /content/roboflow/test/images/-56EF2068-CDF4-4068-80A1-E567375D4AE6-png_jpg.rf.2232ca5aa8dafdd8efa4330aed136868.jpg  \n",
            " extracting: /content/roboflow/test/images/-58A0B6C6-CAE2-41F9-9A9F-6B6E1A4EE492-png_jpg.rf.35dc29ce9ef8b1c7db58ee0f6e439ad2.jpg  \n",
            " extracting: /content/roboflow/test/images/-58A0B6C6-CAE2-41F9-9A9F-6B6E1A4EE492-png_jpg.rf.af471795765c899114a49d6b30436464.jpg  \n",
            " extracting: /content/roboflow/test/images/-597DE6B4-F29B-4655-A97B-DBFEE2C995F8-png_jpg.rf.264ddd965279f06170a5f9c01c842824.jpg  \n",
            " extracting: /content/roboflow/test/images/-597DE6B4-F29B-4655-A97B-DBFEE2C995F8-png_jpg.rf.e1ecd9f522820728e0f6fd7b99c63ca0.jpg  \n",
            " extracting: /content/roboflow/test/images/-59D02DDC-DB49-41DA-8B1F-33712FDE8CEE-png_jpg.rf.0221361512f857eab1ce13e4b478592f.jpg  \n",
            " extracting: /content/roboflow/test/images/-5AD2C6FA-9814-4CB1-822E-3A617443C49E-png_jpg.rf.1555bc56a972f8e8b08cdaaa09d26e15.jpg  \n",
            " extracting: /content/roboflow/test/images/-5AD2C6FA-9814-4CB1-822E-3A617443C49E-png_jpg.rf.2a36a9ce7ddafac2ed9123a6ce38a1ea.jpg  \n",
            " extracting: /content/roboflow/test/images/-5AD2C6FA-9814-4CB1-822E-3A617443C49E-png_jpg.rf.787fd1cc032fe2a08ac82230b394e809.jpg  \n",
            " extracting: /content/roboflow/test/images/-5BB5033D-F96D-4681-808D-9BCBE7C2221E-png_jpg.rf.9f39173aba22d25d85429ff30c33bd48.jpg  \n",
            " extracting: /content/roboflow/test/images/-5BCD3433-D1A0-436B-B906-4809400FC43E-png_jpg.rf.5092e894c07d294400c5fed275998a83.jpg  \n",
            " extracting: /content/roboflow/test/images/-5C9472C7-6F7B-45B6-A2F4-0CE739421A98-png_jpg.rf.0748f9f639f84e93e7f538bc35206e18.jpg  \n",
            " extracting: /content/roboflow/test/images/-5D890027-73FC-42D9-B3D5-2ED473A73B66-png_jpg.rf.1b93bc950ee29799a79e20b20b4bce37.jpg  \n",
            " extracting: /content/roboflow/test/images/-5DB86A4E-D64A-4032-ACF4-957B38D438C9-png_jpg.rf.e4f22ea1c5d2eef81171392228197058.jpg  \n",
            " extracting: /content/roboflow/test/images/-5E037376-5D27-4953-9841-0083E8D06D0B-png_jpg.rf.ec30c26a2f363e6de8c56b6ee6d74ffc.jpg  \n",
            " extracting: /content/roboflow/test/images/-5E492592-1503-4FFB-A59A-7C84C8FB58C8-png_jpg.rf.40fdee27317d7278b5a6d9171ca8421c.jpg  \n",
            " extracting: /content/roboflow/test/images/-5E69D234-D9EE-4A15-ABEB-52BA04828890-png_jpg.rf.4adab1c957ea40b04716062161d94b93.jpg  \n",
            " extracting: /content/roboflow/test/images/-5E69D234-D9EE-4A15-ABEB-52BA04828890-png_jpg.rf.4bce9d59cc12845a1dcd5e8db64fff7c.jpg  \n",
            " extracting: /content/roboflow/test/images/-5F381E05-B9B8-4054-8444-EFE81AA4B78C-png_jpg.rf.0b2654b5f008b21d6adc9052dce41c0d.jpg  \n",
            " extracting: /content/roboflow/test/images/-5F381E05-B9B8-4054-8444-EFE81AA4B78C-png_jpg.rf.d96cc3881b4cc03c7c52fa6abddd3aa3.jpg  \n",
            " extracting: /content/roboflow/test/images/-608B1B77-EBBE-4E69-AB2F-13A3A5ED4C39-png_jpg.rf.329bb51c5c80fbb3f513e9878ad46316.jpg  \n",
            " extracting: /content/roboflow/test/images/-62DA7C7D-C50D-40A7-87D1-DB8633F1F29D-png_jpg.rf.88eb7414660ff44b195aaf6cb0207ec4.jpg  \n",
            " extracting: /content/roboflow/test/images/-62DA7C7D-C50D-40A7-87D1-DB8633F1F29D-png_jpg.rf.abc505bfcefb45234fe78add66086ea7.jpg  \n",
            " extracting: /content/roboflow/test/images/-62DA7C7D-C50D-40A7-87D1-DB8633F1F29D-png_jpg.rf.da6ac526c7b50bdd2f2a2b4f9419335b.jpg  \n",
            " extracting: /content/roboflow/test/images/-63A3759B-1595-4A66-BB62-1E7F580BA753-png_jpg.rf.d27fd54be3e615e4489e92fea2f79e69.jpg  \n",
            " extracting: /content/roboflow/test/images/-B3FF9CBC-6C9F-4BDD-B814-790723E32E98-png_jpg.rf.19a62573ce535d1436d06cba00f99c01.jpg  \n",
            " extracting: /content/roboflow/test/images/-B3FF9CBC-6C9F-4BDD-B814-790723E32E98-png_jpg.rf.ab89462ccb9f13f0fb11bf2c75ea95ed.jpg  \n",
            " extracting: /content/roboflow/test/images/-B4C05A41-CD1A-4081-9609-EEFF67F464BE-png_jpg.rf.8a865b4bd1932fb9e06f4d6a00d863a0.jpg  \n",
            " extracting: /content/roboflow/test/images/-B545A484-7AEC-4211-AE64-92650557307F-png_jpg.rf.85a27996ae678e77981a7b92fedfad41.jpg  \n",
            " extracting: /content/roboflow/test/images/-B8116B0D-7D32-4C4A-9F5D-D72766C72DB5-png_jpg.rf.f0e790c81c46ccd2d442d012c9fd8ae2.jpg  \n",
            " extracting: /content/roboflow/test/images/-B9AA9C0E-404F-4AB4-B015-183269CB4261-png_jpg.rf.49402a04e4e7366292786e964de5b6aa.jpg  \n",
            " extracting: /content/roboflow/test/images/-B9AA9C0E-404F-4AB4-B015-183269CB4261-png_jpg.rf.68cadd467444ef56bcba2bf7a57de4d7.jpg  \n",
            " extracting: /content/roboflow/test/images/-BAAC60D7-E665-4186-BAA3-B3E20F8D397C-png_jpg.rf.1e1b9dd3c11a86355ced8a62341a5bc7.jpg  \n",
            " extracting: /content/roboflow/test/images/-BBC6D213-1075-48CE-B772-FDD44F34A3E7-png_jpg.rf.970bb7e4c4287853230a05456a09fa53.jpg  \n",
            " extracting: /content/roboflow/test/images/-BBC6D213-1075-48CE-B772-FDD44F34A3E7-png_jpg.rf.e381d0af5b101a07e1074e7f70147eb4.jpg  \n",
            " extracting: /content/roboflow/test/images/-BC165CAD-1004-4A38-B8A5-0E25AC65AAC9-png_jpg.rf.a0e35e2f76e20b023a4f1694347c7a23.jpg  \n",
            " extracting: /content/roboflow/test/images/-BD23F506-8DE9-4C71-B79A-585BF30E68A5-png_jpg.rf.94c8241e0a1e0ba6212af97dc69635ac.jpg  \n",
            " extracting: /content/roboflow/test/images/-BD499523-8602-4C68-8E63-FCE23A82AA16-png_jpg.rf.935bad39e0092fa96efdb865d4ca0a52.jpg  \n",
            " extracting: /content/roboflow/test/images/-BE412F80-6FDD-4522-8C6B-D26DA55927F5-png_jpg.rf.227a3dfd2f0e0afe6fb6067afd8b2195.jpg  \n",
            " extracting: /content/roboflow/test/images/-BE412F80-6FDD-4522-8C6B-D26DA55927F5-png_jpg.rf.999a7de55193421a17e7d5234bd7a8f1.jpg  \n",
            " extracting: /content/roboflow/test/images/-C0A680DB-DB9F-47C7-BE3B-74E6A294E203-png_jpg.rf.924a0f32ea45e63df2d4707140c87469.jpg  \n",
            " extracting: /content/roboflow/test/images/-C2D8DECE-2C51-4217-9B45-88F76CBC1D6C-png_jpg.rf.f6173d0e8fd51ae4adf618dd0140c29c.jpg  \n",
            " extracting: /content/roboflow/test/images/-C2DEBBE3-7D35-4B32-8AC1-D9271147FDB7-png_jpg.rf.965e62061ba3711b622e3ce8655b672a.jpg  \n",
            " extracting: /content/roboflow/test/images/-C2DEBBE3-7D35-4B32-8AC1-D9271147FDB7-png_jpg.rf.d2ee829b2bcc72dbcfd09939f6d72d35.jpg  \n",
            " extracting: /content/roboflow/test/images/-C8A077AE-C474-4AAB-A0E4-24F4F9266447-png_jpg.rf.3e2f30bbd22405d6e374aafd351c7dac.jpg  \n",
            " extracting: /content/roboflow/test/images/-C8A077AE-C474-4AAB-A0E4-24F4F9266447-png_jpg.rf.e019dd114e67d9aadf8f3f5488e9cd26.jpg  \n",
            " extracting: /content/roboflow/test/images/-C94776E1-EF34-4408-A9D3-69BE388FC761-png_jpg.rf.18bd800e47548951d4f9a7cacf8d2d26.jpg  \n",
            " extracting: /content/roboflow/test/images/-C96EB60C-375E-476D-8D20-3643A20C26B5-png_jpg.rf.ebd2f1909610d441f7a5f47fc27a0669.jpg  \n",
            " extracting: /content/roboflow/test/images/-CB279B0A-743F-4855-AE98-C9A9D0E40A22-png_jpg.rf.935f4c3eb7be208ee8f0afa8db38b030.jpg  \n",
            " extracting: /content/roboflow/test/images/-CF2B7A09-EC0C-4B1D-BDA5-7FD52B39F0F8-png_jpg.rf.2e2407a28846342f4507602310976c42.jpg  \n",
            " extracting: /content/roboflow/test/images/-CFB928D0-84D7-4021-B542-4F3E73E475AE-png_jpg.rf.24a1e7ac8bf2b827526608b5e0ff8f86.jpg  \n",
            " extracting: /content/roboflow/test/images/-D033F88A-8CE6-40D3-9005-E2697DC83F11-png_jpg.rf.5ff3284612d98a72723fd0cd75df9c78.jpg  \n",
            " extracting: /content/roboflow/test/images/-D2C63838-6966-45B0-99FF-C22521BF9149-png_jpg.rf.197836c6b154e7b1f88fd54fe96772a1.jpg  \n",
            " extracting: /content/roboflow/test/images/-D3D7864A-309B-4CE0-B18F-3CAC8DFD86D4-png_jpg.rf.4db1a8afed416996f22cb8ebb8a2d5ed.jpg  \n",
            " extracting: /content/roboflow/test/images/-D3ED54BD-094A-471D-A8A9-C1A7B3262064-png_jpg.rf.62cdd654f6c3a68ddb2744599344d5c5.jpg  \n",
            " extracting: /content/roboflow/test/images/-D72F756C-74EB-4144-8B6B-12F9757EDCE5-png_jpg.rf.f062c891ef5b81a005ff8bc952d06805.jpg  \n",
            " extracting: /content/roboflow/test/images/-DA921E8A-7BF2-44DE-AD8F-0C17D388AABD-png_jpg.rf.b8ceccdf8d60f5e258cb6fcc22f43a35.jpg  \n",
            " extracting: /content/roboflow/test/images/-E0F2527D-3B61-4274-8655-B807876330E9-png_jpg.rf.57ae6ae30fa6f3f8d0b6b120206783bc.jpg  \n",
            " extracting: /content/roboflow/test/images/-E169C681-EEF4-4F14-8884-D6C35F9A4005-png_jpg.rf.072ea7b9d84074238a5869ad920aff7c.jpg  \n",
            " extracting: /content/roboflow/test/images/-E39DE576-0BDF-4674-9CCE-4780BD8A5744-png_jpg.rf.83a6b6ecb20328300b08162ef7b3a3c1.jpg  \n",
            " extracting: /content/roboflow/test/images/-E4E37ACE-EAB9-4F03-8279-813B05F79336-png_jpg.rf.9cdd0bbf0b4325e182ea5f259a750227.jpg  \n",
            " extracting: /content/roboflow/test/images/-E4E37ACE-EAB9-4F03-8279-813B05F79336-png_jpg.rf.e0df9ee8914dca14e98bc5b257cd0c54.jpg  \n",
            " extracting: /content/roboflow/test/images/-F6C8BDBB-4AF8-454C-9460-BB89186D193C-png_jpg.rf.0bea18be7df7df6e23e9d1349b79954f.jpg  \n",
            " extracting: /content/roboflow/test/images/-FFB52469-E780-47C4-887D-EEAD0226DDE5-png_jpg.rf.a78347fbfee869008ae65f4735db404d.jpg  \n",
            " extracting: /content/roboflow/test/images/14_jpeg_jpg.rf.92bc10c534a3b3c8fbe7c18abe5957d2.jpg  \n",
            " extracting: /content/roboflow/test/images/14_jpeg_jpg.rf.c6c134109b8ffb6905e3a1ea8e9c9e70.jpg  \n",
            " extracting: /content/roboflow/test/images/19_jpeg_jpg.rf.ce98753395bd1693675c8320b3d3e8e0.jpg  \n",
            " extracting: /content/roboflow/test/images/2_jpeg_jpg.rf.a32c30cbaaa991a8689e72a96c8eb234.jpg  \n",
            " extracting: /content/roboflow/test/images/6_jpeg_jpg.rf.6907f5916b906c9d4ae84ce32074d461.jpg  \n",
            " extracting: /content/roboflow/test/images/7_jpeg_jpg.rf.965a80859ac9b65312b7c88cc5005302.jpg  \n",
            " extracting: /content/roboflow/test/images/8_jpeg_jpg.rf.1cd706471d5e79d0909a6b38668ca3df.jpg  \n",
            " extracting: /content/roboflow/test/images/WhatsApp-Image-2022-12-05-at-18-16-29_jpeg_jpg.rf.36114a25e85d4f5e2458db7e5e1518ff.jpg  \n",
            " extracting: /content/roboflow/test/images/WhatsApp-Image-2022-12-05-at-18-16-29_jpeg_jpg.rf.53dbd2863ea09738c8c88a53fc1d1b3a.jpg  \n",
            " extracting: /content/roboflow/test/images/WhatsApp-Image-2022-12-05-at-18-16-29_jpeg_jpg.rf.c5af0181bf8b7c13a8931453a9858448.jpg  \n",
            " extracting: /content/roboflow/test/images/WhatsApp-Image-2022-12-05-at-18-16-39_jpeg_jpg.rf.380f3340bdd6a17a52321467e960bb12.jpg  \n",
            " extracting: /content/roboflow/test/images/WhatsApp-Image-2022-12-05-at-18-16-45_jpeg_jpg.rf.694b41cf2c4b381f3d53165fbe34f5c3.jpg  \n",
            " extracting: /content/roboflow/test/images/WhatsApp-Image-2022-12-05-at-18-16-49_jpeg_jpg.rf.5070f7685152112d636f153a3dee5544.jpg  \n",
            " extracting: /content/roboflow/test/images/WhatsApp-Image-2022-12-05-at-18-16-49_jpeg_jpg.rf.86bde39fc91b524569f0fa7f1adc35cd.jpg  \n",
            " extracting: /content/roboflow/test/images/WhatsApp-Image-2022-12-05-at-18-16-49_jpeg_jpg.rf.eac320baf424118e6b0dbac404c9198a.jpg  \n",
            " extracting: /content/roboflow/test/images/WhatsApp-Image-2022-12-05-at-18-17-00_jpeg_jpg.rf.04fb90236988c680076b4e1593e8c4e1.jpg  \n",
            " extracting: /content/roboflow/test/images/WhatsApp-Image-2022-12-05-at-18-17-08_jpeg_jpg.rf.1053e7e14d2370b0bafda51ba52ddf14.jpg  \n",
            " extracting: /content/roboflow/test/images/WhatsApp-Image-2022-12-05-at-18-17-36_jpeg_jpg.rf.8042e5ce641a4060d9215f8f719c9f93.jpg  \n",
            " extracting: /content/roboflow/test/images/WhatsApp-Image-2022-12-05-at-18-18-22_jpeg_jpg.rf.0ea99715ad3c60130b61e05e286e01cf.jpg  \n",
            " extracting: /content/roboflow/test/images/WhatsApp-Image-2022-12-05-at-18-18-22_jpeg_jpg.rf.7c88aada4fd2a29327818c55d1065367.jpg  \n",
            " extracting: /content/roboflow/test/images/WhatsApp-Image-2022-12-05-at-18-18-22_jpeg_jpg.rf.ec8e1bb3e917f81742853f30504519f3.jpg  \n",
            " extracting: /content/roboflow/test/images/WhatsApp-Image-2022-12-05-at-18-18-28_jpeg_jpg.rf.db97c889fb062d9addca594068da7f22.jpg  \n",
            " extracting: /content/roboflow/test/images/WhatsApp-Image-2022-12-05-at-18-21-15_jpeg_jpg.rf.31f04d0fd496135288205367f3dc37f0.jpg  \n",
            " extracting: /content/roboflow/test/images/WhatsApp-Image-2022-12-05-at-18-21-16_jpeg_jpg.rf.904af5df7a037e304eaaadb2ca804266.jpg  \n",
            " extracting: /content/roboflow/test/images/WhatsApp-Image-2022-12-05-at-18-21-58_jpeg_jpg.rf.2508de9e57e18ef73d38c9f2130a5942.jpg  \n",
            " extracting: /content/roboflow/test/images/WhatsApp-Image-2022-12-05-at-18-21-58_jpeg_jpg.rf.9f6892034280b285a0f8276fe9ed44d5.jpg  \n",
            " extracting: /content/roboflow/test/images/WhatsApp-Image-2022-12-05-at-18-22-11_jpeg_jpg.rf.3c63e2b5636588dfa77679aed9cd5f19.jpg  \n",
            " extracting: /content/roboflow/test/images/WhatsApp-Image-2022-12-05-at-18-22-11_jpeg_jpg.rf.99a1abf372053d149841bd029fa97f03.jpg  \n",
            " extracting: /content/roboflow/test/images/WhatsApp-Image-2022-12-05-at-18-22-24_jpeg_jpg.rf.ff784439162865d6b430ca8e238e8a87.jpg  \n",
            " extracting: /content/roboflow/test/images/WhatsApp-Image-2022-12-05-at-18-22-52_jpeg_jpg.rf.633a5f8059ce8214cc8481b6dfa41ff2.jpg  \n",
            " extracting: /content/roboflow/test/images/WhatsApp-Image-2022-12-05-at-18-22-52_jpeg_jpg.rf.724bc11d36dd5bbad5eafecfb1d692b9.jpg  \n",
            " extracting: /content/roboflow/test/images/WhatsApp-Image-2022-12-05-at-18-22-59_jpeg_jpg.rf.8843c692513f0906575fd3ff58ab520e.jpg  \n",
            " extracting: /content/roboflow/test/images/WhatsApp-Image-2022-12-05-at-18-23-14_jpeg_jpg.rf.b1490b3fc9f131cebd56308a1161427c.jpg  \n",
            " extracting: /content/roboflow/test/images/WhatsApp-Image-2022-12-05-at-18-23-14_jpeg_jpg.rf.dcdab15d0e7dcc57a91d48328b381d6e.jpg  \n",
            " extracting: /content/roboflow/test/images/WhatsApp-Image-2022-12-05-at-18-23-15_jpeg_jpg.rf.145ea8588da0f8b785b21d8bfde12926.jpg  \n",
            " extracting: /content/roboflow/test/images/WhatsApp-Image-2022-12-05-at-18-25-07_jpeg_jpg.rf.39f2f0aeaf22152edbb54da876253403.jpg  \n",
            " extracting: /content/roboflow/test/images/WhatsApp-Image-2022-12-05-at-18-25-08_jpeg_jpg.rf.c2efb40dbc9d404e9d2f2757047c2aa8.jpg  \n",
            " extracting: /content/roboflow/test/images/WhatsApp-Image-2022-12-05-at-18-25-08_jpeg_jpg.rf.f9d09f12590588a85c73e240a2a57eae.jpg  \n",
            " extracting: /content/roboflow/test/images/WhatsApp-Image-2022-12-05-at-18-25-40_jpeg_jpg.rf.0f6b0ed0e298bcfcf001fcc8e901922c.jpg  \n",
            " extracting: /content/roboflow/test/images/WhatsApp-Image-2022-12-05-at-18-25-42_jpeg_jpg.rf.829a5a92fc15b039380e542401f73eaf.jpg  \n",
            " extracting: /content/roboflow/test/images/WhatsApp-Image-2022-12-05-at-18-26-10_jpeg_jpg.rf.003c4e57dfba070c787e20eb11cbb394.jpg  \n",
            " extracting: /content/roboflow/test/images/WhatsApp-Image-2022-12-05-at-18-26-29_jpeg_jpg.rf.4c40a056785c5fbf70b007d515faa030.jpg  \n",
            " extracting: /content/roboflow/test/images/WhatsApp-Image-2022-12-05-at-18-26-29_jpeg_jpg.rf.913319ca6356fa3142e4a3199e3451bf.jpg  \n",
            " extracting: /content/roboflow/test/images/WhatsApp-Image-2022-12-05-at-18-26-48_jpeg_jpg.rf.7bfa751898db5150a530f2a03546695c.jpg  \n",
            " extracting: /content/roboflow/test/images/WhatsApp-Image-2022-12-05-at-18-26-48_jpeg_jpg.rf.ea92721a951148a1f406cf69b3a26638.jpg  \n",
            " extracting: /content/roboflow/test/images/WhatsApp-Image-2022-12-05-at-18-27-00_jpeg_jpg.rf.c70650483546a6fbcf4c59d93c59aaed.jpg  \n",
            " extracting: /content/roboflow/test/images/WhatsApp-Video-2022-11-29-at-20_15_43_mp4-1_jpg.rf.f09c0454a34a4b64b259bd4de3880739.jpg  \n",
            " extracting: /content/roboflow/test/images/WhatsApp-Video-2022-11-29-at-20_15_43_mp4-2_jpg.rf.155f814a8cc142a0bb8ffe6c53520bf0.jpg  \n",
            " extracting: /content/roboflow/test/images/WhatsApp-Video-2022-11-29-at-20_15_43_mp4-4_jpg.rf.1d0c880ea6a7c01fd928717cc117602e.jpg  \n",
            " extracting: /content/roboflow/test/images/WhatsApp-Video-2022-11-29-at-20_15_43_mp4-4_jpg.rf.c52006e533a5010227d987567438fb9b.jpg  \n",
            " extracting: /content/roboflow/test/images/WhatsApp-Video-2022-11-29-at-20_15_43_mp4-6_jpg.rf.c78c5d25d55031644b78c2de1a63ddb3.jpg  \n",
            " extracting: /content/roboflow/test/images/youtube-21_jpg.rf.7e53bfd3a39c2dde72fe65e1390ec427.jpg  \n",
            " extracting: /content/roboflow/test/images/youtube-21_jpg.rf.eb6cc8fa8c86ebe5b716aca380a5a28b.jpg  \n",
            " extracting: /content/roboflow/test/images/youtube-28_jpg.rf.4b699f840c19aeaaf36435268cf31a58.jpg  \n",
            " extracting: /content/roboflow/test/images/youtube-28_jpg.rf.5a8bea6a8d559aaba4b3a1ab3ca42815.jpg  \n",
            " extracting: /content/roboflow/test/images/youtube-28_jpg.rf.81c472f8824b308c8df34b793162fa2c.jpg  \n",
            " extracting: /content/roboflow/test/images/youtube-29_jpg.rf.2a7b2e2ebd92a9a4b5e93822f179d05c.jpg  \n",
            " extracting: /content/roboflow/test/images/youtube-34_jpg.rf.bafc3e35ba41d770edb57086b6fca089.jpg  \n",
            " extracting: /content/roboflow/test/images/youtube-34_jpg.rf.f12a4c97125843bc1ab94b1e3292c5c1.jpg  \n",
            " extracting: /content/roboflow/test/images/youtube-37_jpg.rf.4956d410eb316c415c72b7d902310161.jpg  \n",
            " extracting: /content/roboflow/test/images/youtube-37_jpg.rf.4cbff4c05a2d31469bec7c78880b8e60.jpg  \n",
            " extracting: /content/roboflow/test/images/youtube-41_jpg.rf.7fad5b95f0a417d36bc2c7e5ae8ae813.jpg  \n",
            " extracting: /content/roboflow/test/images/youtube-42_jpg.rf.55ab98ad4097882f53db8b8376b50409.jpg  \n",
            " extracting: /content/roboflow/test/images/youtube-43_jpg.rf.23eeb733a5fda34c61893c4b5ef52be1.jpg  \n",
            " extracting: /content/roboflow/test/images/youtube-43_jpg.rf.acd51b9abd9ee8c31f4e1244949ff470.jpg  \n",
            " extracting: /content/roboflow/test/images/youtube-44_jpg.rf.a3951c85573174e1eebde7eda89aae23.jpg  \n",
            " extracting: /content/roboflow/test/images/youtube-45_jpg.rf.36825555f9696631a39917976e7e9d46.jpg  \n",
            " extracting: /content/roboflow/test/images/youtube-45_jpg.rf.60fc55b43e2b86ca586fd315808db36e.jpg  \n",
            " extracting: /content/roboflow/test/images/youtube-46_jpg.rf.644c23568328b80dc8549115cdb781b2.jpg  \n",
            " extracting: /content/roboflow/test/images/youtube-52_jpg.rf.3ce5a7ccf76b2d9e2404aae46dfa0c15.jpg  \n",
            " extracting: /content/roboflow/test/images/youtube-53_jpg.rf.d07058db6c1741ac83a1a08e550623f8.jpg  \n",
            " extracting: /content/roboflow/test/images/youtube-54_jpg.rf.3b5ee6884bc8960541d0f25ec6eda596.jpg  \n",
            " extracting: /content/roboflow/test/images/youtube-54_jpg.rf.7aab58c75548ceae24dbd7d99cdaf27f.jpg  \n",
            " extracting: /content/roboflow/test/images/youtube-56_jpg.rf.9edd26e0e83617c95d7b1ae3339fdc43.jpg  \n",
            " extracting: /content/roboflow/test/images/youtube-57_jpg.rf.1d782fb664fbd505d578d1422534c20b.jpg  \n",
            " extracting: /content/roboflow/test/images/youtube-62_jpg.rf.303546eb5a13b31a6a6b90a5decdbe8b.jpg  \n",
            "   creating: /content/roboflow/test/labels/\n",
            "  inflating: /content/roboflow/test/labels/-046E9840-F025-4749-B3AB-19402B34E739-png_jpg.rf.61fb28fc8210dc5a76d27598618bd697.txt  \n",
            "  inflating: /content/roboflow/test/labels/-0ACAD937-70A4-46F0-8E49-0CAE6F942CF2-png_jpg.rf.377f60fc8175ff11e4e7f54cee044177.txt  \n",
            "  inflating: /content/roboflow/test/labels/-1058CFB8-55AA-4270-937C-FAB55C49F17A-png_jpg.rf.a37ca443adb2be52ce2fe75f438fa3bc.txt  \n",
            "  inflating: /content/roboflow/test/labels/-156F82DF-5099-4AEA-8574-19720B40C034-png_jpg.rf.5125e4a224dffbc6e2108adeede2cf5e.txt  \n",
            "  inflating: /content/roboflow/test/labels/-192C4A31-07E9-4438-9D0D-63CF545747C8-png_jpg.rf.0e760b39af1d69108c91b0d57946bc2c.txt  \n",
            "  inflating: /content/roboflow/test/labels/-192C4A31-07E9-4438-9D0D-63CF545747C8-png_jpg.rf.feeeedec703864cce38248b832a211cc.txt  \n",
            "  inflating: /content/roboflow/test/labels/-1D5949D1-5187-454E-8ACC-924AD82CAC9C-png_jpg.rf.4257f1d10bf88337b241f1921985d0c4.txt  \n",
            "  inflating: /content/roboflow/test/labels/-1F999A49-2799-4FBC-811D-D10A165F8B02-png_jpg.rf.a487f7b2ff16dc9d73d9c84613dad77c.txt  \n",
            "  inflating: /content/roboflow/test/labels/-232CA389-A176-4AB7-A513-8D2D5E477CC2-png_jpg.rf.d7ccac6d546af9de32dd80940b1ab765.txt  \n",
            "  inflating: /content/roboflow/test/labels/-23705E7A-1279-43E7-B20A-CE37ADAB61DD-png_jpg.rf.a4bed4bcacfcf0d81e01a9369e93a053.txt  \n",
            " extracting: /content/roboflow/test/labels/-25B75F91-9590-4B9D-A441-755612305E00-png_jpg.rf.56431ad8bdf76ddf844b7cfda9c40d1f.txt  \n",
            "  inflating: /content/roboflow/test/labels/-25B75F91-9590-4B9D-A441-755612305E00-png_jpg.rf.6ee240a2ea74dd1e51dcc2be0fcd11bf.txt  \n",
            "  inflating: /content/roboflow/test/labels/-2CC30CC7-5872-41C8-80F9-549219177A84-png_jpg.rf.db392bcb9efaf29022fe4cfe703284b5.txt  \n",
            "  inflating: /content/roboflow/test/labels/-3571FC71-85E8-4968-8882-3A4B92AC8388-png_jpg.rf.5e5628c6b310ea9f47cf83a7a942a86f.txt  \n",
            "  inflating: /content/roboflow/test/labels/-37EAFDFC-4667-4A10-98F7-3C9FB6EC7912-png_jpg.rf.51074a3c0cf146e837494a2599d4f360.txt  \n",
            "  inflating: /content/roboflow/test/labels/-3947B75C-299F-46E6-84AF-947CB4AE712E-png_jpg.rf.2e8e505f42cbce0ad702b274fe4e198e.txt  \n",
            "  inflating: /content/roboflow/test/labels/-3947B75C-299F-46E6-84AF-947CB4AE712E-png_jpg.rf.abdb52d1d40c78463049869adbb526f4.txt  \n",
            "  inflating: /content/roboflow/test/labels/-394F92E4-59B2-4B85-9170-F782BC3DC244-png_jpg.rf.52101b057dd8fbe4b7c36b3e9c873ee0.txt  \n",
            "  inflating: /content/roboflow/test/labels/-394F92E4-59B2-4B85-9170-F782BC3DC244-png_jpg.rf.56d37e6f971ef7b751489351a7064111.txt  \n",
            "  inflating: /content/roboflow/test/labels/-3B056DBB-3097-4BCB-A38A-F66FA7470A6C-png_jpg.rf.0facdb9cd9493aa19b1ac1f75af9020c.txt  \n",
            "  inflating: /content/roboflow/test/labels/-3B056DBB-3097-4BCB-A38A-F66FA7470A6C-png_jpg.rf.2d2c03372648bdf5bde1229cd0285a7a.txt  \n",
            "  inflating: /content/roboflow/test/labels/-3B056DBB-3097-4BCB-A38A-F66FA7470A6C-png_jpg.rf.ded41c4b1c564e6856d2459cd55a9e13.txt  \n",
            "  inflating: /content/roboflow/test/labels/-3B48CB36-3DE2-4088-B9D1-6F639B60DA9C-png_jpg.rf.f974a4bc8dbd94471f22fa63145c1dfd.txt  \n",
            "  inflating: /content/roboflow/test/labels/-3C5B367D-D054-46F4-A427-80D90258A7B3-png_jpg.rf.1d1e31439a1794dc56ab67bdc8c98d64.txt  \n",
            "  inflating: /content/roboflow/test/labels/-3C5B367D-D054-46F4-A427-80D90258A7B3-png_jpg.rf.2b809265820995be9fb1ba870921fc5f.txt  \n",
            " extracting: /content/roboflow/test/labels/-3C5B367D-D054-46F4-A427-80D90258A7B3-png_jpg.rf.6ed06051054450428d27ffe9c75b3c76.txt  \n",
            " extracting: /content/roboflow/test/labels/-3C5B367D-D054-46F4-A427-80D90258A7B3-png_jpg.rf.81d3156c179aba8c8ef34ff4bfd52805.txt  \n",
            "  inflating: /content/roboflow/test/labels/-3D5128F1-30BE-4617-87D6-DBA1B7BF88DF-png_jpg.rf.c882365de2bbc16924a10368bcc748e2.txt  \n",
            "  inflating: /content/roboflow/test/labels/-410FB936-1128-4721-89DE-79E2F58D3B24-png_jpg.rf.e16929b71b3696fbc65d19de9cf65a2e.txt  \n",
            "  inflating: /content/roboflow/test/labels/-423FE4FB-F3E1-4E8E-8A40-5A99AEF6C353-png_jpg.rf.41f4a2e99f87b9a7609db1d239684562.txt  \n",
            "  inflating: /content/roboflow/test/labels/-431A51B8-216A-4491-8839-72DCD54029AD-png_jpg.rf.adab62e374de3ff5b05a5f26a4eb5b5d.txt  \n",
            "  inflating: /content/roboflow/test/labels/-44DB40B6-D520-4654-A07D-E87A49846F12-png_jpg.rf.1837c6b04f3865fa94d5249c6c0e352f.txt  \n",
            "  inflating: /content/roboflow/test/labels/-465396AA-4CB9-4625-A390-70D9E748937A-png_jpg.rf.5f09698971eb03f7d1e4c23ab8fdccf1.txt  \n",
            "  inflating: /content/roboflow/test/labels/-469593C2-4B3A-4A0B-B78A-24B4A79CCC35-png_jpg.rf.46b612f325b7339b599a23aef13b9c83.txt  \n",
            "  inflating: /content/roboflow/test/labels/-4B741C2C-6B83-4220-B69F-FCD31BA7BD93-png_jpg.rf.bfe1ea045ee1193e0e83809604856ffc.txt  \n",
            "  inflating: /content/roboflow/test/labels/-4B741C2C-6B83-4220-B69F-FCD31BA7BD93-png_jpg.rf.cbb677c4a9c4a38da5861d21373059f4.txt  \n",
            "  inflating: /content/roboflow/test/labels/-4BB97EA4-824F-4351-B178-A426E8AE6051-png_jpg.rf.9401ece81e31821d81676e3c5ebd05f0.txt  \n",
            "  inflating: /content/roboflow/test/labels/-4D888E2B-7F5D-4626-B4FF-E092A163D4B5-png_jpg.rf.ad6e5232f48545094c59aaeed1896de9.txt  \n",
            "  inflating: /content/roboflow/test/labels/-4F8A1012-5719-437F-9811-1CE117CCBC65-png_jpg.rf.3ff470457c60f257e975675cffc433c7.txt  \n",
            "  inflating: /content/roboflow/test/labels/-4F8A1012-5719-437F-9811-1CE117CCBC65-png_jpg.rf.e7ae3a35d241a0a1963e7aa99d3814e8.txt  \n",
            "  inflating: /content/roboflow/test/labels/-52262D73-8B4E-4F06-883D-4C6E2E6ADED2-png_jpg.rf.a436abf122773ee46b252cdfa18b7bef.txt  \n",
            " extracting: /content/roboflow/test/labels/-52D877A5-D9D5-4B8F-848F-E449684E4869-png_jpg.rf.5354b63e0534292d518da4f53bf1238b.txt  \n",
            " extracting: /content/roboflow/test/labels/-531F9D36-6096-4999-B709-28F1E5F38DFE-png_jpg.rf.f73027e6472ff45ab7237cdaa2b64b38.txt  \n",
            "  inflating: /content/roboflow/test/labels/-5399AA20-C3A4-4841-9CA4-0D18DFCA3806-png_jpg.rf.76820755db89801742bff13aa47c64e0.txt  \n",
            " extracting: /content/roboflow/test/labels/-53C40FB0-F866-4F4A-A410-D32C65C75BB4-png_jpg.rf.405e497cac8fcf41f321fa0bc81e170f.txt  \n",
            "  inflating: /content/roboflow/test/labels/-541C6E4C-DEC9-4725-97C0-B773CF5182AB-png_jpg.rf.0cc8853b7611bdb786a1ab628d60c5e0.txt  \n",
            "  inflating: /content/roboflow/test/labels/-56EAA0B9-41EA-46F5-99F9-433F614E42FB-png_jpg.rf.3aa756078edb9b3088d5ea6b481668d5.txt  \n",
            "  inflating: /content/roboflow/test/labels/-56EF2068-CDF4-4068-80A1-E567375D4AE6-png_jpg.rf.10761915a896d1f68df2510abb968270.txt  \n",
            "  inflating: /content/roboflow/test/labels/-56EF2068-CDF4-4068-80A1-E567375D4AE6-png_jpg.rf.2232ca5aa8dafdd8efa4330aed136868.txt  \n",
            "  inflating: /content/roboflow/test/labels/-58A0B6C6-CAE2-41F9-9A9F-6B6E1A4EE492-png_jpg.rf.35dc29ce9ef8b1c7db58ee0f6e439ad2.txt  \n",
            "  inflating: /content/roboflow/test/labels/-58A0B6C6-CAE2-41F9-9A9F-6B6E1A4EE492-png_jpg.rf.af471795765c899114a49d6b30436464.txt  \n",
            "  inflating: /content/roboflow/test/labels/-597DE6B4-F29B-4655-A97B-DBFEE2C995F8-png_jpg.rf.264ddd965279f06170a5f9c01c842824.txt  \n",
            "  inflating: /content/roboflow/test/labels/-597DE6B4-F29B-4655-A97B-DBFEE2C995F8-png_jpg.rf.e1ecd9f522820728e0f6fd7b99c63ca0.txt  \n",
            "  inflating: /content/roboflow/test/labels/-59D02DDC-DB49-41DA-8B1F-33712FDE8CEE-png_jpg.rf.0221361512f857eab1ce13e4b478592f.txt  \n",
            "  inflating: /content/roboflow/test/labels/-5AD2C6FA-9814-4CB1-822E-3A617443C49E-png_jpg.rf.1555bc56a972f8e8b08cdaaa09d26e15.txt  \n",
            "  inflating: /content/roboflow/test/labels/-5AD2C6FA-9814-4CB1-822E-3A617443C49E-png_jpg.rf.2a36a9ce7ddafac2ed9123a6ce38a1ea.txt  \n",
            "  inflating: /content/roboflow/test/labels/-5AD2C6FA-9814-4CB1-822E-3A617443C49E-png_jpg.rf.787fd1cc032fe2a08ac82230b394e809.txt  \n",
            "  inflating: /content/roboflow/test/labels/-5BB5033D-F96D-4681-808D-9BCBE7C2221E-png_jpg.rf.9f39173aba22d25d85429ff30c33bd48.txt  \n",
            "  inflating: /content/roboflow/test/labels/-5BCD3433-D1A0-436B-B906-4809400FC43E-png_jpg.rf.5092e894c07d294400c5fed275998a83.txt  \n",
            "  inflating: /content/roboflow/test/labels/-5C9472C7-6F7B-45B6-A2F4-0CE739421A98-png_jpg.rf.0748f9f639f84e93e7f538bc35206e18.txt  \n",
            "  inflating: /content/roboflow/test/labels/-5D890027-73FC-42D9-B3D5-2ED473A73B66-png_jpg.rf.1b93bc950ee29799a79e20b20b4bce37.txt  \n",
            "  inflating: /content/roboflow/test/labels/-5DB86A4E-D64A-4032-ACF4-957B38D438C9-png_jpg.rf.e4f22ea1c5d2eef81171392228197058.txt  \n",
            "  inflating: /content/roboflow/test/labels/-5E037376-5D27-4953-9841-0083E8D06D0B-png_jpg.rf.ec30c26a2f363e6de8c56b6ee6d74ffc.txt  \n",
            "  inflating: /content/roboflow/test/labels/-5E492592-1503-4FFB-A59A-7C84C8FB58C8-png_jpg.rf.40fdee27317d7278b5a6d9171ca8421c.txt  \n",
            " extracting: /content/roboflow/test/labels/-5E69D234-D9EE-4A15-ABEB-52BA04828890-png_jpg.rf.4adab1c957ea40b04716062161d94b93.txt  \n",
            " extracting: /content/roboflow/test/labels/-5E69D234-D9EE-4A15-ABEB-52BA04828890-png_jpg.rf.4bce9d59cc12845a1dcd5e8db64fff7c.txt  \n",
            "  inflating: /content/roboflow/test/labels/-5F381E05-B9B8-4054-8444-EFE81AA4B78C-png_jpg.rf.0b2654b5f008b21d6adc9052dce41c0d.txt  \n",
            "  inflating: /content/roboflow/test/labels/-5F381E05-B9B8-4054-8444-EFE81AA4B78C-png_jpg.rf.d96cc3881b4cc03c7c52fa6abddd3aa3.txt  \n",
            "  inflating: /content/roboflow/test/labels/-608B1B77-EBBE-4E69-AB2F-13A3A5ED4C39-png_jpg.rf.329bb51c5c80fbb3f513e9878ad46316.txt  \n",
            "  inflating: /content/roboflow/test/labels/-62DA7C7D-C50D-40A7-87D1-DB8633F1F29D-png_jpg.rf.88eb7414660ff44b195aaf6cb0207ec4.txt  \n",
            "  inflating: /content/roboflow/test/labels/-62DA7C7D-C50D-40A7-87D1-DB8633F1F29D-png_jpg.rf.abc505bfcefb45234fe78add66086ea7.txt  \n",
            "  inflating: /content/roboflow/test/labels/-62DA7C7D-C50D-40A7-87D1-DB8633F1F29D-png_jpg.rf.da6ac526c7b50bdd2f2a2b4f9419335b.txt  \n",
            "  inflating: /content/roboflow/test/labels/-63A3759B-1595-4A66-BB62-1E7F580BA753-png_jpg.rf.d27fd54be3e615e4489e92fea2f79e69.txt  \n",
            "  inflating: /content/roboflow/test/labels/-B3FF9CBC-6C9F-4BDD-B814-790723E32E98-png_jpg.rf.19a62573ce535d1436d06cba00f99c01.txt  \n",
            "  inflating: /content/roboflow/test/labels/-B3FF9CBC-6C9F-4BDD-B814-790723E32E98-png_jpg.rf.ab89462ccb9f13f0fb11bf2c75ea95ed.txt  \n",
            "  inflating: /content/roboflow/test/labels/-B4C05A41-CD1A-4081-9609-EEFF67F464BE-png_jpg.rf.8a865b4bd1932fb9e06f4d6a00d863a0.txt  \n",
            "  inflating: /content/roboflow/test/labels/-B545A484-7AEC-4211-AE64-92650557307F-png_jpg.rf.85a27996ae678e77981a7b92fedfad41.txt  \n",
            "  inflating: /content/roboflow/test/labels/-B8116B0D-7D32-4C4A-9F5D-D72766C72DB5-png_jpg.rf.f0e790c81c46ccd2d442d012c9fd8ae2.txt  \n",
            "  inflating: /content/roboflow/test/labels/-B9AA9C0E-404F-4AB4-B015-183269CB4261-png_jpg.rf.49402a04e4e7366292786e964de5b6aa.txt  \n",
            "  inflating: /content/roboflow/test/labels/-B9AA9C0E-404F-4AB4-B015-183269CB4261-png_jpg.rf.68cadd467444ef56bcba2bf7a57de4d7.txt  \n",
            "  inflating: /content/roboflow/test/labels/-BAAC60D7-E665-4186-BAA3-B3E20F8D397C-png_jpg.rf.1e1b9dd3c11a86355ced8a62341a5bc7.txt  \n",
            "  inflating: /content/roboflow/test/labels/-BBC6D213-1075-48CE-B772-FDD44F34A3E7-png_jpg.rf.970bb7e4c4287853230a05456a09fa53.txt  \n",
            "  inflating: /content/roboflow/test/labels/-BBC6D213-1075-48CE-B772-FDD44F34A3E7-png_jpg.rf.e381d0af5b101a07e1074e7f70147eb4.txt  \n",
            "  inflating: /content/roboflow/test/labels/-BC165CAD-1004-4A38-B8A5-0E25AC65AAC9-png_jpg.rf.a0e35e2f76e20b023a4f1694347c7a23.txt  \n",
            "  inflating: /content/roboflow/test/labels/-BD23F506-8DE9-4C71-B79A-585BF30E68A5-png_jpg.rf.94c8241e0a1e0ba6212af97dc69635ac.txt  \n",
            "  inflating: /content/roboflow/test/labels/-BD499523-8602-4C68-8E63-FCE23A82AA16-png_jpg.rf.935bad39e0092fa96efdb865d4ca0a52.txt  \n",
            "  inflating: /content/roboflow/test/labels/-BE412F80-6FDD-4522-8C6B-D26DA55927F5-png_jpg.rf.227a3dfd2f0e0afe6fb6067afd8b2195.txt  \n",
            "  inflating: /content/roboflow/test/labels/-BE412F80-6FDD-4522-8C6B-D26DA55927F5-png_jpg.rf.999a7de55193421a17e7d5234bd7a8f1.txt  \n",
            "  inflating: /content/roboflow/test/labels/-C0A680DB-DB9F-47C7-BE3B-74E6A294E203-png_jpg.rf.924a0f32ea45e63df2d4707140c87469.txt  \n",
            "  inflating: /content/roboflow/test/labels/-C2D8DECE-2C51-4217-9B45-88F76CBC1D6C-png_jpg.rf.f6173d0e8fd51ae4adf618dd0140c29c.txt  \n",
            "  inflating: /content/roboflow/test/labels/-C2DEBBE3-7D35-4B32-8AC1-D9271147FDB7-png_jpg.rf.965e62061ba3711b622e3ce8655b672a.txt  \n",
            "  inflating: /content/roboflow/test/labels/-C2DEBBE3-7D35-4B32-8AC1-D9271147FDB7-png_jpg.rf.d2ee829b2bcc72dbcfd09939f6d72d35.txt  \n",
            "  inflating: /content/roboflow/test/labels/-C8A077AE-C474-4AAB-A0E4-24F4F9266447-png_jpg.rf.3e2f30bbd22405d6e374aafd351c7dac.txt  \n",
            "  inflating: /content/roboflow/test/labels/-C8A077AE-C474-4AAB-A0E4-24F4F9266447-png_jpg.rf.e019dd114e67d9aadf8f3f5488e9cd26.txt  \n",
            "  inflating: /content/roboflow/test/labels/-C94776E1-EF34-4408-A9D3-69BE388FC761-png_jpg.rf.18bd800e47548951d4f9a7cacf8d2d26.txt  \n",
            "  inflating: /content/roboflow/test/labels/-C96EB60C-375E-476D-8D20-3643A20C26B5-png_jpg.rf.ebd2f1909610d441f7a5f47fc27a0669.txt  \n",
            "  inflating: /content/roboflow/test/labels/-CB279B0A-743F-4855-AE98-C9A9D0E40A22-png_jpg.rf.935f4c3eb7be208ee8f0afa8db38b030.txt  \n",
            "  inflating: /content/roboflow/test/labels/-CF2B7A09-EC0C-4B1D-BDA5-7FD52B39F0F8-png_jpg.rf.2e2407a28846342f4507602310976c42.txt  \n",
            "  inflating: /content/roboflow/test/labels/-CFB928D0-84D7-4021-B542-4F3E73E475AE-png_jpg.rf.24a1e7ac8bf2b827526608b5e0ff8f86.txt  \n",
            "  inflating: /content/roboflow/test/labels/-D033F88A-8CE6-40D3-9005-E2697DC83F11-png_jpg.rf.5ff3284612d98a72723fd0cd75df9c78.txt  \n",
            "  inflating: /content/roboflow/test/labels/-D2C63838-6966-45B0-99FF-C22521BF9149-png_jpg.rf.197836c6b154e7b1f88fd54fe96772a1.txt  \n",
            "  inflating: /content/roboflow/test/labels/-D3D7864A-309B-4CE0-B18F-3CAC8DFD86D4-png_jpg.rf.4db1a8afed416996f22cb8ebb8a2d5ed.txt  \n",
            " extracting: /content/roboflow/test/labels/-D3ED54BD-094A-471D-A8A9-C1A7B3262064-png_jpg.rf.62cdd654f6c3a68ddb2744599344d5c5.txt  \n",
            "  inflating: /content/roboflow/test/labels/-D72F756C-74EB-4144-8B6B-12F9757EDCE5-png_jpg.rf.f062c891ef5b81a005ff8bc952d06805.txt  \n",
            "  inflating: /content/roboflow/test/labels/-DA921E8A-7BF2-44DE-AD8F-0C17D388AABD-png_jpg.rf.b8ceccdf8d60f5e258cb6fcc22f43a35.txt  \n",
            "  inflating: /content/roboflow/test/labels/-E0F2527D-3B61-4274-8655-B807876330E9-png_jpg.rf.57ae6ae30fa6f3f8d0b6b120206783bc.txt  \n",
            "  inflating: /content/roboflow/test/labels/-E169C681-EEF4-4F14-8884-D6C35F9A4005-png_jpg.rf.072ea7b9d84074238a5869ad920aff7c.txt  \n",
            "  inflating: /content/roboflow/test/labels/-E39DE576-0BDF-4674-9CCE-4780BD8A5744-png_jpg.rf.83a6b6ecb20328300b08162ef7b3a3c1.txt  \n",
            "  inflating: /content/roboflow/test/labels/-E4E37ACE-EAB9-4F03-8279-813B05F79336-png_jpg.rf.9cdd0bbf0b4325e182ea5f259a750227.txt  \n",
            "  inflating: /content/roboflow/test/labels/-E4E37ACE-EAB9-4F03-8279-813B05F79336-png_jpg.rf.e0df9ee8914dca14e98bc5b257cd0c54.txt  \n",
            "  inflating: /content/roboflow/test/labels/-F6C8BDBB-4AF8-454C-9460-BB89186D193C-png_jpg.rf.0bea18be7df7df6e23e9d1349b79954f.txt  \n",
            "  inflating: /content/roboflow/test/labels/-FFB52469-E780-47C4-887D-EEAD0226DDE5-png_jpg.rf.a78347fbfee869008ae65f4735db404d.txt  \n",
            "  inflating: /content/roboflow/test/labels/14_jpeg_jpg.rf.92bc10c534a3b3c8fbe7c18abe5957d2.txt  \n",
            "  inflating: /content/roboflow/test/labels/14_jpeg_jpg.rf.c6c134109b8ffb6905e3a1ea8e9c9e70.txt  \n",
            "  inflating: /content/roboflow/test/labels/19_jpeg_jpg.rf.ce98753395bd1693675c8320b3d3e8e0.txt  \n",
            " extracting: /content/roboflow/test/labels/2_jpeg_jpg.rf.a32c30cbaaa991a8689e72a96c8eb234.txt  \n",
            "  inflating: /content/roboflow/test/labels/6_jpeg_jpg.rf.6907f5916b906c9d4ae84ce32074d461.txt  \n",
            "  inflating: /content/roboflow/test/labels/7_jpeg_jpg.rf.965a80859ac9b65312b7c88cc5005302.txt  \n",
            "  inflating: /content/roboflow/test/labels/8_jpeg_jpg.rf.1cd706471d5e79d0909a6b38668ca3df.txt  \n",
            "  inflating: /content/roboflow/test/labels/WhatsApp-Image-2022-12-05-at-18-16-29_jpeg_jpg.rf.36114a25e85d4f5e2458db7e5e1518ff.txt  \n",
            "  inflating: /content/roboflow/test/labels/WhatsApp-Image-2022-12-05-at-18-16-29_jpeg_jpg.rf.53dbd2863ea09738c8c88a53fc1d1b3a.txt  \n",
            "  inflating: /content/roboflow/test/labels/WhatsApp-Image-2022-12-05-at-18-16-29_jpeg_jpg.rf.c5af0181bf8b7c13a8931453a9858448.txt  \n",
            "  inflating: /content/roboflow/test/labels/WhatsApp-Image-2022-12-05-at-18-16-39_jpeg_jpg.rf.380f3340bdd6a17a52321467e960bb12.txt  \n",
            "  inflating: /content/roboflow/test/labels/WhatsApp-Image-2022-12-05-at-18-16-45_jpeg_jpg.rf.694b41cf2c4b381f3d53165fbe34f5c3.txt  \n",
            " extracting: /content/roboflow/test/labels/WhatsApp-Image-2022-12-05-at-18-16-49_jpeg_jpg.rf.5070f7685152112d636f153a3dee5544.txt  \n",
            "  inflating: /content/roboflow/test/labels/WhatsApp-Image-2022-12-05-at-18-16-49_jpeg_jpg.rf.86bde39fc91b524569f0fa7f1adc35cd.txt  \n",
            " extracting: /content/roboflow/test/labels/WhatsApp-Image-2022-12-05-at-18-16-49_jpeg_jpg.rf.eac320baf424118e6b0dbac404c9198a.txt  \n",
            "  inflating: /content/roboflow/test/labels/WhatsApp-Image-2022-12-05-at-18-17-00_jpeg_jpg.rf.04fb90236988c680076b4e1593e8c4e1.txt  \n",
            "  inflating: /content/roboflow/test/labels/WhatsApp-Image-2022-12-05-at-18-17-08_jpeg_jpg.rf.1053e7e14d2370b0bafda51ba52ddf14.txt  \n",
            "  inflating: /content/roboflow/test/labels/WhatsApp-Image-2022-12-05-at-18-17-36_jpeg_jpg.rf.8042e5ce641a4060d9215f8f719c9f93.txt  \n",
            "  inflating: /content/roboflow/test/labels/WhatsApp-Image-2022-12-05-at-18-18-22_jpeg_jpg.rf.0ea99715ad3c60130b61e05e286e01cf.txt  \n",
            " extracting: /content/roboflow/test/labels/WhatsApp-Image-2022-12-05-at-18-18-22_jpeg_jpg.rf.7c88aada4fd2a29327818c55d1065367.txt  \n",
            "  inflating: /content/roboflow/test/labels/WhatsApp-Image-2022-12-05-at-18-18-22_jpeg_jpg.rf.ec8e1bb3e917f81742853f30504519f3.txt  \n",
            "  inflating: /content/roboflow/test/labels/WhatsApp-Image-2022-12-05-at-18-18-28_jpeg_jpg.rf.db97c889fb062d9addca594068da7f22.txt  \n",
            "  inflating: /content/roboflow/test/labels/WhatsApp-Image-2022-12-05-at-18-21-15_jpeg_jpg.rf.31f04d0fd496135288205367f3dc37f0.txt  \n",
            "  inflating: /content/roboflow/test/labels/WhatsApp-Image-2022-12-05-at-18-21-16_jpeg_jpg.rf.904af5df7a037e304eaaadb2ca804266.txt  \n",
            "  inflating: /content/roboflow/test/labels/WhatsApp-Image-2022-12-05-at-18-21-58_jpeg_jpg.rf.2508de9e57e18ef73d38c9f2130a5942.txt  \n",
            "  inflating: /content/roboflow/test/labels/WhatsApp-Image-2022-12-05-at-18-21-58_jpeg_jpg.rf.9f6892034280b285a0f8276fe9ed44d5.txt  \n",
            "  inflating: /content/roboflow/test/labels/WhatsApp-Image-2022-12-05-at-18-22-11_jpeg_jpg.rf.3c63e2b5636588dfa77679aed9cd5f19.txt  \n",
            "  inflating: /content/roboflow/test/labels/WhatsApp-Image-2022-12-05-at-18-22-11_jpeg_jpg.rf.99a1abf372053d149841bd029fa97f03.txt  \n",
            "  inflating: /content/roboflow/test/labels/WhatsApp-Image-2022-12-05-at-18-22-24_jpeg_jpg.rf.ff784439162865d6b430ca8e238e8a87.txt  \n",
            "  inflating: /content/roboflow/test/labels/WhatsApp-Image-2022-12-05-at-18-22-52_jpeg_jpg.rf.633a5f8059ce8214cc8481b6dfa41ff2.txt  \n",
            "  inflating: /content/roboflow/test/labels/WhatsApp-Image-2022-12-05-at-18-22-52_jpeg_jpg.rf.724bc11d36dd5bbad5eafecfb1d692b9.txt  \n",
            " extracting: /content/roboflow/test/labels/WhatsApp-Image-2022-12-05-at-18-22-59_jpeg_jpg.rf.8843c692513f0906575fd3ff58ab520e.txt  \n",
            "  inflating: /content/roboflow/test/labels/WhatsApp-Image-2022-12-05-at-18-23-14_jpeg_jpg.rf.b1490b3fc9f131cebd56308a1161427c.txt  \n",
            "  inflating: /content/roboflow/test/labels/WhatsApp-Image-2022-12-05-at-18-23-14_jpeg_jpg.rf.dcdab15d0e7dcc57a91d48328b381d6e.txt  \n",
            "  inflating: /content/roboflow/test/labels/WhatsApp-Image-2022-12-05-at-18-23-15_jpeg_jpg.rf.145ea8588da0f8b785b21d8bfde12926.txt  \n",
            "  inflating: /content/roboflow/test/labels/WhatsApp-Image-2022-12-05-at-18-25-07_jpeg_jpg.rf.39f2f0aeaf22152edbb54da876253403.txt  \n",
            "  inflating: /content/roboflow/test/labels/WhatsApp-Image-2022-12-05-at-18-25-08_jpeg_jpg.rf.c2efb40dbc9d404e9d2f2757047c2aa8.txt  \n",
            "  inflating: /content/roboflow/test/labels/WhatsApp-Image-2022-12-05-at-18-25-08_jpeg_jpg.rf.f9d09f12590588a85c73e240a2a57eae.txt  \n",
            "  inflating: /content/roboflow/test/labels/WhatsApp-Image-2022-12-05-at-18-25-40_jpeg_jpg.rf.0f6b0ed0e298bcfcf001fcc8e901922c.txt  \n",
            "  inflating: /content/roboflow/test/labels/WhatsApp-Image-2022-12-05-at-18-25-42_jpeg_jpg.rf.829a5a92fc15b039380e542401f73eaf.txt  \n",
            "  inflating: /content/roboflow/test/labels/WhatsApp-Image-2022-12-05-at-18-26-10_jpeg_jpg.rf.003c4e57dfba070c787e20eb11cbb394.txt  \n",
            "  inflating: /content/roboflow/test/labels/WhatsApp-Image-2022-12-05-at-18-26-29_jpeg_jpg.rf.4c40a056785c5fbf70b007d515faa030.txt  \n",
            "  inflating: /content/roboflow/test/labels/WhatsApp-Image-2022-12-05-at-18-26-29_jpeg_jpg.rf.913319ca6356fa3142e4a3199e3451bf.txt  \n",
            "  inflating: /content/roboflow/test/labels/WhatsApp-Image-2022-12-05-at-18-26-48_jpeg_jpg.rf.7bfa751898db5150a530f2a03546695c.txt  \n",
            "  inflating: /content/roboflow/test/labels/WhatsApp-Image-2022-12-05-at-18-26-48_jpeg_jpg.rf.ea92721a951148a1f406cf69b3a26638.txt  \n",
            "  inflating: /content/roboflow/test/labels/WhatsApp-Image-2022-12-05-at-18-27-00_jpeg_jpg.rf.c70650483546a6fbcf4c59d93c59aaed.txt  \n",
            " extracting: /content/roboflow/test/labels/WhatsApp-Video-2022-11-29-at-20_15_43_mp4-1_jpg.rf.f09c0454a34a4b64b259bd4de3880739.txt  \n",
            "  inflating: /content/roboflow/test/labels/WhatsApp-Video-2022-11-29-at-20_15_43_mp4-2_jpg.rf.155f814a8cc142a0bb8ffe6c53520bf0.txt  \n",
            "  inflating: /content/roboflow/test/labels/WhatsApp-Video-2022-11-29-at-20_15_43_mp4-4_jpg.rf.1d0c880ea6a7c01fd928717cc117602e.txt  \n",
            "  inflating: /content/roboflow/test/labels/WhatsApp-Video-2022-11-29-at-20_15_43_mp4-4_jpg.rf.c52006e533a5010227d987567438fb9b.txt  \n",
            " extracting: /content/roboflow/test/labels/WhatsApp-Video-2022-11-29-at-20_15_43_mp4-6_jpg.rf.c78c5d25d55031644b78c2de1a63ddb3.txt  \n",
            "  inflating: /content/roboflow/test/labels/youtube-21_jpg.rf.7e53bfd3a39c2dde72fe65e1390ec427.txt  \n",
            "  inflating: /content/roboflow/test/labels/youtube-21_jpg.rf.eb6cc8fa8c86ebe5b716aca380a5a28b.txt  \n",
            "  inflating: /content/roboflow/test/labels/youtube-28_jpg.rf.4b699f840c19aeaaf36435268cf31a58.txt  \n",
            "  inflating: /content/roboflow/test/labels/youtube-28_jpg.rf.5a8bea6a8d559aaba4b3a1ab3ca42815.txt  \n",
            "  inflating: /content/roboflow/test/labels/youtube-28_jpg.rf.81c472f8824b308c8df34b793162fa2c.txt  \n",
            "  inflating: /content/roboflow/test/labels/youtube-29_jpg.rf.2a7b2e2ebd92a9a4b5e93822f179d05c.txt  \n",
            "  inflating: /content/roboflow/test/labels/youtube-34_jpg.rf.bafc3e35ba41d770edb57086b6fca089.txt  \n",
            "  inflating: /content/roboflow/test/labels/youtube-34_jpg.rf.f12a4c97125843bc1ab94b1e3292c5c1.txt  \n",
            " extracting: /content/roboflow/test/labels/youtube-37_jpg.rf.4956d410eb316c415c72b7d902310161.txt  \n",
            "  inflating: /content/roboflow/test/labels/youtube-37_jpg.rf.4cbff4c05a2d31469bec7c78880b8e60.txt  \n",
            "  inflating: /content/roboflow/test/labels/youtube-41_jpg.rf.7fad5b95f0a417d36bc2c7e5ae8ae813.txt  \n",
            "  inflating: /content/roboflow/test/labels/youtube-42_jpg.rf.55ab98ad4097882f53db8b8376b50409.txt  \n",
            "  inflating: /content/roboflow/test/labels/youtube-43_jpg.rf.23eeb733a5fda34c61893c4b5ef52be1.txt  \n",
            "  inflating: /content/roboflow/test/labels/youtube-43_jpg.rf.acd51b9abd9ee8c31f4e1244949ff470.txt  \n",
            " extracting: /content/roboflow/test/labels/youtube-44_jpg.rf.a3951c85573174e1eebde7eda89aae23.txt  \n",
            "  inflating: /content/roboflow/test/labels/youtube-45_jpg.rf.36825555f9696631a39917976e7e9d46.txt  \n",
            "  inflating: /content/roboflow/test/labels/youtube-45_jpg.rf.60fc55b43e2b86ca586fd315808db36e.txt  \n",
            "  inflating: /content/roboflow/test/labels/youtube-46_jpg.rf.644c23568328b80dc8549115cdb781b2.txt  \n",
            "  inflating: /content/roboflow/test/labels/youtube-52_jpg.rf.3ce5a7ccf76b2d9e2404aae46dfa0c15.txt  \n",
            "  inflating: /content/roboflow/test/labels/youtube-53_jpg.rf.d07058db6c1741ac83a1a08e550623f8.txt  \n",
            "  inflating: /content/roboflow/test/labels/youtube-54_jpg.rf.3b5ee6884bc8960541d0f25ec6eda596.txt  \n",
            "  inflating: /content/roboflow/test/labels/youtube-54_jpg.rf.7aab58c75548ceae24dbd7d99cdaf27f.txt  \n",
            "  inflating: /content/roboflow/test/labels/youtube-56_jpg.rf.9edd26e0e83617c95d7b1ae3339fdc43.txt  \n",
            "  inflating: /content/roboflow/test/labels/youtube-57_jpg.rf.1d782fb664fbd505d578d1422534c20b.txt  \n",
            "  inflating: /content/roboflow/test/labels/youtube-62_jpg.rf.303546eb5a13b31a6a6b90a5decdbe8b.txt  \n",
            "   creating: /content/roboflow/train/\n",
            "   creating: /content/roboflow/train/images/\n",
            " extracting: /content/roboflow/train/images/-0378D390-5AE2-4D09-84BB-387E850F5E5A-png_jpg.rf.30edf0c9e428b3c1ed7d4869e92a71f9.jpg  \n",
            " extracting: /content/roboflow/train/images/-0378D390-5AE2-4D09-84BB-387E850F5E5A-png_jpg.rf.4a9ea8d7242b6b419f23b945f5ae14db.jpg  \n",
            " extracting: /content/roboflow/train/images/-0378D390-5AE2-4D09-84BB-387E850F5E5A-png_jpg.rf.5304a4ab0974f186c6ccc08cd5e1c6fc.jpg  \n",
            " extracting: /content/roboflow/train/images/-0378D390-5AE2-4D09-84BB-387E850F5E5A-png_jpg.rf.a1e18f1909aba143bd70a653f6fa2a84.jpg  \n",
            " extracting: /content/roboflow/train/images/-0378D390-5AE2-4D09-84BB-387E850F5E5A-png_jpg.rf.efbfeae0f3ea12bdd64d2ef88d20042a.jpg  \n",
            " extracting: /content/roboflow/train/images/-0378D390-5AE2-4D09-84BB-387E850F5E5A-png_jpg.rf.f196cf9e6987c7bc0b0052e11ad36a71.jpg  \n",
            " extracting: /content/roboflow/train/images/-0378D390-5AE2-4D09-84BB-387E850F5E5A-png_jpg.rf.fedfb1a317edc66d9dfe3cd815af7084.jpg  \n",
            " extracting: /content/roboflow/train/images/-046E9840-F025-4749-B3AB-19402B34E739-png_jpg.rf.aa3cc09f348eb010792d812f395a9827.jpg  \n",
            " extracting: /content/roboflow/train/images/-046E9840-F025-4749-B3AB-19402B34E739-png_jpg.rf.bf82093121d64d1dab63b1dfdf4d259e.jpg  \n",
            " extracting: /content/roboflow/train/images/-0471C451-8CA5-4CEA-8EFD-3B0F147BF4B7-png_jpg.rf.9c134240733eefe23b8278ff1f3c2b98.jpg  \n",
            " extracting: /content/roboflow/train/images/-0471C451-8CA5-4CEA-8EFD-3B0F147BF4B7-png_jpg.rf.c90ca1d619ceaf3628d6ab844313e217.jpg  \n",
            " extracting: /content/roboflow/train/images/-0585CFA0-7CD6-45D3-B7EB-1A109425F90D-png_jpg.rf.7156575f0eb2166e1d52039c918a1ce0.jpg  \n",
            " extracting: /content/roboflow/train/images/-0ACAD937-70A4-46F0-8E49-0CAE6F942CF2-png_jpg.rf.43b92d7847f21666ffa7acbf33e8df18.jpg  \n",
            " extracting: /content/roboflow/train/images/-0ACAD937-70A4-46F0-8E49-0CAE6F942CF2-png_jpg.rf.8d2a4006502bbf192a6cb1723ad92f98.jpg  \n",
            " extracting: /content/roboflow/train/images/-0AE13AAD-2BD5-490E-B245-D51927B1EBBC-png_jpg.rf.9a2635c991c70616ec25757631d94ac0.jpg  \n",
            " extracting: /content/roboflow/train/images/-0AE13AAD-2BD5-490E-B245-D51927B1EBBC-png_jpg.rf.e2d97564c3f5584bd5e66b4d1be59faf.jpg  \n",
            " extracting: /content/roboflow/train/images/-0B43DB53-2377-4D6D-B5B8-60CBBAB90F88-png_jpg.rf.cf9f58fbe1992bea8d353c84b7e9696d.jpg  \n",
            " extracting: /content/roboflow/train/images/-0C60C602-CF70-4679-BB4E-5A1CA33EF472-png_jpg.rf.19e87fb944b8ce18022d23b2b6d07562.jpg  \n",
            " extracting: /content/roboflow/train/images/-0D39FCF1-152A-4C52-A0F2-64670E54DB6D-png_jpg.rf.9b0282f483cf4ecc8c348760b76bb3c1.jpg  \n",
            " extracting: /content/roboflow/train/images/-0D39FCF1-152A-4C52-A0F2-64670E54DB6D-png_jpg.rf.d173b3ad5b6d4ece3da73d7ad3754ae4.jpg  \n",
            " extracting: /content/roboflow/train/images/-0DEDC30B-FD9A-4A41-ABC0-DBEDE7C1C712-png_jpg.rf.1fdd17e5c69c44bc40bd64e0e9576f68.jpg  \n",
            " extracting: /content/roboflow/train/images/-101F7188-06B4-4FC2-B9FF-123C60B06606-png_jpg.rf.ca8e74713308416e0f16f9dec761e8a2.jpg  \n",
            " extracting: /content/roboflow/train/images/-1058CFB8-55AA-4270-937C-FAB55C49F17A-png_jpg.rf.264528707e6ce02c4b6d8900e3cb7b46.jpg  \n",
            " extracting: /content/roboflow/train/images/-1058CFB8-55AA-4270-937C-FAB55C49F17A-png_jpg.rf.3956e8d2192f1c945c06766955789cbe.jpg  \n",
            " extracting: /content/roboflow/train/images/-1058CFB8-55AA-4270-937C-FAB55C49F17A-png_jpg.rf.4380f2a2c571bc9b7028735986c849ed.jpg  \n",
            " extracting: /content/roboflow/train/images/-1058CFB8-55AA-4270-937C-FAB55C49F17A-png_jpg.rf.53364d853478b0f00244b48b645064aa.jpg  \n",
            " extracting: /content/roboflow/train/images/-1058CFB8-55AA-4270-937C-FAB55C49F17A-png_jpg.rf.61e8e1efef44b269f2291fdfe72d0873.jpg  \n",
            " extracting: /content/roboflow/train/images/-1058CFB8-55AA-4270-937C-FAB55C49F17A-png_jpg.rf.df905185f42d464a91d43db205649929.jpg  \n",
            " extracting: /content/roboflow/train/images/-1121F9BD-6C24-47D6-937E-DC2AB1906098-png_jpg.rf.01d67abb4d2a408dd1f99c0020d45c6d.jpg  \n",
            " extracting: /content/roboflow/train/images/-1121F9BD-6C24-47D6-937E-DC2AB1906098-png_jpg.rf.59cc4deaa3649d011515480602940a66.jpg  \n",
            " extracting: /content/roboflow/train/images/-11F0AF93-D3D0-4415-A4A0-B3430EA0886B-png_jpg.rf.9607c3d091e21e487c583a96c56abd77.jpg  \n",
            " extracting: /content/roboflow/train/images/-11F0AF93-D3D0-4415-A4A0-B3430EA0886B-png_jpg.rf.d6187ee56df7f6faf6c9b0450bc3ee8e.jpg  \n",
            " extracting: /content/roboflow/train/images/-11F0AF93-D3D0-4415-A4A0-B3430EA0886B-png_jpg.rf.fca34359b643c7df0ba07c77a1728445.jpg  \n",
            " extracting: /content/roboflow/train/images/-12D2734F-0757-4B08-9819-D3704009B312-png_jpg.rf.2167f6dbe2c7027577309295f257f745.jpg  \n",
            " extracting: /content/roboflow/train/images/-12D2734F-0757-4B08-9819-D3704009B312-png_jpg.rf.b7a1dc0d1756628158e9eccc0934a04d.jpg  \n",
            " extracting: /content/roboflow/train/images/-12D2734F-0757-4B08-9819-D3704009B312-png_jpg.rf.dc16d0603395e1723008f06373c69971.jpg  \n",
            " extracting: /content/roboflow/train/images/-152B35A7-2687-4126-B46B-5382319E7A3C-png_jpg.rf.3168ee53df56b28d2820cbf58d72535a.jpg  \n",
            " extracting: /content/roboflow/train/images/-156F82DF-5099-4AEA-8574-19720B40C034-png_jpg.rf.55ed875a4dccfb4a0954ab069e5b9865.jpg  \n",
            " extracting: /content/roboflow/train/images/-156F82DF-5099-4AEA-8574-19720B40C034-png_jpg.rf.5b3810d70835ea44f3db0b53b6d9099a.jpg  \n",
            " extracting: /content/roboflow/train/images/-156F82DF-5099-4AEA-8574-19720B40C034-png_jpg.rf.f28dd8c04409a37fe0b2b0beef8849f8.jpg  \n",
            " extracting: /content/roboflow/train/images/-15F66BCC-7D1B-4C04-82EF-C560EC4C612E-png_jpg.rf.a8322a916c058517509b89a7d3e5c467.jpg  \n",
            " extracting: /content/roboflow/train/images/-18994A3D-5086-4626-9746-C209358A65CC-png_jpg.rf.071677c725c7904921b95b1845c57bc8.jpg  \n",
            " extracting: /content/roboflow/train/images/-18994A3D-5086-4626-9746-C209358A65CC-png_jpg.rf.6fde44bb4fbe9acb9dca12ca8b7c2c03.jpg  \n",
            " extracting: /content/roboflow/train/images/-18994A3D-5086-4626-9746-C209358A65CC-png_jpg.rf.d3f38ce455f9d0c427386c568619205d.jpg  \n",
            " extracting: /content/roboflow/train/images/-192C4A31-07E9-4438-9D0D-63CF545747C8-png_jpg.rf.3378257ae3ad20260f47da8f874f45cf.jpg  \n",
            " extracting: /content/roboflow/train/images/-192C4A31-07E9-4438-9D0D-63CF545747C8-png_jpg.rf.ac4935d0a0e2ed19671dccadc8671b87.jpg  \n",
            " extracting: /content/roboflow/train/images/-192C4A31-07E9-4438-9D0D-63CF545747C8-png_jpg.rf.ca6ac2f74867a2109d99645d8192add5.jpg  \n",
            " extracting: /content/roboflow/train/images/-192C4A31-07E9-4438-9D0D-63CF545747C8-png_jpg.rf.cd4e0fae7e4d15aca441a363b4ce9144.jpg  \n",
            " extracting: /content/roboflow/train/images/-1AED8217-3B98-4458-83DD-32F5CA3851FF-png_jpg.rf.04ecfd627e649fa84b657304b983e3bd.jpg  \n",
            " extracting: /content/roboflow/train/images/-1AED8217-3B98-4458-83DD-32F5CA3851FF-png_jpg.rf.37bd0b1d9577ea1aa08c4c7324168660.jpg  \n",
            " extracting: /content/roboflow/train/images/-1AED8217-3B98-4458-83DD-32F5CA3851FF-png_jpg.rf.f0c5f98c2e4156ba92b7a71512b7440c.jpg  \n",
            " extracting: /content/roboflow/train/images/-1D5949D1-5187-454E-8ACC-924AD82CAC9C-png_jpg.rf.7d469845f0929208aff88c967ee14c89.jpg  \n",
            " extracting: /content/roboflow/train/images/-1D5949D1-5187-454E-8ACC-924AD82CAC9C-png_jpg.rf.969e842d92d758e00b7dfea2ddcb5c90.jpg  \n",
            " extracting: /content/roboflow/train/images/-1D5949D1-5187-454E-8ACC-924AD82CAC9C-png_jpg.rf.c2abb3e7b2b743718d19b1b1a25245b4.jpg  \n",
            " extracting: /content/roboflow/train/images/-1EE5CA55-C89F-4985-8D4E-A56DBD1A1E96-png_jpg.rf.0966802332a77e307ab6ed6c316a2ba9.jpg  \n",
            " extracting: /content/roboflow/train/images/-1EE5CA55-C89F-4985-8D4E-A56DBD1A1E96-png_jpg.rf.458a4111be2dcd660c4ecfc3d798cc56.jpg  \n",
            " extracting: /content/roboflow/train/images/-1EE5CA55-C89F-4985-8D4E-A56DBD1A1E96-png_jpg.rf.dded47d3cad3d71f599088e64bc0ed32.jpg  \n",
            " extracting: /content/roboflow/train/images/-1EE5CA55-C89F-4985-8D4E-A56DBD1A1E96-png_jpg.rf.e95ece19bf5aa625ebfca8fd119bcad4.jpg  \n",
            " extracting: /content/roboflow/train/images/-1F999A49-2799-4FBC-811D-D10A165F8B02-png_jpg.rf.2b504028a9fe34b8debf39b43041ff0b.jpg  \n",
            " extracting: /content/roboflow/train/images/-1F999A49-2799-4FBC-811D-D10A165F8B02-png_jpg.rf.48217bbb092da4839e852c8b66d9e7db.jpg  \n",
            " extracting: /content/roboflow/train/images/-1F999A49-2799-4FBC-811D-D10A165F8B02-png_jpg.rf.6efc8408930d1675b96895cde8995b08.jpg  \n",
            " extracting: /content/roboflow/train/images/-1F999A49-2799-4FBC-811D-D10A165F8B02-png_jpg.rf.fd5ddf93a6a9b7fafd1b920f9a0bf7f7.jpg  \n",
            " extracting: /content/roboflow/train/images/-20370F09-C43F-47FF-AEDD-1508B10C5D42-png_jpg.rf.a14882c4e8aea4d3d1fd60c6a62b43c4.jpg  \n",
            " extracting: /content/roboflow/train/images/-20370F09-C43F-47FF-AEDD-1508B10C5D42-png_jpg.rf.e88fe2f0ace6aefe406dc3dc38562bf2.jpg  \n",
            " extracting: /content/roboflow/train/images/-2229E395-534F-4F69-9F9B-80628BD8D5AC-png_jpg.rf.ed8df591813ef7e7ffe25bdd3bf6167b.jpg  \n",
            " extracting: /content/roboflow/train/images/-232CA389-A176-4AB7-A513-8D2D5E477CC2-png_jpg.rf.2a43dc64e41ba3a8502983fe86d9a242.jpg  \n",
            " extracting: /content/roboflow/train/images/-232CA389-A176-4AB7-A513-8D2D5E477CC2-png_jpg.rf.c136662cd76fa64d91450ac5bee80053.jpg  \n",
            " extracting: /content/roboflow/train/images/-232CA389-A176-4AB7-A513-8D2D5E477CC2-png_jpg.rf.ce5eeef9e5cb17dcd65844e41553b1dd.jpg  \n",
            " extracting: /content/roboflow/train/images/-232F1AAC-99B4-4968-8EF1-6B89C021BE11-png_jpg.rf.30476f15ab19b0534ad1fb07afff2a39.jpg  \n",
            " extracting: /content/roboflow/train/images/-232F1AAC-99B4-4968-8EF1-6B89C021BE11-png_jpg.rf.87710b61c36fc521da0306f0c7d2f7a5.jpg  \n",
            " extracting: /content/roboflow/train/images/-23705E7A-1279-43E7-B20A-CE37ADAB61DD-png_jpg.rf.0e1ecc6142bffebe2794f5fb4475d119.jpg  \n",
            " extracting: /content/roboflow/train/images/-23705E7A-1279-43E7-B20A-CE37ADAB61DD-png_jpg.rf.a967eb3f6309464e7b5c3415bddb3061.jpg  \n",
            " extracting: /content/roboflow/train/images/-23705E7A-1279-43E7-B20A-CE37ADAB61DD-png_jpg.rf.ac8f64f7fe63087592d291dfcde64252.jpg  \n",
            " extracting: /content/roboflow/train/images/-23705E7A-1279-43E7-B20A-CE37ADAB61DD-png_jpg.rf.ad80bedd04a1bc27124bd059c71facf5.jpg  \n",
            " extracting: /content/roboflow/train/images/-23705E7A-1279-43E7-B20A-CE37ADAB61DD-png_jpg.rf.fd47dba44cdd325cb0b28a91b47db197.jpg  \n",
            " extracting: /content/roboflow/train/images/-2482581B-D45C-4C05-97F4-3105704DFABC-png_jpg.rf.25a805439f5c73533b2aa11fcfeb61e3.jpg  \n",
            " extracting: /content/roboflow/train/images/-2482581B-D45C-4C05-97F4-3105704DFABC-png_jpg.rf.cf6f056640e77377a7b2c22527d7723b.jpg  \n",
            " extracting: /content/roboflow/train/images/-24FFED69-CE70-43C8-8E00-90684987BD32-png_jpg.rf.b3f540f955629ea7783df0e5ffa19cfb.jpg  \n",
            " extracting: /content/roboflow/train/images/-251A7DC4-47FA-45BF-8F18-8C933578D147-png_jpg.rf.3894b40969b9387dd400db6daaa4d125.jpg  \n",
            " extracting: /content/roboflow/train/images/-251A7DC4-47FA-45BF-8F18-8C933578D147-png_jpg.rf.99d123f5fb22b24057c0d30bc872b410.jpg  \n",
            " extracting: /content/roboflow/train/images/-2526BBBE-6B96-49DC-94B9-880E133FA549-png_jpg.rf.09be4b67818f11faee55ad32b3ec5a31.jpg  \n",
            " extracting: /content/roboflow/train/images/-25B75F91-9590-4B9D-A441-755612305E00-png_jpg.rf.97f6e512fb8e66cdb42609b48268186e.jpg  \n",
            " extracting: /content/roboflow/train/images/-25B75F91-9590-4B9D-A441-755612305E00-png_jpg.rf.a9d33ad12d24ebdcda023b800eeb6753.jpg  \n",
            " extracting: /content/roboflow/train/images/-25B75F91-9590-4B9D-A441-755612305E00-png_jpg.rf.bc0a43638a06804ee85863ac22aa9ccd.jpg  \n",
            " extracting: /content/roboflow/train/images/-25B75F91-9590-4B9D-A441-755612305E00-png_jpg.rf.d4faee15cf3f24c51fe50dc6b3c11d3f.jpg  \n",
            " extracting: /content/roboflow/train/images/-26A4102E-9D99-421D-91DC-9E66089FF2F6-png_jpg.rf.4b3f6cdfe41e02d933e27e4191de992f.jpg  \n",
            " extracting: /content/roboflow/train/images/-26A4102E-9D99-421D-91DC-9E66089FF2F6-png_jpg.rf.8399719a104443392844e7fc1ca89b84.jpg  \n",
            " extracting: /content/roboflow/train/images/-26A4102E-9D99-421D-91DC-9E66089FF2F6-png_jpg.rf.8d876c83951e03828ff64e56b71ae9d9.jpg  \n",
            " extracting: /content/roboflow/train/images/-26A4102E-9D99-421D-91DC-9E66089FF2F6-png_jpg.rf.a50609ff4323b02ac15a7bdf430cad30.jpg  \n",
            " extracting: /content/roboflow/train/images/-26A4102E-9D99-421D-91DC-9E66089FF2F6-png_jpg.rf.a7327114e4f58caed494b6480ec73dbe.jpg  \n",
            " extracting: /content/roboflow/train/images/-26D423C9-C9F8-4CA3-B49E-3664225FB20C-png_jpg.rf.1e19dfb9a2e9fa30005c23a72d3d8994.jpg  \n",
            " extracting: /content/roboflow/train/images/-26D423C9-C9F8-4CA3-B49E-3664225FB20C-png_jpg.rf.2514fd0ae7fc3065b14dedb02ce197e3.jpg  \n",
            " extracting: /content/roboflow/train/images/-2846226C-6A55-4876-B717-7F8A5FA4E560-png_jpg.rf.2265b05e5a1d930074ed8a63a5fef877.jpg  \n",
            " extracting: /content/roboflow/train/images/-2846226C-6A55-4876-B717-7F8A5FA4E560-png_jpg.rf.62ef9e5088098f89d93e12b521129e57.jpg  \n",
            " extracting: /content/roboflow/train/images/-28A7CBC5-452A-4B8D-91E0-397F87E23E7F-png_jpg.rf.88e5130747d54c8cbfc327f071d7ef55.jpg  \n",
            " extracting: /content/roboflow/train/images/-28A7CBC5-452A-4B8D-91E0-397F87E23E7F-png_jpg.rf.ba722ffa4712b589b3d8d5bb6961611f.jpg  \n",
            " extracting: /content/roboflow/train/images/-28A7CBC5-452A-4B8D-91E0-397F87E23E7F-png_jpg.rf.c36ed600c3f069601b7112c914bd3253.jpg  \n",
            " extracting: /content/roboflow/train/images/-2AE9E484-CD7E-45FB-BD22-3EB7588C1224-png_jpg.rf.2dc6988ac5ff2fcd88634f6eb3ca788b.jpg  \n",
            " extracting: /content/roboflow/train/images/-2AE9E484-CD7E-45FB-BD22-3EB7588C1224-png_jpg.rf.ccd145665b2467770d16003038a70837.jpg  \n",
            " extracting: /content/roboflow/train/images/-2B9B8378-CF94-4121-9F57-AA504E361DEC-png_jpg.rf.b06c993f58125a9c3a1ef5690b97eb2e.jpg  \n",
            " extracting: /content/roboflow/train/images/-2B9B8378-CF94-4121-9F57-AA504E361DEC-png_jpg.rf.ffddf785580d0f84d53a5b95460e2815.jpg  \n",
            " extracting: /content/roboflow/train/images/-2CC30CC7-5872-41C8-80F9-549219177A84-png_jpg.rf.59bc96f82d0745094742b1eaac4902bc.jpg  \n",
            " extracting: /content/roboflow/train/images/-3130BF7E-8143-44C3-AC0D-8068C9108560-png_jpg.rf.6770a8aff3f8bf7d4f5ae6f7defab374.jpg  \n",
            " extracting: /content/roboflow/train/images/-3130BF7E-8143-44C3-AC0D-8068C9108560-png_jpg.rf.bc24ca147a4a4b753d89f205f81c135d.jpg  \n",
            " extracting: /content/roboflow/train/images/-332D2462-631E-4F9D-914E-9EA5A217A8FA-png_jpg.rf.028893a139591865711d31627dbd4026.jpg  \n",
            " extracting: /content/roboflow/train/images/-3372F3CB-7432-4FE7-B9BB-DFB5D1FC3CD4-png_jpg.rf.4f3b61f14a5caab0b644e495f07a3e4a.jpg  \n",
            " extracting: /content/roboflow/train/images/-341F28F4-B515-475F-8729-F40EFDDDF0C2-png_jpg.rf.0b8bafb4873755b8e54faa41b4e12506.jpg  \n",
            " extracting: /content/roboflow/train/images/-341F28F4-B515-475F-8729-F40EFDDDF0C2-png_jpg.rf.ac22e6aed866e56ac3ec7906c55ec4db.jpg  \n",
            " extracting: /content/roboflow/train/images/-341F28F4-B515-475F-8729-F40EFDDDF0C2-png_jpg.rf.c283141e9d625e87d5d336d16ebe2289.jpg  \n",
            " extracting: /content/roboflow/train/images/-344A5C5C-CF3A-48B7-BE2F-7373A99B6465-png_jpg.rf.3d8cb3742e1544b2f071d90b09c3c952.jpg  \n",
            " extracting: /content/roboflow/train/images/-344A5C5C-CF3A-48B7-BE2F-7373A99B6465-png_jpg.rf.590298027ac03fb550a98c655de0e30c.jpg  \n",
            " extracting: /content/roboflow/train/images/-3571FC71-85E8-4968-8882-3A4B92AC8388-png_jpg.rf.7ee7560e6055625e5f749d614bec24f8.jpg  \n",
            " extracting: /content/roboflow/train/images/-35C8F869-003E-4989-ADF3-F79D890A8FE4-png_jpg.rf.0185f421579b613e8b5e06f9fb6120db.jpg  \n",
            " extracting: /content/roboflow/train/images/-35C8F869-003E-4989-ADF3-F79D890A8FE4-png_jpg.rf.6a5246588a3561642b0ff83758c5ff78.jpg  \n",
            " extracting: /content/roboflow/train/images/-375329E9-678F-4B48-AED2-472A7ED60D19-png_jpg.rf.a1ebd5704af612b5963e160ebe9c167a.jpg  \n",
            " extracting: /content/roboflow/train/images/-375329E9-678F-4B48-AED2-472A7ED60D19-png_jpg.rf.e61a1c670039913b451bf7ceae53bf31.jpg  \n",
            " extracting: /content/roboflow/train/images/-37621770-EA10-4509-962F-29AD0F6F09D8-png_jpg.rf.30a987e9b113d4f115971e60354f3cbb.jpg  \n",
            " extracting: /content/roboflow/train/images/-37621770-EA10-4509-962F-29AD0F6F09D8-png_jpg.rf.63c867aa8b56bb676e2f8198ce33670e.jpg  \n",
            " extracting: /content/roboflow/train/images/-37621770-EA10-4509-962F-29AD0F6F09D8-png_jpg.rf.ec4f32da9d0a3d157498a11fcd2d4f1f.jpg  \n",
            " extracting: /content/roboflow/train/images/-37EAFDFC-4667-4A10-98F7-3C9FB6EC7912-png_jpg.rf.228eb29284c84430a359fe5172f03158.jpg  \n",
            " extracting: /content/roboflow/train/images/-37EAFDFC-4667-4A10-98F7-3C9FB6EC7912-png_jpg.rf.c2cd0fb39166b59d3f3c508edcaa648a.jpg  \n",
            " extracting: /content/roboflow/train/images/-3827C0BE-B55D-4ADE-9938-9DC7D50A32DD-png_jpg.rf.1dceb3e4b3675a959c5fc38a61dae006.jpg  \n",
            " extracting: /content/roboflow/train/images/-3827C0BE-B55D-4ADE-9938-9DC7D50A32DD-png_jpg.rf.6405f750c505edc60268bd9589fe6eea.jpg  \n",
            " extracting: /content/roboflow/train/images/-3827C0BE-B55D-4ADE-9938-9DC7D50A32DD-png_jpg.rf.8a71934b44bac03d77b73ea4b98ecadc.jpg  \n",
            " extracting: /content/roboflow/train/images/-3827C0BE-B55D-4ADE-9938-9DC7D50A32DD-png_jpg.rf.a264b2766c30ede1611b34b42590178c.jpg  \n",
            " extracting: /content/roboflow/train/images/-3827C0BE-B55D-4ADE-9938-9DC7D50A32DD-png_jpg.rf.b688155b15e834b6e9d7584fa3459852.jpg  \n",
            " extracting: /content/roboflow/train/images/-3947B75C-299F-46E6-84AF-947CB4AE712E-png_jpg.rf.02daeaaabb3f5a330daccc1fd792c3dd.jpg  \n",
            " extracting: /content/roboflow/train/images/-3947B75C-299F-46E6-84AF-947CB4AE712E-png_jpg.rf.736c53fc82c392450d918065d38eaae7.jpg  \n",
            " extracting: /content/roboflow/train/images/-3947B75C-299F-46E6-84AF-947CB4AE712E-png_jpg.rf.ec43f9bf4396764c1fd1d144a027f755.jpg  \n",
            " extracting: /content/roboflow/train/images/-394F92E4-59B2-4B85-9170-F782BC3DC244-png_jpg.rf.82915d7ad27865a7d34089789422b47b.jpg  \n",
            " extracting: /content/roboflow/train/images/-394F92E4-59B2-4B85-9170-F782BC3DC244-png_jpg.rf.9da316b3b939404289e65b85f9e19cfd.jpg  \n",
            " extracting: /content/roboflow/train/images/-394F92E4-59B2-4B85-9170-F782BC3DC244-png_jpg.rf.ae14e83123c6d988c22e12c2da3ee798.jpg  \n",
            " extracting: /content/roboflow/train/images/-394F92E4-59B2-4B85-9170-F782BC3DC244-png_jpg.rf.cbc61e699ec041274ecd2e0fa9df0a7a.jpg  \n",
            " extracting: /content/roboflow/train/images/-398D11E1-12E9-4FE1-83DA-198B0C1A0D9D-png_jpg.rf.991ca7b7f350ac2d7a06497ccada182d.jpg  \n",
            " extracting: /content/roboflow/train/images/-398D11E1-12E9-4FE1-83DA-198B0C1A0D9D-png_jpg.rf.fc15b0db0d4472e96487739f7991419c.jpg  \n",
            " extracting: /content/roboflow/train/images/-39CA14CD-A783-4F15-AEE6-F52595AC33A1-png_jpg.rf.1fe1fd6e796ced19d0ed549217f163b8.jpg  \n",
            " extracting: /content/roboflow/train/images/-39CA14CD-A783-4F15-AEE6-F52595AC33A1-png_jpg.rf.50120829a4e7c8c2792f166fc9cde9c1.jpg  \n",
            " extracting: /content/roboflow/train/images/-3AFF5173-8DB5-4DFD-A3AD-3ED85BD289FB-png_jpg.rf.6a04d386c9747b49c396d767fd937d32.jpg  \n",
            " extracting: /content/roboflow/train/images/-3AFF5173-8DB5-4DFD-A3AD-3ED85BD289FB-png_jpg.rf.81848729348b82e6266228fcbef3c851.jpg  \n",
            " extracting: /content/roboflow/train/images/-3B056DBB-3097-4BCB-A38A-F66FA7470A6C-png_jpg.rf.c40c4fc452cf73170d93b7f711ca3a5b.jpg  \n",
            " extracting: /content/roboflow/train/images/-3B056DBB-3097-4BCB-A38A-F66FA7470A6C-png_jpg.rf.d6f2873b716117353ed0e0e38d579e3b.jpg  \n",
            " extracting: /content/roboflow/train/images/-3B056DBB-3097-4BCB-A38A-F66FA7470A6C-png_jpg.rf.db453449b465a2ce705009e448aecd8d.jpg  \n",
            " extracting: /content/roboflow/train/images/-3B056DBB-3097-4BCB-A38A-F66FA7470A6C-png_jpg.rf.f5b3af826c0eed37558e4452784f6d50.jpg  \n",
            " extracting: /content/roboflow/train/images/-3B48CB36-3DE2-4088-B9D1-6F639B60DA9C-png_jpg.rf.29ac2a0d8764130b59df6e487e8453fb.jpg  \n",
            " extracting: /content/roboflow/train/images/-3B48CB36-3DE2-4088-B9D1-6F639B60DA9C-png_jpg.rf.75093a10add252fa25f2a0fdbc149de2.jpg  \n",
            " extracting: /content/roboflow/train/images/-3B48CB36-3DE2-4088-B9D1-6F639B60DA9C-png_jpg.rf.7a4b48baff1df89566b7a6ba04c9d048.jpg  \n",
            " extracting: /content/roboflow/train/images/-3B54DE29-3BCA-4191-A23E-003270236E01-png_jpg.rf.0818a291d817617280069c44daa8b074.jpg  \n",
            " extracting: /content/roboflow/train/images/-3B54DE29-3BCA-4191-A23E-003270236E01-png_jpg.rf.227cfbc04c144caa21b97d16fbfab6a6.jpg  \n",
            " extracting: /content/roboflow/train/images/-3B54DE29-3BCA-4191-A23E-003270236E01-png_jpg.rf.7d3f915d9107d8313e04641938feb9fd.jpg  \n",
            " extracting: /content/roboflow/train/images/-3C758EB2-E016-4C89-93CE-0E4FF51161C2-png_jpg.rf.181a181b19c0d8b45ca1e1b2c08e4cd9.jpg  \n",
            " extracting: /content/roboflow/train/images/-3C758EB2-E016-4C89-93CE-0E4FF51161C2-png_jpg.rf.3e1d0db253cf4c47aeb90b0fa503d343.jpg  \n",
            " extracting: /content/roboflow/train/images/-3C758EB2-E016-4C89-93CE-0E4FF51161C2-png_jpg.rf.53473776d4671a7dd2f5bf0a884af147.jpg  \n",
            " extracting: /content/roboflow/train/images/-3D578705-6794-4049-BF6D-A828FC4F0722-png_jpg.rf.c54098bb32380f40287c77d016ac7400.jpg  \n",
            " extracting: /content/roboflow/train/images/-400E9E90-CD4A-470F-89E2-C9E1D1854AAB-png_jpg.rf.4b2b0f807dd3f10c1bc7d472971596a0.jpg  \n",
            " extracting: /content/roboflow/train/images/-400E9E90-CD4A-470F-89E2-C9E1D1854AAB-png_jpg.rf.c04e3763bfb342c6c3b599c72d3e5a4b.jpg  \n",
            " extracting: /content/roboflow/train/images/-400E9E90-CD4A-470F-89E2-C9E1D1854AAB-png_jpg.rf.df2336a08ac3d95c94f9116b6e2ab7fa.jpg  \n",
            " extracting: /content/roboflow/train/images/-400E9E90-CD4A-470F-89E2-C9E1D1854AAB-png_jpg.rf.f9de1c4c2b2768e706ec63d3e70c701d.jpg  \n",
            " extracting: /content/roboflow/train/images/-410FB936-1128-4721-89DE-79E2F58D3B24-png_jpg.rf.82c68b08260772de8e6f1d87d36d71ae.jpg  \n",
            " extracting: /content/roboflow/train/images/-41421EB3-10E7-4E8B-9D22-424751A9FE8A-png_jpg.rf.1139c5d2e6529d2e47125bc735b7abb4.jpg  \n",
            " extracting: /content/roboflow/train/images/-41421EB3-10E7-4E8B-9D22-424751A9FE8A-png_jpg.rf.79cf5d4eb62934ba87a0a31a2f073992.jpg  \n",
            " extracting: /content/roboflow/train/images/-420B178A-1068-4C65-B00F-763738FCB982-png_jpg.rf.0e0d2d02e32037f8f0488f6e6a737a33.jpg  \n",
            " extracting: /content/roboflow/train/images/-420B178A-1068-4C65-B00F-763738FCB982-png_jpg.rf.13373fdd224b9bac14010d4c2b6b6e53.jpg  \n",
            " extracting: /content/roboflow/train/images/-420B178A-1068-4C65-B00F-763738FCB982-png_jpg.rf.344359acfada666a348fce2813e1a10b.jpg  \n",
            " extracting: /content/roboflow/train/images/-420B178A-1068-4C65-B00F-763738FCB982-png_jpg.rf.c82b39464d02ac14b3daccec5b0ee2c0.jpg  \n",
            " extracting: /content/roboflow/train/images/-422F5744-FC5F-4A43-8DFE-CEF738B5015C-png_jpg.rf.3ae1f95bdd1ba046f2dfe55c03283098.jpg  \n",
            " extracting: /content/roboflow/train/images/-422F5744-FC5F-4A43-8DFE-CEF738B5015C-png_jpg.rf.83c76d2999542a928e98a83e37d8d02b.jpg  \n",
            " extracting: /content/roboflow/train/images/-423FE4FB-F3E1-4E8E-8A40-5A99AEF6C353-png_jpg.rf.26c525440c4e7e4446dc927c46074aa1.jpg  \n",
            " extracting: /content/roboflow/train/images/-423FE4FB-F3E1-4E8E-8A40-5A99AEF6C353-png_jpg.rf.dd706c800d6968fc03648d5c503aa1f4.jpg  \n",
            " extracting: /content/roboflow/train/images/-431A51B8-216A-4491-8839-72DCD54029AD-png_jpg.rf.6db97465767deaff1c366b94df6ce8b5.jpg  \n",
            " extracting: /content/roboflow/train/images/-431A51B8-216A-4491-8839-72DCD54029AD-png_jpg.rf.8747398f59f87f78a40665c807b9f16f.jpg  \n",
            " extracting: /content/roboflow/train/images/-44DB40B6-D520-4654-A07D-E87A49846F12-png_jpg.rf.1b3610b11bddef01445e1ba6e75bb41d.jpg  \n",
            " extracting: /content/roboflow/train/images/-44DB40B6-D520-4654-A07D-E87A49846F12-png_jpg.rf.225691024608102bf1bc1a018042272b.jpg  \n",
            " extracting: /content/roboflow/train/images/-44DB40B6-D520-4654-A07D-E87A49846F12-png_jpg.rf.364b37d841ebfd383554aba2204207cf.jpg  \n",
            " extracting: /content/roboflow/train/images/-44DB40B6-D520-4654-A07D-E87A49846F12-png_jpg.rf.51475d45ef30390b2da41cc3a1f300b3.jpg  \n",
            " extracting: /content/roboflow/train/images/-44DB40B6-D520-4654-A07D-E87A49846F12-png_jpg.rf.a82508f670957895b50d7b449ea6641a.jpg  \n",
            " extracting: /content/roboflow/train/images/-44DB40B6-D520-4654-A07D-E87A49846F12-png_jpg.rf.c716a27434e8409ca5730f73cc12f42c.jpg  \n",
            " extracting: /content/roboflow/train/images/-44DB40B6-D520-4654-A07D-E87A49846F12-png_jpg.rf.d50c20e2215f91202121fc5e0fea0608.jpg  \n",
            " extracting: /content/roboflow/train/images/-44DB40B6-D520-4654-A07D-E87A49846F12-png_jpg.rf.eb28040fe5b3ff49af69b90e899b0801.jpg  \n",
            " extracting: /content/roboflow/train/images/-44EED5AD-F010-4649-819C-9091185CA9AD-png_jpg.rf.31057313bb1116763fcf25def3cc0da2.jpg  \n",
            " extracting: /content/roboflow/train/images/-44EED5AD-F010-4649-819C-9091185CA9AD-png_jpg.rf.5f2f747c9e17e80a1a26a936fb8bb2f5.jpg  \n",
            " extracting: /content/roboflow/train/images/-44EED5AD-F010-4649-819C-9091185CA9AD-png_jpg.rf.954a1d8aae2eddbb7206373072c3841d.jpg  \n",
            " extracting: /content/roboflow/train/images/-44EED5AD-F010-4649-819C-9091185CA9AD-png_jpg.rf.ab80fcfa210c9b7e382c1077a6c45863.jpg  \n",
            " extracting: /content/roboflow/train/images/-44EED5AD-F010-4649-819C-9091185CA9AD-png_jpg.rf.dc2b91dfd29bc2a0c3bb215be6e14913.jpg  \n",
            " extracting: /content/roboflow/train/images/-465396AA-4CB9-4625-A390-70D9E748937A-png_jpg.rf.28ef4f010cad5c8f386fb0e2ad25e3cc.jpg  \n",
            " extracting: /content/roboflow/train/images/-469593C2-4B3A-4A0B-B78A-24B4A79CCC35-png_jpg.rf.3b34736082dd015ca57596743a3da59e.jpg  \n",
            " extracting: /content/roboflow/train/images/-48CC7018-725B-4547-B690-F5BE19F7A7B8-png_jpg.rf.a9f11ce73c4245416fc484b6769ef612.jpg  \n",
            " extracting: /content/roboflow/train/images/-496DFB6F-CD96-44F4-8CF4-683733EC79B6-png_jpg.rf.3af5d9212a68d16fc2f76a60adfa5591.jpg  \n",
            " extracting: /content/roboflow/train/images/-496DFB6F-CD96-44F4-8CF4-683733EC79B6-png_jpg.rf.e4ff66c848eea7f29b33822fe07307fc.jpg  \n",
            " extracting: /content/roboflow/train/images/-4B472EFE-F5FA-44B6-A214-B41E70E2A0BC-png_jpg.rf.218c9f3468fe41c0652281c6b58e8526.jpg  \n",
            " extracting: /content/roboflow/train/images/-4B472EFE-F5FA-44B6-A214-B41E70E2A0BC-png_jpg.rf.228c95a9d46e8e77468687ce9fc017f2.jpg  \n",
            " extracting: /content/roboflow/train/images/-4B472EFE-F5FA-44B6-A214-B41E70E2A0BC-png_jpg.rf.8841275e69ba9d00ea59bc263d4e7281.jpg  \n",
            " extracting: /content/roboflow/train/images/-4B472EFE-F5FA-44B6-A214-B41E70E2A0BC-png_jpg.rf.930790a96aeb61e4cc76edb794bf5ab2.jpg  \n",
            " extracting: /content/roboflow/train/images/-4B472EFE-F5FA-44B6-A214-B41E70E2A0BC-png_jpg.rf.c3e330b2ac92634e28f3ff72f39c0ef8.jpg  \n",
            " extracting: /content/roboflow/train/images/-4B733FC3-CEF8-427E-B4A1-7C1E04168672-png_jpg.rf.7ecde4f64ad8dc0c3e219494b3e2ae6b.jpg  \n",
            " extracting: /content/roboflow/train/images/-4B741C2C-6B83-4220-B69F-FCD31BA7BD93-png_jpg.rf.4ff97ee8800a387eea201857c42dc297.jpg  \n",
            " extracting: /content/roboflow/train/images/-4B741C2C-6B83-4220-B69F-FCD31BA7BD93-png_jpg.rf.59c5d8f1b22aced9e929cfb2a1eb855b.jpg  \n",
            " extracting: /content/roboflow/train/images/-4BB97EA4-824F-4351-B178-A426E8AE6051-png_jpg.rf.1fd067c81b44f1f9aa804a1d82565d0f.jpg  \n",
            " extracting: /content/roboflow/train/images/-4BB97EA4-824F-4351-B178-A426E8AE6051-png_jpg.rf.d99c9c94ac6cdf3b1f4ceb25af36266f.jpg  \n",
            " extracting: /content/roboflow/train/images/-4C46AFBE-4FFB-4612-923E-76294EF2233B-png_jpg.rf.2341033b270978813cf94c662796ebb1.jpg  \n",
            " extracting: /content/roboflow/train/images/-4C46AFBE-4FFB-4612-923E-76294EF2233B-png_jpg.rf.2bfede2ad0c144dfd2280baffdc4a488.jpg  \n",
            " extracting: /content/roboflow/train/images/-4C46AFBE-4FFB-4612-923E-76294EF2233B-png_jpg.rf.6dcd3cd9522e264e22d852436f201736.jpg  \n",
            " extracting: /content/roboflow/train/images/-4C46AFBE-4FFB-4612-923E-76294EF2233B-png_jpg.rf.efd055bb20c8fc1d0bd345e06b99aefd.jpg  \n",
            " extracting: /content/roboflow/train/images/-4C9F05A1-7CD5-458B-B604-60361B491683-png_jpg.rf.15aaf488c3036e07eef8d3d8e693857a.jpg  \n",
            " extracting: /content/roboflow/train/images/-4C9F05A1-7CD5-458B-B604-60361B491683-png_jpg.rf.78805b9f22a2f9e934873bf4d805284f.jpg  \n",
            " extracting: /content/roboflow/train/images/-4C9F05A1-7CD5-458B-B604-60361B491683-png_jpg.rf.9543cf1364422a682643cc89f808f22f.jpg  \n",
            " extracting: /content/roboflow/train/images/-4C9F05A1-7CD5-458B-B604-60361B491683-png_jpg.rf.9bd02ea2e8e58c47ffb7e945ddae1866.jpg  \n",
            " extracting: /content/roboflow/train/images/-4D888E2B-7F5D-4626-B4FF-E092A163D4B5-png_jpg.rf.70ec6940ae65344dcf6d5421b46cd97f.jpg  \n",
            " extracting: /content/roboflow/train/images/-4DFF09F8-2283-495F-9C84-6A25870884F8-png_jpg.rf.95c22639a33eafc2bde02a3cf0515b59.jpg  \n",
            " extracting: /content/roboflow/train/images/-4FB14832-DB4E-41E9-B8FC-9D33DEB67AAA-png_jpg.rf.182a84bbffa683c9df5cdf7473598323.jpg  \n",
            " extracting: /content/roboflow/train/images/-4FB14832-DB4E-41E9-B8FC-9D33DEB67AAA-png_jpg.rf.c99a4be0fb2f527ca81e8f66bf982fb6.jpg  \n",
            " extracting: /content/roboflow/train/images/-50894A9D-DA2D-4049-9C7B-6006F32452BC-png_jpg.rf.56f26d3f416fc7521f4b7913396c1445.jpg  \n",
            " extracting: /content/roboflow/train/images/-50894A9D-DA2D-4049-9C7B-6006F32452BC-png_jpg.rf.dd56b08cd1767501699323cc22e1ac00.jpg  \n",
            " extracting: /content/roboflow/train/images/-51FFF967-684D-4519-8EC0-A9C7CC6F2280-png_jpg.rf.1e5286e2279da956993bd054824c244a.jpg  \n",
            " extracting: /content/roboflow/train/images/-51FFF967-684D-4519-8EC0-A9C7CC6F2280-png_jpg.rf.48a6446cb7fd30b405fcc69ddb735bfa.jpg  \n",
            " extracting: /content/roboflow/train/images/-51FFF967-684D-4519-8EC0-A9C7CC6F2280-png_jpg.rf.ddb00b02660e6be8f8e0423e79133f1c.jpg  \n",
            " extracting: /content/roboflow/train/images/-52262D73-8B4E-4F06-883D-4C6E2E6ADED2-png_jpg.rf.4071f45a6162cb0236b7afa4aef4c70f.jpg  \n",
            " extracting: /content/roboflow/train/images/-52262D73-8B4E-4F06-883D-4C6E2E6ADED2-png_jpg.rf.4a641421731a95b782f8a1a773c2db69.jpg  \n",
            " extracting: /content/roboflow/train/images/-526B0491-0C42-4F0F-A201-ECFD6ED3DD6E-png_jpg.rf.23c2e013e4d1616fd7f8a7c5605d1ab5.jpg  \n",
            " extracting: /content/roboflow/train/images/-526B0491-0C42-4F0F-A201-ECFD6ED3DD6E-png_jpg.rf.25ba323ab3e8c2dccca05f16192fa5a0.jpg  \n",
            " extracting: /content/roboflow/train/images/-526B0491-0C42-4F0F-A201-ECFD6ED3DD6E-png_jpg.rf.636e1b6438e63bbc1f3a0048f51b0803.jpg  \n",
            " extracting: /content/roboflow/train/images/-526B0491-0C42-4F0F-A201-ECFD6ED3DD6E-png_jpg.rf.bcf8639f76a3688a27ea28268799f6b1.jpg  \n",
            " extracting: /content/roboflow/train/images/-5273059D-9AB0-4D26-B042-322F7A5E4CCD-png_jpg.rf.3037c913caec9c2037cdb22627fa5f76.jpg  \n",
            " extracting: /content/roboflow/train/images/-52C0EFE4-90C2-473F-9FEE-2E416111A8C7-png_jpg.rf.6f1e323f5869e8c9870a7ed7bfd4c520.jpg  \n",
            " extracting: /content/roboflow/train/images/-52D877A5-D9D5-4B8F-848F-E449684E4869-png_jpg.rf.98bcec5443eaf6ad511c5fe6dda334e7.jpg  \n",
            " extracting: /content/roboflow/train/images/-531F16FE-7468-484D-8B14-D5229D4851B8-png_jpg.rf.14461cf2c46f7b05304cb311731d8bc7.jpg  \n",
            " extracting: /content/roboflow/train/images/-531F16FE-7468-484D-8B14-D5229D4851B8-png_jpg.rf.3438dfd55da7714089389082e0e4aca1.jpg  \n",
            " extracting: /content/roboflow/train/images/-531F16FE-7468-484D-8B14-D5229D4851B8-png_jpg.rf.7102540353ef97ec70f30912e6b46246.jpg  \n",
            " extracting: /content/roboflow/train/images/-531F16FE-7468-484D-8B14-D5229D4851B8-png_jpg.rf.ddad90d125dda60c4d4ef179900a2858.jpg  \n",
            " extracting: /content/roboflow/train/images/-531F16FE-7468-484D-8B14-D5229D4851B8-png_jpg.rf.dfe7f8121f065f26a95d362dc1419162.jpg  \n",
            " extracting: /content/roboflow/train/images/-531F9D36-6096-4999-B709-28F1E5F38DFE-png_jpg.rf.1bf9d8919dbe3d153a98abfa2ea5862c.jpg  \n",
            " extracting: /content/roboflow/train/images/-5399AA20-C3A4-4841-9CA4-0D18DFCA3806-png_jpg.rf.1fff207b40c04fd38bcc983f3a7d1dc3.jpg  \n",
            " extracting: /content/roboflow/train/images/-5399AA20-C3A4-4841-9CA4-0D18DFCA3806-png_jpg.rf.9e53db38ce36eefd0bc8dc31aa6c6e7a.jpg  \n",
            " extracting: /content/roboflow/train/images/-5399AA20-C3A4-4841-9CA4-0D18DFCA3806-png_jpg.rf.f63d4ee0ed1d79d5453059c5ab6c59b2.jpg  \n",
            " extracting: /content/roboflow/train/images/-53C40FB0-F866-4F4A-A410-D32C65C75BB4-png_jpg.rf.1d2678a5945811eec35d2aa92db27d1c.jpg  \n",
            " extracting: /content/roboflow/train/images/-53C40FB0-F866-4F4A-A410-D32C65C75BB4-png_jpg.rf.1d942fbf6ca461f5533e11480cb06450.jpg  \n",
            " extracting: /content/roboflow/train/images/-53C40FB0-F866-4F4A-A410-D32C65C75BB4-png_jpg.rf.4f545ab119c038e547acc73ed26ee4f2.jpg  \n",
            " extracting: /content/roboflow/train/images/-53C40FB0-F866-4F4A-A410-D32C65C75BB4-png_jpg.rf.5c428aad09f60082484c4f5f55ba1a5d.jpg  \n",
            " extracting: /content/roboflow/train/images/-53C40FB0-F866-4F4A-A410-D32C65C75BB4-png_jpg.rf.edc5ca627b11b48f461bf920d550938b.jpg  \n",
            " extracting: /content/roboflow/train/images/-53C40FB0-F866-4F4A-A410-D32C65C75BB4-png_jpg.rf.f6c60b964e202922d12afc3e73f064bc.jpg  \n",
            " extracting: /content/roboflow/train/images/-53D41263-2FA3-40DF-9556-1EB08D19D5F1-png_jpg.rf.90d37abb769aa32b1fcd993342530319.jpg  \n",
            " extracting: /content/roboflow/train/images/-53D41263-2FA3-40DF-9556-1EB08D19D5F1-png_jpg.rf.93d7033f288a27622f885bafdc9cc49a.jpg  \n",
            " extracting: /content/roboflow/train/images/-53D41263-2FA3-40DF-9556-1EB08D19D5F1-png_jpg.rf.f43b7185889509603d6bb11f235050bd.jpg  \n",
            " extracting: /content/roboflow/train/images/-541C6E4C-DEC9-4725-97C0-B773CF5182AB-png_jpg.rf.3f82f8c6840638a243d1f0560bf1d8cb.jpg  \n",
            " extracting: /content/roboflow/train/images/-541C6E4C-DEC9-4725-97C0-B773CF5182AB-png_jpg.rf.59987db429d18831198a15ee37fcee3a.jpg  \n",
            " extracting: /content/roboflow/train/images/-541C6E4C-DEC9-4725-97C0-B773CF5182AB-png_jpg.rf.7e1ae97e58a199846da9bfac876a2520.jpg  \n",
            " extracting: /content/roboflow/train/images/-5481DCB8-6595-495C-BFEB-5B74B2345808-png_jpg.rf.2456c41b63b6b339427374bdf92d648a.jpg  \n",
            " extracting: /content/roboflow/train/images/-5481DCB8-6595-495C-BFEB-5B74B2345808-png_jpg.rf.3cacf962f103bbf3b54c36859f2920c9.jpg  \n",
            " extracting: /content/roboflow/train/images/-5481DCB8-6595-495C-BFEB-5B74B2345808-png_jpg.rf.516ce02fa23ffa9877141807ca500d15.jpg  \n",
            " extracting: /content/roboflow/train/images/-5541726B-201F-4295-A6CB-AA0F566A62F9-png_jpg.rf.af9288627ce09a9d08ab14536ef01ceb.jpg  \n",
            " extracting: /content/roboflow/train/images/-560B3012-6E26-4551-A44C-6F4AB53B707E-png_jpg.rf.0b05d90fb8d357852b64761aafbe2c03.jpg  \n",
            " extracting: /content/roboflow/train/images/-560B3012-6E26-4551-A44C-6F4AB53B707E-png_jpg.rf.0d677005ff1a4df00f895c1c623277cf.jpg  \n",
            " extracting: /content/roboflow/train/images/-560B3012-6E26-4551-A44C-6F4AB53B707E-png_jpg.rf.332e0c72f2cdd57ea2f8a9c85e3eda65.jpg  \n",
            " extracting: /content/roboflow/train/images/-560B3012-6E26-4551-A44C-6F4AB53B707E-png_jpg.rf.469b9c411f6da2675f11580350fc7ad1.jpg  \n",
            " extracting: /content/roboflow/train/images/-560B3012-6E26-4551-A44C-6F4AB53B707E-png_jpg.rf.6e1bd02470160397885400ef6f5d676c.jpg  \n",
            " extracting: /content/roboflow/train/images/-560B3012-6E26-4551-A44C-6F4AB53B707E-png_jpg.rf.8a57bc256742c301de933a7ba14576a4.jpg  \n",
            " extracting: /content/roboflow/train/images/-560B3012-6E26-4551-A44C-6F4AB53B707E-png_jpg.rf.90e745b49bc265d3b80c0003cb3f2cb1.jpg  \n",
            " extracting: /content/roboflow/train/images/-560B3012-6E26-4551-A44C-6F4AB53B707E-png_jpg.rf.cfa4e7f64ecb1f88286ae8d3047aee7a.jpg  \n",
            " extracting: /content/roboflow/train/images/-560FDA71-D338-4454-BC81-857A74DE813D-png_jpg.rf.4fedc35c2d8e7a59f4d928691d637d46.jpg  \n",
            " extracting: /content/roboflow/train/images/-560FDA71-D338-4454-BC81-857A74DE813D-png_jpg.rf.e0fdee80d6d9f8fb088ae24fe7d87a84.jpg  \n",
            " extracting: /content/roboflow/train/images/-56EAA0B9-41EA-46F5-99F9-433F614E42FB-png_jpg.rf.7bd92cf5d66f18b28f79559e147fa915.jpg  \n",
            " extracting: /content/roboflow/train/images/-56EAA0B9-41EA-46F5-99F9-433F614E42FB-png_jpg.rf.c66a6bfd07e88ae8ee001b8c77299692.jpg  \n",
            " extracting: /content/roboflow/train/images/-56EAA0B9-41EA-46F5-99F9-433F614E42FB-png_jpg.rf.d3909c883b5f8a32effc53fa65e2d8f1.jpg  \n",
            " extracting: /content/roboflow/train/images/-56EAA0B9-41EA-46F5-99F9-433F614E42FB-png_jpg.rf.fb296e562f176fef65f8e56fed51ae89.jpg  \n",
            " extracting: /content/roboflow/train/images/-56EF2068-CDF4-4068-80A1-E567375D4AE6-png_jpg.rf.3ceed22aa1de660f437c6342119802c7.jpg  \n",
            " extracting: /content/roboflow/train/images/-56EF2068-CDF4-4068-80A1-E567375D4AE6-png_jpg.rf.6c5947cf2ef2d18acf91d9b9beff00a5.jpg  \n",
            " extracting: /content/roboflow/train/images/-56EF2068-CDF4-4068-80A1-E567375D4AE6-png_jpg.rf.a182a0761f155d77388023588ae0e71b.jpg  \n",
            " extracting: /content/roboflow/train/images/-58A0B6C6-CAE2-41F9-9A9F-6B6E1A4EE492-png_jpg.rf.0aae21b427661e88571f61003188665c.jpg  \n",
            " extracting: /content/roboflow/train/images/-58A0B6C6-CAE2-41F9-9A9F-6B6E1A4EE492-png_jpg.rf.e384d91cfca864daef1918740af2e5f8.jpg  \n",
            " extracting: /content/roboflow/train/images/-59D02DDC-DB49-41DA-8B1F-33712FDE8CEE-png_jpg.rf.a51c60e8ddac07893b798dfe37166e08.jpg  \n",
            " extracting: /content/roboflow/train/images/-5A06964D-6D40-4132-A769-F21A3B8E1DAA-png_jpg.rf.23eb8e18f57961688762ab12eecca78a.jpg  \n",
            " extracting: /content/roboflow/train/images/-5A06964D-6D40-4132-A769-F21A3B8E1DAA-png_jpg.rf.5133afa053b6794e09eaf76b949e9bfc.jpg  \n",
            " extracting: /content/roboflow/train/images/-5A06964D-6D40-4132-A769-F21A3B8E1DAA-png_jpg.rf.d103137c9742172f4a51288bd8d6c911.jpg  \n",
            " extracting: /content/roboflow/train/images/-5AD2C6FA-9814-4CB1-822E-3A617443C49E-png_jpg.rf.352f72fb3c1f03f4bc2199c5d028fa56.jpg  \n",
            " extracting: /content/roboflow/train/images/-5AD2C6FA-9814-4CB1-822E-3A617443C49E-png_jpg.rf.47796466b9e235105d394f1228e9820a.jpg  \n",
            " extracting: /content/roboflow/train/images/-5AD2C6FA-9814-4CB1-822E-3A617443C49E-png_jpg.rf.806c85adc9ed91f41ae17ee68150a581.jpg  \n",
            " extracting: /content/roboflow/train/images/-5AD2C6FA-9814-4CB1-822E-3A617443C49E-png_jpg.rf.992eca39ae173547b0981c034bafcd17.jpg  \n",
            " extracting: /content/roboflow/train/images/-5AF06BED-94B4-4CFE-9682-4D5AB122CE95-png_jpg.rf.3920e57d79d8bff96a25743dd7e14139.jpg  \n",
            " extracting: /content/roboflow/train/images/-5AF06BED-94B4-4CFE-9682-4D5AB122CE95-png_jpg.rf.7d5cbb1e05d1af4b5ff46ada54034c90.jpg  \n",
            " extracting: /content/roboflow/train/images/-5AF06BED-94B4-4CFE-9682-4D5AB122CE95-png_jpg.rf.b90e1918612301149861d6d6296ed39b.jpg  \n",
            " extracting: /content/roboflow/train/images/-5AF06BED-94B4-4CFE-9682-4D5AB122CE95-png_jpg.rf.bf223143b74391876c63fca94bb10aa3.jpg  \n",
            " extracting: /content/roboflow/train/images/-5AF06BED-94B4-4CFE-9682-4D5AB122CE95-png_jpg.rf.db7e5cd3b27b90e4af9774d0996573ed.jpg  \n",
            " extracting: /content/roboflow/train/images/-5BAA1216-71C7-41C4-8494-D0AFE9C52AF5-png_jpg.rf.31c4a0776f533caa9f7a0d2c3e54ecf9.jpg  \n",
            " extracting: /content/roboflow/train/images/-5BAA1216-71C7-41C4-8494-D0AFE9C52AF5-png_jpg.rf.88524d2f7f76f65f6cf89e977dda938f.jpg  \n",
            " extracting: /content/roboflow/train/images/-5BAA1216-71C7-41C4-8494-D0AFE9C52AF5-png_jpg.rf.9ed379b5289788032e97e6ee9bdf1b4b.jpg  \n",
            " extracting: /content/roboflow/train/images/-5BAA1216-71C7-41C4-8494-D0AFE9C52AF5-png_jpg.rf.af3b24fe8280dd47b127a174701fe5ec.jpg  \n",
            " extracting: /content/roboflow/train/images/-5BB5033D-F96D-4681-808D-9BCBE7C2221E-png_jpg.rf.a860a747068e38ce5e0ed1e1e848c4e4.jpg  \n",
            " extracting: /content/roboflow/train/images/-5BB5033D-F96D-4681-808D-9BCBE7C2221E-png_jpg.rf.e6dc88a3f6f3d2c948f4b9bc693f2130.jpg  \n",
            " extracting: /content/roboflow/train/images/-5BB5033D-F96D-4681-808D-9BCBE7C2221E-png_jpg.rf.f9fc2c1ac63461c8d1e8040a4a9bf22c.jpg  \n",
            " extracting: /content/roboflow/train/images/-5BCD3433-D1A0-436B-B906-4809400FC43E-png_jpg.rf.44cb4bed453f9b9e96e8d3b7c12525da.jpg  \n",
            " extracting: /content/roboflow/train/images/-5C9472C7-6F7B-45B6-A2F4-0CE739421A98-png_jpg.rf.1a547558cb5e94c53ee40b4fed2df7d3.jpg  \n",
            " extracting: /content/roboflow/train/images/-5C9472C7-6F7B-45B6-A2F4-0CE739421A98-png_jpg.rf.69fa43c54691b5bc98d81226249dda72.jpg  \n",
            " extracting: /content/roboflow/train/images/-5C9472C7-6F7B-45B6-A2F4-0CE739421A98-png_jpg.rf.9a19b423db4f97d2956ec2979616e034.jpg  \n",
            " extracting: /content/roboflow/train/images/-5CEE3337-3AF2-49E4-AE4E-42B9E2E44512-png_jpg.rf.15994afd1c41bce663b5a8b057e8595a.jpg  \n",
            " extracting: /content/roboflow/train/images/-5CEE3337-3AF2-49E4-AE4E-42B9E2E44512-png_jpg.rf.8f56a788d1cccbbe0bd7571c57e6df6a.jpg  \n",
            " extracting: /content/roboflow/train/images/-5D5BA3F7-FDD8-4C19-8DAC-D5384A81B407-png_jpg.rf.2de8d3399fdddbd7ce4eb2016538fdc1.jpg  \n",
            " extracting: /content/roboflow/train/images/-5D890027-73FC-42D9-B3D5-2ED473A73B66-png_jpg.rf.8bead8d42701fa5db2a1414eaf2acd8c.jpg  \n",
            " extracting: /content/roboflow/train/images/-5D890027-73FC-42D9-B3D5-2ED473A73B66-png_jpg.rf.b7b28fbb88da95bb6a273e91541513d9.jpg  \n",
            " extracting: /content/roboflow/train/images/-5DB86A4E-D64A-4032-ACF4-957B38D438C9-png_jpg.rf.4b6181a8cc3875e9ba16c9ccbe402ee6.jpg  \n",
            " extracting: /content/roboflow/train/images/-5DB86A4E-D64A-4032-ACF4-957B38D438C9-png_jpg.rf.a0908d13fd4dfe3a8b8a85bef174f68f.jpg  \n",
            " extracting: /content/roboflow/train/images/-5E037376-5D27-4953-9841-0083E8D06D0B-png_jpg.rf.48eee56c0e6dc97f625fdb7efcf84a1c.jpg  \n",
            " extracting: /content/roboflow/train/images/-5E037376-5D27-4953-9841-0083E8D06D0B-png_jpg.rf.a8c9326f3d04d6b05c7e3567867d60b6.jpg  \n",
            " extracting: /content/roboflow/train/images/-5E492592-1503-4FFB-A59A-7C84C8FB58C8-png_jpg.rf.115c5c68d59d38c462f9fd25b11ae702.jpg  \n",
            " extracting: /content/roboflow/train/images/-5E492592-1503-4FFB-A59A-7C84C8FB58C8-png_jpg.rf.ae4d5287e29c1cb7f1dea005fde5c955.jpg  \n",
            " extracting: /content/roboflow/train/images/-5E492592-1503-4FFB-A59A-7C84C8FB58C8-png_jpg.rf.c2160842f293e07b19a220ac6bec55b4.jpg  \n",
            " extracting: /content/roboflow/train/images/-5E492592-1503-4FFB-A59A-7C84C8FB58C8-png_jpg.rf.c8a839c9cfee75031bb9d3bf24ae5287.jpg  \n",
            " extracting: /content/roboflow/train/images/-5E69D234-D9EE-4A15-ABEB-52BA04828890-png_jpg.rf.aa03c41762c0007ca461532836d7ac34.jpg  \n",
            " extracting: /content/roboflow/train/images/-5E8CB65C-3365-4514-AC80-892C8BF6B0BE-png_jpg.rf.56195a92b066678822b835b686eff5c4.jpg  \n",
            " extracting: /content/roboflow/train/images/-5E8CB65C-3365-4514-AC80-892C8BF6B0BE-png_jpg.rf.8787b9b25cd0fe6438187aefbb5710ee.jpg  \n",
            " extracting: /content/roboflow/train/images/-5E8CB65C-3365-4514-AC80-892C8BF6B0BE-png_jpg.rf.fb49f3dc5a76e99416ccf813eef005d6.jpg  \n",
            " extracting: /content/roboflow/train/images/-5EA2A12A-708A-4984-80AC-438C76933457-png_jpg.rf.5b88beca6a4b172819d857abb535f621.jpg  \n",
            " extracting: /content/roboflow/train/images/-5EA2A12A-708A-4984-80AC-438C76933457-png_jpg.rf.b55495f173d03f871dbef184e55c95d5.jpg  \n",
            " extracting: /content/roboflow/train/images/-5EA2A12A-708A-4984-80AC-438C76933457-png_jpg.rf.f29d09d41b81979e0cdac0643b886041.jpg  \n",
            " extracting: /content/roboflow/train/images/-5F381E05-B9B8-4054-8444-EFE81AA4B78C-png_jpg.rf.1345e72653f9b072b3682f35e4f7a04a.jpg  \n",
            " extracting: /content/roboflow/train/images/-5F381E05-B9B8-4054-8444-EFE81AA4B78C-png_jpg.rf.a25c792637fc37ceefa30d8b64ef683b.jpg  \n",
            " extracting: /content/roboflow/train/images/-608B1B77-EBBE-4E69-AB2F-13A3A5ED4C39-png_jpg.rf.00f6a849c15e89f6c5eac4319c7a4eb2.jpg  \n",
            " extracting: /content/roboflow/train/images/-611BF23F-5A2C-45D6-A4DC-033938DD1CA5-png_jpg.rf.5ce7789abd9ebe6425286dd94e4d491b.jpg  \n",
            " extracting: /content/roboflow/train/images/-611BF23F-5A2C-45D6-A4DC-033938DD1CA5-png_jpg.rf.b7c880b19993be198a8d6d4a12c67c08.jpg  \n",
            " extracting: /content/roboflow/train/images/-618A0E4F-DFF5-4624-B30C-9F657BE51772-png_jpg.rf.245b4ffe151ceaa103e203ee16d9791f.jpg  \n",
            " extracting: /content/roboflow/train/images/-618A0E4F-DFF5-4624-B30C-9F657BE51772-png_jpg.rf.3dbb7ce6ea6ff56c16797d8036038823.jpg  \n",
            " extracting: /content/roboflow/train/images/-618A0E4F-DFF5-4624-B30C-9F657BE51772-png_jpg.rf.6e60d944744468a2f03ab802ae3a10e4.jpg  \n",
            " extracting: /content/roboflow/train/images/-6254A622-2157-4AD7-BB2C-4A3F4E465B5A-png_jpg.rf.2584f3039cafb33c8f364b7edd0ffbec.jpg  \n",
            " extracting: /content/roboflow/train/images/-6254A622-2157-4AD7-BB2C-4A3F4E465B5A-png_jpg.rf.9feae64037c83d3ecbd75fb4ddbb5aca.jpg  \n",
            " extracting: /content/roboflow/train/images/-6254A622-2157-4AD7-BB2C-4A3F4E465B5A-png_jpg.rf.bd255007639ed347f699d11924bb7fdf.jpg  \n",
            " extracting: /content/roboflow/train/images/-62DA7C7D-C50D-40A7-87D1-DB8633F1F29D-png_jpg.rf.176a011effa3f056e57c01cc18abac68.jpg  \n",
            " extracting: /content/roboflow/train/images/-62DA7C7D-C50D-40A7-87D1-DB8633F1F29D-png_jpg.rf.2ecdc8145623b9bb566d93caa6e870ba.jpg  \n",
            " extracting: /content/roboflow/train/images/-62DA7C7D-C50D-40A7-87D1-DB8633F1F29D-png_jpg.rf.3d2f00497da02becbf6b6333303677c9.jpg  \n",
            " extracting: /content/roboflow/train/images/-62DA7C7D-C50D-40A7-87D1-DB8633F1F29D-png_jpg.rf.8280bb5123bdbd40ec187152bac42efa.jpg  \n",
            " extracting: /content/roboflow/train/images/-62DA7C7D-C50D-40A7-87D1-DB8633F1F29D-png_jpg.rf.880313dccc6f42e8df1b906cf5aa3532.jpg  \n",
            " extracting: /content/roboflow/train/images/-63A3759B-1595-4A66-BB62-1E7F580BA753-png_jpg.rf.1572acdf2a79c5765d1d804cfdfa4da2.jpg  \n",
            " extracting: /content/roboflow/train/images/-63A3759B-1595-4A66-BB62-1E7F580BA753-png_jpg.rf.47f72e03d664342ddc493f97b5c8bccd.jpg  \n",
            " extracting: /content/roboflow/train/images/-63A3759B-1595-4A66-BB62-1E7F580BA753-png_jpg.rf.ff90667c2b62ff5f2c0b862a6d58832c.jpg  \n",
            " extracting: /content/roboflow/train/images/-66F945A5-3856-4F91-9EDD-6EF4833F57FA-png_jpg.rf.758c93cfc8da508c07eb7635fb73c884.jpg  \n",
            " extracting: /content/roboflow/train/images/-6895811E-6E26-4DBD-A7ED-F7A529684BBA-png_jpg.rf.35f33c4cafc8ab1b5bb0ea93172ed1ee.jpg  \n",
            " extracting: /content/roboflow/train/images/-6895811E-6E26-4DBD-A7ED-F7A529684BBA-png_jpg.rf.6f0973c326bae6f41a74e148bd895df3.jpg  \n",
            " extracting: /content/roboflow/train/images/-6895811E-6E26-4DBD-A7ED-F7A529684BBA-png_jpg.rf.8e2b822b2a997092ce5f0e6931310e15.jpg  \n",
            " extracting: /content/roboflow/train/images/-6D8CF994-CDAD-4784-9A07-C91C6EEDA073-png_jpg.rf.1f0c1a5104a90548d907e4543808118c.jpg  \n",
            " extracting: /content/roboflow/train/images/-6D8CF994-CDAD-4784-9A07-C91C6EEDA073-png_jpg.rf.371b8eb05d76403e70bfd203cb1a748d.jpg  \n",
            " extracting: /content/roboflow/train/images/-6D8CF994-CDAD-4784-9A07-C91C6EEDA073-png_jpg.rf.9e819f5f62addf5621d4e315b3764b76.jpg  \n",
            " extracting: /content/roboflow/train/images/-6D8CF994-CDAD-4784-9A07-C91C6EEDA073-png_jpg.rf.b3d7d0ed9611be04c93509bbbbdbe78c.jpg  \n",
            " extracting: /content/roboflow/train/images/-6D8CF994-CDAD-4784-9A07-C91C6EEDA073-png_jpg.rf.ee54bab4e80a8e800ea186d8db32f0cc.jpg  \n",
            " extracting: /content/roboflow/train/images/-8561227C-3731-4CFC-9FE9-2715B581C159-png_jpg.rf.414fa70ce44484b8ac802741157fde6c.jpg  \n",
            " extracting: /content/roboflow/train/images/-8561227C-3731-4CFC-9FE9-2715B581C159-png_jpg.rf.9ae9098af7787619adb654f3a4ba145b.jpg  \n",
            " extracting: /content/roboflow/train/images/-B3FF9CBC-6C9F-4BDD-B814-790723E32E98-png_jpg.rf.2b505a9e6485350aefccde0f7246c663.jpg  \n",
            " extracting: /content/roboflow/train/images/-B41BBCCE-A512-4CBA-94C0-D236EC1DEBA1-png_jpg.rf.8ea69309323fe16d2de2dc8fc05b803e.jpg  \n",
            " extracting: /content/roboflow/train/images/-B41BBCCE-A512-4CBA-94C0-D236EC1DEBA1-png_jpg.rf.bc4f984c101076b8717cba2f9ee0a3e7.jpg  \n",
            " extracting: /content/roboflow/train/images/-B41BBCCE-A512-4CBA-94C0-D236EC1DEBA1-png_jpg.rf.cd9066e20ef058ae5748351dc738c155.jpg  \n",
            " extracting: /content/roboflow/train/images/-B4B37676-C20D-4C4F-BD6A-2A3A1EEF7AEF-png_jpg.rf.69fc1df8a9cbf61deb3fe992bd24c8e7.jpg  \n",
            " extracting: /content/roboflow/train/images/-B4B37676-C20D-4C4F-BD6A-2A3A1EEF7AEF-png_jpg.rf.d94fc0ff30073998e28f67235813d745.jpg  \n",
            " extracting: /content/roboflow/train/images/-B4C05A41-CD1A-4081-9609-EEFF67F464BE-png_jpg.rf.0a2b1ab7959a58f917a71c16ca2e568b.jpg  \n",
            " extracting: /content/roboflow/train/images/-B4C05A41-CD1A-4081-9609-EEFF67F464BE-png_jpg.rf.77a71e71ed2313b4511e42d197bfa4e0.jpg  \n",
            " extracting: /content/roboflow/train/images/-B4C05A41-CD1A-4081-9609-EEFF67F464BE-png_jpg.rf.bf9e6ca5f6388a760666c31c8a2591b9.jpg  \n",
            " extracting: /content/roboflow/train/images/-B545A484-7AEC-4211-AE64-92650557307F-png_jpg.rf.4ddee74adf1f6530a3fd5d67d0aabdaa.jpg  \n",
            " extracting: /content/roboflow/train/images/-B545A484-7AEC-4211-AE64-92650557307F-png_jpg.rf.a7c26a584f9771e235da4a367d0f0ed7.jpg  \n",
            " extracting: /content/roboflow/train/images/-B545A484-7AEC-4211-AE64-92650557307F-png_jpg.rf.d715e47ee313db20712b7dfd765583d9.jpg  \n",
            " extracting: /content/roboflow/train/images/-B545A484-7AEC-4211-AE64-92650557307F-png_jpg.rf.def61ab913ed3030fb5ec23b3907720b.jpg  \n",
            " extracting: /content/roboflow/train/images/-B545A484-7AEC-4211-AE64-92650557307F-png_jpg.rf.f367255c0b9b273d39ecfdadb777b847.jpg  \n",
            " extracting: /content/roboflow/train/images/-B59BC424-0AB7-4880-82A8-54AC24CC8C85-png_jpg.rf.5cd322527826b9a9a6783759a9a0edc8.jpg  \n",
            " extracting: /content/roboflow/train/images/-B59BC424-0AB7-4880-82A8-54AC24CC8C85-png_jpg.rf.90ba7a6b4d65de47389f5eda9a824102.jpg  \n",
            " extracting: /content/roboflow/train/images/-B59BC424-0AB7-4880-82A8-54AC24CC8C85-png_jpg.rf.d74217d0cf0c0efeb10cedc1dbeafefb.jpg  \n",
            " extracting: /content/roboflow/train/images/-B6D061C7-37D5-4849-8F5F-2F1BEBFAE4D2-png_jpg.rf.01892147725b9f0dd8b37fff8fb3a150.jpg  \n",
            " extracting: /content/roboflow/train/images/-B6D061C7-37D5-4849-8F5F-2F1BEBFAE4D2-png_jpg.rf.3f8958e91dce21e906bb3b3f6a1772f2.jpg  \n",
            " extracting: /content/roboflow/train/images/-B7C16E32-9846-40EF-8C8E-B26051E149DF-png_jpg.rf.143fc2ff844ffcffe440c6ac9b8f3e8a.jpg  \n",
            " extracting: /content/roboflow/train/images/-B7C16E32-9846-40EF-8C8E-B26051E149DF-png_jpg.rf.444be3ebff7c0f3af2b28e7fee799fa1.jpg  \n",
            " extracting: /content/roboflow/train/images/-B8116B0D-7D32-4C4A-9F5D-D72766C72DB5-png_jpg.rf.5e99dded84c7c17c5f85fc536ee755ef.jpg  \n",
            " extracting: /content/roboflow/train/images/-B8116B0D-7D32-4C4A-9F5D-D72766C72DB5-png_jpg.rf.800fbc3d95ea135abc96306d4bb32616.jpg  \n",
            " extracting: /content/roboflow/train/images/-B83337D2-1F91-4346-B7A4-222F8A45CBF0-png_jpg.rf.097fec857d13e551e27d303c7f794221.jpg  \n",
            " extracting: /content/roboflow/train/images/-B83337D2-1F91-4346-B7A4-222F8A45CBF0-png_jpg.rf.d637bf2ebe48508237fd1d472cb4e5ae.jpg  \n",
            " extracting: /content/roboflow/train/images/-B8DB5A5A-AB24-4C45-BC0F-6F213320FE7B-png_jpg.rf.cc99f8cf0900582f194ad537d5c8d408.jpg  \n",
            " extracting: /content/roboflow/train/images/-B9AA9C0E-404F-4AB4-B015-183269CB4261-png_jpg.rf.4af4e65f68ab61a1737bbf7128bf5b24.jpg  \n",
            " extracting: /content/roboflow/train/images/-B9AA9C0E-404F-4AB4-B015-183269CB4261-png_jpg.rf.743f7651e7d1bf9d2343df8907d4bd3a.jpg  \n",
            " extracting: /content/roboflow/train/images/-B9AA9C0E-404F-4AB4-B015-183269CB4261-png_jpg.rf.972a41e58d05ac18c52c07b6be1e9ebd.jpg  \n",
            " extracting: /content/roboflow/train/images/-B9AA9C0E-404F-4AB4-B015-183269CB4261-png_jpg.rf.c00713cf35102e3bffff728fdeaedd86.jpg  \n",
            " extracting: /content/roboflow/train/images/-BAAC60D7-E665-4186-BAA3-B3E20F8D397C-png_jpg.rf.1d79d8a0cdb510193159cc593c6c31c2.jpg  \n",
            " extracting: /content/roboflow/train/images/-BAAC60D7-E665-4186-BAA3-B3E20F8D397C-png_jpg.rf.a92a2fdda1e2f57f0141eb858c941e85.jpg  \n",
            " extracting: /content/roboflow/train/images/-BABD5091-6597-40E1-82D1-29A0F4DCD9E0-png_jpg.rf.4067813e478b45a894222b002779c736.jpg  \n",
            " extracting: /content/roboflow/train/images/-BABD5091-6597-40E1-82D1-29A0F4DCD9E0-png_jpg.rf.80cd8bf494d14cbe18fa412938ea28aa.jpg  \n",
            " extracting: /content/roboflow/train/images/-BABD5091-6597-40E1-82D1-29A0F4DCD9E0-png_jpg.rf.95ce716d11403beb96f69874d8ee2723.jpg  \n",
            " extracting: /content/roboflow/train/images/-BAE1D45C-2B9A-4C23-AB1D-BD0C25964678-png_jpg.rf.6901ba9e499d2de6667fe7305b749f74.jpg  \n",
            " extracting: /content/roboflow/train/images/-BAEF245D-475F-4C90-807D-558E1FFFBF2A-png_jpg.rf.2ea0e2947d00ee228300bf1881e99667.jpg  \n",
            " extracting: /content/roboflow/train/images/-BBC6D213-1075-48CE-B772-FDD44F34A3E7-png_jpg.rf.5ae3fecd8f133ab79a6a9cf0f31940ed.jpg  \n",
            " extracting: /content/roboflow/train/images/-BBC6D213-1075-48CE-B772-FDD44F34A3E7-png_jpg.rf.a56ae965bed605b75841f48eac6f3ded.jpg  \n",
            " extracting: /content/roboflow/train/images/-BBD3A9D1-8F01-497D-BBD8-C864EF1F4689-png_jpg.rf.155b5d223f0a17365c7fb79f0c15ed1e.jpg  \n",
            " extracting: /content/roboflow/train/images/-BCD3FEC3-6941-430A-A64B-5E445E741343-png_jpg.rf.6c3401033c83ce806d20a6203cb405a7.jpg  \n",
            " extracting: /content/roboflow/train/images/-BD23F506-8DE9-4C71-B79A-585BF30E68A5-png_jpg.rf.6e4d815775b8cc857b763306dc421a64.jpg  \n",
            " extracting: /content/roboflow/train/images/-BD23F506-8DE9-4C71-B79A-585BF30E68A5-png_jpg.rf.dcd439c2f03df8d977281b8963951349.jpg  \n",
            " extracting: /content/roboflow/train/images/-BD23F506-8DE9-4C71-B79A-585BF30E68A5-png_jpg.rf.e8a916add8a95780175c54c5a290b7ba.jpg  \n",
            " extracting: /content/roboflow/train/images/-BD499523-8602-4C68-8E63-FCE23A82AA16-png_jpg.rf.0f18485c9dc30dbfa0caedadd2c0b3e0.jpg  \n",
            " extracting: /content/roboflow/train/images/-BD499523-8602-4C68-8E63-FCE23A82AA16-png_jpg.rf.1a45a36b99c20368fcbbf1bf95ca122b.jpg  \n",
            " extracting: /content/roboflow/train/images/-BD499523-8602-4C68-8E63-FCE23A82AA16-png_jpg.rf.3ea957516d522e9889f86ee9474fd7d6.jpg  \n",
            " extracting: /content/roboflow/train/images/-BD499523-8602-4C68-8E63-FCE23A82AA16-png_jpg.rf.7db411b1db858b8a64cc501b0d40b9f2.jpg  \n",
            " extracting: /content/roboflow/train/images/-BE1B7E1A-3BF4-44E6-A49D-E46AC48D77B0-png_jpg.rf.23a5e57577e684c76af861a64293e1c0.jpg  \n",
            " extracting: /content/roboflow/train/images/-BE1B7E1A-3BF4-44E6-A49D-E46AC48D77B0-png_jpg.rf.713a01a5f7cbd718bb62a4f255a1115e.jpg  \n",
            " extracting: /content/roboflow/train/images/-BE1B7E1A-3BF4-44E6-A49D-E46AC48D77B0-png_jpg.rf.ec6d050673c7927d4b6447d55f42fc3d.jpg  \n",
            " extracting: /content/roboflow/train/images/-BE412F80-6FDD-4522-8C6B-D26DA55927F5-png_jpg.rf.94f99f81688c6d7dc47d85cc7432837b.jpg  \n",
            " extracting: /content/roboflow/train/images/-BE412F80-6FDD-4522-8C6B-D26DA55927F5-png_jpg.rf.ee07adbe8d981be4a41496d499fcb643.jpg  \n",
            " extracting: /content/roboflow/train/images/-BEACF130-F07D-4352-87CF-2BBC32A8C5AC-png_jpg.rf.c6ac850564a35b30a16978b3d6632d78.jpg  \n",
            " extracting: /content/roboflow/train/images/-BF27E7F2-0C42-45C0-A751-91723B77D799-png_jpg.rf.01d3deeed03cf258e1da0c052da6a4b6.jpg  \n",
            " extracting: /content/roboflow/train/images/-BF27E7F2-0C42-45C0-A751-91723B77D799-png_jpg.rf.3a20e9ca1b316560480aa57d8dae996f.jpg  \n",
            " extracting: /content/roboflow/train/images/-BF27E7F2-0C42-45C0-A751-91723B77D799-png_jpg.rf.67cd96f2a37df0c24268a13068791f80.jpg  \n",
            " extracting: /content/roboflow/train/images/-BF27E7F2-0C42-45C0-A751-91723B77D799-png_jpg.rf.9df9ffb3852cf8da433fbd99a4836ee7.jpg  \n",
            " extracting: /content/roboflow/train/images/-C006FC45-64AF-4FA9-B836-17F1DE49F186-png_jpg.rf.c7f9660056a4d4c88421697ac5d49b9c.jpg  \n",
            " extracting: /content/roboflow/train/images/-C04C7AD3-AEAC-4250-9856-9D1606800D44-png_jpg.rf.7253e85a4024a26d535cbfc727d1d607.jpg  \n",
            " extracting: /content/roboflow/train/images/-C04C7AD3-AEAC-4250-9856-9D1606800D44-png_jpg.rf.da542db1e5e05e94e908d30d4524140b.jpg  \n",
            " extracting: /content/roboflow/train/images/-C0A680DB-DB9F-47C7-BE3B-74E6A294E203-png_jpg.rf.357de203d2ce40c47a12a8ea1a11f861.jpg  \n",
            " extracting: /content/roboflow/train/images/-C0A680DB-DB9F-47C7-BE3B-74E6A294E203-png_jpg.rf.77104ea950ab3ebcc252acdd3454c24f.jpg  \n",
            " extracting: /content/roboflow/train/images/-C0A680DB-DB9F-47C7-BE3B-74E6A294E203-png_jpg.rf.c246d6baa55c794640988a6851710424.jpg  \n",
            " extracting: /content/roboflow/train/images/-C182A49E-641F-4C62-A54F-86397CBD2780-png_jpg.rf.0c2cfdfa50e493a68c362b357c01a772.jpg  \n",
            " extracting: /content/roboflow/train/images/-C182A49E-641F-4C62-A54F-86397CBD2780-png_jpg.rf.3a4045dbef361352c5146668adf29f91.jpg  \n",
            " extracting: /content/roboflow/train/images/-C182A49E-641F-4C62-A54F-86397CBD2780-png_jpg.rf.3cddb69cd28a9fd8babf31e208c03e36.jpg  \n",
            " extracting: /content/roboflow/train/images/-C182A49E-641F-4C62-A54F-86397CBD2780-png_jpg.rf.6f9cb77b6f8edea81d8ab1f87914dd82.jpg  \n",
            " extracting: /content/roboflow/train/images/-C182A49E-641F-4C62-A54F-86397CBD2780-png_jpg.rf.97fadbee4a9f2e8e06b813fbd3b44488.jpg  \n",
            " extracting: /content/roboflow/train/images/-C182A49E-641F-4C62-A54F-86397CBD2780-png_jpg.rf.be6d753cb9293c52ce2386df0bcc885e.jpg  \n",
            " extracting: /content/roboflow/train/images/-C2D8DECE-2C51-4217-9B45-88F76CBC1D6C-png_jpg.rf.49688f19da898e0a1a1eb8f88bbb3d00.jpg  \n",
            " extracting: /content/roboflow/train/images/-C2D8DECE-2C51-4217-9B45-88F76CBC1D6C-png_jpg.rf.c132a755433ecaff7796e1420977d5e8.jpg  \n",
            " extracting: /content/roboflow/train/images/-C2DEBBE3-7D35-4B32-8AC1-D9271147FDB7-png_jpg.rf.e66966b0d1046f99189f175fcc442dc6.jpg  \n",
            " extracting: /content/roboflow/train/images/-C3D83141-091E-44E3-B5AF-321A93A32FD2-png_jpg.rf.29ed987d3485b5386277f43f007d57e6.jpg  \n",
            " extracting: /content/roboflow/train/images/-C4FB6EE5-2134-4252-A3E7-FCE53E7F5D62-png_jpg.rf.5ae390f28b530282c7f0d28f6138b8b3.jpg  \n",
            " extracting: /content/roboflow/train/images/-C68F6C52-A1C7-4769-BF21-99923AA98C04-png_jpg.rf.17f638918c009e8a46dd48945b71a3af.jpg  \n",
            " extracting: /content/roboflow/train/images/-C68F6C52-A1C7-4769-BF21-99923AA98C04-png_jpg.rf.a42b5bcca8a30db9843afef6f67378aa.jpg  \n",
            " extracting: /content/roboflow/train/images/-C6E3BB9A-DF12-4C1E-B325-8480F9DDDF74-png_jpg.rf.351e1895526197d9440db4126b153f74.jpg  \n",
            " extracting: /content/roboflow/train/images/-C6E3BB9A-DF12-4C1E-B325-8480F9DDDF74-png_jpg.rf.49e262608b25ed773ac0d5d43e772c91.jpg  \n",
            " extracting: /content/roboflow/train/images/-C6E3BB9A-DF12-4C1E-B325-8480F9DDDF74-png_jpg.rf.b258fe381e6c063415a314eb3f5c3739.jpg  \n",
            " extracting: /content/roboflow/train/images/-C8A077AE-C474-4AAB-A0E4-24F4F9266447-png_jpg.rf.99e597a56f0d814d096066213a7d0507.jpg  \n",
            " extracting: /content/roboflow/train/images/-C8A077AE-C474-4AAB-A0E4-24F4F9266447-png_jpg.rf.ae394ed2e55c86946a12bed94cbe6423.jpg  \n",
            " extracting: /content/roboflow/train/images/-C8A077AE-C474-4AAB-A0E4-24F4F9266447-png_jpg.rf.b0fecf23aca544d5b4e61b5d04f71225.jpg  \n",
            " extracting: /content/roboflow/train/images/-C8A077AE-C474-4AAB-A0E4-24F4F9266447-png_jpg.rf.c34c23d11168008fe10feb0e18b8e1da.jpg  \n",
            " extracting: /content/roboflow/train/images/-C8A077AE-C474-4AAB-A0E4-24F4F9266447-png_jpg.rf.d9f1f779a2c8eae9e49e51134f012b83.jpg  \n",
            " extracting: /content/roboflow/train/images/-C8A077AE-C474-4AAB-A0E4-24F4F9266447-png_jpg.rf.e76de6f3a84a7dd212de2760be9e3ab2.jpg  \n",
            " extracting: /content/roboflow/train/images/-C94776E1-EF34-4408-A9D3-69BE388FC761-png_jpg.rf.bd68e14c796dd6da217c8edae3d9b696.jpg  \n",
            " extracting: /content/roboflow/train/images/-C96EB60C-375E-476D-8D20-3643A20C26B5-png_jpg.rf.b3c0b8fcb331817dec2e357ad2668f6e.jpg  \n",
            " extracting: /content/roboflow/train/images/-CA63295D-EEBE-42A2-943B-25B1D28D5745-png_jpg.rf.4b1a3d0214bf5d126ca429bd50676719.jpg  \n",
            " extracting: /content/roboflow/train/images/-CA63295D-EEBE-42A2-943B-25B1D28D5745-png_jpg.rf.e0d7ed2b94439c182d556f6044dbc5ca.jpg  \n",
            " extracting: /content/roboflow/train/images/-CB279B0A-743F-4855-AE98-C9A9D0E40A22-png_jpg.rf.5432da281c3dea833c1b95a0f6b22d18.jpg  \n",
            " extracting: /content/roboflow/train/images/-CB279B0A-743F-4855-AE98-C9A9D0E40A22-png_jpg.rf.9a8c2f0d5d7a8ffbd53bde1cdd8d1fb3.jpg  \n",
            " extracting: /content/roboflow/train/images/-CCEF01A1-0F47-495F-A37B-F77800A03B07-png_jpg.rf.1b9c4514fe14decf92c89be3f29cf418.jpg  \n",
            " extracting: /content/roboflow/train/images/-CCEF01A1-0F47-495F-A37B-F77800A03B07-png_jpg.rf.3f26e77349877835f1582877df546808.jpg  \n",
            " extracting: /content/roboflow/train/images/-CCFB44DE-C25D-4C37-981B-6DBCB4F963AB-png_jpg.rf.28a156ec5eb67d24c6ae204d9a6ee477.jpg  \n",
            " extracting: /content/roboflow/train/images/-CCFB44DE-C25D-4C37-981B-6DBCB4F963AB-png_jpg.rf.5f239b9be3cd2a4923df44f5fbcdc358.jpg  \n",
            " extracting: /content/roboflow/train/images/-CF18C7DF-3DC1-4F14-A3B1-8521CEE36C3E-png_jpg.rf.68d4b777508c3c3b0ab0b2440f2ac55a.jpg  \n",
            " extracting: /content/roboflow/train/images/-CF18C7DF-3DC1-4F14-A3B1-8521CEE36C3E-png_jpg.rf.93805e58d76d084a983fc1dc8eb7ab18.jpg  \n",
            " extracting: /content/roboflow/train/images/-CF18C7DF-3DC1-4F14-A3B1-8521CEE36C3E-png_jpg.rf.bbcbbaf8842fc742149641faa83178e4.jpg  \n",
            " extracting: /content/roboflow/train/images/-CF2B7A09-EC0C-4B1D-BDA5-7FD52B39F0F8-png_jpg.rf.f70c5120aebea229bbbfd4156facc3fe.jpg  \n",
            " extracting: /content/roboflow/train/images/-CF43F395-72F5-4264-B3F8-6B49D71F17FA-png_jpg.rf.0cbeb329b2e9ca7c744e2f8144063f45.jpg  \n",
            " extracting: /content/roboflow/train/images/-CF43F395-72F5-4264-B3F8-6B49D71F17FA-png_jpg.rf.12c97fd509278dcc60b6e7995cc8d068.jpg  \n",
            " extracting: /content/roboflow/train/images/-CF43F395-72F5-4264-B3F8-6B49D71F17FA-png_jpg.rf.82ce8d7c41153dc341f9072f00fd2941.jpg  \n",
            " extracting: /content/roboflow/train/images/-CF43F395-72F5-4264-B3F8-6B49D71F17FA-png_jpg.rf.9ae43289849cb817581b723168c20d19.jpg  \n",
            " extracting: /content/roboflow/train/images/-CF43F395-72F5-4264-B3F8-6B49D71F17FA-png_jpg.rf.b21133aa71c8da94461c5dc0bce65d89.jpg  \n",
            " extracting: /content/roboflow/train/images/-CFB928D0-84D7-4021-B542-4F3E73E475AE-png_jpg.rf.18fd6b9236fa6ef7c5a20c3752f60c58.jpg  \n",
            " extracting: /content/roboflow/train/images/-CFB928D0-84D7-4021-B542-4F3E73E475AE-png_jpg.rf.857311af124b9bd179972d59958a0540.jpg  \n",
            " extracting: /content/roboflow/train/images/-CFB928D0-84D7-4021-B542-4F3E73E475AE-png_jpg.rf.94083ab8d1377f0ef56f47828693133f.jpg  \n",
            " extracting: /content/roboflow/train/images/-CFB928D0-84D7-4021-B542-4F3E73E475AE-png_jpg.rf.a2b4756d881be9c50fbb4182c1d89d87.jpg  \n",
            " extracting: /content/roboflow/train/images/-CFB928D0-84D7-4021-B542-4F3E73E475AE-png_jpg.rf.cdcaa83f6f6f7755f09a21afba8b7d70.jpg  \n",
            " extracting: /content/roboflow/train/images/-CFB928D0-84D7-4021-B542-4F3E73E475AE-png_jpg.rf.ee5738df56eb228632a56375e35b1401.jpg  \n",
            " extracting: /content/roboflow/train/images/-D033F88A-8CE6-40D3-9005-E2697DC83F11-png_jpg.rf.056910492941d8957389fe50432346c8.jpg  \n",
            " extracting: /content/roboflow/train/images/-D033F88A-8CE6-40D3-9005-E2697DC83F11-png_jpg.rf.3da9ec4b863f8aa4d14ddc3ce3f74abd.jpg  \n",
            " extracting: /content/roboflow/train/images/-D033F88A-8CE6-40D3-9005-E2697DC83F11-png_jpg.rf.a6c7da8ffab42bbe94ff7326ba27605f.jpg  \n",
            " extracting: /content/roboflow/train/images/-D2C63838-6966-45B0-99FF-C22521BF9149-png_jpg.rf.1767ba0e9815542f1b01f0b1ba560d15.jpg  \n",
            " extracting: /content/roboflow/train/images/-D2C63838-6966-45B0-99FF-C22521BF9149-png_jpg.rf.68f2491a7d1c74d5ffbd51c2f9867edd.jpg  \n",
            " extracting: /content/roboflow/train/images/-D2C63838-6966-45B0-99FF-C22521BF9149-png_jpg.rf.8e8b1ff5fbe5c8735f154d9d0d6a8751.jpg  \n",
            " extracting: /content/roboflow/train/images/-D2C63838-6966-45B0-99FF-C22521BF9149-png_jpg.rf.b9c536f9e126e5fd8e8db057b333687c.jpg  \n",
            " extracting: /content/roboflow/train/images/-D328ABF6-BE7D-4800-92FD-89B13D699867-png_jpg.rf.71f5879808b56f398add28278840db9d.jpg  \n",
            " extracting: /content/roboflow/train/images/-D328ABF6-BE7D-4800-92FD-89B13D699867-png_jpg.rf.e49ac0c8260b95af15ca6bf076e22190.jpg  \n",
            " extracting: /content/roboflow/train/images/-D328ABF6-BE7D-4800-92FD-89B13D699867-png_jpg.rf.e9bc54401ee8d930fc5264b03dd096a1.jpg  \n",
            " extracting: /content/roboflow/train/images/-D3D7864A-309B-4CE0-B18F-3CAC8DFD86D4-png_jpg.rf.26b4c2009c6d7eddb3c7e6ebe6ef6c7e.jpg  \n",
            " extracting: /content/roboflow/train/images/-D3D7864A-309B-4CE0-B18F-3CAC8DFD86D4-png_jpg.rf.5860587903e1a5981c958a704c3ab8f8.jpg  \n",
            " extracting: /content/roboflow/train/images/-D3D7864A-309B-4CE0-B18F-3CAC8DFD86D4-png_jpg.rf.61ac27d72a2e3f1c50644c88b6542671.jpg  \n",
            " extracting: /content/roboflow/train/images/-D3ED54BD-094A-471D-A8A9-C1A7B3262064-png_jpg.rf.150f688a727c57a25844ed611d8dfbc8.jpg  \n",
            " extracting: /content/roboflow/train/images/-D3ED54BD-094A-471D-A8A9-C1A7B3262064-png_jpg.rf.231c7f0c0f7c5ed7ab304a70db615094.jpg  \n",
            " extracting: /content/roboflow/train/images/-D85575CA-53D0-451F-AAD8-3F9BE76F9E52-png_jpg.rf.c85678554b05c36f1e0f2eba1abff3a0.jpg  \n",
            " extracting: /content/roboflow/train/images/-D92BD235-F2FB-41AB-AA48-E1BDDB51D6E4-png_jpg.rf.7573d661453c92969304998f1f19e685.jpg  \n",
            " extracting: /content/roboflow/train/images/-D92BD235-F2FB-41AB-AA48-E1BDDB51D6E4-png_jpg.rf.7ba7784b961f61dc7dd5cc56cc1aae52.jpg  \n",
            " extracting: /content/roboflow/train/images/-D92BD235-F2FB-41AB-AA48-E1BDDB51D6E4-png_jpg.rf.d5a9747dea0e2b4e3da5970fe665b5f6.jpg  \n",
            " extracting: /content/roboflow/train/images/-D92BD235-F2FB-41AB-AA48-E1BDDB51D6E4-png_jpg.rf.ea13b2227f80206e6f8b1b1f3c12fc84.jpg  \n",
            " extracting: /content/roboflow/train/images/-D994F2C9-B00C-45AB-B918-A4F8AB66DE71-png_jpg.rf.a34349ae1cb14ae1a82e2b448002eb91.jpg  \n",
            " extracting: /content/roboflow/train/images/-DA921E8A-7BF2-44DE-AD8F-0C17D388AABD-png_jpg.rf.7115845d3639a9482fd9ccca21db5455.jpg  \n",
            " extracting: /content/roboflow/train/images/-DA921E8A-7BF2-44DE-AD8F-0C17D388AABD-png_jpg.rf.90ac54a4555af799846e5593789afefe.jpg  \n",
            " extracting: /content/roboflow/train/images/-DC6190CE-238A-4C11-A283-27ADC0D9C646-png_jpg.rf.a0a623470e7347eff9a92b4ac9a9bab3.jpg  \n",
            " extracting: /content/roboflow/train/images/-DC6190CE-238A-4C11-A283-27ADC0D9C646-png_jpg.rf.b879beb7ddae7ea75963cfde3339890f.jpg  \n",
            " extracting: /content/roboflow/train/images/-DCC10965-2F71-42B2-8751-833FAFC81B07-png_jpg.rf.390f84b73564e69ced80759cd4443745.jpg  \n",
            " extracting: /content/roboflow/train/images/-DCC10965-2F71-42B2-8751-833FAFC81B07-png_jpg.rf.5551dbaa5f1473c0f843889afc8163ac.jpg  \n",
            " extracting: /content/roboflow/train/images/-DCC10965-2F71-42B2-8751-833FAFC81B07-png_jpg.rf.775856bfd10164bfa37563cb75b8f7a4.jpg  \n",
            " extracting: /content/roboflow/train/images/-DCC10965-2F71-42B2-8751-833FAFC81B07-png_jpg.rf.7b34de592c5f88ffa2829848c6947ab2.jpg  \n",
            " extracting: /content/roboflow/train/images/-DCC10965-2F71-42B2-8751-833FAFC81B07-png_jpg.rf.911aa14c7ab29f9339dcfa4865aa7822.jpg  \n",
            " extracting: /content/roboflow/train/images/-DCC10965-2F71-42B2-8751-833FAFC81B07-png_jpg.rf.a0859586f13dc4472e327b4d78e903ad.jpg  \n",
            " extracting: /content/roboflow/train/images/-DD01F5C8-2930-4A6A-A022-E44F4091A9D7-png_jpg.rf.8e47e9bab9cec21ff1be2e3b2c98d9c7.jpg  \n",
            " extracting: /content/roboflow/train/images/-DD356F9E-7CE3-47E6-AE8E-811CCE8A92CA-png_jpg.rf.52cb59bd027b50002de8b6672177f409.jpg  \n",
            " extracting: /content/roboflow/train/images/-DD356F9E-7CE3-47E6-AE8E-811CCE8A92CA-png_jpg.rf.62d298b97f737685114a7c1b133addfd.jpg  \n",
            " extracting: /content/roboflow/train/images/-DD356F9E-7CE3-47E6-AE8E-811CCE8A92CA-png_jpg.rf.95bfcc97273049fc753076a401f1a942.jpg  \n",
            " extracting: /content/roboflow/train/images/-DD356F9E-7CE3-47E6-AE8E-811CCE8A92CA-png_jpg.rf.a027070959705710f1a59b0060c642ec.jpg  \n",
            " extracting: /content/roboflow/train/images/-DE1082FD-0948-4DF8-ABB3-902022027FE2-png_jpg.rf.8378a97ee9bb55bdde9ee3521e0b9cfb.jpg  \n",
            " extracting: /content/roboflow/train/images/-DE24E442-B2F4-43B7-8741-6AA037A20D4E-png_jpg.rf.04d5fa11fdb82221218b3a4fef3d4222.jpg  \n",
            " extracting: /content/roboflow/train/images/-DE24E442-B2F4-43B7-8741-6AA037A20D4E-png_jpg.rf.e4579de8f1a9102755f023981f013219.jpg  \n",
            " extracting: /content/roboflow/train/images/-DE24E442-B2F4-43B7-8741-6AA037A20D4E-png_jpg.rf.ff1331b4f3013ddcc361a02cab2ea6ed.jpg  \n",
            " extracting: /content/roboflow/train/images/-DF6ABE64-1B3B-4148-A35F-D957221C40B7-png_jpg.rf.0fa68f168bcf1fdbd0232efc04716177.jpg  \n",
            " extracting: /content/roboflow/train/images/-DF6ABE64-1B3B-4148-A35F-D957221C40B7-png_jpg.rf.9fa88ff60e5facb2a1db30adcbf8cd41.jpg  \n",
            " extracting: /content/roboflow/train/images/-E0F2527D-3B61-4274-8655-B807876330E9-png_jpg.rf.02753b869d26663876234e8e24871398.jpg  \n",
            " extracting: /content/roboflow/train/images/-E1655382-7FF5-4725-9C33-D894A3A0881E-png_jpg.rf.588520adacbd90753e4fdc567da73913.jpg  \n",
            " extracting: /content/roboflow/train/images/-E1655382-7FF5-4725-9C33-D894A3A0881E-png_jpg.rf.5bbc30c5c8df8ed94edb5f4c22efb341.jpg  \n",
            " extracting: /content/roboflow/train/images/-E169C681-EEF4-4F14-8884-D6C35F9A4005-png_jpg.rf.a6e0194fd68924ef4e303aae8b246aa9.jpg  \n",
            " extracting: /content/roboflow/train/images/-E169C681-EEF4-4F14-8884-D6C35F9A4005-png_jpg.rf.aee4be73d758869e274eac7c01f6c4e3.jpg  \n",
            " extracting: /content/roboflow/train/images/-E39DE576-0BDF-4674-9CCE-4780BD8A5744-png_jpg.rf.5763108a8dd3d7af696c55f096102271.jpg  \n",
            " extracting: /content/roboflow/train/images/-E39DE576-0BDF-4674-9CCE-4780BD8A5744-png_jpg.rf.8faa088090222df19dc75328af157e20.jpg  \n",
            " extracting: /content/roboflow/train/images/-E39DE576-0BDF-4674-9CCE-4780BD8A5744-png_jpg.rf.bc589be7085b215e26182985dde552b2.jpg  \n",
            " extracting: /content/roboflow/train/images/-E39DE576-0BDF-4674-9CCE-4780BD8A5744-png_jpg.rf.ed3b2d11bfc798523f7bacbbbf250ecc.jpg  \n",
            " extracting: /content/roboflow/train/images/-E3D97881-36CB-441A-ADCA-6CB990F646FE-png_jpg.rf.ef7a7946008d837fd578db58391b088a.jpg  \n",
            " extracting: /content/roboflow/train/images/-E3F89870-043A-4C41-8471-2FF269A778C3-png_jpg.rf.4674b42474ee5dcc46414d503b0ddecc.jpg  \n",
            " extracting: /content/roboflow/train/images/-E3F89870-043A-4C41-8471-2FF269A778C3-png_jpg.rf.d16ae8a7fd899acff3ff9d66386b4f84.jpg  \n",
            " extracting: /content/roboflow/train/images/-E3F89870-043A-4C41-8471-2FF269A778C3-png_jpg.rf.e3b4c3d439b038785b93492c8f26d27a.jpg  \n",
            " extracting: /content/roboflow/train/images/-E4E37ACE-EAB9-4F03-8279-813B05F79336-png_jpg.rf.87cec5213eac3c27e619e5c1ea249e1b.jpg  \n",
            " extracting: /content/roboflow/train/images/-F6C8BDBB-4AF8-454C-9460-BB89186D193C-png_jpg.rf.086fd208466032cf66a820973f0cc12f.jpg  \n",
            " extracting: /content/roboflow/train/images/-F6C8BDBB-4AF8-454C-9460-BB89186D193C-png_jpg.rf.2aabfd1a3ea35cc3484e0f19643f0bb2.jpg  \n",
            " extracting: /content/roboflow/train/images/-F6C8BDBB-4AF8-454C-9460-BB89186D193C-png_jpg.rf.3dbc77a3f5149310d32a87bdf93449bd.jpg  \n",
            " extracting: /content/roboflow/train/images/-F6C8BDBB-4AF8-454C-9460-BB89186D193C-png_jpg.rf.4c552ac07f83deb5b0d986ccd8158ade.jpg  \n",
            " extracting: /content/roboflow/train/images/-F6C8BDBB-4AF8-454C-9460-BB89186D193C-png_jpg.rf.5e5e0db8e974c1a2e245baff0255aabf.jpg  \n",
            " extracting: /content/roboflow/train/images/-F6C8BDBB-4AF8-454C-9460-BB89186D193C-png_jpg.rf.bd5fbd06c68d735e6fb5aa331cf1c527.jpg  \n",
            " extracting: /content/roboflow/train/images/-FFB52469-E780-47C4-887D-EEAD0226DDE5-png_jpg.rf.1a5b7b0baa6b26ba854885eed465e7cc.jpg  \n",
            " extracting: /content/roboflow/train/images/-FFB52469-E780-47C4-887D-EEAD0226DDE5-png_jpg.rf.3cc1603ea608b2bf9989cf862a2bee9f.jpg  \n",
            " extracting: /content/roboflow/train/images/-FFB52469-E780-47C4-887D-EEAD0226DDE5-png_jpg.rf.64810cbf22951d962cf5052dce4af2d4.jpg  \n",
            " extracting: /content/roboflow/train/images/-FFB52469-E780-47C4-887D-EEAD0226DDE5-png_jpg.rf.988231f14f2434fc61853a4d3942aa4e.jpg  \n",
            " extracting: /content/roboflow/train/images/-FFB52469-E780-47C4-887D-EEAD0226DDE5-png_jpg.rf.a8f36be15d29c212c8222b72d4260978.jpg  \n",
            " extracting: /content/roboflow/train/images/-FFB52469-E780-47C4-887D-EEAD0226DDE5-png_jpg.rf.ee5a2685dca04f4dfa680434d332ce71.jpg  \n",
            " extracting: /content/roboflow/train/images/-FFB52469-E780-47C4-887D-EEAD0226DDE5-png_jpg.rf.f2332ed271439b39951646bb5357d41e.jpg  \n",
            " extracting: /content/roboflow/train/images/-FFB52469-E780-47C4-887D-EEAD0226DDE5-png_jpg.rf.f569ef52c39e12c49cc34c52e6027d08.jpg  \n",
            " extracting: /content/roboflow/train/images/11_jpeg_jpg.rf.4138d891becf55c1c75987dfed069903.jpg  \n",
            " extracting: /content/roboflow/train/images/11_jpeg_jpg.rf.7faf6cda712ace529289ca205681176d.jpg  \n",
            " extracting: /content/roboflow/train/images/11_jpeg_jpg.rf.88e2f086d024f41c442a56618150a315.jpg  \n",
            " extracting: /content/roboflow/train/images/11_jpeg_jpg.rf.a2209d4408f993a2012485f24550715c.jpg  \n",
            " extracting: /content/roboflow/train/images/11_jpeg_jpg.rf.d55606bcda50a42702b0c84412325af2.jpg  \n",
            " extracting: /content/roboflow/train/images/11_jpeg_jpg.rf.e2264bd366cec7b5886fd97fe32af223.jpg  \n",
            " extracting: /content/roboflow/train/images/11_jpeg_jpg.rf.eb8ce5c61b18b14e484856d36ca137a3.jpg  \n",
            " extracting: /content/roboflow/train/images/11_jpeg_jpg.rf.fea0e143b83c9fd7d8ff33999fe5f411.jpg  \n",
            " extracting: /content/roboflow/train/images/12_jpeg_jpg.rf.12eed8de8139a15f8283c7cf9ae8e1d2.jpg  \n",
            " extracting: /content/roboflow/train/images/12_jpeg_jpg.rf.9cc9ddbdd03b4176405eebf0966fdbf5.jpg  \n",
            " extracting: /content/roboflow/train/images/12_jpeg_jpg.rf.d4d1f055d3c89a55e9000ec277acf7f5.jpg  \n",
            " extracting: /content/roboflow/train/images/12_jpeg_jpg.rf.f281999bd9e345ca31413eda7f1ce901.jpg  \n",
            " extracting: /content/roboflow/train/images/14_jpeg_jpg.rf.23ec640b415259078f50e8641789ef41.jpg  \n",
            " extracting: /content/roboflow/train/images/14_jpeg_jpg.rf.8322c3a3a6868d258a0c33559c96a7bd.jpg  \n",
            " extracting: /content/roboflow/train/images/15_jpeg_jpg.rf.1f8eec1930c0618f1a83ac07b4f7b86f.jpg  \n",
            " extracting: /content/roboflow/train/images/15_jpeg_jpg.rf.5a650bd011852c547eef4d9e244fcc3f.jpg  \n",
            " extracting: /content/roboflow/train/images/15_jpeg_jpg.rf.64205610ed4d2bf0d461d7a671dddcbb.jpg  \n",
            " extracting: /content/roboflow/train/images/15_jpeg_jpg.rf.8898d478954d0a65acb74c438e4ec4f1.jpg  \n",
            " extracting: /content/roboflow/train/images/15_jpeg_jpg.rf.93446af2a7c79116202ada3c675905af.jpg  \n",
            " extracting: /content/roboflow/train/images/15_jpeg_jpg.rf.93edbb209d1c4bef07340a548d72c5b9.jpg  \n",
            " extracting: /content/roboflow/train/images/15_jpeg_jpg.rf.e2678507c2fa82610e638d6092dfbb4a.jpg  \n",
            " extracting: /content/roboflow/train/images/16_jpeg_jpg.rf.3ca8b7b419b4145074cb4018f880e819.jpg  \n",
            " extracting: /content/roboflow/train/images/16_jpeg_jpg.rf.8f694febcf28b492e1217ae69263b4bb.jpg  \n",
            " extracting: /content/roboflow/train/images/19_jpeg_jpg.rf.799ed2b6c4d5aa9da8081ce7a1025711.jpg  \n",
            " extracting: /content/roboflow/train/images/20_jpeg_jpg.rf.d110190f7e3e1a4aa9efd0613767bd42.jpg  \n",
            " extracting: /content/roboflow/train/images/20_jpeg_jpg.rf.fec4772e8650a8eb7e89e8507697a952.jpg  \n",
            " extracting: /content/roboflow/train/images/22_jpeg_jpg.rf.09c58b56859f1f3f470328c979541990.jpg  \n",
            " extracting: /content/roboflow/train/images/22_jpeg_jpg.rf.dab0d3f8f8b5780514043fbeec953fb2.jpg  \n",
            " extracting: /content/roboflow/train/images/22_jpeg_jpg.rf.fc9e46506b2e6eb8196cb2ccc54504c7.jpg  \n",
            " extracting: /content/roboflow/train/images/2_jpeg_jpg.rf.336a24d6f2447758c99c7edf7ed6ef97.jpg  \n",
            " extracting: /content/roboflow/train/images/2_jpeg_jpg.rf.3cb0a62d307083e3de598d68b7cb229a.jpg  \n",
            " extracting: /content/roboflow/train/images/2_jpeg_jpg.rf.777df9c56a10d95f2bbfd7e7c8325b6c.jpg  \n",
            " extracting: /content/roboflow/train/images/3_jpeg_jpg.rf.26516b7d192f0dd8c37ada7264e9003d.jpg  \n",
            " extracting: /content/roboflow/train/images/3_jpeg_jpg.rf.612f20d5ba8799dcd0f645c441bc5cf8.jpg  \n",
            " extracting: /content/roboflow/train/images/6_jpeg_jpg.rf.6a4bff5eddbe74e665e717a7acc7d07a.jpg  \n",
            " extracting: /content/roboflow/train/images/6_jpeg_jpg.rf.f441fa96b569a328c35514b5721963ed.jpg  \n",
            " extracting: /content/roboflow/train/images/7_jpeg_jpg.rf.765196cc84d3f767f4f5f7d4bf84302a.jpg  \n",
            " extracting: /content/roboflow/train/images/8_jpeg_jpg.rf.6e81381559dba2ab263810854ed45c31.jpg  \n",
            " extracting: /content/roboflow/train/images/8_jpeg_jpg.rf.aad138b9d070b214542721f5c7356f32.jpg  \n",
            " extracting: /content/roboflow/train/images/9_jpeg_jpg.rf.ba39d999904f815313a5830ad2e8876f.jpg  \n",
            " extracting: /content/roboflow/train/images/9_jpeg_jpg.rf.c9cd67e16ba3d42a2e4723a88883a4ee.jpg  \n",
            " extracting: /content/roboflow/train/images/WhatsApp-Image-2022-11-29-at-20-15-43-1-_jpeg_jpg.rf.31507fb8121932413b110321a9a85e91.jpg  \n",
            " extracting: /content/roboflow/train/images/WhatsApp-Image-2022-11-29-at-20-15-43-1-_jpeg_jpg.rf.c30886217a852b20d14faaa690661e00.jpg  \n",
            " extracting: /content/roboflow/train/images/WhatsApp-Image-2022-11-29-at-20-15-43-1-_jpeg_jpg.rf.d1a16f170c4afdc04ba2c6fb050f0eff.jpg  \n",
            " extracting: /content/roboflow/train/images/WhatsApp-Image-2022-11-29-at-20-15-43_jpeg_jpg.rf.7aa5cb5d6828271a9ca35df49a6fb2af.jpg  \n",
            " extracting: /content/roboflow/train/images/WhatsApp-Image-2022-11-29-at-20-15-44-1-_jpeg_jpg.rf.b107f61c54ffb94d9e48d83a14099afc.jpg  \n",
            " extracting: /content/roboflow/train/images/WhatsApp-Image-2022-11-29-at-20-15-44_jpeg_jpg.rf.6fb626c0a66683e9b0b3c5e40b16416e.jpg  \n",
            " extracting: /content/roboflow/train/images/WhatsApp-Image-2022-11-29-at-20-15-44_jpeg_jpg.rf.ad69fb9a642a9b24960fa3407413e74d.jpg  \n",
            " extracting: /content/roboflow/train/images/WhatsApp-Image-2022-11-29-at-20-15-44_jpeg_jpg.rf.def70ec828570fe65fcd2d44649324ef.jpg  \n",
            " extracting: /content/roboflow/train/images/WhatsApp-Image-2022-11-29-at-20-15-44_jpeg_jpg.rf.e492b34d12d20e626f3e337d9f8d1c3f.jpg  \n",
            " extracting: /content/roboflow/train/images/WhatsApp-Image-2022-12-05-at-18-16-18_jpeg_jpg.rf.0e62567d9f6360ace6b1b64462473937.jpg  \n",
            " extracting: /content/roboflow/train/images/WhatsApp-Image-2022-12-05-at-18-16-18_jpeg_jpg.rf.3a63a8fc5791deb097d6dede29621a5a.jpg  \n",
            " extracting: /content/roboflow/train/images/WhatsApp-Image-2022-12-05-at-18-16-18_jpeg_jpg.rf.b717690e6209ba17c405b155f7398e0f.jpg  \n",
            " extracting: /content/roboflow/train/images/WhatsApp-Image-2022-12-05-at-18-16-24_jpeg_jpg.rf.22d8eff80f8574c5938efbd80cc22556.jpg  \n",
            " extracting: /content/roboflow/train/images/WhatsApp-Image-2022-12-05-at-18-16-24_jpeg_jpg.rf.3f3d242b1c734e0b240ad88b3726ca34.jpg  \n",
            " extracting: /content/roboflow/train/images/WhatsApp-Image-2022-12-05-at-18-16-24_jpeg_jpg.rf.94b868d4eb554696c2811367cd8e074f.jpg  \n",
            " extracting: /content/roboflow/train/images/WhatsApp-Image-2022-12-05-at-18-16-29_jpeg_jpg.rf.4f37fc4f4e0d50c060601587889468e9.jpg  \n",
            " extracting: /content/roboflow/train/images/WhatsApp-Image-2022-12-05-at-18-16-29_jpeg_jpg.rf.9871dbcd811e5ce95526fc042bb06b58.jpg  \n",
            " extracting: /content/roboflow/train/images/WhatsApp-Image-2022-12-05-at-18-16-29_jpeg_jpg.rf.b872dc6af242b9cb546c95d04ba2c9e3.jpg  \n",
            " extracting: /content/roboflow/train/images/WhatsApp-Image-2022-12-05-at-18-16-29_jpeg_jpg.rf.c75e3771f0418e643e1540bba4d17aa3.jpg  \n",
            " extracting: /content/roboflow/train/images/WhatsApp-Image-2022-12-05-at-18-16-39_jpeg_jpg.rf.37e6f42d16ddb0850c72541f513e177e.jpg  \n",
            " extracting: /content/roboflow/train/images/WhatsApp-Image-2022-12-05-at-18-16-39_jpeg_jpg.rf.3f2934800368d8aefd70815a650246ca.jpg  \n",
            " extracting: /content/roboflow/train/images/WhatsApp-Image-2022-12-05-at-18-16-39_jpeg_jpg.rf.42a6c4e2bbbff4d600d3d80a7c11f8a0.jpg  \n",
            " extracting: /content/roboflow/train/images/WhatsApp-Image-2022-12-05-at-18-16-39_jpeg_jpg.rf.78e85dd7c9ee01f6ea6d954953afbce1.jpg  \n",
            " extracting: /content/roboflow/train/images/WhatsApp-Image-2022-12-05-at-18-16-39_jpeg_jpg.rf.c6aa45f112a2062d17acb7c6318f425c.jpg  \n",
            " extracting: /content/roboflow/train/images/WhatsApp-Image-2022-12-05-at-18-16-39_jpeg_jpg.rf.e68e4d43d07429feed7bbc6b69034ec4.jpg  \n",
            " extracting: /content/roboflow/train/images/WhatsApp-Image-2022-12-05-at-18-16-39_jpeg_jpg.rf.f9b7f8c99afd9cd0eb5106f77abb7820.jpg  \n",
            " extracting: /content/roboflow/train/images/WhatsApp-Image-2022-12-05-at-18-16-45_jpeg_jpg.rf.339c2e2739997bd101ed1fab12eaaea5.jpg  \n",
            " extracting: /content/roboflow/train/images/WhatsApp-Image-2022-12-05-at-18-16-45_jpeg_jpg.rf.9dbaeaa9e6254857dbc3b1bf0608028f.jpg  \n",
            " extracting: /content/roboflow/train/images/WhatsApp-Image-2022-12-05-at-18-16-45_jpeg_jpg.rf.dacae1e23b43712aa5d580185445a8f7.jpg  \n",
            " extracting: /content/roboflow/train/images/WhatsApp-Image-2022-12-05-at-18-16-49_jpeg_jpg.rf.60c48c70ab20cecd2318554ae39504c0.jpg  \n",
            " extracting: /content/roboflow/train/images/WhatsApp-Image-2022-12-05-at-18-16-49_jpeg_jpg.rf.9a2aecadc1b06cf83c5aa6f9d4be7786.jpg  \n",
            " extracting: /content/roboflow/train/images/WhatsApp-Image-2022-12-05-at-18-16-49_jpeg_jpg.rf.ccb79e2283ca93bea705259f525b2941.jpg  \n",
            " extracting: /content/roboflow/train/images/WhatsApp-Image-2022-12-05-at-18-16-50_jpeg_jpg.rf.4980782c84bd2c9c420f5ea62ea351e3.jpg  \n",
            " extracting: /content/roboflow/train/images/WhatsApp-Image-2022-12-05-at-18-16-50_jpeg_jpg.rf.4cda5eba1b120047c6d0b9de61ce3024.jpg  \n",
            " extracting: /content/roboflow/train/images/WhatsApp-Image-2022-12-05-at-18-16-50_jpeg_jpg.rf.7abd6ba29db38f675a02ad33a8a0503e.jpg  \n",
            " extracting: /content/roboflow/train/images/WhatsApp-Image-2022-12-05-at-18-16-50_jpeg_jpg.rf.8be8c74f09e9049769e5c612a9c13c21.jpg  \n",
            " extracting: /content/roboflow/train/images/WhatsApp-Image-2022-12-05-at-18-16-50_jpeg_jpg.rf.95041c24be4e0aaa3ad080d382a17af6.jpg  \n",
            " extracting: /content/roboflow/train/images/WhatsApp-Image-2022-12-05-at-18-16-50_jpeg_jpg.rf.b03e8119b8f24825da451a299d1111ac.jpg  \n",
            " extracting: /content/roboflow/train/images/WhatsApp-Image-2022-12-05-at-18-16-55_jpeg_jpg.rf.87fc03719872880b7e8d1cb3a6ded46a.jpg  \n",
            " extracting: /content/roboflow/train/images/WhatsApp-Image-2022-12-05-at-18-16-55_jpeg_jpg.rf.8a1024bcfe658e88ab207ccead224c98.jpg  \n",
            " extracting: /content/roboflow/train/images/WhatsApp-Image-2022-12-05-at-18-16-55_jpeg_jpg.rf.93af10518c1b6c5d9650f45c04121d29.jpg  \n",
            " extracting: /content/roboflow/train/images/WhatsApp-Image-2022-12-05-at-18-17-00_jpeg_jpg.rf.b0110879dfcd966c0fcd0762849a526f.jpg  \n",
            " extracting: /content/roboflow/train/images/WhatsApp-Image-2022-12-05-at-18-17-00_jpeg_jpg.rf.f9616f97151c5582df4fa7cd44b08ce6.jpg  \n",
            " extracting: /content/roboflow/train/images/WhatsApp-Image-2022-12-05-at-18-17-08_jpeg_jpg.rf.75e0cd0197fe1fe39448ed121c36c4d1.jpg  \n",
            " extracting: /content/roboflow/train/images/WhatsApp-Image-2022-12-05-at-18-17-08_jpeg_jpg.rf.7be655bbb80ff0fb255cfc4f71c5bf6b.jpg  \n",
            " extracting: /content/roboflow/train/images/WhatsApp-Image-2022-12-05-at-18-17-08_jpeg_jpg.rf.c6d28a4bad347cf7e37d640d5d9f5913.jpg  \n",
            " extracting: /content/roboflow/train/images/WhatsApp-Image-2022-12-05-at-18-17-08_jpeg_jpg.rf.e81d2fb9713017b6cafc2055fa42395c.jpg  \n",
            " extracting: /content/roboflow/train/images/WhatsApp-Image-2022-12-05-at-18-17-08_jpeg_jpg.rf.ed8bf061a25dbfec31f36356b910a0dc.jpg  \n",
            " extracting: /content/roboflow/train/images/WhatsApp-Image-2022-12-05-at-18-17-17_jpeg_jpg.rf.140b487d50e367d7ad893c02c1e0bbcf.jpg  \n",
            " extracting: /content/roboflow/train/images/WhatsApp-Image-2022-12-05-at-18-17-30_jpeg_jpg.rf.2a127f0e65df3f2906cbea493ec37b5b.jpg  \n",
            " extracting: /content/roboflow/train/images/WhatsApp-Image-2022-12-05-at-18-17-30_jpeg_jpg.rf.6d9238db3cba083d85b343605f2f192f.jpg  \n",
            " extracting: /content/roboflow/train/images/WhatsApp-Image-2022-12-05-at-18-17-30_jpeg_jpg.rf.c01b6dc3bc7205cb8890f9cb6a374341.jpg  \n",
            " extracting: /content/roboflow/train/images/WhatsApp-Image-2022-12-05-at-18-17-30_jpeg_jpg.rf.fb696c5f197c20400926a8f6942d95c7.jpg  \n",
            " extracting: /content/roboflow/train/images/WhatsApp-Image-2022-12-05-at-18-17-36_jpeg_jpg.rf.4a45b1389d652fb7cbb91dc3d016ccc5.jpg  \n",
            " extracting: /content/roboflow/train/images/WhatsApp-Image-2022-12-05-at-18-17-36_jpeg_jpg.rf.56e3f8610ffedcf3d5b4a698183beb1a.jpg  \n",
            " extracting: /content/roboflow/train/images/WhatsApp-Image-2022-12-05-at-18-17-36_jpeg_jpg.rf.6b000d111c45d6d552bb9bbb2f2b5204.jpg  \n",
            " extracting: /content/roboflow/train/images/WhatsApp-Image-2022-12-05-at-18-17-36_jpeg_jpg.rf.f11b51c99f94053627e6eae576e876d9.jpg  \n",
            " extracting: /content/roboflow/train/images/WhatsApp-Image-2022-12-05-at-18-17-48_jpeg_jpg.rf.119f260bf6962243c3a756dff3160204.jpg  \n",
            " extracting: /content/roboflow/train/images/WhatsApp-Image-2022-12-05-at-18-17-48_jpeg_jpg.rf.8d0e4fe09552e1bce92f2a0313a8324b.jpg  \n",
            " extracting: /content/roboflow/train/images/WhatsApp-Image-2022-12-05-at-18-17-48_jpeg_jpg.rf.dd1cb7ea950e1b5b2f88102df4c27a82.jpg  \n",
            " extracting: /content/roboflow/train/images/WhatsApp-Image-2022-12-05-at-18-17-53_jpeg_jpg.rf.4d126995680148e3e6d751b97d7bf411.jpg  \n",
            " extracting: /content/roboflow/train/images/WhatsApp-Image-2022-12-05-at-18-17-53_jpeg_jpg.rf.673a279fea267e9dd6ca73d11e833c94.jpg  \n",
            " extracting: /content/roboflow/train/images/WhatsApp-Image-2022-12-05-at-18-17-53_jpeg_jpg.rf.e16f58d52bf1a6326cc83f0c57dd1328.jpg  \n",
            " extracting: /content/roboflow/train/images/WhatsApp-Image-2022-12-05-at-18-17-53_jpeg_jpg.rf.e61c0e33c561e5aa38e1e4f2cc20658a.jpg  \n",
            " extracting: /content/roboflow/train/images/WhatsApp-Image-2022-12-05-at-18-17-53_jpeg_jpg.rf.fc07a02ab70c46a79f11d930e187ddf6.jpg  \n",
            " extracting: /content/roboflow/train/images/WhatsApp-Image-2022-12-05-at-18-17-58_jpeg_jpg.rf.47fcf08bd0de140c2747671c9d811347.jpg  \n",
            " extracting: /content/roboflow/train/images/WhatsApp-Image-2022-12-05-at-18-17-58_jpeg_jpg.rf.4a1fbfd26dc0ee980403ffacbe44b762.jpg  \n",
            " extracting: /content/roboflow/train/images/WhatsApp-Image-2022-12-05-at-18-17-58_jpeg_jpg.rf.75e0d00b6f3c6b38aae24816f9f8f0d8.jpg  \n",
            " extracting: /content/roboflow/train/images/WhatsApp-Image-2022-12-05-at-18-17-58_jpeg_jpg.rf.85298184f0893b820742b2da786f1049.jpg  \n",
            " extracting: /content/roboflow/train/images/WhatsApp-Image-2022-12-05-at-18-17-58_jpeg_jpg.rf.9df671f1adf77e57e8c0318cdf873da3.jpg  \n",
            " extracting: /content/roboflow/train/images/WhatsApp-Image-2022-12-05-at-18-18-04_jpeg_jpg.rf.70f5555d0b2dd6ef2b18140357470161.jpg  \n",
            " extracting: /content/roboflow/train/images/WhatsApp-Image-2022-12-05-at-18-18-04_jpeg_jpg.rf.93d4adc7ec143fd646f5dbb5ac306619.jpg  \n",
            " extracting: /content/roboflow/train/images/WhatsApp-Image-2022-12-05-at-18-18-12_jpeg_jpg.rf.5f99a0b569e45fa436557a9e1af4aa78.jpg  \n",
            " extracting: /content/roboflow/train/images/WhatsApp-Image-2022-12-05-at-18-18-12_jpeg_jpg.rf.a11c72526edabb5e3010cc5750ae85ef.jpg  \n",
            " extracting: /content/roboflow/train/images/WhatsApp-Image-2022-12-05-at-18-18-12_jpeg_jpg.rf.cbce2aff9be063dccdede5f66386a6d0.jpg  \n",
            " extracting: /content/roboflow/train/images/WhatsApp-Image-2022-12-05-at-18-18-12_jpeg_jpg.rf.d1697dce4fc250349591b46175f06cf3.jpg  \n",
            " extracting: /content/roboflow/train/images/WhatsApp-Image-2022-12-05-at-18-18-16_jpeg_jpg.rf.45fab913a5e8ce2d0a740a88b227ccfc.jpg  \n",
            " extracting: /content/roboflow/train/images/WhatsApp-Image-2022-12-05-at-18-18-16_jpeg_jpg.rf.ef431547209d894545198aca26ef6eaf.jpg  \n",
            " extracting: /content/roboflow/train/images/WhatsApp-Image-2022-12-05-at-18-18-28_jpeg_jpg.rf.38502986508920e4fcd23bb6e02a0387.jpg  \n",
            " extracting: /content/roboflow/train/images/WhatsApp-Image-2022-12-05-at-18-18-28_jpeg_jpg.rf.44ca25cbc61205179167ae155c7d56f1.jpg  \n",
            " extracting: /content/roboflow/train/images/WhatsApp-Image-2022-12-05-at-18-18-28_jpeg_jpg.rf.69d249c22c06df9e1a3b04d53ba18b75.jpg  \n",
            " extracting: /content/roboflow/train/images/WhatsApp-Image-2022-12-05-at-18-18-28_jpeg_jpg.rf.71f70495692c5cfb0f0f2a2bc91701dd.jpg  \n",
            " extracting: /content/roboflow/train/images/WhatsApp-Image-2022-12-05-at-18-19-10_jpeg_jpg.rf.0f5943237a5e33b3392941ad48d7e6cc.jpg  \n",
            " extracting: /content/roboflow/train/images/WhatsApp-Image-2022-12-05-at-18-19-10_jpeg_jpg.rf.254290a2abdef41a9cd4ef8e5547b650.jpg  \n",
            " extracting: /content/roboflow/train/images/WhatsApp-Image-2022-12-05-at-18-19-10_jpeg_jpg.rf.62b778389ce67eecea071c29a4896938.jpg  \n",
            " extracting: /content/roboflow/train/images/WhatsApp-Image-2022-12-05-at-18-19-10_jpeg_jpg.rf.db0ed802c1f4b890d5faacf64ebf3ecb.jpg  \n",
            " extracting: /content/roboflow/train/images/WhatsApp-Image-2022-12-05-at-18-19-23_jpeg_jpg.rf.18bbbcf5aa2a6369e10ae881fbf48577.jpg  \n",
            " extracting: /content/roboflow/train/images/WhatsApp-Image-2022-12-05-at-18-19-23_jpeg_jpg.rf.5d469f7d94ac761ebbe3e4b63c6c4882.jpg  \n",
            " extracting: /content/roboflow/train/images/WhatsApp-Image-2022-12-05-at-18-19-23_jpeg_jpg.rf.5f6156762d9d21fcea46a60659c172a5.jpg  \n",
            " extracting: /content/roboflow/train/images/WhatsApp-Image-2022-12-05-at-18-19-23_jpeg_jpg.rf.a1d23a425a94259dfe4c084478aa06f7.jpg  \n",
            " extracting: /content/roboflow/train/images/WhatsApp-Image-2022-12-05-at-18-19-29_jpeg_jpg.rf.3b8da274982b2b2599e753bac4548905.jpg  \n",
            " extracting: /content/roboflow/train/images/WhatsApp-Image-2022-12-05-at-18-19-29_jpeg_jpg.rf.4798a7d2a4a3ea25c943f05a819a84b5.jpg  \n",
            " extracting: /content/roboflow/train/images/WhatsApp-Image-2022-12-05-at-18-19-29_jpeg_jpg.rf.fd3c531bc707109b25e60b810a0a554a.jpg  \n",
            " extracting: /content/roboflow/train/images/WhatsApp-Image-2022-12-05-at-18-19-45_jpeg_jpg.rf.01765bd5657cb93c3b7a13b3415706f5.jpg  \n",
            " extracting: /content/roboflow/train/images/WhatsApp-Image-2022-12-05-at-18-19-45_jpeg_jpg.rf.0987c85b79f24baf6090fe7df380fdc5.jpg  \n",
            " extracting: /content/roboflow/train/images/WhatsApp-Image-2022-12-05-at-18-19-45_jpeg_jpg.rf.56fba56f2b16e97759a02ce4d04137fb.jpg  \n",
            " extracting: /content/roboflow/train/images/WhatsApp-Image-2022-12-05-at-18-19-45_jpeg_jpg.rf.8b5ed961d98e6cac25df536b6bddd8d3.jpg  \n",
            " extracting: /content/roboflow/train/images/WhatsApp-Image-2022-12-05-at-18-19-45_jpeg_jpg.rf.c77bf405c6712316900059a231955d14.jpg  \n",
            " extracting: /content/roboflow/train/images/WhatsApp-Image-2022-12-05-at-18-20-03_jpeg_jpg.rf.0464bae644de868c492234474179d3d1.jpg  \n",
            " extracting: /content/roboflow/train/images/WhatsApp-Image-2022-12-05-at-18-20-03_jpeg_jpg.rf.b4f5a338e7de589a75279c6e5748bf04.jpg  \n",
            " extracting: /content/roboflow/train/images/WhatsApp-Image-2022-12-05-at-18-20-03_jpeg_jpg.rf.becf70bf562c38eddf004c389c520053.jpg  \n",
            " extracting: /content/roboflow/train/images/WhatsApp-Image-2022-12-05-at-18-20-03_jpeg_jpg.rf.c3c2e9ee60564d33365cebc1e2accbe8.jpg  \n",
            " extracting: /content/roboflow/train/images/WhatsApp-Image-2022-12-05-at-18-20-09_jpeg_jpg.rf.23ab280edf9e0df2997c9bb461f5921b.jpg  \n",
            " extracting: /content/roboflow/train/images/WhatsApp-Image-2022-12-05-at-18-20-09_jpeg_jpg.rf.4232a2ad518d7d4a2cad3c5cc1933c04.jpg  \n",
            " extracting: /content/roboflow/train/images/WhatsApp-Image-2022-12-05-at-18-20-09_jpeg_jpg.rf.d2a980b3554dcc21f9b1e150bac6c1cc.jpg  \n",
            " extracting: /content/roboflow/train/images/WhatsApp-Image-2022-12-05-at-18-20-09_jpeg_jpg.rf.e6e26b2f714bf4722785ffaba57fb62d.jpg  \n",
            " extracting: /content/roboflow/train/images/WhatsApp-Image-2022-12-05-at-18-21-15_jpeg_jpg.rf.2d1dce20657b26974f4a6b52a42ef162.jpg  \n",
            " extracting: /content/roboflow/train/images/WhatsApp-Image-2022-12-05-at-18-21-15_jpeg_jpg.rf.88c8b47ab7a24ac4bc3a069db512c92a.jpg  \n",
            " extracting: /content/roboflow/train/images/WhatsApp-Image-2022-12-05-at-18-21-15_jpeg_jpg.rf.c1f9074c412edde99e22e76ffb57115a.jpg  \n",
            " extracting: /content/roboflow/train/images/WhatsApp-Image-2022-12-05-at-18-21-15_jpeg_jpg.rf.fadf6b7684e1f45a7eb727d80420aefa.jpg  \n",
            " extracting: /content/roboflow/train/images/WhatsApp-Image-2022-12-05-at-18-21-16_jpeg_jpg.rf.495b107071c3da6c08f5a2bd1def18fa.jpg  \n",
            " extracting: /content/roboflow/train/images/WhatsApp-Image-2022-12-05-at-18-21-42_jpeg_jpg.rf.556f72e2fb8805c439580bb54b60d0b4.jpg  \n",
            " extracting: /content/roboflow/train/images/WhatsApp-Image-2022-12-05-at-18-21-42_jpeg_jpg.rf.9276338caa03a4a70eaa8bc9c830236b.jpg  \n",
            " extracting: /content/roboflow/train/images/WhatsApp-Image-2022-12-05-at-18-21-42_jpeg_jpg.rf.f49cb899f239a98283ff8f659fead76b.jpg  \n",
            " extracting: /content/roboflow/train/images/WhatsApp-Image-2022-12-05-at-18-21-58_jpeg_jpg.rf.6da313b6af916af922e36b57104e288c.jpg  \n",
            " extracting: /content/roboflow/train/images/WhatsApp-Image-2022-12-05-at-18-21-58_jpeg_jpg.rf.863911f11c6eb3a37dea960f12631452.jpg  \n",
            " extracting: /content/roboflow/train/images/WhatsApp-Image-2022-12-05-at-18-21-58_jpeg_jpg.rf.89e65f07348580faa0489e65dfe774cc.jpg  \n",
            " extracting: /content/roboflow/train/images/WhatsApp-Image-2022-12-05-at-18-21-58_jpeg_jpg.rf.e082a86f3ef105423639670618444bfd.jpg  \n",
            " extracting: /content/roboflow/train/images/WhatsApp-Image-2022-12-05-at-18-22-11_jpeg_jpg.rf.c133b6ff60eb30a702579fb5dcabd4ed.jpg  \n",
            " extracting: /content/roboflow/train/images/WhatsApp-Image-2022-12-05-at-18-22-52_jpeg_jpg.rf.3406fc34b955523d4e2a3a2705123a6e.jpg  \n",
            " extracting: /content/roboflow/train/images/WhatsApp-Image-2022-12-05-at-18-22-52_jpeg_jpg.rf.3e8b036fb29b2826a99b86c00fc6659e.jpg  \n",
            " extracting: /content/roboflow/train/images/WhatsApp-Image-2022-12-05-at-18-22-52_jpeg_jpg.rf.9eb78ac50bbed906613e8c3c737b9fe7.jpg  \n",
            " extracting: /content/roboflow/train/images/WhatsApp-Image-2022-12-05-at-18-22-52_jpeg_jpg.rf.b5d110d3fa16ee29c52636603a059310.jpg  \n",
            " extracting: /content/roboflow/train/images/WhatsApp-Image-2022-12-05-at-18-22-52_jpeg_jpg.rf.c50cce80a8812d1786d1d2afe1c4c1d7.jpg  \n",
            " extracting: /content/roboflow/train/images/WhatsApp-Image-2022-12-05-at-18-23-14_jpeg_jpg.rf.440f091cb39bfb8d978e13508acf61b2.jpg  \n",
            " extracting: /content/roboflow/train/images/WhatsApp-Image-2022-12-05-at-18-23-14_jpeg_jpg.rf.4e47a294963353a0c7f0fb9d5dc72f30.jpg  \n",
            " extracting: /content/roboflow/train/images/WhatsApp-Image-2022-12-05-at-18-23-14_jpeg_jpg.rf.7c5c21d724716729162daa204d74d536.jpg  \n",
            " extracting: /content/roboflow/train/images/WhatsApp-Image-2022-12-05-at-18-23-14_jpeg_jpg.rf.d50a93fa3a48e46fb10be99c3bb61164.jpg  \n",
            " extracting: /content/roboflow/train/images/WhatsApp-Image-2022-12-05-at-18-23-15_jpeg_jpg.rf.35fde6c7aceaacb74971d6e4ced788cc.jpg  \n",
            " extracting: /content/roboflow/train/images/WhatsApp-Image-2022-12-05-at-18-23-15_jpeg_jpg.rf.77c723aacc847696cb28965240ebaef6.jpg  \n",
            " extracting: /content/roboflow/train/images/WhatsApp-Image-2022-12-05-at-18-23-15_jpeg_jpg.rf.d250ed9b99ebc9261cd433141b46f228.jpg  \n",
            " extracting: /content/roboflow/train/images/WhatsApp-Image-2022-12-05-at-18-24-10_jpeg_jpg.rf.5104fff9c6dce25fb3f26e0dc26e42d5.jpg  \n",
            " extracting: /content/roboflow/train/images/WhatsApp-Image-2022-12-05-at-18-24-16_jpeg_jpg.rf.14660e42c668b2a92b32e254afbc0f97.jpg  \n",
            " extracting: /content/roboflow/train/images/WhatsApp-Image-2022-12-05-at-18-24-16_jpeg_jpg.rf.7c0c8660f31a9e479f0f3fd421fad99c.jpg  \n",
            " extracting: /content/roboflow/train/images/WhatsApp-Image-2022-12-05-at-18-24-16_jpeg_jpg.rf.b46cb9e0a701fdfb461c118fa190a432.jpg  \n",
            " extracting: /content/roboflow/train/images/WhatsApp-Image-2022-12-05-at-18-24-17_jpeg_jpg.rf.3d86006101ffe50e2156d07c63721084.jpg  \n",
            " extracting: /content/roboflow/train/images/WhatsApp-Image-2022-12-05-at-18-24-17_jpeg_jpg.rf.a6723fa59dbac2d67f1df5ca09b14ef3.jpg  \n",
            " extracting: /content/roboflow/train/images/WhatsApp-Image-2022-12-05-at-18-24-27_jpeg_jpg.rf.1c82dbc4e6065f6384af9e11ddd7b270.jpg  \n",
            " extracting: /content/roboflow/train/images/WhatsApp-Image-2022-12-05-at-18-24-27_jpeg_jpg.rf.2526be364f890ea0f1372cedfe4dad15.jpg  \n",
            " extracting: /content/roboflow/train/images/WhatsApp-Image-2022-12-05-at-18-24-27_jpeg_jpg.rf.4d05fff2a0696f4603b3bf27469c22d7.jpg  \n",
            " extracting: /content/roboflow/train/images/WhatsApp-Image-2022-12-05-at-18-24-27_jpeg_jpg.rf.804dec695891ce9cc673f6362ec474de.jpg  \n",
            " extracting: /content/roboflow/train/images/WhatsApp-Image-2022-12-05-at-18-24-27_jpeg_jpg.rf.f7187efc6fe2f718efe93737a649303f.jpg  \n",
            " extracting: /content/roboflow/train/images/WhatsApp-Image-2022-12-05-at-18-25-07_jpeg_jpg.rf.01bc8d5362b4ce110c91c3039be97949.jpg  \n",
            " extracting: /content/roboflow/train/images/WhatsApp-Image-2022-12-05-at-18-25-07_jpeg_jpg.rf.0aa53d2a2978cb0225477554530988d4.jpg  \n",
            " extracting: /content/roboflow/train/images/WhatsApp-Image-2022-12-05-at-18-25-07_jpeg_jpg.rf.29ddfecf825b12f16df651a2875ec6c0.jpg  \n",
            " extracting: /content/roboflow/train/images/WhatsApp-Image-2022-12-05-at-18-25-07_jpeg_jpg.rf.723e8f326d57f5971bbfd8305627cfaf.jpg  \n",
            " extracting: /content/roboflow/train/images/WhatsApp-Image-2022-12-05-at-18-25-08_jpeg_jpg.rf.8f577a1e4502bc1beb81a6aa66f3946f.jpg  \n",
            " extracting: /content/roboflow/train/images/WhatsApp-Image-2022-12-05-at-18-25-23_jpeg_jpg.rf.3086c07471f6bfab6a852dbc16652f2a.jpg  \n",
            " extracting: /content/roboflow/train/images/WhatsApp-Image-2022-12-05-at-18-25-23_jpeg_jpg.rf.7624ce5029446e8a81e7ffa4744b9e50.jpg  \n",
            " extracting: /content/roboflow/train/images/WhatsApp-Image-2022-12-05-at-18-25-23_jpeg_jpg.rf.8a8cecfe0d25187f0b63fa60bcfef9b1.jpg  \n",
            " extracting: /content/roboflow/train/images/WhatsApp-Image-2022-12-05-at-18-25-23_jpeg_jpg.rf.b3526229e91ef56a4cdd2599e8c35175.jpg  \n",
            " extracting: /content/roboflow/train/images/WhatsApp-Image-2022-12-05-at-18-25-40_jpeg_jpg.rf.53cc9dcd93778bd40814ad5b7127f439.jpg  \n",
            " extracting: /content/roboflow/train/images/WhatsApp-Image-2022-12-05-at-18-25-40_jpeg_jpg.rf.8a48d8ec1d1e9cd5253cb80f8f0e4568.jpg  \n",
            " extracting: /content/roboflow/train/images/WhatsApp-Image-2022-12-05-at-18-25-40_jpeg_jpg.rf.9a505117c6c75d89d008109b23097d7f.jpg  \n",
            " extracting: /content/roboflow/train/images/WhatsApp-Image-2022-12-05-at-18-25-40_jpeg_jpg.rf.d46b78f555d25e9f4d194aea2ae9dc81.jpg  \n",
            " extracting: /content/roboflow/train/images/WhatsApp-Image-2022-12-05-at-18-25-42_jpeg_jpg.rf.82d26af4d8801d21ef63299e46adfe4d.jpg  \n",
            " extracting: /content/roboflow/train/images/WhatsApp-Image-2022-12-05-at-18-25-42_jpeg_jpg.rf.85706d2418f265fd5559098054bbc1c0.jpg  \n",
            " extracting: /content/roboflow/train/images/WhatsApp-Image-2022-12-05-at-18-25-42_jpeg_jpg.rf.bc83774bee208c19086300db6b705d2c.jpg  \n",
            " extracting: /content/roboflow/train/images/WhatsApp-Image-2022-12-05-at-18-25-49_jpeg_jpg.rf.1feb3835dd1e2904d1110eaa1cd4732e.jpg  \n",
            " extracting: /content/roboflow/train/images/WhatsApp-Image-2022-12-05-at-18-25-49_jpeg_jpg.rf.9db9cfe8914c545c0f4509dc74aa4f01.jpg  \n",
            " extracting: /content/roboflow/train/images/WhatsApp-Image-2022-12-05-at-18-25-49_jpeg_jpg.rf.e8a3d3bc6e517702c8e210afe82c938d.jpg  \n",
            " extracting: /content/roboflow/train/images/WhatsApp-Image-2022-12-05-at-18-26-10_jpeg_jpg.rf.0d395843045f8fbdc2d9825280c19535.jpg  \n",
            " extracting: /content/roboflow/train/images/WhatsApp-Image-2022-12-05-at-18-26-10_jpeg_jpg.rf.66ab4cea1bdbfda67bb13f827360bca1.jpg  \n",
            " extracting: /content/roboflow/train/images/WhatsApp-Image-2022-12-05-at-18-26-10_jpeg_jpg.rf.b253edc670370e17113d3a79c89f1132.jpg  \n",
            " extracting: /content/roboflow/train/images/WhatsApp-Image-2022-12-05-at-18-26-29_jpeg_jpg.rf.2d0e143486f1223f361b91f913104f91.jpg  \n",
            " extracting: /content/roboflow/train/images/WhatsApp-Image-2022-12-05-at-18-26-29_jpeg_jpg.rf.852fa3e11f8fdf59a672c36e08b09f9f.jpg  \n",
            " extracting: /content/roboflow/train/images/WhatsApp-Image-2022-12-05-at-18-26-29_jpeg_jpg.rf.b70f6fbb81b11b965f0e9d73c87413a7.jpg  \n",
            " extracting: /content/roboflow/train/images/WhatsApp-Image-2022-12-05-at-18-26-48_jpeg_jpg.rf.4841dfcd558adc016d9c114f082839c7.jpg  \n",
            " extracting: /content/roboflow/train/images/WhatsApp-Image-2022-12-05-at-18-26-48_jpeg_jpg.rf.6e2e9c8332c0411f7f2eb2678a13ed28.jpg  \n",
            " extracting: /content/roboflow/train/images/WhatsApp-Image-2022-12-05-at-18-27-00_jpeg_jpg.rf.3b694235e13263c462cc18084b4afdf9.jpg  \n",
            " extracting: /content/roboflow/train/images/WhatsApp-Image-2022-12-05-at-18-27-00_jpeg_jpg.rf.9cac2ad68658d72e73eea264077298be.jpg  \n",
            " extracting: /content/roboflow/train/images/WhatsApp-Image-2022-12-05-at-18-27-24_jpeg_jpg.rf.717383085d62a6dba0f8c7250ef1fee4.jpg  \n",
            " extracting: /content/roboflow/train/images/WhatsApp-Image-2022-12-05-at-18-27-24_jpeg_jpg.rf.a3e4cb9c38e7b5e9da2758db6afc6759.jpg  \n",
            " extracting: /content/roboflow/train/images/WhatsApp-Image-2022-12-05-at-18-27-24_jpeg_jpg.rf.cd0fcaed6e1fe6fa7e76237e3792387c.jpg  \n",
            " extracting: /content/roboflow/train/images/WhatsApp-Image-2022-12-05-at-18-27-24_jpeg_jpg.rf.ed7042677add439239f0c9b87a2793c2.jpg  \n",
            " extracting: /content/roboflow/train/images/WhatsApp-Image-2022-12-05-at-18-27-24_jpeg_jpg.rf.ef2e870a36f5e2e896e0163af61d7ee5.jpg  \n",
            " extracting: /content/roboflow/train/images/WhatsApp-Image-2022-12-05-at-18-28-06_jpeg_jpg.rf.1415b2a882c4f77deea5e7eecf8702d3.jpg  \n",
            " extracting: /content/roboflow/train/images/WhatsApp-Image-2022-12-05-at-18-28-06_jpeg_jpg.rf.51ef8809a9843da68a1ef262087bf213.jpg  \n",
            " extracting: /content/roboflow/train/images/WhatsApp-Image-2022-12-05-at-18-28-06_jpeg_jpg.rf.5a353abe394b1b6d7c8349cfee735db5.jpg  \n",
            " extracting: /content/roboflow/train/images/WhatsApp-Image-2022-12-05-at-18-28-56_jpeg_jpg.rf.9255110109beb962038b419f251eee56.jpg  \n",
            " extracting: /content/roboflow/train/images/WhatsApp-Image-2022-12-05-at-18-28-56_jpeg_jpg.rf.98b48cfb656b6f9a899fa3b7732e99b3.jpg  \n",
            " extracting: /content/roboflow/train/images/WhatsApp-Image-2022-12-05-at-18-28-57_jpeg_jpg.rf.090c958674097bc1659eb8d3d7e12699.jpg  \n",
            " extracting: /content/roboflow/train/images/WhatsApp-Image-2022-12-05-at-18-28-57_jpeg_jpg.rf.13be9c86660de2c7ea04c9c1962e8951.jpg  \n",
            " extracting: /content/roboflow/train/images/WhatsApp-Image-2022-12-05-at-18-28-57_jpeg_jpg.rf.2cf11cb2ed6a8d4309fb8f3d991f6cad.jpg  \n",
            " extracting: /content/roboflow/train/images/WhatsApp-Image-2022-12-05-at-18-28-57_jpeg_jpg.rf.dc8cb0fe446b467998c5d733af1ec3c8.jpg  \n",
            " extracting: /content/roboflow/train/images/WhatsApp-Image-2022-12-05-at-18-29-12_jpeg_jpg.rf.214916aa0013c7f890ac1651e3d7605b.jpg  \n",
            " extracting: /content/roboflow/train/images/WhatsApp-Image-2022-12-05-at-18-29-12_jpeg_jpg.rf.5f3583e8b330c19d93a207624c09dbc4.jpg  \n",
            " extracting: /content/roboflow/train/images/WhatsApp-Image-2022-12-05-at-18-29-12_jpeg_jpg.rf.669e0b76998609daf907047064b1ff52.jpg  \n",
            " extracting: /content/roboflow/train/images/WhatsApp-Image-2022-12-05-at-18-29-12_jpeg_jpg.rf.e52190bd5970cb9c5af1e048e2e6be1d.jpg  \n",
            " extracting: /content/roboflow/train/images/WhatsApp-Image-2022-12-05-at-18-29-12_jpeg_jpg.rf.f7dc356d6623adf01bf514a292fa1f13.jpg  \n",
            " extracting: /content/roboflow/train/images/WhatsApp-Video-2022-11-29-at-20_15_43_mp4-0_jpg.rf.125b458818c7f3c7014e27a25c4e93fc.jpg  \n",
            " extracting: /content/roboflow/train/images/WhatsApp-Video-2022-11-29-at-20_15_43_mp4-0_jpg.rf.3ebde5d82e254ea99056e12c71a27170.jpg  \n",
            " extracting: /content/roboflow/train/images/WhatsApp-Video-2022-11-29-at-20_15_43_mp4-0_jpg.rf.41deb4e7e7b377cc0165fa31375fb97b.jpg  \n",
            " extracting: /content/roboflow/train/images/WhatsApp-Video-2022-11-29-at-20_15_43_mp4-0_jpg.rf.84d11756ad0c7fa28eb22ffae22759a0.jpg  \n",
            " extracting: /content/roboflow/train/images/WhatsApp-Video-2022-11-29-at-20_15_43_mp4-0_jpg.rf.a1d4308195096a0660d1036476791159.jpg  \n",
            " extracting: /content/roboflow/train/images/WhatsApp-Video-2022-11-29-at-20_15_43_mp4-1_jpg.rf.113920f1af81f21ecd1d08c2bc39fb75.jpg  \n",
            " extracting: /content/roboflow/train/images/WhatsApp-Video-2022-11-29-at-20_15_43_mp4-1_jpg.rf.cea73d734dd73666d0bf15d7f68697fb.jpg  \n",
            " extracting: /content/roboflow/train/images/WhatsApp-Video-2022-11-29-at-20_15_43_mp4-2_jpg.rf.b29d8e88d6df43e8498f25310c881586.jpg  \n",
            " extracting: /content/roboflow/train/images/WhatsApp-Video-2022-11-29-at-20_15_43_mp4-3_jpg.rf.19e33c4c534ca57335a0baeb300ef47d.jpg  \n",
            " extracting: /content/roboflow/train/images/WhatsApp-Video-2022-11-29-at-20_15_43_mp4-3_jpg.rf.cd2095e901652412154827e6e3519c27.jpg  \n",
            " extracting: /content/roboflow/train/images/WhatsApp-Video-2022-11-29-at-20_15_43_mp4-4_jpg.rf.2927a60af6eaf1e7e39abba951065e8e.jpg  \n",
            " extracting: /content/roboflow/train/images/WhatsApp-Video-2022-11-29-at-20_15_43_mp4-4_jpg.rf.a2573a71e1c8bcfd315feba6cbc49e6d.jpg  \n",
            " extracting: /content/roboflow/train/images/WhatsApp-Video-2022-11-29-at-20_15_43_mp4-4_jpg.rf.bf13a38531c6d72d7a13e602a970236f.jpg  \n",
            " extracting: /content/roboflow/train/images/WhatsApp-Video-2022-11-29-at-20_15_43_mp4-4_jpg.rf.d189106012451863600ea7a4cd32e08b.jpg  \n",
            " extracting: /content/roboflow/train/images/WhatsApp-Video-2022-11-29-at-20_15_43_mp4-5_jpg.rf.0ad2568729d0ce993caa5f100544a59f.jpg  \n",
            " extracting: /content/roboflow/train/images/WhatsApp-Video-2022-11-29-at-20_15_43_mp4-5_jpg.rf.1ab08f18a0e58775225646e0bcb50a8a.jpg  \n",
            " extracting: /content/roboflow/train/images/WhatsApp-Video-2022-11-29-at-20_15_43_mp4-5_jpg.rf.3263cf27fd33e68b92147017bfebcdbd.jpg  \n",
            " extracting: /content/roboflow/train/images/WhatsApp-Video-2022-11-29-at-20_15_43_mp4-5_jpg.rf.45b4f318ff998ee3c5ab156c63ff82cb.jpg  \n",
            " extracting: /content/roboflow/train/images/WhatsApp-Video-2022-11-29-at-20_15_43_mp4-5_jpg.rf.47ec1252ba333a509a71ccf3298b60fa.jpg  \n",
            " extracting: /content/roboflow/train/images/WhatsApp-Video-2022-11-29-at-20_15_43_mp4-5_jpg.rf.e8943921f54b327cfe62dfbc5ee81a32.jpg  \n",
            " extracting: /content/roboflow/train/images/WhatsApp-Video-2022-11-29-at-20_15_43_mp4-6_jpg.rf.4d1a068f9dab54c2afbe30fef29747dc.jpg  \n",
            " extracting: /content/roboflow/train/images/WhatsApp-Video-2022-11-29-at-20_15_43_mp4-6_jpg.rf.698077feb506851946947bd672ff66ba.jpg  \n",
            " extracting: /content/roboflow/train/images/WhatsApp-Video-2022-11-29-at-20_15_43_mp4-6_jpg.rf.fb7c4695c14ee3c01e3ebf2b5cc186d8.jpg  \n",
            " extracting: /content/roboflow/train/images/WhatsApp-Video-2022-11-29-at-20_15_43_mp4-7_jpg.rf.adaa4be19d865a9cf8dc86f5f9530c20.jpg  \n",
            " extracting: /content/roboflow/train/images/WhatsApp-Video-2022-11-29-at-20_15_43_mp4-7_jpg.rf.fb817b404909910198f6fbe634ba0e03.jpg  \n",
            " extracting: /content/roboflow/train/images/youtube-21_jpg.rf.71a9b13849ea4dec3b1e4948385eb552.jpg  \n",
            " extracting: /content/roboflow/train/images/youtube-21_jpg.rf.8fe73844adde7cbe2a92cc98f23d1db1.jpg  \n",
            " extracting: /content/roboflow/train/images/youtube-21_jpg.rf.94f31585c693324894f7f1841a7bdb49.jpg  \n",
            " extracting: /content/roboflow/train/images/youtube-25_jpg.rf.1ec6904ce8d4168208d694a656096fda.jpg  \n",
            " extracting: /content/roboflow/train/images/youtube-25_jpg.rf.647f2bbe76c15076dd71a4087ba5e1b6.jpg  \n",
            " extracting: /content/roboflow/train/images/youtube-26_jpg.rf.15ebf24cec5a47f4473b9676e98a9763.jpg  \n",
            " extracting: /content/roboflow/train/images/youtube-26_jpg.rf.1c9f6e56b265786375ac765c802200a2.jpg  \n",
            " extracting: /content/roboflow/train/images/youtube-26_jpg.rf.3bf7749a9bf73c52761bf35bdbaff41c.jpg  \n",
            " extracting: /content/roboflow/train/images/youtube-26_jpg.rf.e5a4a626f6296402d1559d5a6ba20138.jpg  \n",
            " extracting: /content/roboflow/train/images/youtube-27_jpg.rf.714d0f5610058801d6eccbb7a24fcf1c.jpg  \n",
            " extracting: /content/roboflow/train/images/youtube-27_jpg.rf.a124c7728c728d1ed1930682fd028008.jpg  \n",
            " extracting: /content/roboflow/train/images/youtube-27_jpg.rf.e30dafbc55f6dd09a622b6836cfa60bd.jpg  \n",
            " extracting: /content/roboflow/train/images/youtube-27_jpg.rf.e8cf4f23d595e892e2b5143d79584870.jpg  \n",
            " extracting: /content/roboflow/train/images/youtube-28_jpg.rf.0414c0ddbdbf3905e81daf99923fe611.jpg  \n",
            " extracting: /content/roboflow/train/images/youtube-28_jpg.rf.6be2dcba87489c6c0ffe472c3c4da1e0.jpg  \n",
            " extracting: /content/roboflow/train/images/youtube-28_jpg.rf.8d1483cf740b9963731949666f62b2de.jpg  \n",
            " extracting: /content/roboflow/train/images/youtube-28_jpg.rf.d9bfb12e06ad852de1c3aa0e073089d0.jpg  \n",
            " extracting: /content/roboflow/train/images/youtube-29_jpg.rf.9512e8467decc50f8ef90a3f2d8df3a8.jpg  \n",
            " extracting: /content/roboflow/train/images/youtube-29_jpg.rf.b345423c0a978a54f466df9f3fa82508.jpg  \n",
            " extracting: /content/roboflow/train/images/youtube-30_jpg.rf.3d82efe9e3e01479f0e6460d267a74f4.jpg  \n",
            " extracting: /content/roboflow/train/images/youtube-30_jpg.rf.60633b05c0b193524bb21a8dd0346196.jpg  \n",
            " extracting: /content/roboflow/train/images/youtube-30_jpg.rf.9f161c72360f89f0fbba4ebfba1ebf33.jpg  \n",
            " extracting: /content/roboflow/train/images/youtube-30_jpg.rf.df0e13be2971575dfc56d633abfaf867.jpg  \n",
            " extracting: /content/roboflow/train/images/youtube-35_jpg.rf.479fe9ea8f291ab8f08cda3164d2f855.jpg  \n",
            " extracting: /content/roboflow/train/images/youtube-35_jpg.rf.81b0cb2d7a5aaeff69a35662583b8eb0.jpg  \n",
            " extracting: /content/roboflow/train/images/youtube-35_jpg.rf.9ef6375a64e17150acabe3fc18d9c59b.jpg  \n",
            " extracting: /content/roboflow/train/images/youtube-36_jpg.rf.5818e0891d63d1df4ba4207e1dcf3310.jpg  \n",
            " extracting: /content/roboflow/train/images/youtube-36_jpg.rf.674a936260623d01079e9ffa2ee8f29e.jpg  \n",
            " extracting: /content/roboflow/train/images/youtube-36_jpg.rf.728affd514960e18d8c33614aaecdeec.jpg  \n",
            " extracting: /content/roboflow/train/images/youtube-36_jpg.rf.78ffae1c9be180a68f3f9725f3184560.jpg  \n",
            " extracting: /content/roboflow/train/images/youtube-36_jpg.rf.e74767249287310ea61fb4b7af842794.jpg  \n",
            " extracting: /content/roboflow/train/images/youtube-37_jpg.rf.330df940bd5ec3ea7a860c808b066315.jpg  \n",
            " extracting: /content/roboflow/train/images/youtube-37_jpg.rf.5d42c3cc4be1e889c7991ce636f23cf9.jpg  \n",
            " extracting: /content/roboflow/train/images/youtube-37_jpg.rf.6e0f0ac5eb1eec17826a426193119886.jpg  \n",
            " extracting: /content/roboflow/train/images/youtube-37_jpg.rf.cc57e073dadeb7abaac4396b5cdbcd58.jpg  \n",
            " extracting: /content/roboflow/train/images/youtube-37_jpg.rf.d61b393b6de6fb172fcb9e6699cc8c07.jpg  \n",
            " extracting: /content/roboflow/train/images/youtube-38_jpg.rf.13a8281e4cf6e2899480cef5b769b18b.jpg  \n",
            " extracting: /content/roboflow/train/images/youtube-38_jpg.rf.2916846a2e97a221495274b2d6567454.jpg  \n",
            " extracting: /content/roboflow/train/images/youtube-38_jpg.rf.ceb6af9f83685859f24d20b994601869.jpg  \n",
            " extracting: /content/roboflow/train/images/youtube-39_jpg.rf.7e2ef4c075d8e3c8cfc5867f6f5a761c.jpg  \n",
            " extracting: /content/roboflow/train/images/youtube-40_jpg.rf.6ce9a83f634b21beb14cb6222f4e7f11.jpg  \n",
            " extracting: /content/roboflow/train/images/youtube-41_jpg.rf.4ba17ec262832dea4cfa3d1f355e6a0c.jpg  \n",
            " extracting: /content/roboflow/train/images/youtube-42_jpg.rf.0d543659b048201c8150158268cba1ae.jpg  \n",
            " extracting: /content/roboflow/train/images/youtube-42_jpg.rf.66ccf14ed6a17d49e707bc467c2dfa01.jpg  \n",
            " extracting: /content/roboflow/train/images/youtube-42_jpg.rf.6b6549fb0622664e6bb1a4bd0994705e.jpg  \n",
            " extracting: /content/roboflow/train/images/youtube-43_jpg.rf.d49f3e83ca494b914ac9defc526a1097.jpg  \n",
            " extracting: /content/roboflow/train/images/youtube-44_jpg.rf.011fe13b2ad5fcf60a6ac6cbd81c68b4.jpg  \n",
            " extracting: /content/roboflow/train/images/youtube-44_jpg.rf.2c44d965511b19503888568f5c03bf8c.jpg  \n",
            " extracting: /content/roboflow/train/images/youtube-44_jpg.rf.3b4da3fe6a582dcf70c1da2be445d041.jpg  \n",
            " extracting: /content/roboflow/train/images/youtube-44_jpg.rf.4bbc24d1d050e923871104a0b4bc9897.jpg  \n",
            " extracting: /content/roboflow/train/images/youtube-44_jpg.rf.534b44fb0f619ce9e932af30db71c2b3.jpg  \n",
            " extracting: /content/roboflow/train/images/youtube-44_jpg.rf.99459e1b566d3bb388bec8c3e0675f28.jpg  \n",
            " extracting: /content/roboflow/train/images/youtube-44_jpg.rf.acb7494ba5a8702dfe23e69184250f80.jpg  \n",
            " extracting: /content/roboflow/train/images/youtube-44_jpg.rf.c3df40d7d1e3c7830458f46dfb194eb0.jpg  \n",
            " extracting: /content/roboflow/train/images/youtube-44_jpg.rf.d3ecf9062baa35a5564ba825484fcc9d.jpg  \n",
            " extracting: /content/roboflow/train/images/youtube-45_jpg.rf.2a953967baaad10c27f878406ec12781.jpg  \n",
            " extracting: /content/roboflow/train/images/youtube-46_jpg.rf.b12180fa59b0102679132d94c22d3018.jpg  \n",
            " extracting: /content/roboflow/train/images/youtube-46_jpg.rf.c031861e2f3f5963b5c24b2f64cd12bd.jpg  \n",
            " extracting: /content/roboflow/train/images/youtube-46_jpg.rf.e7a43987a7f2480ff062e47e53655b67.jpg  \n",
            " extracting: /content/roboflow/train/images/youtube-47_jpg.rf.68f3a29b9f7b12ff5c691dab40cf318c.jpg  \n",
            " extracting: /content/roboflow/train/images/youtube-47_jpg.rf.b59c4ff4396bba5d7ab69583baf11a91.jpg  \n",
            " extracting: /content/roboflow/train/images/youtube-47_jpg.rf.d3dc1da81ebe28974661adcaf95f06e7.jpg  \n",
            " extracting: /content/roboflow/train/images/youtube-47_jpg.rf.e251722ed2542ed0bf0f87d56982ed23.jpg  \n",
            " extracting: /content/roboflow/train/images/youtube-47_jpg.rf.ffdaebb7a288ebcd543bf1c166982e4a.jpg  \n",
            " extracting: /content/roboflow/train/images/youtube-52_jpg.rf.37ac3f5edb4553932a9b6d61cdb80173.jpg  \n",
            " extracting: /content/roboflow/train/images/youtube-52_jpg.rf.696aed6a73fdb3db1c8524dbad773840.jpg  \n",
            " extracting: /content/roboflow/train/images/youtube-52_jpg.rf.feaa8c32cdc6b8af9923978c7c741be7.jpg  \n",
            " extracting: /content/roboflow/train/images/youtube-53_jpg.rf.0fd0c31de621660c0dfa7bfc9c52d417.jpg  \n",
            " extracting: /content/roboflow/train/images/youtube-53_jpg.rf.a80f74ba78a1c56684cbf56a9b0b9193.jpg  \n",
            " extracting: /content/roboflow/train/images/youtube-53_jpg.rf.a8428ec6f475ae77f4dda4346163e7c7.jpg  \n",
            " extracting: /content/roboflow/train/images/youtube-53_jpg.rf.e5ed1b5f8020242e5bc679f52c1feb14.jpg  \n",
            " extracting: /content/roboflow/train/images/youtube-54_jpg.rf.421977b6fc8abc4e422dd4f5a261ddec.jpg  \n",
            " extracting: /content/roboflow/train/images/youtube-54_jpg.rf.6e0d5ed7d0ecbf59c201a03761fe705c.jpg  \n",
            " extracting: /content/roboflow/train/images/youtube-55_jpg.rf.2f3a3689b33a2c288ee06dfd2ad09fc0.jpg  \n",
            " extracting: /content/roboflow/train/images/youtube-55_jpg.rf.f16ddccb7f0ac2414a4010859f5add8c.jpg  \n",
            " extracting: /content/roboflow/train/images/youtube-56_jpg.rf.5080ccc314974a4e2be773193fd80771.jpg  \n",
            " extracting: /content/roboflow/train/images/youtube-56_jpg.rf.c01fa65386c05a29ce8dbd338ffeba87.jpg  \n",
            " extracting: /content/roboflow/train/images/youtube-56_jpg.rf.c4d8c3280a8e38584b07a304666dd572.jpg  \n",
            " extracting: /content/roboflow/train/images/youtube-56_jpg.rf.c9d0422eb875ceb57dd72be37b502fc8.jpg  \n",
            " extracting: /content/roboflow/train/images/youtube-57_jpg.rf.0085a63cb132bbc51a36921c363b43b2.jpg  \n",
            " extracting: /content/roboflow/train/images/youtube-57_jpg.rf.23ef72e9d1c87615251f69144aedc344.jpg  \n",
            " extracting: /content/roboflow/train/images/youtube-57_jpg.rf.3ed138ecd5a91e514207009e7b15cee7.jpg  \n",
            " extracting: /content/roboflow/train/images/youtube-57_jpg.rf.8d7be36923547a400405760ce44e8bbf.jpg  \n",
            " extracting: /content/roboflow/train/images/youtube-57_jpg.rf.f004b7b30d03f4251e6781fce6a6df9e.jpg  \n",
            " extracting: /content/roboflow/train/images/youtube-58_jpg.rf.22f0dc083e1f84b8ced379669c441bd2.jpg  \n",
            " extracting: /content/roboflow/train/images/youtube-58_jpg.rf.36544b5a38b7061855afd6afa2f3b2b6.jpg  \n",
            " extracting: /content/roboflow/train/images/youtube-58_jpg.rf.84d75ffe1591e9a5d668c53f49d1836e.jpg  \n",
            " extracting: /content/roboflow/train/images/youtube-58_jpg.rf.b3e53a195b54118bde726199b7d86682.jpg  \n",
            " extracting: /content/roboflow/train/images/youtube-58_jpg.rf.cdfb4bac9b94debf29da3f60b1a1725c.jpg  \n",
            " extracting: /content/roboflow/train/images/youtube-59_jpg.rf.198a8f02dae1201a25dee29da957bc59.jpg  \n",
            " extracting: /content/roboflow/train/images/youtube-59_jpg.rf.2c999c075f38b599967bef7cc202fd2d.jpg  \n",
            " extracting: /content/roboflow/train/images/youtube-59_jpg.rf.ba70aa460caa1ed870f147f8ed70dfaa.jpg  \n",
            " extracting: /content/roboflow/train/images/youtube-60_jpg.rf.4a78fa83393fcd52a044fc8836bc6f62.jpg  \n",
            " extracting: /content/roboflow/train/images/youtube-60_jpg.rf.9909ca5a41bd171cc19432852061f45f.jpg  \n",
            " extracting: /content/roboflow/train/images/youtube-62_jpg.rf.65b29c83cdce01cfcba8a1cba2bf0559.jpg  \n",
            " extracting: /content/roboflow/train/images/youtube-62_jpg.rf.b64f1f5d2cc2ce68e4f5db4722b7f36d.jpg  \n",
            "   creating: /content/roboflow/train/labels/\n",
            "  inflating: /content/roboflow/train/labels/-0378D390-5AE2-4D09-84BB-387E850F5E5A-png_jpg.rf.30edf0c9e428b3c1ed7d4869e92a71f9.txt  \n",
            "  inflating: /content/roboflow/train/labels/-0378D390-5AE2-4D09-84BB-387E850F5E5A-png_jpg.rf.4a9ea8d7242b6b419f23b945f5ae14db.txt  \n",
            "  inflating: /content/roboflow/train/labels/-0378D390-5AE2-4D09-84BB-387E850F5E5A-png_jpg.rf.5304a4ab0974f186c6ccc08cd5e1c6fc.txt  \n",
            "  inflating: /content/roboflow/train/labels/-0378D390-5AE2-4D09-84BB-387E850F5E5A-png_jpg.rf.a1e18f1909aba143bd70a653f6fa2a84.txt  \n",
            "  inflating: /content/roboflow/train/labels/-0378D390-5AE2-4D09-84BB-387E850F5E5A-png_jpg.rf.efbfeae0f3ea12bdd64d2ef88d20042a.txt  \n",
            "  inflating: /content/roboflow/train/labels/-0378D390-5AE2-4D09-84BB-387E850F5E5A-png_jpg.rf.f196cf9e6987c7bc0b0052e11ad36a71.txt  \n",
            "  inflating: /content/roboflow/train/labels/-0378D390-5AE2-4D09-84BB-387E850F5E5A-png_jpg.rf.fedfb1a317edc66d9dfe3cd815af7084.txt  \n",
            "  inflating: /content/roboflow/train/labels/-046E9840-F025-4749-B3AB-19402B34E739-png_jpg.rf.aa3cc09f348eb010792d812f395a9827.txt  \n",
            "  inflating: /content/roboflow/train/labels/-046E9840-F025-4749-B3AB-19402B34E739-png_jpg.rf.bf82093121d64d1dab63b1dfdf4d259e.txt  \n",
            "  inflating: /content/roboflow/train/labels/-0471C451-8CA5-4CEA-8EFD-3B0F147BF4B7-png_jpg.rf.9c134240733eefe23b8278ff1f3c2b98.txt  \n",
            "  inflating: /content/roboflow/train/labels/-0471C451-8CA5-4CEA-8EFD-3B0F147BF4B7-png_jpg.rf.c90ca1d619ceaf3628d6ab844313e217.txt  \n",
            "  inflating: /content/roboflow/train/labels/-0585CFA0-7CD6-45D3-B7EB-1A109425F90D-png_jpg.rf.7156575f0eb2166e1d52039c918a1ce0.txt  \n",
            "  inflating: /content/roboflow/train/labels/-0ACAD937-70A4-46F0-8E49-0CAE6F942CF2-png_jpg.rf.43b92d7847f21666ffa7acbf33e8df18.txt  \n",
            "  inflating: /content/roboflow/train/labels/-0ACAD937-70A4-46F0-8E49-0CAE6F942CF2-png_jpg.rf.8d2a4006502bbf192a6cb1723ad92f98.txt  \n",
            "  inflating: /content/roboflow/train/labels/-0AE13AAD-2BD5-490E-B245-D51927B1EBBC-png_jpg.rf.9a2635c991c70616ec25757631d94ac0.txt  \n",
            "  inflating: /content/roboflow/train/labels/-0AE13AAD-2BD5-490E-B245-D51927B1EBBC-png_jpg.rf.e2d97564c3f5584bd5e66b4d1be59faf.txt  \n",
            "  inflating: /content/roboflow/train/labels/-0B43DB53-2377-4D6D-B5B8-60CBBAB90F88-png_jpg.rf.cf9f58fbe1992bea8d353c84b7e9696d.txt  \n",
            "  inflating: /content/roboflow/train/labels/-0C60C602-CF70-4679-BB4E-5A1CA33EF472-png_jpg.rf.19e87fb944b8ce18022d23b2b6d07562.txt  \n",
            "  inflating: /content/roboflow/train/labels/-0D39FCF1-152A-4C52-A0F2-64670E54DB6D-png_jpg.rf.9b0282f483cf4ecc8c348760b76bb3c1.txt  \n",
            "  inflating: /content/roboflow/train/labels/-0D39FCF1-152A-4C52-A0F2-64670E54DB6D-png_jpg.rf.d173b3ad5b6d4ece3da73d7ad3754ae4.txt  \n",
            "  inflating: /content/roboflow/train/labels/-0DEDC30B-FD9A-4A41-ABC0-DBEDE7C1C712-png_jpg.rf.1fdd17e5c69c44bc40bd64e0e9576f68.txt  \n",
            "  inflating: /content/roboflow/train/labels/-101F7188-06B4-4FC2-B9FF-123C60B06606-png_jpg.rf.ca8e74713308416e0f16f9dec761e8a2.txt  \n",
            " extracting: /content/roboflow/train/labels/-1058CFB8-55AA-4270-937C-FAB55C49F17A-png_jpg.rf.264528707e6ce02c4b6d8900e3cb7b46.txt  \n",
            "  inflating: /content/roboflow/train/labels/-1058CFB8-55AA-4270-937C-FAB55C49F17A-png_jpg.rf.3956e8d2192f1c945c06766955789cbe.txt  \n",
            " extracting: /content/roboflow/train/labels/-1058CFB8-55AA-4270-937C-FAB55C49F17A-png_jpg.rf.4380f2a2c571bc9b7028735986c849ed.txt  \n",
            "  inflating: /content/roboflow/train/labels/-1058CFB8-55AA-4270-937C-FAB55C49F17A-png_jpg.rf.53364d853478b0f00244b48b645064aa.txt  \n",
            " extracting: /content/roboflow/train/labels/-1058CFB8-55AA-4270-937C-FAB55C49F17A-png_jpg.rf.61e8e1efef44b269f2291fdfe72d0873.txt  \n",
            " extracting: /content/roboflow/train/labels/-1058CFB8-55AA-4270-937C-FAB55C49F17A-png_jpg.rf.df905185f42d464a91d43db205649929.txt  \n",
            " extracting: /content/roboflow/train/labels/-1121F9BD-6C24-47D6-937E-DC2AB1906098-png_jpg.rf.01d67abb4d2a408dd1f99c0020d45c6d.txt  \n",
            " extracting: /content/roboflow/train/labels/-1121F9BD-6C24-47D6-937E-DC2AB1906098-png_jpg.rf.59cc4deaa3649d011515480602940a66.txt  \n",
            " extracting: /content/roboflow/train/labels/-11F0AF93-D3D0-4415-A4A0-B3430EA0886B-png_jpg.rf.9607c3d091e21e487c583a96c56abd77.txt  \n",
            "  inflating: /content/roboflow/train/labels/-11F0AF93-D3D0-4415-A4A0-B3430EA0886B-png_jpg.rf.d6187ee56df7f6faf6c9b0450bc3ee8e.txt  \n",
            "  inflating: /content/roboflow/train/labels/-11F0AF93-D3D0-4415-A4A0-B3430EA0886B-png_jpg.rf.fca34359b643c7df0ba07c77a1728445.txt  \n",
            "  inflating: /content/roboflow/train/labels/-12D2734F-0757-4B08-9819-D3704009B312-png_jpg.rf.2167f6dbe2c7027577309295f257f745.txt  \n",
            "  inflating: /content/roboflow/train/labels/-12D2734F-0757-4B08-9819-D3704009B312-png_jpg.rf.b7a1dc0d1756628158e9eccc0934a04d.txt  \n",
            "  inflating: /content/roboflow/train/labels/-12D2734F-0757-4B08-9819-D3704009B312-png_jpg.rf.dc16d0603395e1723008f06373c69971.txt  \n",
            "  inflating: /content/roboflow/train/labels/-152B35A7-2687-4126-B46B-5382319E7A3C-png_jpg.rf.3168ee53df56b28d2820cbf58d72535a.txt  \n",
            "  inflating: /content/roboflow/train/labels/-156F82DF-5099-4AEA-8574-19720B40C034-png_jpg.rf.55ed875a4dccfb4a0954ab069e5b9865.txt  \n",
            "  inflating: /content/roboflow/train/labels/-156F82DF-5099-4AEA-8574-19720B40C034-png_jpg.rf.5b3810d70835ea44f3db0b53b6d9099a.txt  \n",
            "  inflating: /content/roboflow/train/labels/-156F82DF-5099-4AEA-8574-19720B40C034-png_jpg.rf.f28dd8c04409a37fe0b2b0beef8849f8.txt  \n",
            "  inflating: /content/roboflow/train/labels/-15F66BCC-7D1B-4C04-82EF-C560EC4C612E-png_jpg.rf.a8322a916c058517509b89a7d3e5c467.txt  \n",
            "  inflating: /content/roboflow/train/labels/-18994A3D-5086-4626-9746-C209358A65CC-png_jpg.rf.071677c725c7904921b95b1845c57bc8.txt  \n",
            "  inflating: /content/roboflow/train/labels/-18994A3D-5086-4626-9746-C209358A65CC-png_jpg.rf.6fde44bb4fbe9acb9dca12ca8b7c2c03.txt  \n",
            "  inflating: /content/roboflow/train/labels/-18994A3D-5086-4626-9746-C209358A65CC-png_jpg.rf.d3f38ce455f9d0c427386c568619205d.txt  \n",
            "  inflating: /content/roboflow/train/labels/-192C4A31-07E9-4438-9D0D-63CF545747C8-png_jpg.rf.3378257ae3ad20260f47da8f874f45cf.txt  \n",
            "  inflating: /content/roboflow/train/labels/-192C4A31-07E9-4438-9D0D-63CF545747C8-png_jpg.rf.ac4935d0a0e2ed19671dccadc8671b87.txt  \n",
            "  inflating: /content/roboflow/train/labels/-192C4A31-07E9-4438-9D0D-63CF545747C8-png_jpg.rf.ca6ac2f74867a2109d99645d8192add5.txt  \n",
            "  inflating: /content/roboflow/train/labels/-192C4A31-07E9-4438-9D0D-63CF545747C8-png_jpg.rf.cd4e0fae7e4d15aca441a363b4ce9144.txt  \n",
            "  inflating: /content/roboflow/train/labels/-1AED8217-3B98-4458-83DD-32F5CA3851FF-png_jpg.rf.04ecfd627e649fa84b657304b983e3bd.txt  \n",
            "  inflating: /content/roboflow/train/labels/-1AED8217-3B98-4458-83DD-32F5CA3851FF-png_jpg.rf.37bd0b1d9577ea1aa08c4c7324168660.txt  \n",
            "  inflating: /content/roboflow/train/labels/-1AED8217-3B98-4458-83DD-32F5CA3851FF-png_jpg.rf.f0c5f98c2e4156ba92b7a71512b7440c.txt  \n",
            "  inflating: /content/roboflow/train/labels/-1D5949D1-5187-454E-8ACC-924AD82CAC9C-png_jpg.rf.7d469845f0929208aff88c967ee14c89.txt  \n",
            "  inflating: /content/roboflow/train/labels/-1D5949D1-5187-454E-8ACC-924AD82CAC9C-png_jpg.rf.969e842d92d758e00b7dfea2ddcb5c90.txt  \n",
            "  inflating: /content/roboflow/train/labels/-1D5949D1-5187-454E-8ACC-924AD82CAC9C-png_jpg.rf.c2abb3e7b2b743718d19b1b1a25245b4.txt  \n",
            " extracting: /content/roboflow/train/labels/-1EE5CA55-C89F-4985-8D4E-A56DBD1A1E96-png_jpg.rf.0966802332a77e307ab6ed6c316a2ba9.txt  \n",
            " extracting: /content/roboflow/train/labels/-1EE5CA55-C89F-4985-8D4E-A56DBD1A1E96-png_jpg.rf.458a4111be2dcd660c4ecfc3d798cc56.txt  \n",
            "  inflating: /content/roboflow/train/labels/-1EE5CA55-C89F-4985-8D4E-A56DBD1A1E96-png_jpg.rf.dded47d3cad3d71f599088e64bc0ed32.txt  \n",
            "  inflating: /content/roboflow/train/labels/-1EE5CA55-C89F-4985-8D4E-A56DBD1A1E96-png_jpg.rf.e95ece19bf5aa625ebfca8fd119bcad4.txt  \n",
            "  inflating: /content/roboflow/train/labels/-1F999A49-2799-4FBC-811D-D10A165F8B02-png_jpg.rf.2b504028a9fe34b8debf39b43041ff0b.txt  \n",
            "  inflating: /content/roboflow/train/labels/-1F999A49-2799-4FBC-811D-D10A165F8B02-png_jpg.rf.48217bbb092da4839e852c8b66d9e7db.txt  \n",
            "  inflating: /content/roboflow/train/labels/-1F999A49-2799-4FBC-811D-D10A165F8B02-png_jpg.rf.6efc8408930d1675b96895cde8995b08.txt  \n",
            "  inflating: /content/roboflow/train/labels/-1F999A49-2799-4FBC-811D-D10A165F8B02-png_jpg.rf.fd5ddf93a6a9b7fafd1b920f9a0bf7f7.txt  \n",
            "  inflating: /content/roboflow/train/labels/-20370F09-C43F-47FF-AEDD-1508B10C5D42-png_jpg.rf.a14882c4e8aea4d3d1fd60c6a62b43c4.txt  \n",
            "  inflating: /content/roboflow/train/labels/-20370F09-C43F-47FF-AEDD-1508B10C5D42-png_jpg.rf.e88fe2f0ace6aefe406dc3dc38562bf2.txt  \n",
            "  inflating: /content/roboflow/train/labels/-2229E395-534F-4F69-9F9B-80628BD8D5AC-png_jpg.rf.ed8df591813ef7e7ffe25bdd3bf6167b.txt  \n",
            "  inflating: /content/roboflow/train/labels/-232CA389-A176-4AB7-A513-8D2D5E477CC2-png_jpg.rf.2a43dc64e41ba3a8502983fe86d9a242.txt  \n",
            "  inflating: /content/roboflow/train/labels/-232CA389-A176-4AB7-A513-8D2D5E477CC2-png_jpg.rf.c136662cd76fa64d91450ac5bee80053.txt  \n",
            "  inflating: /content/roboflow/train/labels/-232CA389-A176-4AB7-A513-8D2D5E477CC2-png_jpg.rf.ce5eeef9e5cb17dcd65844e41553b1dd.txt  \n",
            "  inflating: /content/roboflow/train/labels/-232F1AAC-99B4-4968-8EF1-6B89C021BE11-png_jpg.rf.30476f15ab19b0534ad1fb07afff2a39.txt  \n",
            "  inflating: /content/roboflow/train/labels/-232F1AAC-99B4-4968-8EF1-6B89C021BE11-png_jpg.rf.87710b61c36fc521da0306f0c7d2f7a5.txt  \n",
            "  inflating: /content/roboflow/train/labels/-23705E7A-1279-43E7-B20A-CE37ADAB61DD-png_jpg.rf.0e1ecc6142bffebe2794f5fb4475d119.txt  \n",
            "  inflating: /content/roboflow/train/labels/-23705E7A-1279-43E7-B20A-CE37ADAB61DD-png_jpg.rf.a967eb3f6309464e7b5c3415bddb3061.txt  \n",
            " extracting: /content/roboflow/train/labels/-23705E7A-1279-43E7-B20A-CE37ADAB61DD-png_jpg.rf.ac8f64f7fe63087592d291dfcde64252.txt  \n",
            " extracting: /content/roboflow/train/labels/-23705E7A-1279-43E7-B20A-CE37ADAB61DD-png_jpg.rf.ad80bedd04a1bc27124bd059c71facf5.txt  \n",
            " extracting: /content/roboflow/train/labels/-23705E7A-1279-43E7-B20A-CE37ADAB61DD-png_jpg.rf.fd47dba44cdd325cb0b28a91b47db197.txt  \n",
            "  inflating: /content/roboflow/train/labels/-2482581B-D45C-4C05-97F4-3105704DFABC-png_jpg.rf.25a805439f5c73533b2aa11fcfeb61e3.txt  \n",
            "  inflating: /content/roboflow/train/labels/-2482581B-D45C-4C05-97F4-3105704DFABC-png_jpg.rf.cf6f056640e77377a7b2c22527d7723b.txt  \n",
            "  inflating: /content/roboflow/train/labels/-24FFED69-CE70-43C8-8E00-90684987BD32-png_jpg.rf.b3f540f955629ea7783df0e5ffa19cfb.txt  \n",
            "  inflating: /content/roboflow/train/labels/-251A7DC4-47FA-45BF-8F18-8C933578D147-png_jpg.rf.3894b40969b9387dd400db6daaa4d125.txt  \n",
            "  inflating: /content/roboflow/train/labels/-251A7DC4-47FA-45BF-8F18-8C933578D147-png_jpg.rf.99d123f5fb22b24057c0d30bc872b410.txt  \n",
            "  inflating: /content/roboflow/train/labels/-2526BBBE-6B96-49DC-94B9-880E133FA549-png_jpg.rf.09be4b67818f11faee55ad32b3ec5a31.txt  \n",
            " extracting: /content/roboflow/train/labels/-25B75F91-9590-4B9D-A441-755612305E00-png_jpg.rf.97f6e512fb8e66cdb42609b48268186e.txt  \n",
            " extracting: /content/roboflow/train/labels/-25B75F91-9590-4B9D-A441-755612305E00-png_jpg.rf.a9d33ad12d24ebdcda023b800eeb6753.txt  \n",
            "  inflating: /content/roboflow/train/labels/-25B75F91-9590-4B9D-A441-755612305E00-png_jpg.rf.bc0a43638a06804ee85863ac22aa9ccd.txt  \n",
            "  inflating: /content/roboflow/train/labels/-25B75F91-9590-4B9D-A441-755612305E00-png_jpg.rf.d4faee15cf3f24c51fe50dc6b3c11d3f.txt  \n",
            "  inflating: /content/roboflow/train/labels/-26A4102E-9D99-421D-91DC-9E66089FF2F6-png_jpg.rf.4b3f6cdfe41e02d933e27e4191de992f.txt  \n",
            "  inflating: /content/roboflow/train/labels/-26A4102E-9D99-421D-91DC-9E66089FF2F6-png_jpg.rf.8399719a104443392844e7fc1ca89b84.txt  \n",
            "  inflating: /content/roboflow/train/labels/-26A4102E-9D99-421D-91DC-9E66089FF2F6-png_jpg.rf.8d876c83951e03828ff64e56b71ae9d9.txt  \n",
            "  inflating: /content/roboflow/train/labels/-26A4102E-9D99-421D-91DC-9E66089FF2F6-png_jpg.rf.a50609ff4323b02ac15a7bdf430cad30.txt  \n",
            "  inflating: /content/roboflow/train/labels/-26A4102E-9D99-421D-91DC-9E66089FF2F6-png_jpg.rf.a7327114e4f58caed494b6480ec73dbe.txt  \n",
            "  inflating: /content/roboflow/train/labels/-26D423C9-C9F8-4CA3-B49E-3664225FB20C-png_jpg.rf.1e19dfb9a2e9fa30005c23a72d3d8994.txt  \n",
            "  inflating: /content/roboflow/train/labels/-26D423C9-C9F8-4CA3-B49E-3664225FB20C-png_jpg.rf.2514fd0ae7fc3065b14dedb02ce197e3.txt  \n",
            "  inflating: /content/roboflow/train/labels/-2846226C-6A55-4876-B717-7F8A5FA4E560-png_jpg.rf.2265b05e5a1d930074ed8a63a5fef877.txt  \n",
            "  inflating: /content/roboflow/train/labels/-2846226C-6A55-4876-B717-7F8A5FA4E560-png_jpg.rf.62ef9e5088098f89d93e12b521129e57.txt  \n",
            "  inflating: /content/roboflow/train/labels/-28A7CBC5-452A-4B8D-91E0-397F87E23E7F-png_jpg.rf.88e5130747d54c8cbfc327f071d7ef55.txt  \n",
            "  inflating: /content/roboflow/train/labels/-28A7CBC5-452A-4B8D-91E0-397F87E23E7F-png_jpg.rf.ba722ffa4712b589b3d8d5bb6961611f.txt  \n",
            "  inflating: /content/roboflow/train/labels/-28A7CBC5-452A-4B8D-91E0-397F87E23E7F-png_jpg.rf.c36ed600c3f069601b7112c914bd3253.txt  \n",
            "  inflating: /content/roboflow/train/labels/-2AE9E484-CD7E-45FB-BD22-3EB7588C1224-png_jpg.rf.2dc6988ac5ff2fcd88634f6eb3ca788b.txt  \n",
            "  inflating: /content/roboflow/train/labels/-2AE9E484-CD7E-45FB-BD22-3EB7588C1224-png_jpg.rf.ccd145665b2467770d16003038a70837.txt  \n",
            "  inflating: /content/roboflow/train/labels/-2B9B8378-CF94-4121-9F57-AA504E361DEC-png_jpg.rf.b06c993f58125a9c3a1ef5690b97eb2e.txt  \n",
            "  inflating: /content/roboflow/train/labels/-2B9B8378-CF94-4121-9F57-AA504E361DEC-png_jpg.rf.ffddf785580d0f84d53a5b95460e2815.txt  \n",
            "  inflating: /content/roboflow/train/labels/-2CC30CC7-5872-41C8-80F9-549219177A84-png_jpg.rf.59bc96f82d0745094742b1eaac4902bc.txt  \n",
            "  inflating: /content/roboflow/train/labels/-3130BF7E-8143-44C3-AC0D-8068C9108560-png_jpg.rf.6770a8aff3f8bf7d4f5ae6f7defab374.txt  \n",
            "  inflating: /content/roboflow/train/labels/-3130BF7E-8143-44C3-AC0D-8068C9108560-png_jpg.rf.bc24ca147a4a4b753d89f205f81c135d.txt  \n",
            "  inflating: /content/roboflow/train/labels/-332D2462-631E-4F9D-914E-9EA5A217A8FA-png_jpg.rf.028893a139591865711d31627dbd4026.txt  \n",
            "  inflating: /content/roboflow/train/labels/-3372F3CB-7432-4FE7-B9BB-DFB5D1FC3CD4-png_jpg.rf.4f3b61f14a5caab0b644e495f07a3e4a.txt  \n",
            "  inflating: /content/roboflow/train/labels/-341F28F4-B515-475F-8729-F40EFDDDF0C2-png_jpg.rf.0b8bafb4873755b8e54faa41b4e12506.txt  \n",
            "  inflating: /content/roboflow/train/labels/-341F28F4-B515-475F-8729-F40EFDDDF0C2-png_jpg.rf.ac22e6aed866e56ac3ec7906c55ec4db.txt  \n",
            "  inflating: /content/roboflow/train/labels/-341F28F4-B515-475F-8729-F40EFDDDF0C2-png_jpg.rf.c283141e9d625e87d5d336d16ebe2289.txt  \n",
            "  inflating: /content/roboflow/train/labels/-344A5C5C-CF3A-48B7-BE2F-7373A99B6465-png_jpg.rf.3d8cb3742e1544b2f071d90b09c3c952.txt  \n",
            "  inflating: /content/roboflow/train/labels/-344A5C5C-CF3A-48B7-BE2F-7373A99B6465-png_jpg.rf.590298027ac03fb550a98c655de0e30c.txt  \n",
            " extracting: /content/roboflow/train/labels/-3571FC71-85E8-4968-8882-3A4B92AC8388-png_jpg.rf.7ee7560e6055625e5f749d614bec24f8.txt  \n",
            "  inflating: /content/roboflow/train/labels/-35C8F869-003E-4989-ADF3-F79D890A8FE4-png_jpg.rf.0185f421579b613e8b5e06f9fb6120db.txt  \n",
            "  inflating: /content/roboflow/train/labels/-35C8F869-003E-4989-ADF3-F79D890A8FE4-png_jpg.rf.6a5246588a3561642b0ff83758c5ff78.txt  \n",
            "  inflating: /content/roboflow/train/labels/-375329E9-678F-4B48-AED2-472A7ED60D19-png_jpg.rf.a1ebd5704af612b5963e160ebe9c167a.txt  \n",
            "  inflating: /content/roboflow/train/labels/-375329E9-678F-4B48-AED2-472A7ED60D19-png_jpg.rf.e61a1c670039913b451bf7ceae53bf31.txt  \n",
            "  inflating: /content/roboflow/train/labels/-37621770-EA10-4509-962F-29AD0F6F09D8-png_jpg.rf.30a987e9b113d4f115971e60354f3cbb.txt  \n",
            "  inflating: /content/roboflow/train/labels/-37621770-EA10-4509-962F-29AD0F6F09D8-png_jpg.rf.63c867aa8b56bb676e2f8198ce33670e.txt  \n",
            "  inflating: /content/roboflow/train/labels/-37621770-EA10-4509-962F-29AD0F6F09D8-png_jpg.rf.ec4f32da9d0a3d157498a11fcd2d4f1f.txt  \n",
            "  inflating: /content/roboflow/train/labels/-37EAFDFC-4667-4A10-98F7-3C9FB6EC7912-png_jpg.rf.228eb29284c84430a359fe5172f03158.txt  \n",
            "  inflating: /content/roboflow/train/labels/-37EAFDFC-4667-4A10-98F7-3C9FB6EC7912-png_jpg.rf.c2cd0fb39166b59d3f3c508edcaa648a.txt  \n",
            "  inflating: /content/roboflow/train/labels/-3827C0BE-B55D-4ADE-9938-9DC7D50A32DD-png_jpg.rf.1dceb3e4b3675a959c5fc38a61dae006.txt  \n",
            "  inflating: /content/roboflow/train/labels/-3827C0BE-B55D-4ADE-9938-9DC7D50A32DD-png_jpg.rf.6405f750c505edc60268bd9589fe6eea.txt  \n",
            "  inflating: /content/roboflow/train/labels/-3827C0BE-B55D-4ADE-9938-9DC7D50A32DD-png_jpg.rf.8a71934b44bac03d77b73ea4b98ecadc.txt  \n",
            "  inflating: /content/roboflow/train/labels/-3827C0BE-B55D-4ADE-9938-9DC7D50A32DD-png_jpg.rf.a264b2766c30ede1611b34b42590178c.txt  \n",
            "  inflating: /content/roboflow/train/labels/-3827C0BE-B55D-4ADE-9938-9DC7D50A32DD-png_jpg.rf.b688155b15e834b6e9d7584fa3459852.txt  \n",
            "  inflating: /content/roboflow/train/labels/-3947B75C-299F-46E6-84AF-947CB4AE712E-png_jpg.rf.02daeaaabb3f5a330daccc1fd792c3dd.txt  \n",
            "  inflating: /content/roboflow/train/labels/-3947B75C-299F-46E6-84AF-947CB4AE712E-png_jpg.rf.736c53fc82c392450d918065d38eaae7.txt  \n",
            "  inflating: /content/roboflow/train/labels/-3947B75C-299F-46E6-84AF-947CB4AE712E-png_jpg.rf.ec43f9bf4396764c1fd1d144a027f755.txt  \n",
            "  inflating: /content/roboflow/train/labels/-394F92E4-59B2-4B85-9170-F782BC3DC244-png_jpg.rf.82915d7ad27865a7d34089789422b47b.txt  \n",
            "  inflating: /content/roboflow/train/labels/-394F92E4-59B2-4B85-9170-F782BC3DC244-png_jpg.rf.9da316b3b939404289e65b85f9e19cfd.txt  \n",
            "  inflating: /content/roboflow/train/labels/-394F92E4-59B2-4B85-9170-F782BC3DC244-png_jpg.rf.ae14e83123c6d988c22e12c2da3ee798.txt  \n",
            "  inflating: /content/roboflow/train/labels/-394F92E4-59B2-4B85-9170-F782BC3DC244-png_jpg.rf.cbc61e699ec041274ecd2e0fa9df0a7a.txt  \n",
            "  inflating: /content/roboflow/train/labels/-398D11E1-12E9-4FE1-83DA-198B0C1A0D9D-png_jpg.rf.991ca7b7f350ac2d7a06497ccada182d.txt  \n",
            "  inflating: /content/roboflow/train/labels/-398D11E1-12E9-4FE1-83DA-198B0C1A0D9D-png_jpg.rf.fc15b0db0d4472e96487739f7991419c.txt  \n",
            "  inflating: /content/roboflow/train/labels/-39CA14CD-A783-4F15-AEE6-F52595AC33A1-png_jpg.rf.1fe1fd6e796ced19d0ed549217f163b8.txt  \n",
            "  inflating: /content/roboflow/train/labels/-39CA14CD-A783-4F15-AEE6-F52595AC33A1-png_jpg.rf.50120829a4e7c8c2792f166fc9cde9c1.txt  \n",
            "  inflating: /content/roboflow/train/labels/-3AFF5173-8DB5-4DFD-A3AD-3ED85BD289FB-png_jpg.rf.6a04d386c9747b49c396d767fd937d32.txt  \n",
            "  inflating: /content/roboflow/train/labels/-3AFF5173-8DB5-4DFD-A3AD-3ED85BD289FB-png_jpg.rf.81848729348b82e6266228fcbef3c851.txt  \n",
            "  inflating: /content/roboflow/train/labels/-3B056DBB-3097-4BCB-A38A-F66FA7470A6C-png_jpg.rf.c40c4fc452cf73170d93b7f711ca3a5b.txt  \n",
            "  inflating: /content/roboflow/train/labels/-3B056DBB-3097-4BCB-A38A-F66FA7470A6C-png_jpg.rf.d6f2873b716117353ed0e0e38d579e3b.txt  \n",
            "  inflating: /content/roboflow/train/labels/-3B056DBB-3097-4BCB-A38A-F66FA7470A6C-png_jpg.rf.db453449b465a2ce705009e448aecd8d.txt  \n",
            "  inflating: /content/roboflow/train/labels/-3B056DBB-3097-4BCB-A38A-F66FA7470A6C-png_jpg.rf.f5b3af826c0eed37558e4452784f6d50.txt  \n",
            "  inflating: /content/roboflow/train/labels/-3B48CB36-3DE2-4088-B9D1-6F639B60DA9C-png_jpg.rf.29ac2a0d8764130b59df6e487e8453fb.txt  \n",
            "  inflating: /content/roboflow/train/labels/-3B48CB36-3DE2-4088-B9D1-6F639B60DA9C-png_jpg.rf.75093a10add252fa25f2a0fdbc149de2.txt  \n",
            "  inflating: /content/roboflow/train/labels/-3B48CB36-3DE2-4088-B9D1-6F639B60DA9C-png_jpg.rf.7a4b48baff1df89566b7a6ba04c9d048.txt  \n",
            "  inflating: /content/roboflow/train/labels/-3B54DE29-3BCA-4191-A23E-003270236E01-png_jpg.rf.0818a291d817617280069c44daa8b074.txt  \n",
            "  inflating: /content/roboflow/train/labels/-3B54DE29-3BCA-4191-A23E-003270236E01-png_jpg.rf.227cfbc04c144caa21b97d16fbfab6a6.txt  \n",
            "  inflating: /content/roboflow/train/labels/-3B54DE29-3BCA-4191-A23E-003270236E01-png_jpg.rf.7d3f915d9107d8313e04641938feb9fd.txt  \n",
            "  inflating: /content/roboflow/train/labels/-3C758EB2-E016-4C89-93CE-0E4FF51161C2-png_jpg.rf.181a181b19c0d8b45ca1e1b2c08e4cd9.txt  \n",
            "  inflating: /content/roboflow/train/labels/-3C758EB2-E016-4C89-93CE-0E4FF51161C2-png_jpg.rf.3e1d0db253cf4c47aeb90b0fa503d343.txt  \n",
            "  inflating: /content/roboflow/train/labels/-3C758EB2-E016-4C89-93CE-0E4FF51161C2-png_jpg.rf.53473776d4671a7dd2f5bf0a884af147.txt  \n",
            "  inflating: /content/roboflow/train/labels/-3D578705-6794-4049-BF6D-A828FC4F0722-png_jpg.rf.c54098bb32380f40287c77d016ac7400.txt  \n",
            "  inflating: /content/roboflow/train/labels/-400E9E90-CD4A-470F-89E2-C9E1D1854AAB-png_jpg.rf.4b2b0f807dd3f10c1bc7d472971596a0.txt  \n",
            "  inflating: /content/roboflow/train/labels/-400E9E90-CD4A-470F-89E2-C9E1D1854AAB-png_jpg.rf.c04e3763bfb342c6c3b599c72d3e5a4b.txt  \n",
            " extracting: /content/roboflow/train/labels/-400E9E90-CD4A-470F-89E2-C9E1D1854AAB-png_jpg.rf.df2336a08ac3d95c94f9116b6e2ab7fa.txt  \n",
            " extracting: /content/roboflow/train/labels/-400E9E90-CD4A-470F-89E2-C9E1D1854AAB-png_jpg.rf.f9de1c4c2b2768e706ec63d3e70c701d.txt  \n",
            "  inflating: /content/roboflow/train/labels/-410FB936-1128-4721-89DE-79E2F58D3B24-png_jpg.rf.82c68b08260772de8e6f1d87d36d71ae.txt  \n",
            "  inflating: /content/roboflow/train/labels/-41421EB3-10E7-4E8B-9D22-424751A9FE8A-png_jpg.rf.1139c5d2e6529d2e47125bc735b7abb4.txt  \n",
            "  inflating: /content/roboflow/train/labels/-41421EB3-10E7-4E8B-9D22-424751A9FE8A-png_jpg.rf.79cf5d4eb62934ba87a0a31a2f073992.txt  \n",
            "  inflating: /content/roboflow/train/labels/-420B178A-1068-4C65-B00F-763738FCB982-png_jpg.rf.0e0d2d02e32037f8f0488f6e6a737a33.txt  \n",
            "  inflating: /content/roboflow/train/labels/-420B178A-1068-4C65-B00F-763738FCB982-png_jpg.rf.13373fdd224b9bac14010d4c2b6b6e53.txt  \n",
            "  inflating: /content/roboflow/train/labels/-420B178A-1068-4C65-B00F-763738FCB982-png_jpg.rf.344359acfada666a348fce2813e1a10b.txt  \n",
            "  inflating: /content/roboflow/train/labels/-420B178A-1068-4C65-B00F-763738FCB982-png_jpg.rf.c82b39464d02ac14b3daccec5b0ee2c0.txt  \n",
            "  inflating: /content/roboflow/train/labels/-422F5744-FC5F-4A43-8DFE-CEF738B5015C-png_jpg.rf.3ae1f95bdd1ba046f2dfe55c03283098.txt  \n",
            "  inflating: /content/roboflow/train/labels/-422F5744-FC5F-4A43-8DFE-CEF738B5015C-png_jpg.rf.83c76d2999542a928e98a83e37d8d02b.txt  \n",
            "  inflating: /content/roboflow/train/labels/-423FE4FB-F3E1-4E8E-8A40-5A99AEF6C353-png_jpg.rf.26c525440c4e7e4446dc927c46074aa1.txt  \n",
            "  inflating: /content/roboflow/train/labels/-423FE4FB-F3E1-4E8E-8A40-5A99AEF6C353-png_jpg.rf.dd706c800d6968fc03648d5c503aa1f4.txt  \n",
            "  inflating: /content/roboflow/train/labels/-431A51B8-216A-4491-8839-72DCD54029AD-png_jpg.rf.6db97465767deaff1c366b94df6ce8b5.txt  \n",
            "  inflating: /content/roboflow/train/labels/-431A51B8-216A-4491-8839-72DCD54029AD-png_jpg.rf.8747398f59f87f78a40665c807b9f16f.txt  \n",
            "  inflating: /content/roboflow/train/labels/-44DB40B6-D520-4654-A07D-E87A49846F12-png_jpg.rf.1b3610b11bddef01445e1ba6e75bb41d.txt  \n",
            "  inflating: /content/roboflow/train/labels/-44DB40B6-D520-4654-A07D-E87A49846F12-png_jpg.rf.225691024608102bf1bc1a018042272b.txt  \n",
            "  inflating: /content/roboflow/train/labels/-44DB40B6-D520-4654-A07D-E87A49846F12-png_jpg.rf.364b37d841ebfd383554aba2204207cf.txt  \n",
            "  inflating: /content/roboflow/train/labels/-44DB40B6-D520-4654-A07D-E87A49846F12-png_jpg.rf.51475d45ef30390b2da41cc3a1f300b3.txt  \n",
            "  inflating: /content/roboflow/train/labels/-44DB40B6-D520-4654-A07D-E87A49846F12-png_jpg.rf.a82508f670957895b50d7b449ea6641a.txt  \n",
            "  inflating: /content/roboflow/train/labels/-44DB40B6-D520-4654-A07D-E87A49846F12-png_jpg.rf.c716a27434e8409ca5730f73cc12f42c.txt  \n",
            "  inflating: /content/roboflow/train/labels/-44DB40B6-D520-4654-A07D-E87A49846F12-png_jpg.rf.d50c20e2215f91202121fc5e0fea0608.txt  \n",
            "  inflating: /content/roboflow/train/labels/-44DB40B6-D520-4654-A07D-E87A49846F12-png_jpg.rf.eb28040fe5b3ff49af69b90e899b0801.txt  \n",
            "  inflating: /content/roboflow/train/labels/-44EED5AD-F010-4649-819C-9091185CA9AD-png_jpg.rf.31057313bb1116763fcf25def3cc0da2.txt  \n",
            "  inflating: /content/roboflow/train/labels/-44EED5AD-F010-4649-819C-9091185CA9AD-png_jpg.rf.5f2f747c9e17e80a1a26a936fb8bb2f5.txt  \n",
            "  inflating: /content/roboflow/train/labels/-44EED5AD-F010-4649-819C-9091185CA9AD-png_jpg.rf.954a1d8aae2eddbb7206373072c3841d.txt  \n",
            "  inflating: /content/roboflow/train/labels/-44EED5AD-F010-4649-819C-9091185CA9AD-png_jpg.rf.ab80fcfa210c9b7e382c1077a6c45863.txt  \n",
            "  inflating: /content/roboflow/train/labels/-44EED5AD-F010-4649-819C-9091185CA9AD-png_jpg.rf.dc2b91dfd29bc2a0c3bb215be6e14913.txt  \n",
            "  inflating: /content/roboflow/train/labels/-465396AA-4CB9-4625-A390-70D9E748937A-png_jpg.rf.28ef4f010cad5c8f386fb0e2ad25e3cc.txt  \n",
            "  inflating: /content/roboflow/train/labels/-469593C2-4B3A-4A0B-B78A-24B4A79CCC35-png_jpg.rf.3b34736082dd015ca57596743a3da59e.txt  \n",
            "  inflating: /content/roboflow/train/labels/-48CC7018-725B-4547-B690-F5BE19F7A7B8-png_jpg.rf.a9f11ce73c4245416fc484b6769ef612.txt  \n",
            "  inflating: /content/roboflow/train/labels/-496DFB6F-CD96-44F4-8CF4-683733EC79B6-png_jpg.rf.3af5d9212a68d16fc2f76a60adfa5591.txt  \n",
            " extracting: /content/roboflow/train/labels/-496DFB6F-CD96-44F4-8CF4-683733EC79B6-png_jpg.rf.e4ff66c848eea7f29b33822fe07307fc.txt  \n",
            "  inflating: /content/roboflow/train/labels/-4B472EFE-F5FA-44B6-A214-B41E70E2A0BC-png_jpg.rf.218c9f3468fe41c0652281c6b58e8526.txt  \n",
            "  inflating: /content/roboflow/train/labels/-4B472EFE-F5FA-44B6-A214-B41E70E2A0BC-png_jpg.rf.228c95a9d46e8e77468687ce9fc017f2.txt  \n",
            "  inflating: /content/roboflow/train/labels/-4B472EFE-F5FA-44B6-A214-B41E70E2A0BC-png_jpg.rf.8841275e69ba9d00ea59bc263d4e7281.txt  \n",
            "  inflating: /content/roboflow/train/labels/-4B472EFE-F5FA-44B6-A214-B41E70E2A0BC-png_jpg.rf.930790a96aeb61e4cc76edb794bf5ab2.txt  \n",
            "  inflating: /content/roboflow/train/labels/-4B472EFE-F5FA-44B6-A214-B41E70E2A0BC-png_jpg.rf.c3e330b2ac92634e28f3ff72f39c0ef8.txt  \n",
            "  inflating: /content/roboflow/train/labels/-4B733FC3-CEF8-427E-B4A1-7C1E04168672-png_jpg.rf.7ecde4f64ad8dc0c3e219494b3e2ae6b.txt  \n",
            "  inflating: /content/roboflow/train/labels/-4B741C2C-6B83-4220-B69F-FCD31BA7BD93-png_jpg.rf.4ff97ee8800a387eea201857c42dc297.txt  \n",
            "  inflating: /content/roboflow/train/labels/-4B741C2C-6B83-4220-B69F-FCD31BA7BD93-png_jpg.rf.59c5d8f1b22aced9e929cfb2a1eb855b.txt  \n",
            "  inflating: /content/roboflow/train/labels/-4BB97EA4-824F-4351-B178-A426E8AE6051-png_jpg.rf.1fd067c81b44f1f9aa804a1d82565d0f.txt  \n",
            "  inflating: /content/roboflow/train/labels/-4BB97EA4-824F-4351-B178-A426E8AE6051-png_jpg.rf.d99c9c94ac6cdf3b1f4ceb25af36266f.txt  \n",
            "  inflating: /content/roboflow/train/labels/-4C46AFBE-4FFB-4612-923E-76294EF2233B-png_jpg.rf.2341033b270978813cf94c662796ebb1.txt  \n",
            "  inflating: /content/roboflow/train/labels/-4C46AFBE-4FFB-4612-923E-76294EF2233B-png_jpg.rf.2bfede2ad0c144dfd2280baffdc4a488.txt  \n",
            "  inflating: /content/roboflow/train/labels/-4C46AFBE-4FFB-4612-923E-76294EF2233B-png_jpg.rf.6dcd3cd9522e264e22d852436f201736.txt  \n",
            "  inflating: /content/roboflow/train/labels/-4C46AFBE-4FFB-4612-923E-76294EF2233B-png_jpg.rf.efd055bb20c8fc1d0bd345e06b99aefd.txt  \n",
            "  inflating: /content/roboflow/train/labels/-4C9F05A1-7CD5-458B-B604-60361B491683-png_jpg.rf.15aaf488c3036e07eef8d3d8e693857a.txt  \n",
            "  inflating: /content/roboflow/train/labels/-4C9F05A1-7CD5-458B-B604-60361B491683-png_jpg.rf.78805b9f22a2f9e934873bf4d805284f.txt  \n",
            "  inflating: /content/roboflow/train/labels/-4C9F05A1-7CD5-458B-B604-60361B491683-png_jpg.rf.9543cf1364422a682643cc89f808f22f.txt  \n",
            "  inflating: /content/roboflow/train/labels/-4C9F05A1-7CD5-458B-B604-60361B491683-png_jpg.rf.9bd02ea2e8e58c47ffb7e945ddae1866.txt  \n",
            " extracting: /content/roboflow/train/labels/-4D888E2B-7F5D-4626-B4FF-E092A163D4B5-png_jpg.rf.70ec6940ae65344dcf6d5421b46cd97f.txt  \n",
            "  inflating: /content/roboflow/train/labels/-4DFF09F8-2283-495F-9C84-6A25870884F8-png_jpg.rf.95c22639a33eafc2bde02a3cf0515b59.txt  \n",
            "  inflating: /content/roboflow/train/labels/-4FB14832-DB4E-41E9-B8FC-9D33DEB67AAA-png_jpg.rf.182a84bbffa683c9df5cdf7473598323.txt  \n",
            "  inflating: /content/roboflow/train/labels/-4FB14832-DB4E-41E9-B8FC-9D33DEB67AAA-png_jpg.rf.c99a4be0fb2f527ca81e8f66bf982fb6.txt  \n",
            "  inflating: /content/roboflow/train/labels/-50894A9D-DA2D-4049-9C7B-6006F32452BC-png_jpg.rf.56f26d3f416fc7521f4b7913396c1445.txt  \n",
            "  inflating: /content/roboflow/train/labels/-50894A9D-DA2D-4049-9C7B-6006F32452BC-png_jpg.rf.dd56b08cd1767501699323cc22e1ac00.txt  \n",
            "  inflating: /content/roboflow/train/labels/-51FFF967-684D-4519-8EC0-A9C7CC6F2280-png_jpg.rf.1e5286e2279da956993bd054824c244a.txt  \n",
            "  inflating: /content/roboflow/train/labels/-51FFF967-684D-4519-8EC0-A9C7CC6F2280-png_jpg.rf.48a6446cb7fd30b405fcc69ddb735bfa.txt  \n",
            "  inflating: /content/roboflow/train/labels/-51FFF967-684D-4519-8EC0-A9C7CC6F2280-png_jpg.rf.ddb00b02660e6be8f8e0423e79133f1c.txt  \n",
            "  inflating: /content/roboflow/train/labels/-52262D73-8B4E-4F06-883D-4C6E2E6ADED2-png_jpg.rf.4071f45a6162cb0236b7afa4aef4c70f.txt  \n",
            " extracting: /content/roboflow/train/labels/-52262D73-8B4E-4F06-883D-4C6E2E6ADED2-png_jpg.rf.4a641421731a95b782f8a1a773c2db69.txt  \n",
            "  inflating: /content/roboflow/train/labels/-526B0491-0C42-4F0F-A201-ECFD6ED3DD6E-png_jpg.rf.23c2e013e4d1616fd7f8a7c5605d1ab5.txt  \n",
            "  inflating: /content/roboflow/train/labels/-526B0491-0C42-4F0F-A201-ECFD6ED3DD6E-png_jpg.rf.25ba323ab3e8c2dccca05f16192fa5a0.txt  \n",
            "  inflating: /content/roboflow/train/labels/-526B0491-0C42-4F0F-A201-ECFD6ED3DD6E-png_jpg.rf.636e1b6438e63bbc1f3a0048f51b0803.txt  \n",
            "  inflating: /content/roboflow/train/labels/-526B0491-0C42-4F0F-A201-ECFD6ED3DD6E-png_jpg.rf.bcf8639f76a3688a27ea28268799f6b1.txt  \n",
            "  inflating: /content/roboflow/train/labels/-5273059D-9AB0-4D26-B042-322F7A5E4CCD-png_jpg.rf.3037c913caec9c2037cdb22627fa5f76.txt  \n",
            "  inflating: /content/roboflow/train/labels/-52C0EFE4-90C2-473F-9FEE-2E416111A8C7-png_jpg.rf.6f1e323f5869e8c9870a7ed7bfd4c520.txt  \n",
            "  inflating: /content/roboflow/train/labels/-52D877A5-D9D5-4B8F-848F-E449684E4869-png_jpg.rf.98bcec5443eaf6ad511c5fe6dda334e7.txt  \n",
            "  inflating: /content/roboflow/train/labels/-531F16FE-7468-484D-8B14-D5229D4851B8-png_jpg.rf.14461cf2c46f7b05304cb311731d8bc7.txt  \n",
            "  inflating: /content/roboflow/train/labels/-531F16FE-7468-484D-8B14-D5229D4851B8-png_jpg.rf.3438dfd55da7714089389082e0e4aca1.txt  \n",
            "  inflating: /content/roboflow/train/labels/-531F16FE-7468-484D-8B14-D5229D4851B8-png_jpg.rf.7102540353ef97ec70f30912e6b46246.txt  \n",
            "  inflating: /content/roboflow/train/labels/-531F16FE-7468-484D-8B14-D5229D4851B8-png_jpg.rf.ddad90d125dda60c4d4ef179900a2858.txt  \n",
            "  inflating: /content/roboflow/train/labels/-531F16FE-7468-484D-8B14-D5229D4851B8-png_jpg.rf.dfe7f8121f065f26a95d362dc1419162.txt  \n",
            " extracting: /content/roboflow/train/labels/-531F9D36-6096-4999-B709-28F1E5F38DFE-png_jpg.rf.1bf9d8919dbe3d153a98abfa2ea5862c.txt  \n",
            "  inflating: /content/roboflow/train/labels/-5399AA20-C3A4-4841-9CA4-0D18DFCA3806-png_jpg.rf.1fff207b40c04fd38bcc983f3a7d1dc3.txt  \n",
            "  inflating: /content/roboflow/train/labels/-5399AA20-C3A4-4841-9CA4-0D18DFCA3806-png_jpg.rf.9e53db38ce36eefd0bc8dc31aa6c6e7a.txt  \n",
            "  inflating: /content/roboflow/train/labels/-5399AA20-C3A4-4841-9CA4-0D18DFCA3806-png_jpg.rf.f63d4ee0ed1d79d5453059c5ab6c59b2.txt  \n",
            " extracting: /content/roboflow/train/labels/-53C40FB0-F866-4F4A-A410-D32C65C75BB4-png_jpg.rf.1d2678a5945811eec35d2aa92db27d1c.txt  \n",
            " extracting: /content/roboflow/train/labels/-53C40FB0-F866-4F4A-A410-D32C65C75BB4-png_jpg.rf.1d942fbf6ca461f5533e11480cb06450.txt  \n",
            "  inflating: /content/roboflow/train/labels/-53C40FB0-F866-4F4A-A410-D32C65C75BB4-png_jpg.rf.4f545ab119c038e547acc73ed26ee4f2.txt  \n",
            "  inflating: /content/roboflow/train/labels/-53C40FB0-F866-4F4A-A410-D32C65C75BB4-png_jpg.rf.5c428aad09f60082484c4f5f55ba1a5d.txt  \n",
            "  inflating: /content/roboflow/train/labels/-53C40FB0-F866-4F4A-A410-D32C65C75BB4-png_jpg.rf.edc5ca627b11b48f461bf920d550938b.txt  \n",
            "  inflating: /content/roboflow/train/labels/-53C40FB0-F866-4F4A-A410-D32C65C75BB4-png_jpg.rf.f6c60b964e202922d12afc3e73f064bc.txt  \n",
            "  inflating: /content/roboflow/train/labels/-53D41263-2FA3-40DF-9556-1EB08D19D5F1-png_jpg.rf.90d37abb769aa32b1fcd993342530319.txt  \n",
            "  inflating: /content/roboflow/train/labels/-53D41263-2FA3-40DF-9556-1EB08D19D5F1-png_jpg.rf.93d7033f288a27622f885bafdc9cc49a.txt  \n",
            "  inflating: /content/roboflow/train/labels/-53D41263-2FA3-40DF-9556-1EB08D19D5F1-png_jpg.rf.f43b7185889509603d6bb11f235050bd.txt  \n",
            "  inflating: /content/roboflow/train/labels/-541C6E4C-DEC9-4725-97C0-B773CF5182AB-png_jpg.rf.3f82f8c6840638a243d1f0560bf1d8cb.txt  \n",
            "  inflating: /content/roboflow/train/labels/-541C6E4C-DEC9-4725-97C0-B773CF5182AB-png_jpg.rf.59987db429d18831198a15ee37fcee3a.txt  \n",
            "  inflating: /content/roboflow/train/labels/-541C6E4C-DEC9-4725-97C0-B773CF5182AB-png_jpg.rf.7e1ae97e58a199846da9bfac876a2520.txt  \n",
            "  inflating: /content/roboflow/train/labels/-5481DCB8-6595-495C-BFEB-5B74B2345808-png_jpg.rf.2456c41b63b6b339427374bdf92d648a.txt  \n",
            "  inflating: /content/roboflow/train/labels/-5481DCB8-6595-495C-BFEB-5B74B2345808-png_jpg.rf.3cacf962f103bbf3b54c36859f2920c9.txt  \n",
            "  inflating: /content/roboflow/train/labels/-5481DCB8-6595-495C-BFEB-5B74B2345808-png_jpg.rf.516ce02fa23ffa9877141807ca500d15.txt  \n",
            "  inflating: /content/roboflow/train/labels/-5541726B-201F-4295-A6CB-AA0F566A62F9-png_jpg.rf.af9288627ce09a9d08ab14536ef01ceb.txt  \n",
            " extracting: /content/roboflow/train/labels/-560B3012-6E26-4551-A44C-6F4AB53B707E-png_jpg.rf.0b05d90fb8d357852b64761aafbe2c03.txt  \n",
            "  inflating: /content/roboflow/train/labels/-560B3012-6E26-4551-A44C-6F4AB53B707E-png_jpg.rf.0d677005ff1a4df00f895c1c623277cf.txt  \n",
            " extracting: /content/roboflow/train/labels/-560B3012-6E26-4551-A44C-6F4AB53B707E-png_jpg.rf.332e0c72f2cdd57ea2f8a9c85e3eda65.txt  \n",
            "  inflating: /content/roboflow/train/labels/-560B3012-6E26-4551-A44C-6F4AB53B707E-png_jpg.rf.469b9c411f6da2675f11580350fc7ad1.txt  \n",
            " extracting: /content/roboflow/train/labels/-560B3012-6E26-4551-A44C-6F4AB53B707E-png_jpg.rf.6e1bd02470160397885400ef6f5d676c.txt  \n",
            " extracting: /content/roboflow/train/labels/-560B3012-6E26-4551-A44C-6F4AB53B707E-png_jpg.rf.8a57bc256742c301de933a7ba14576a4.txt  \n",
            "  inflating: /content/roboflow/train/labels/-560B3012-6E26-4551-A44C-6F4AB53B707E-png_jpg.rf.90e745b49bc265d3b80c0003cb3f2cb1.txt  \n",
            "  inflating: /content/roboflow/train/labels/-560B3012-6E26-4551-A44C-6F4AB53B707E-png_jpg.rf.cfa4e7f64ecb1f88286ae8d3047aee7a.txt  \n",
            "  inflating: /content/roboflow/train/labels/-560FDA71-D338-4454-BC81-857A74DE813D-png_jpg.rf.4fedc35c2d8e7a59f4d928691d637d46.txt  \n",
            "  inflating: /content/roboflow/train/labels/-560FDA71-D338-4454-BC81-857A74DE813D-png_jpg.rf.e0fdee80d6d9f8fb088ae24fe7d87a84.txt  \n",
            "  inflating: /content/roboflow/train/labels/-56EAA0B9-41EA-46F5-99F9-433F614E42FB-png_jpg.rf.7bd92cf5d66f18b28f79559e147fa915.txt  \n",
            "  inflating: /content/roboflow/train/labels/-56EAA0B9-41EA-46F5-99F9-433F614E42FB-png_jpg.rf.c66a6bfd07e88ae8ee001b8c77299692.txt  \n",
            "  inflating: /content/roboflow/train/labels/-56EAA0B9-41EA-46F5-99F9-433F614E42FB-png_jpg.rf.d3909c883b5f8a32effc53fa65e2d8f1.txt  \n",
            "  inflating: /content/roboflow/train/labels/-56EAA0B9-41EA-46F5-99F9-433F614E42FB-png_jpg.rf.fb296e562f176fef65f8e56fed51ae89.txt  \n",
            "  inflating: /content/roboflow/train/labels/-56EF2068-CDF4-4068-80A1-E567375D4AE6-png_jpg.rf.3ceed22aa1de660f437c6342119802c7.txt  \n",
            "  inflating: /content/roboflow/train/labels/-56EF2068-CDF4-4068-80A1-E567375D4AE6-png_jpg.rf.6c5947cf2ef2d18acf91d9b9beff00a5.txt  \n",
            "  inflating: /content/roboflow/train/labels/-56EF2068-CDF4-4068-80A1-E567375D4AE6-png_jpg.rf.a182a0761f155d77388023588ae0e71b.txt  \n",
            "  inflating: /content/roboflow/train/labels/-58A0B6C6-CAE2-41F9-9A9F-6B6E1A4EE492-png_jpg.rf.0aae21b427661e88571f61003188665c.txt  \n",
            "  inflating: /content/roboflow/train/labels/-58A0B6C6-CAE2-41F9-9A9F-6B6E1A4EE492-png_jpg.rf.e384d91cfca864daef1918740af2e5f8.txt  \n",
            "  inflating: /content/roboflow/train/labels/-59D02DDC-DB49-41DA-8B1F-33712FDE8CEE-png_jpg.rf.a51c60e8ddac07893b798dfe37166e08.txt  \n",
            "  inflating: /content/roboflow/train/labels/-5A06964D-6D40-4132-A769-F21A3B8E1DAA-png_jpg.rf.23eb8e18f57961688762ab12eecca78a.txt  \n",
            "  inflating: /content/roboflow/train/labels/-5A06964D-6D40-4132-A769-F21A3B8E1DAA-png_jpg.rf.5133afa053b6794e09eaf76b949e9bfc.txt  \n",
            "  inflating: /content/roboflow/train/labels/-5A06964D-6D40-4132-A769-F21A3B8E1DAA-png_jpg.rf.d103137c9742172f4a51288bd8d6c911.txt  \n",
            "  inflating: /content/roboflow/train/labels/-5AD2C6FA-9814-4CB1-822E-3A617443C49E-png_jpg.rf.352f72fb3c1f03f4bc2199c5d028fa56.txt  \n",
            "  inflating: /content/roboflow/train/labels/-5AD2C6FA-9814-4CB1-822E-3A617443C49E-png_jpg.rf.47796466b9e235105d394f1228e9820a.txt  \n",
            "  inflating: /content/roboflow/train/labels/-5AD2C6FA-9814-4CB1-822E-3A617443C49E-png_jpg.rf.806c85adc9ed91f41ae17ee68150a581.txt  \n",
            "  inflating: /content/roboflow/train/labels/-5AD2C6FA-9814-4CB1-822E-3A617443C49E-png_jpg.rf.992eca39ae173547b0981c034bafcd17.txt  \n",
            "  inflating: /content/roboflow/train/labels/-5AF06BED-94B4-4CFE-9682-4D5AB122CE95-png_jpg.rf.3920e57d79d8bff96a25743dd7e14139.txt  \n",
            "  inflating: /content/roboflow/train/labels/-5AF06BED-94B4-4CFE-9682-4D5AB122CE95-png_jpg.rf.7d5cbb1e05d1af4b5ff46ada54034c90.txt  \n",
            "  inflating: /content/roboflow/train/labels/-5AF06BED-94B4-4CFE-9682-4D5AB122CE95-png_jpg.rf.b90e1918612301149861d6d6296ed39b.txt  \n",
            "  inflating: /content/roboflow/train/labels/-5AF06BED-94B4-4CFE-9682-4D5AB122CE95-png_jpg.rf.bf223143b74391876c63fca94bb10aa3.txt  \n",
            "  inflating: /content/roboflow/train/labels/-5AF06BED-94B4-4CFE-9682-4D5AB122CE95-png_jpg.rf.db7e5cd3b27b90e4af9774d0996573ed.txt  \n",
            "  inflating: /content/roboflow/train/labels/-5BAA1216-71C7-41C4-8494-D0AFE9C52AF5-png_jpg.rf.31c4a0776f533caa9f7a0d2c3e54ecf9.txt  \n",
            "  inflating: /content/roboflow/train/labels/-5BAA1216-71C7-41C4-8494-D0AFE9C52AF5-png_jpg.rf.88524d2f7f76f65f6cf89e977dda938f.txt  \n",
            "  inflating: /content/roboflow/train/labels/-5BAA1216-71C7-41C4-8494-D0AFE9C52AF5-png_jpg.rf.9ed379b5289788032e97e6ee9bdf1b4b.txt  \n",
            "  inflating: /content/roboflow/train/labels/-5BAA1216-71C7-41C4-8494-D0AFE9C52AF5-png_jpg.rf.af3b24fe8280dd47b127a174701fe5ec.txt  \n",
            "  inflating: /content/roboflow/train/labels/-5BB5033D-F96D-4681-808D-9BCBE7C2221E-png_jpg.rf.a860a747068e38ce5e0ed1e1e848c4e4.txt  \n",
            "  inflating: /content/roboflow/train/labels/-5BB5033D-F96D-4681-808D-9BCBE7C2221E-png_jpg.rf.e6dc88a3f6f3d2c948f4b9bc693f2130.txt  \n",
            "  inflating: /content/roboflow/train/labels/-5BB5033D-F96D-4681-808D-9BCBE7C2221E-png_jpg.rf.f9fc2c1ac63461c8d1e8040a4a9bf22c.txt  \n",
            "  inflating: /content/roboflow/train/labels/-5BCD3433-D1A0-436B-B906-4809400FC43E-png_jpg.rf.44cb4bed453f9b9e96e8d3b7c12525da.txt  \n",
            "  inflating: /content/roboflow/train/labels/-5C9472C7-6F7B-45B6-A2F4-0CE739421A98-png_jpg.rf.1a547558cb5e94c53ee40b4fed2df7d3.txt  \n",
            " extracting: /content/roboflow/train/labels/-5C9472C7-6F7B-45B6-A2F4-0CE739421A98-png_jpg.rf.69fa43c54691b5bc98d81226249dda72.txt  \n",
            " extracting: /content/roboflow/train/labels/-5C9472C7-6F7B-45B6-A2F4-0CE739421A98-png_jpg.rf.9a19b423db4f97d2956ec2979616e034.txt  \n",
            "  inflating: /content/roboflow/train/labels/-5CEE3337-3AF2-49E4-AE4E-42B9E2E44512-png_jpg.rf.15994afd1c41bce663b5a8b057e8595a.txt  \n",
            "  inflating: /content/roboflow/train/labels/-5CEE3337-3AF2-49E4-AE4E-42B9E2E44512-png_jpg.rf.8f56a788d1cccbbe0bd7571c57e6df6a.txt  \n",
            "  inflating: /content/roboflow/train/labels/-5D5BA3F7-FDD8-4C19-8DAC-D5384A81B407-png_jpg.rf.2de8d3399fdddbd7ce4eb2016538fdc1.txt  \n",
            "  inflating: /content/roboflow/train/labels/-5D890027-73FC-42D9-B3D5-2ED473A73B66-png_jpg.rf.8bead8d42701fa5db2a1414eaf2acd8c.txt  \n",
            "  inflating: /content/roboflow/train/labels/-5D890027-73FC-42D9-B3D5-2ED473A73B66-png_jpg.rf.b7b28fbb88da95bb6a273e91541513d9.txt  \n",
            "  inflating: /content/roboflow/train/labels/-5DB86A4E-D64A-4032-ACF4-957B38D438C9-png_jpg.rf.4b6181a8cc3875e9ba16c9ccbe402ee6.txt  \n",
            "  inflating: /content/roboflow/train/labels/-5DB86A4E-D64A-4032-ACF4-957B38D438C9-png_jpg.rf.a0908d13fd4dfe3a8b8a85bef174f68f.txt  \n",
            "  inflating: /content/roboflow/train/labels/-5E037376-5D27-4953-9841-0083E8D06D0B-png_jpg.rf.48eee56c0e6dc97f625fdb7efcf84a1c.txt  \n",
            "  inflating: /content/roboflow/train/labels/-5E037376-5D27-4953-9841-0083E8D06D0B-png_jpg.rf.a8c9326f3d04d6b05c7e3567867d60b6.txt  \n",
            "  inflating: /content/roboflow/train/labels/-5E492592-1503-4FFB-A59A-7C84C8FB58C8-png_jpg.rf.115c5c68d59d38c462f9fd25b11ae702.txt  \n",
            "  inflating: /content/roboflow/train/labels/-5E492592-1503-4FFB-A59A-7C84C8FB58C8-png_jpg.rf.ae4d5287e29c1cb7f1dea005fde5c955.txt  \n",
            "  inflating: /content/roboflow/train/labels/-5E492592-1503-4FFB-A59A-7C84C8FB58C8-png_jpg.rf.c2160842f293e07b19a220ac6bec55b4.txt  \n",
            "  inflating: /content/roboflow/train/labels/-5E492592-1503-4FFB-A59A-7C84C8FB58C8-png_jpg.rf.c8a839c9cfee75031bb9d3bf24ae5287.txt  \n",
            " extracting: /content/roboflow/train/labels/-5E69D234-D9EE-4A15-ABEB-52BA04828890-png_jpg.rf.aa03c41762c0007ca461532836d7ac34.txt  \n",
            "  inflating: /content/roboflow/train/labels/-5E8CB65C-3365-4514-AC80-892C8BF6B0BE-png_jpg.rf.56195a92b066678822b835b686eff5c4.txt  \n",
            "  inflating: /content/roboflow/train/labels/-5E8CB65C-3365-4514-AC80-892C8BF6B0BE-png_jpg.rf.8787b9b25cd0fe6438187aefbb5710ee.txt  \n",
            "  inflating: /content/roboflow/train/labels/-5E8CB65C-3365-4514-AC80-892C8BF6B0BE-png_jpg.rf.fb49f3dc5a76e99416ccf813eef005d6.txt  \n",
            "  inflating: /content/roboflow/train/labels/-5EA2A12A-708A-4984-80AC-438C76933457-png_jpg.rf.5b88beca6a4b172819d857abb535f621.txt  \n",
            "  inflating: /content/roboflow/train/labels/-5EA2A12A-708A-4984-80AC-438C76933457-png_jpg.rf.b55495f173d03f871dbef184e55c95d5.txt  \n",
            "  inflating: /content/roboflow/train/labels/-5EA2A12A-708A-4984-80AC-438C76933457-png_jpg.rf.f29d09d41b81979e0cdac0643b886041.txt  \n",
            "  inflating: /content/roboflow/train/labels/-5F381E05-B9B8-4054-8444-EFE81AA4B78C-png_jpg.rf.1345e72653f9b072b3682f35e4f7a04a.txt  \n",
            "  inflating: /content/roboflow/train/labels/-5F381E05-B9B8-4054-8444-EFE81AA4B78C-png_jpg.rf.a25c792637fc37ceefa30d8b64ef683b.txt  \n",
            "  inflating: /content/roboflow/train/labels/-608B1B77-EBBE-4E69-AB2F-13A3A5ED4C39-png_jpg.rf.00f6a849c15e89f6c5eac4319c7a4eb2.txt  \n",
            "  inflating: /content/roboflow/train/labels/-611BF23F-5A2C-45D6-A4DC-033938DD1CA5-png_jpg.rf.5ce7789abd9ebe6425286dd94e4d491b.txt  \n",
            "  inflating: /content/roboflow/train/labels/-611BF23F-5A2C-45D6-A4DC-033938DD1CA5-png_jpg.rf.b7c880b19993be198a8d6d4a12c67c08.txt  \n",
            "  inflating: /content/roboflow/train/labels/-618A0E4F-DFF5-4624-B30C-9F657BE51772-png_jpg.rf.245b4ffe151ceaa103e203ee16d9791f.txt  \n",
            "  inflating: /content/roboflow/train/labels/-618A0E4F-DFF5-4624-B30C-9F657BE51772-png_jpg.rf.3dbb7ce6ea6ff56c16797d8036038823.txt  \n",
            "  inflating: /content/roboflow/train/labels/-618A0E4F-DFF5-4624-B30C-9F657BE51772-png_jpg.rf.6e60d944744468a2f03ab802ae3a10e4.txt  \n",
            "  inflating: /content/roboflow/train/labels/-6254A622-2157-4AD7-BB2C-4A3F4E465B5A-png_jpg.rf.2584f3039cafb33c8f364b7edd0ffbec.txt  \n",
            "  inflating: /content/roboflow/train/labels/-6254A622-2157-4AD7-BB2C-4A3F4E465B5A-png_jpg.rf.9feae64037c83d3ecbd75fb4ddbb5aca.txt  \n",
            "  inflating: /content/roboflow/train/labels/-6254A622-2157-4AD7-BB2C-4A3F4E465B5A-png_jpg.rf.bd255007639ed347f699d11924bb7fdf.txt  \n",
            "  inflating: /content/roboflow/train/labels/-62DA7C7D-C50D-40A7-87D1-DB8633F1F29D-png_jpg.rf.176a011effa3f056e57c01cc18abac68.txt  \n",
            "  inflating: /content/roboflow/train/labels/-62DA7C7D-C50D-40A7-87D1-DB8633F1F29D-png_jpg.rf.2ecdc8145623b9bb566d93caa6e870ba.txt  \n",
            "  inflating: /content/roboflow/train/labels/-62DA7C7D-C50D-40A7-87D1-DB8633F1F29D-png_jpg.rf.3d2f00497da02becbf6b6333303677c9.txt  \n",
            "  inflating: /content/roboflow/train/labels/-62DA7C7D-C50D-40A7-87D1-DB8633F1F29D-png_jpg.rf.8280bb5123bdbd40ec187152bac42efa.txt  \n",
            "  inflating: /content/roboflow/train/labels/-62DA7C7D-C50D-40A7-87D1-DB8633F1F29D-png_jpg.rf.880313dccc6f42e8df1b906cf5aa3532.txt  \n",
            "  inflating: /content/roboflow/train/labels/-63A3759B-1595-4A66-BB62-1E7F580BA753-png_jpg.rf.1572acdf2a79c5765d1d804cfdfa4da2.txt  \n",
            "  inflating: /content/roboflow/train/labels/-63A3759B-1595-4A66-BB62-1E7F580BA753-png_jpg.rf.47f72e03d664342ddc493f97b5c8bccd.txt  \n",
            "  inflating: /content/roboflow/train/labels/-63A3759B-1595-4A66-BB62-1E7F580BA753-png_jpg.rf.ff90667c2b62ff5f2c0b862a6d58832c.txt  \n",
            "  inflating: /content/roboflow/train/labels/-66F945A5-3856-4F91-9EDD-6EF4833F57FA-png_jpg.rf.758c93cfc8da508c07eb7635fb73c884.txt  \n",
            "  inflating: /content/roboflow/train/labels/-6895811E-6E26-4DBD-A7ED-F7A529684BBA-png_jpg.rf.35f33c4cafc8ab1b5bb0ea93172ed1ee.txt  \n",
            "  inflating: /content/roboflow/train/labels/-6895811E-6E26-4DBD-A7ED-F7A529684BBA-png_jpg.rf.6f0973c326bae6f41a74e148bd895df3.txt  \n",
            "  inflating: /content/roboflow/train/labels/-6895811E-6E26-4DBD-A7ED-F7A529684BBA-png_jpg.rf.8e2b822b2a997092ce5f0e6931310e15.txt  \n",
            "  inflating: /content/roboflow/train/labels/-6D8CF994-CDAD-4784-9A07-C91C6EEDA073-png_jpg.rf.1f0c1a5104a90548d907e4543808118c.txt  \n",
            "  inflating: /content/roboflow/train/labels/-6D8CF994-CDAD-4784-9A07-C91C6EEDA073-png_jpg.rf.371b8eb05d76403e70bfd203cb1a748d.txt  \n",
            "  inflating: /content/roboflow/train/labels/-6D8CF994-CDAD-4784-9A07-C91C6EEDA073-png_jpg.rf.9e819f5f62addf5621d4e315b3764b76.txt  \n",
            "  inflating: /content/roboflow/train/labels/-6D8CF994-CDAD-4784-9A07-C91C6EEDA073-png_jpg.rf.b3d7d0ed9611be04c93509bbbbdbe78c.txt  \n",
            "  inflating: /content/roboflow/train/labels/-6D8CF994-CDAD-4784-9A07-C91C6EEDA073-png_jpg.rf.ee54bab4e80a8e800ea186d8db32f0cc.txt  \n",
            "  inflating: /content/roboflow/train/labels/-8561227C-3731-4CFC-9FE9-2715B581C159-png_jpg.rf.414fa70ce44484b8ac802741157fde6c.txt  \n",
            "  inflating: /content/roboflow/train/labels/-8561227C-3731-4CFC-9FE9-2715B581C159-png_jpg.rf.9ae9098af7787619adb654f3a4ba145b.txt  \n",
            "  inflating: /content/roboflow/train/labels/-B3FF9CBC-6C9F-4BDD-B814-790723E32E98-png_jpg.rf.2b505a9e6485350aefccde0f7246c663.txt  \n",
            "  inflating: /content/roboflow/train/labels/-B41BBCCE-A512-4CBA-94C0-D236EC1DEBA1-png_jpg.rf.8ea69309323fe16d2de2dc8fc05b803e.txt  \n",
            "  inflating: /content/roboflow/train/labels/-B41BBCCE-A512-4CBA-94C0-D236EC1DEBA1-png_jpg.rf.bc4f984c101076b8717cba2f9ee0a3e7.txt  \n",
            "  inflating: /content/roboflow/train/labels/-B41BBCCE-A512-4CBA-94C0-D236EC1DEBA1-png_jpg.rf.cd9066e20ef058ae5748351dc738c155.txt  \n",
            " extracting: /content/roboflow/train/labels/-B4B37676-C20D-4C4F-BD6A-2A3A1EEF7AEF-png_jpg.rf.69fc1df8a9cbf61deb3fe992bd24c8e7.txt  \n",
            " extracting: /content/roboflow/train/labels/-B4B37676-C20D-4C4F-BD6A-2A3A1EEF7AEF-png_jpg.rf.d94fc0ff30073998e28f67235813d745.txt  \n",
            "  inflating: /content/roboflow/train/labels/-B4C05A41-CD1A-4081-9609-EEFF67F464BE-png_jpg.rf.0a2b1ab7959a58f917a71c16ca2e568b.txt  \n",
            "  inflating: /content/roboflow/train/labels/-B4C05A41-CD1A-4081-9609-EEFF67F464BE-png_jpg.rf.77a71e71ed2313b4511e42d197bfa4e0.txt  \n",
            "  inflating: /content/roboflow/train/labels/-B4C05A41-CD1A-4081-9609-EEFF67F464BE-png_jpg.rf.bf9e6ca5f6388a760666c31c8a2591b9.txt  \n",
            "  inflating: /content/roboflow/train/labels/-B545A484-7AEC-4211-AE64-92650557307F-png_jpg.rf.4ddee74adf1f6530a3fd5d67d0aabdaa.txt  \n",
            "  inflating: /content/roboflow/train/labels/-B545A484-7AEC-4211-AE64-92650557307F-png_jpg.rf.a7c26a584f9771e235da4a367d0f0ed7.txt  \n",
            "  inflating: /content/roboflow/train/labels/-B545A484-7AEC-4211-AE64-92650557307F-png_jpg.rf.d715e47ee313db20712b7dfd765583d9.txt  \n",
            "  inflating: /content/roboflow/train/labels/-B545A484-7AEC-4211-AE64-92650557307F-png_jpg.rf.def61ab913ed3030fb5ec23b3907720b.txt  \n",
            "  inflating: /content/roboflow/train/labels/-B545A484-7AEC-4211-AE64-92650557307F-png_jpg.rf.f367255c0b9b273d39ecfdadb777b847.txt  \n",
            "  inflating: /content/roboflow/train/labels/-B59BC424-0AB7-4880-82A8-54AC24CC8C85-png_jpg.rf.5cd322527826b9a9a6783759a9a0edc8.txt  \n",
            "  inflating: /content/roboflow/train/labels/-B59BC424-0AB7-4880-82A8-54AC24CC8C85-png_jpg.rf.90ba7a6b4d65de47389f5eda9a824102.txt  \n",
            "  inflating: /content/roboflow/train/labels/-B59BC424-0AB7-4880-82A8-54AC24CC8C85-png_jpg.rf.d74217d0cf0c0efeb10cedc1dbeafefb.txt  \n",
            "  inflating: /content/roboflow/train/labels/-B6D061C7-37D5-4849-8F5F-2F1BEBFAE4D2-png_jpg.rf.01892147725b9f0dd8b37fff8fb3a150.txt  \n",
            "  inflating: /content/roboflow/train/labels/-B6D061C7-37D5-4849-8F5F-2F1BEBFAE4D2-png_jpg.rf.3f8958e91dce21e906bb3b3f6a1772f2.txt  \n",
            "  inflating: /content/roboflow/train/labels/-B7C16E32-9846-40EF-8C8E-B26051E149DF-png_jpg.rf.143fc2ff844ffcffe440c6ac9b8f3e8a.txt  \n",
            "  inflating: /content/roboflow/train/labels/-B7C16E32-9846-40EF-8C8E-B26051E149DF-png_jpg.rf.444be3ebff7c0f3af2b28e7fee799fa1.txt  \n",
            "  inflating: /content/roboflow/train/labels/-B8116B0D-7D32-4C4A-9F5D-D72766C72DB5-png_jpg.rf.5e99dded84c7c17c5f85fc536ee755ef.txt  \n",
            "  inflating: /content/roboflow/train/labels/-B8116B0D-7D32-4C4A-9F5D-D72766C72DB5-png_jpg.rf.800fbc3d95ea135abc96306d4bb32616.txt  \n",
            "  inflating: /content/roboflow/train/labels/-B83337D2-1F91-4346-B7A4-222F8A45CBF0-png_jpg.rf.097fec857d13e551e27d303c7f794221.txt  \n",
            "  inflating: /content/roboflow/train/labels/-B83337D2-1F91-4346-B7A4-222F8A45CBF0-png_jpg.rf.d637bf2ebe48508237fd1d472cb4e5ae.txt  \n",
            "  inflating: /content/roboflow/train/labels/-B8DB5A5A-AB24-4C45-BC0F-6F213320FE7B-png_jpg.rf.cc99f8cf0900582f194ad537d5c8d408.txt  \n",
            "  inflating: /content/roboflow/train/labels/-B9AA9C0E-404F-4AB4-B015-183269CB4261-png_jpg.rf.4af4e65f68ab61a1737bbf7128bf5b24.txt  \n",
            "  inflating: /content/roboflow/train/labels/-B9AA9C0E-404F-4AB4-B015-183269CB4261-png_jpg.rf.743f7651e7d1bf9d2343df8907d4bd3a.txt  \n",
            "  inflating: /content/roboflow/train/labels/-B9AA9C0E-404F-4AB4-B015-183269CB4261-png_jpg.rf.972a41e58d05ac18c52c07b6be1e9ebd.txt  \n",
            "  inflating: /content/roboflow/train/labels/-B9AA9C0E-404F-4AB4-B015-183269CB4261-png_jpg.rf.c00713cf35102e3bffff728fdeaedd86.txt  \n",
            "  inflating: /content/roboflow/train/labels/-BAAC60D7-E665-4186-BAA3-B3E20F8D397C-png_jpg.rf.1d79d8a0cdb510193159cc593c6c31c2.txt  \n",
            "  inflating: /content/roboflow/train/labels/-BAAC60D7-E665-4186-BAA3-B3E20F8D397C-png_jpg.rf.a92a2fdda1e2f57f0141eb858c941e85.txt  \n",
            "  inflating: /content/roboflow/train/labels/-BABD5091-6597-40E1-82D1-29A0F4DCD9E0-png_jpg.rf.4067813e478b45a894222b002779c736.txt  \n",
            "  inflating: /content/roboflow/train/labels/-BABD5091-6597-40E1-82D1-29A0F4DCD9E0-png_jpg.rf.80cd8bf494d14cbe18fa412938ea28aa.txt  \n",
            "  inflating: /content/roboflow/train/labels/-BABD5091-6597-40E1-82D1-29A0F4DCD9E0-png_jpg.rf.95ce716d11403beb96f69874d8ee2723.txt  \n",
            " extracting: /content/roboflow/train/labels/-BAE1D45C-2B9A-4C23-AB1D-BD0C25964678-png_jpg.rf.6901ba9e499d2de6667fe7305b749f74.txt  \n",
            "  inflating: /content/roboflow/train/labels/-BAEF245D-475F-4C90-807D-558E1FFFBF2A-png_jpg.rf.2ea0e2947d00ee228300bf1881e99667.txt  \n",
            "  inflating: /content/roboflow/train/labels/-BBC6D213-1075-48CE-B772-FDD44F34A3E7-png_jpg.rf.5ae3fecd8f133ab79a6a9cf0f31940ed.txt  \n",
            "  inflating: /content/roboflow/train/labels/-BBC6D213-1075-48CE-B772-FDD44F34A3E7-png_jpg.rf.a56ae965bed605b75841f48eac6f3ded.txt  \n",
            "  inflating: /content/roboflow/train/labels/-BBD3A9D1-8F01-497D-BBD8-C864EF1F4689-png_jpg.rf.155b5d223f0a17365c7fb79f0c15ed1e.txt  \n",
            "  inflating: /content/roboflow/train/labels/-BCD3FEC3-6941-430A-A64B-5E445E741343-png_jpg.rf.6c3401033c83ce806d20a6203cb405a7.txt  \n",
            "  inflating: /content/roboflow/train/labels/-BD23F506-8DE9-4C71-B79A-585BF30E68A5-png_jpg.rf.6e4d815775b8cc857b763306dc421a64.txt  \n",
            "  inflating: /content/roboflow/train/labels/-BD23F506-8DE9-4C71-B79A-585BF30E68A5-png_jpg.rf.dcd439c2f03df8d977281b8963951349.txt  \n",
            "  inflating: /content/roboflow/train/labels/-BD23F506-8DE9-4C71-B79A-585BF30E68A5-png_jpg.rf.e8a916add8a95780175c54c5a290b7ba.txt  \n",
            "  inflating: /content/roboflow/train/labels/-BD499523-8602-4C68-8E63-FCE23A82AA16-png_jpg.rf.0f18485c9dc30dbfa0caedadd2c0b3e0.txt  \n",
            "  inflating: /content/roboflow/train/labels/-BD499523-8602-4C68-8E63-FCE23A82AA16-png_jpg.rf.1a45a36b99c20368fcbbf1bf95ca122b.txt  \n",
            "  inflating: /content/roboflow/train/labels/-BD499523-8602-4C68-8E63-FCE23A82AA16-png_jpg.rf.3ea957516d522e9889f86ee9474fd7d6.txt  \n",
            "  inflating: /content/roboflow/train/labels/-BD499523-8602-4C68-8E63-FCE23A82AA16-png_jpg.rf.7db411b1db858b8a64cc501b0d40b9f2.txt  \n",
            "  inflating: /content/roboflow/train/labels/-BE1B7E1A-3BF4-44E6-A49D-E46AC48D77B0-png_jpg.rf.23a5e57577e684c76af861a64293e1c0.txt  \n",
            "  inflating: /content/roboflow/train/labels/-BE1B7E1A-3BF4-44E6-A49D-E46AC48D77B0-png_jpg.rf.713a01a5f7cbd718bb62a4f255a1115e.txt  \n",
            "  inflating: /content/roboflow/train/labels/-BE1B7E1A-3BF4-44E6-A49D-E46AC48D77B0-png_jpg.rf.ec6d050673c7927d4b6447d55f42fc3d.txt  \n",
            "  inflating: /content/roboflow/train/labels/-BE412F80-6FDD-4522-8C6B-D26DA55927F5-png_jpg.rf.94f99f81688c6d7dc47d85cc7432837b.txt  \n",
            "  inflating: /content/roboflow/train/labels/-BE412F80-6FDD-4522-8C6B-D26DA55927F5-png_jpg.rf.ee07adbe8d981be4a41496d499fcb643.txt  \n",
            "  inflating: /content/roboflow/train/labels/-BEACF130-F07D-4352-87CF-2BBC32A8C5AC-png_jpg.rf.c6ac850564a35b30a16978b3d6632d78.txt  \n",
            "  inflating: /content/roboflow/train/labels/-BF27E7F2-0C42-45C0-A751-91723B77D799-png_jpg.rf.01d3deeed03cf258e1da0c052da6a4b6.txt  \n",
            "  inflating: /content/roboflow/train/labels/-BF27E7F2-0C42-45C0-A751-91723B77D799-png_jpg.rf.3a20e9ca1b316560480aa57d8dae996f.txt  \n",
            "  inflating: /content/roboflow/train/labels/-BF27E7F2-0C42-45C0-A751-91723B77D799-png_jpg.rf.67cd96f2a37df0c24268a13068791f80.txt  \n",
            "  inflating: /content/roboflow/train/labels/-BF27E7F2-0C42-45C0-A751-91723B77D799-png_jpg.rf.9df9ffb3852cf8da433fbd99a4836ee7.txt  \n",
            "  inflating: /content/roboflow/train/labels/-C006FC45-64AF-4FA9-B836-17F1DE49F186-png_jpg.rf.c7f9660056a4d4c88421697ac5d49b9c.txt  \n",
            "  inflating: /content/roboflow/train/labels/-C04C7AD3-AEAC-4250-9856-9D1606800D44-png_jpg.rf.7253e85a4024a26d535cbfc727d1d607.txt  \n",
            "  inflating: /content/roboflow/train/labels/-C04C7AD3-AEAC-4250-9856-9D1606800D44-png_jpg.rf.da542db1e5e05e94e908d30d4524140b.txt  \n",
            "  inflating: /content/roboflow/train/labels/-C0A680DB-DB9F-47C7-BE3B-74E6A294E203-png_jpg.rf.357de203d2ce40c47a12a8ea1a11f861.txt  \n",
            "  inflating: /content/roboflow/train/labels/-C0A680DB-DB9F-47C7-BE3B-74E6A294E203-png_jpg.rf.77104ea950ab3ebcc252acdd3454c24f.txt  \n",
            "  inflating: /content/roboflow/train/labels/-C0A680DB-DB9F-47C7-BE3B-74E6A294E203-png_jpg.rf.c246d6baa55c794640988a6851710424.txt  \n",
            "  inflating: /content/roboflow/train/labels/-C182A49E-641F-4C62-A54F-86397CBD2780-png_jpg.rf.0c2cfdfa50e493a68c362b357c01a772.txt  \n",
            "  inflating: /content/roboflow/train/labels/-C182A49E-641F-4C62-A54F-86397CBD2780-png_jpg.rf.3a4045dbef361352c5146668adf29f91.txt  \n",
            "  inflating: /content/roboflow/train/labels/-C182A49E-641F-4C62-A54F-86397CBD2780-png_jpg.rf.3cddb69cd28a9fd8babf31e208c03e36.txt  \n",
            "  inflating: /content/roboflow/train/labels/-C182A49E-641F-4C62-A54F-86397CBD2780-png_jpg.rf.6f9cb77b6f8edea81d8ab1f87914dd82.txt  \n",
            "  inflating: /content/roboflow/train/labels/-C182A49E-641F-4C62-A54F-86397CBD2780-png_jpg.rf.97fadbee4a9f2e8e06b813fbd3b44488.txt  \n",
            "  inflating: /content/roboflow/train/labels/-C182A49E-641F-4C62-A54F-86397CBD2780-png_jpg.rf.be6d753cb9293c52ce2386df0bcc885e.txt  \n",
            "  inflating: /content/roboflow/train/labels/-C2D8DECE-2C51-4217-9B45-88F76CBC1D6C-png_jpg.rf.49688f19da898e0a1a1eb8f88bbb3d00.txt  \n",
            "  inflating: /content/roboflow/train/labels/-C2D8DECE-2C51-4217-9B45-88F76CBC1D6C-png_jpg.rf.c132a755433ecaff7796e1420977d5e8.txt  \n",
            "  inflating: /content/roboflow/train/labels/-C2DEBBE3-7D35-4B32-8AC1-D9271147FDB7-png_jpg.rf.e66966b0d1046f99189f175fcc442dc6.txt  \n",
            "  inflating: /content/roboflow/train/labels/-C3D83141-091E-44E3-B5AF-321A93A32FD2-png_jpg.rf.29ed987d3485b5386277f43f007d57e6.txt  \n",
            "  inflating: /content/roboflow/train/labels/-C4FB6EE5-2134-4252-A3E7-FCE53E7F5D62-png_jpg.rf.5ae390f28b530282c7f0d28f6138b8b3.txt  \n",
            "  inflating: /content/roboflow/train/labels/-C68F6C52-A1C7-4769-BF21-99923AA98C04-png_jpg.rf.17f638918c009e8a46dd48945b71a3af.txt  \n",
            "  inflating: /content/roboflow/train/labels/-C68F6C52-A1C7-4769-BF21-99923AA98C04-png_jpg.rf.a42b5bcca8a30db9843afef6f67378aa.txt  \n",
            "  inflating: /content/roboflow/train/labels/-C6E3BB9A-DF12-4C1E-B325-8480F9DDDF74-png_jpg.rf.351e1895526197d9440db4126b153f74.txt  \n",
            "  inflating: /content/roboflow/train/labels/-C6E3BB9A-DF12-4C1E-B325-8480F9DDDF74-png_jpg.rf.49e262608b25ed773ac0d5d43e772c91.txt  \n",
            " extracting: /content/roboflow/train/labels/-C6E3BB9A-DF12-4C1E-B325-8480F9DDDF74-png_jpg.rf.b258fe381e6c063415a314eb3f5c3739.txt  \n",
            "  inflating: /content/roboflow/train/labels/-C8A077AE-C474-4AAB-A0E4-24F4F9266447-png_jpg.rf.99e597a56f0d814d096066213a7d0507.txt  \n",
            "  inflating: /content/roboflow/train/labels/-C8A077AE-C474-4AAB-A0E4-24F4F9266447-png_jpg.rf.ae394ed2e55c86946a12bed94cbe6423.txt  \n",
            "  inflating: /content/roboflow/train/labels/-C8A077AE-C474-4AAB-A0E4-24F4F9266447-png_jpg.rf.b0fecf23aca544d5b4e61b5d04f71225.txt  \n",
            "  inflating: /content/roboflow/train/labels/-C8A077AE-C474-4AAB-A0E4-24F4F9266447-png_jpg.rf.c34c23d11168008fe10feb0e18b8e1da.txt  \n",
            "  inflating: /content/roboflow/train/labels/-C8A077AE-C474-4AAB-A0E4-24F4F9266447-png_jpg.rf.d9f1f779a2c8eae9e49e51134f012b83.txt  \n",
            "  inflating: /content/roboflow/train/labels/-C8A077AE-C474-4AAB-A0E4-24F4F9266447-png_jpg.rf.e76de6f3a84a7dd212de2760be9e3ab2.txt  \n",
            "  inflating: /content/roboflow/train/labels/-C94776E1-EF34-4408-A9D3-69BE388FC761-png_jpg.rf.bd68e14c796dd6da217c8edae3d9b696.txt  \n",
            "  inflating: /content/roboflow/train/labels/-C96EB60C-375E-476D-8D20-3643A20C26B5-png_jpg.rf.b3c0b8fcb331817dec2e357ad2668f6e.txt  \n",
            "  inflating: /content/roboflow/train/labels/-CA63295D-EEBE-42A2-943B-25B1D28D5745-png_jpg.rf.4b1a3d0214bf5d126ca429bd50676719.txt  \n",
            "  inflating: /content/roboflow/train/labels/-CA63295D-EEBE-42A2-943B-25B1D28D5745-png_jpg.rf.e0d7ed2b94439c182d556f6044dbc5ca.txt  \n",
            "  inflating: /content/roboflow/train/labels/-CB279B0A-743F-4855-AE98-C9A9D0E40A22-png_jpg.rf.5432da281c3dea833c1b95a0f6b22d18.txt  \n",
            "  inflating: /content/roboflow/train/labels/-CB279B0A-743F-4855-AE98-C9A9D0E40A22-png_jpg.rf.9a8c2f0d5d7a8ffbd53bde1cdd8d1fb3.txt  \n",
            "  inflating: /content/roboflow/train/labels/-CCEF01A1-0F47-495F-A37B-F77800A03B07-png_jpg.rf.1b9c4514fe14decf92c89be3f29cf418.txt  \n",
            "  inflating: /content/roboflow/train/labels/-CCEF01A1-0F47-495F-A37B-F77800A03B07-png_jpg.rf.3f26e77349877835f1582877df546808.txt  \n",
            "  inflating: /content/roboflow/train/labels/-CCFB44DE-C25D-4C37-981B-6DBCB4F963AB-png_jpg.rf.28a156ec5eb67d24c6ae204d9a6ee477.txt  \n",
            "  inflating: /content/roboflow/train/labels/-CCFB44DE-C25D-4C37-981B-6DBCB4F963AB-png_jpg.rf.5f239b9be3cd2a4923df44f5fbcdc358.txt  \n",
            "  inflating: /content/roboflow/train/labels/-CF18C7DF-3DC1-4F14-A3B1-8521CEE36C3E-png_jpg.rf.68d4b777508c3c3b0ab0b2440f2ac55a.txt  \n",
            "  inflating: /content/roboflow/train/labels/-CF18C7DF-3DC1-4F14-A3B1-8521CEE36C3E-png_jpg.rf.93805e58d76d084a983fc1dc8eb7ab18.txt  \n",
            "  inflating: /content/roboflow/train/labels/-CF18C7DF-3DC1-4F14-A3B1-8521CEE36C3E-png_jpg.rf.bbcbbaf8842fc742149641faa83178e4.txt  \n",
            "  inflating: /content/roboflow/train/labels/-CF2B7A09-EC0C-4B1D-BDA5-7FD52B39F0F8-png_jpg.rf.f70c5120aebea229bbbfd4156facc3fe.txt  \n",
            "  inflating: /content/roboflow/train/labels/-CF43F395-72F5-4264-B3F8-6B49D71F17FA-png_jpg.rf.0cbeb329b2e9ca7c744e2f8144063f45.txt  \n",
            "  inflating: /content/roboflow/train/labels/-CF43F395-72F5-4264-B3F8-6B49D71F17FA-png_jpg.rf.12c97fd509278dcc60b6e7995cc8d068.txt  \n",
            "  inflating: /content/roboflow/train/labels/-CF43F395-72F5-4264-B3F8-6B49D71F17FA-png_jpg.rf.82ce8d7c41153dc341f9072f00fd2941.txt  \n",
            "  inflating: /content/roboflow/train/labels/-CF43F395-72F5-4264-B3F8-6B49D71F17FA-png_jpg.rf.9ae43289849cb817581b723168c20d19.txt  \n",
            "  inflating: /content/roboflow/train/labels/-CF43F395-72F5-4264-B3F8-6B49D71F17FA-png_jpg.rf.b21133aa71c8da94461c5dc0bce65d89.txt  \n",
            "  inflating: /content/roboflow/train/labels/-CFB928D0-84D7-4021-B542-4F3E73E475AE-png_jpg.rf.18fd6b9236fa6ef7c5a20c3752f60c58.txt  \n",
            "  inflating: /content/roboflow/train/labels/-CFB928D0-84D7-4021-B542-4F3E73E475AE-png_jpg.rf.857311af124b9bd179972d59958a0540.txt  \n",
            "  inflating: /content/roboflow/train/labels/-CFB928D0-84D7-4021-B542-4F3E73E475AE-png_jpg.rf.94083ab8d1377f0ef56f47828693133f.txt  \n",
            "  inflating: /content/roboflow/train/labels/-CFB928D0-84D7-4021-B542-4F3E73E475AE-png_jpg.rf.a2b4756d881be9c50fbb4182c1d89d87.txt  \n",
            "  inflating: /content/roboflow/train/labels/-CFB928D0-84D7-4021-B542-4F3E73E475AE-png_jpg.rf.cdcaa83f6f6f7755f09a21afba8b7d70.txt  \n",
            "  inflating: /content/roboflow/train/labels/-CFB928D0-84D7-4021-B542-4F3E73E475AE-png_jpg.rf.ee5738df56eb228632a56375e35b1401.txt  \n",
            "  inflating: /content/roboflow/train/labels/-D033F88A-8CE6-40D3-9005-E2697DC83F11-png_jpg.rf.056910492941d8957389fe50432346c8.txt  \n",
            "  inflating: /content/roboflow/train/labels/-D033F88A-8CE6-40D3-9005-E2697DC83F11-png_jpg.rf.3da9ec4b863f8aa4d14ddc3ce3f74abd.txt  \n",
            "  inflating: /content/roboflow/train/labels/-D033F88A-8CE6-40D3-9005-E2697DC83F11-png_jpg.rf.a6c7da8ffab42bbe94ff7326ba27605f.txt  \n",
            "  inflating: /content/roboflow/train/labels/-D2C63838-6966-45B0-99FF-C22521BF9149-png_jpg.rf.1767ba0e9815542f1b01f0b1ba560d15.txt  \n",
            "  inflating: /content/roboflow/train/labels/-D2C63838-6966-45B0-99FF-C22521BF9149-png_jpg.rf.68f2491a7d1c74d5ffbd51c2f9867edd.txt  \n",
            "  inflating: /content/roboflow/train/labels/-D2C63838-6966-45B0-99FF-C22521BF9149-png_jpg.rf.8e8b1ff5fbe5c8735f154d9d0d6a8751.txt  \n",
            "  inflating: /content/roboflow/train/labels/-D2C63838-6966-45B0-99FF-C22521BF9149-png_jpg.rf.b9c536f9e126e5fd8e8db057b333687c.txt  \n",
            "  inflating: /content/roboflow/train/labels/-D328ABF6-BE7D-4800-92FD-89B13D699867-png_jpg.rf.71f5879808b56f398add28278840db9d.txt  \n",
            "  inflating: /content/roboflow/train/labels/-D328ABF6-BE7D-4800-92FD-89B13D699867-png_jpg.rf.e49ac0c8260b95af15ca6bf076e22190.txt  \n",
            "  inflating: /content/roboflow/train/labels/-D328ABF6-BE7D-4800-92FD-89B13D699867-png_jpg.rf.e9bc54401ee8d930fc5264b03dd096a1.txt  \n",
            "  inflating: /content/roboflow/train/labels/-D3D7864A-309B-4CE0-B18F-3CAC8DFD86D4-png_jpg.rf.26b4c2009c6d7eddb3c7e6ebe6ef6c7e.txt  \n",
            "  inflating: /content/roboflow/train/labels/-D3D7864A-309B-4CE0-B18F-3CAC8DFD86D4-png_jpg.rf.5860587903e1a5981c958a704c3ab8f8.txt  \n",
            "  inflating: /content/roboflow/train/labels/-D3D7864A-309B-4CE0-B18F-3CAC8DFD86D4-png_jpg.rf.61ac27d72a2e3f1c50644c88b6542671.txt  \n",
            " extracting: /content/roboflow/train/labels/-D3ED54BD-094A-471D-A8A9-C1A7B3262064-png_jpg.rf.150f688a727c57a25844ed611d8dfbc8.txt  \n",
            " extracting: /content/roboflow/train/labels/-D3ED54BD-094A-471D-A8A9-C1A7B3262064-png_jpg.rf.231c7f0c0f7c5ed7ab304a70db615094.txt  \n",
            "  inflating: /content/roboflow/train/labels/-D85575CA-53D0-451F-AAD8-3F9BE76F9E52-png_jpg.rf.c85678554b05c36f1e0f2eba1abff3a0.txt  \n",
            "  inflating: /content/roboflow/train/labels/-D92BD235-F2FB-41AB-AA48-E1BDDB51D6E4-png_jpg.rf.7573d661453c92969304998f1f19e685.txt  \n",
            "  inflating: /content/roboflow/train/labels/-D92BD235-F2FB-41AB-AA48-E1BDDB51D6E4-png_jpg.rf.7ba7784b961f61dc7dd5cc56cc1aae52.txt  \n",
            "  inflating: /content/roboflow/train/labels/-D92BD235-F2FB-41AB-AA48-E1BDDB51D6E4-png_jpg.rf.d5a9747dea0e2b4e3da5970fe665b5f6.txt  \n",
            "  inflating: /content/roboflow/train/labels/-D92BD235-F2FB-41AB-AA48-E1BDDB51D6E4-png_jpg.rf.ea13b2227f80206e6f8b1b1f3c12fc84.txt  \n",
            "  inflating: /content/roboflow/train/labels/-D994F2C9-B00C-45AB-B918-A4F8AB66DE71-png_jpg.rf.a34349ae1cb14ae1a82e2b448002eb91.txt  \n",
            "  inflating: /content/roboflow/train/labels/-DA921E8A-7BF2-44DE-AD8F-0C17D388AABD-png_jpg.rf.7115845d3639a9482fd9ccca21db5455.txt  \n",
            "  inflating: /content/roboflow/train/labels/-DA921E8A-7BF2-44DE-AD8F-0C17D388AABD-png_jpg.rf.90ac54a4555af799846e5593789afefe.txt  \n",
            " extracting: /content/roboflow/train/labels/-DC6190CE-238A-4C11-A283-27ADC0D9C646-png_jpg.rf.a0a623470e7347eff9a92b4ac9a9bab3.txt  \n",
            " extracting: /content/roboflow/train/labels/-DC6190CE-238A-4C11-A283-27ADC0D9C646-png_jpg.rf.b879beb7ddae7ea75963cfde3339890f.txt  \n",
            "  inflating: /content/roboflow/train/labels/-DCC10965-2F71-42B2-8751-833FAFC81B07-png_jpg.rf.390f84b73564e69ced80759cd4443745.txt  \n",
            "  inflating: /content/roboflow/train/labels/-DCC10965-2F71-42B2-8751-833FAFC81B07-png_jpg.rf.5551dbaa5f1473c0f843889afc8163ac.txt  \n",
            "  inflating: /content/roboflow/train/labels/-DCC10965-2F71-42B2-8751-833FAFC81B07-png_jpg.rf.775856bfd10164bfa37563cb75b8f7a4.txt  \n",
            "  inflating: /content/roboflow/train/labels/-DCC10965-2F71-42B2-8751-833FAFC81B07-png_jpg.rf.7b34de592c5f88ffa2829848c6947ab2.txt  \n",
            "  inflating: /content/roboflow/train/labels/-DCC10965-2F71-42B2-8751-833FAFC81B07-png_jpg.rf.911aa14c7ab29f9339dcfa4865aa7822.txt  \n",
            "  inflating: /content/roboflow/train/labels/-DCC10965-2F71-42B2-8751-833FAFC81B07-png_jpg.rf.a0859586f13dc4472e327b4d78e903ad.txt  \n",
            "  inflating: /content/roboflow/train/labels/-DD01F5C8-2930-4A6A-A022-E44F4091A9D7-png_jpg.rf.8e47e9bab9cec21ff1be2e3b2c98d9c7.txt  \n",
            "  inflating: /content/roboflow/train/labels/-DD356F9E-7CE3-47E6-AE8E-811CCE8A92CA-png_jpg.rf.52cb59bd027b50002de8b6672177f409.txt  \n",
            "  inflating: /content/roboflow/train/labels/-DD356F9E-7CE3-47E6-AE8E-811CCE8A92CA-png_jpg.rf.62d298b97f737685114a7c1b133addfd.txt  \n",
            "  inflating: /content/roboflow/train/labels/-DD356F9E-7CE3-47E6-AE8E-811CCE8A92CA-png_jpg.rf.95bfcc97273049fc753076a401f1a942.txt  \n",
            "  inflating: /content/roboflow/train/labels/-DD356F9E-7CE3-47E6-AE8E-811CCE8A92CA-png_jpg.rf.a027070959705710f1a59b0060c642ec.txt  \n",
            " extracting: /content/roboflow/train/labels/-DE1082FD-0948-4DF8-ABB3-902022027FE2-png_jpg.rf.8378a97ee9bb55bdde9ee3521e0b9cfb.txt  \n",
            "  inflating: /content/roboflow/train/labels/-DE24E442-B2F4-43B7-8741-6AA037A20D4E-png_jpg.rf.04d5fa11fdb82221218b3a4fef3d4222.txt  \n",
            "  inflating: /content/roboflow/train/labels/-DE24E442-B2F4-43B7-8741-6AA037A20D4E-png_jpg.rf.e4579de8f1a9102755f023981f013219.txt  \n",
            "  inflating: /content/roboflow/train/labels/-DE24E442-B2F4-43B7-8741-6AA037A20D4E-png_jpg.rf.ff1331b4f3013ddcc361a02cab2ea6ed.txt  \n",
            "  inflating: /content/roboflow/train/labels/-DF6ABE64-1B3B-4148-A35F-D957221C40B7-png_jpg.rf.0fa68f168bcf1fdbd0232efc04716177.txt  \n",
            "  inflating: /content/roboflow/train/labels/-DF6ABE64-1B3B-4148-A35F-D957221C40B7-png_jpg.rf.9fa88ff60e5facb2a1db30adcbf8cd41.txt  \n",
            "  inflating: /content/roboflow/train/labels/-E0F2527D-3B61-4274-8655-B807876330E9-png_jpg.rf.02753b869d26663876234e8e24871398.txt  \n",
            "  inflating: /content/roboflow/train/labels/-E1655382-7FF5-4725-9C33-D894A3A0881E-png_jpg.rf.588520adacbd90753e4fdc567da73913.txt  \n",
            "  inflating: /content/roboflow/train/labels/-E1655382-7FF5-4725-9C33-D894A3A0881E-png_jpg.rf.5bbc30c5c8df8ed94edb5f4c22efb341.txt  \n",
            "  inflating: /content/roboflow/train/labels/-E169C681-EEF4-4F14-8884-D6C35F9A4005-png_jpg.rf.a6e0194fd68924ef4e303aae8b246aa9.txt  \n",
            "  inflating: /content/roboflow/train/labels/-E169C681-EEF4-4F14-8884-D6C35F9A4005-png_jpg.rf.aee4be73d758869e274eac7c01f6c4e3.txt  \n",
            "  inflating: /content/roboflow/train/labels/-E39DE576-0BDF-4674-9CCE-4780BD8A5744-png_jpg.rf.5763108a8dd3d7af696c55f096102271.txt  \n",
            "  inflating: /content/roboflow/train/labels/-E39DE576-0BDF-4674-9CCE-4780BD8A5744-png_jpg.rf.8faa088090222df19dc75328af157e20.txt  \n",
            "  inflating: /content/roboflow/train/labels/-E39DE576-0BDF-4674-9CCE-4780BD8A5744-png_jpg.rf.bc589be7085b215e26182985dde552b2.txt  \n",
            "  inflating: /content/roboflow/train/labels/-E39DE576-0BDF-4674-9CCE-4780BD8A5744-png_jpg.rf.ed3b2d11bfc798523f7bacbbbf250ecc.txt  \n",
            "  inflating: /content/roboflow/train/labels/-E3D97881-36CB-441A-ADCA-6CB990F646FE-png_jpg.rf.ef7a7946008d837fd578db58391b088a.txt  \n",
            "  inflating: /content/roboflow/train/labels/-E3F89870-043A-4C41-8471-2FF269A778C3-png_jpg.rf.4674b42474ee5dcc46414d503b0ddecc.txt  \n",
            "  inflating: /content/roboflow/train/labels/-E3F89870-043A-4C41-8471-2FF269A778C3-png_jpg.rf.d16ae8a7fd899acff3ff9d66386b4f84.txt  \n",
            "  inflating: /content/roboflow/train/labels/-E3F89870-043A-4C41-8471-2FF269A778C3-png_jpg.rf.e3b4c3d439b038785b93492c8f26d27a.txt  \n",
            "  inflating: /content/roboflow/train/labels/-E4E37ACE-EAB9-4F03-8279-813B05F79336-png_jpg.rf.87cec5213eac3c27e619e5c1ea249e1b.txt  \n",
            "  inflating: /content/roboflow/train/labels/-F6C8BDBB-4AF8-454C-9460-BB89186D193C-png_jpg.rf.086fd208466032cf66a820973f0cc12f.txt  \n",
            "  inflating: /content/roboflow/train/labels/-F6C8BDBB-4AF8-454C-9460-BB89186D193C-png_jpg.rf.2aabfd1a3ea35cc3484e0f19643f0bb2.txt  \n",
            "  inflating: /content/roboflow/train/labels/-F6C8BDBB-4AF8-454C-9460-BB89186D193C-png_jpg.rf.3dbc77a3f5149310d32a87bdf93449bd.txt  \n",
            "  inflating: /content/roboflow/train/labels/-F6C8BDBB-4AF8-454C-9460-BB89186D193C-png_jpg.rf.4c552ac07f83deb5b0d986ccd8158ade.txt  \n",
            "  inflating: /content/roboflow/train/labels/-F6C8BDBB-4AF8-454C-9460-BB89186D193C-png_jpg.rf.5e5e0db8e974c1a2e245baff0255aabf.txt  \n",
            "  inflating: /content/roboflow/train/labels/-F6C8BDBB-4AF8-454C-9460-BB89186D193C-png_jpg.rf.bd5fbd06c68d735e6fb5aa331cf1c527.txt  \n",
            "  inflating: /content/roboflow/train/labels/-FFB52469-E780-47C4-887D-EEAD0226DDE5-png_jpg.rf.1a5b7b0baa6b26ba854885eed465e7cc.txt  \n",
            "  inflating: /content/roboflow/train/labels/-FFB52469-E780-47C4-887D-EEAD0226DDE5-png_jpg.rf.3cc1603ea608b2bf9989cf862a2bee9f.txt  \n",
            "  inflating: /content/roboflow/train/labels/-FFB52469-E780-47C4-887D-EEAD0226DDE5-png_jpg.rf.64810cbf22951d962cf5052dce4af2d4.txt  \n",
            "  inflating: /content/roboflow/train/labels/-FFB52469-E780-47C4-887D-EEAD0226DDE5-png_jpg.rf.988231f14f2434fc61853a4d3942aa4e.txt  \n",
            "  inflating: /content/roboflow/train/labels/-FFB52469-E780-47C4-887D-EEAD0226DDE5-png_jpg.rf.a8f36be15d29c212c8222b72d4260978.txt  \n",
            "  inflating: /content/roboflow/train/labels/-FFB52469-E780-47C4-887D-EEAD0226DDE5-png_jpg.rf.ee5a2685dca04f4dfa680434d332ce71.txt  \n",
            "  inflating: /content/roboflow/train/labels/-FFB52469-E780-47C4-887D-EEAD0226DDE5-png_jpg.rf.f2332ed271439b39951646bb5357d41e.txt  \n",
            "  inflating: /content/roboflow/train/labels/-FFB52469-E780-47C4-887D-EEAD0226DDE5-png_jpg.rf.f569ef52c39e12c49cc34c52e6027d08.txt  \n",
            "  inflating: /content/roboflow/train/labels/11_jpeg_jpg.rf.4138d891becf55c1c75987dfed069903.txt  \n",
            "  inflating: /content/roboflow/train/labels/11_jpeg_jpg.rf.7faf6cda712ace529289ca205681176d.txt  \n",
            "  inflating: /content/roboflow/train/labels/11_jpeg_jpg.rf.88e2f086d024f41c442a56618150a315.txt  \n",
            "  inflating: /content/roboflow/train/labels/11_jpeg_jpg.rf.a2209d4408f993a2012485f24550715c.txt  \n",
            " extracting: /content/roboflow/train/labels/11_jpeg_jpg.rf.d55606bcda50a42702b0c84412325af2.txt  \n",
            "  inflating: /content/roboflow/train/labels/11_jpeg_jpg.rf.e2264bd366cec7b5886fd97fe32af223.txt  \n",
            "  inflating: /content/roboflow/train/labels/11_jpeg_jpg.rf.eb8ce5c61b18b14e484856d36ca137a3.txt  \n",
            " extracting: /content/roboflow/train/labels/11_jpeg_jpg.rf.fea0e143b83c9fd7d8ff33999fe5f411.txt  \n",
            "  inflating: /content/roboflow/train/labels/12_jpeg_jpg.rf.12eed8de8139a15f8283c7cf9ae8e1d2.txt  \n",
            "  inflating: /content/roboflow/train/labels/12_jpeg_jpg.rf.9cc9ddbdd03b4176405eebf0966fdbf5.txt  \n",
            "  inflating: /content/roboflow/train/labels/12_jpeg_jpg.rf.d4d1f055d3c89a55e9000ec277acf7f5.txt  \n",
            "  inflating: /content/roboflow/train/labels/12_jpeg_jpg.rf.f281999bd9e345ca31413eda7f1ce901.txt  \n",
            "  inflating: /content/roboflow/train/labels/14_jpeg_jpg.rf.23ec640b415259078f50e8641789ef41.txt  \n",
            "  inflating: /content/roboflow/train/labels/14_jpeg_jpg.rf.8322c3a3a6868d258a0c33559c96a7bd.txt  \n",
            "  inflating: /content/roboflow/train/labels/15_jpeg_jpg.rf.1f8eec1930c0618f1a83ac07b4f7b86f.txt  \n",
            "  inflating: /content/roboflow/train/labels/15_jpeg_jpg.rf.5a650bd011852c547eef4d9e244fcc3f.txt  \n",
            "  inflating: /content/roboflow/train/labels/15_jpeg_jpg.rf.64205610ed4d2bf0d461d7a671dddcbb.txt  \n",
            "  inflating: /content/roboflow/train/labels/15_jpeg_jpg.rf.8898d478954d0a65acb74c438e4ec4f1.txt  \n",
            "  inflating: /content/roboflow/train/labels/15_jpeg_jpg.rf.93446af2a7c79116202ada3c675905af.txt  \n",
            "  inflating: /content/roboflow/train/labels/15_jpeg_jpg.rf.93edbb209d1c4bef07340a548d72c5b9.txt  \n",
            "  inflating: /content/roboflow/train/labels/15_jpeg_jpg.rf.e2678507c2fa82610e638d6092dfbb4a.txt  \n",
            "  inflating: /content/roboflow/train/labels/16_jpeg_jpg.rf.3ca8b7b419b4145074cb4018f880e819.txt  \n",
            "  inflating: /content/roboflow/train/labels/16_jpeg_jpg.rf.8f694febcf28b492e1217ae69263b4bb.txt  \n",
            "  inflating: /content/roboflow/train/labels/19_jpeg_jpg.rf.799ed2b6c4d5aa9da8081ce7a1025711.txt  \n",
            "  inflating: /content/roboflow/train/labels/20_jpeg_jpg.rf.d110190f7e3e1a4aa9efd0613767bd42.txt  \n",
            "  inflating: /content/roboflow/train/labels/20_jpeg_jpg.rf.fec4772e8650a8eb7e89e8507697a952.txt  \n",
            "  inflating: /content/roboflow/train/labels/22_jpeg_jpg.rf.09c58b56859f1f3f470328c979541990.txt  \n",
            "  inflating: /content/roboflow/train/labels/22_jpeg_jpg.rf.dab0d3f8f8b5780514043fbeec953fb2.txt  \n",
            "  inflating: /content/roboflow/train/labels/22_jpeg_jpg.rf.fc9e46506b2e6eb8196cb2ccc54504c7.txt  \n",
            " extracting: /content/roboflow/train/labels/2_jpeg_jpg.rf.336a24d6f2447758c99c7edf7ed6ef97.txt  \n",
            " extracting: /content/roboflow/train/labels/2_jpeg_jpg.rf.3cb0a62d307083e3de598d68b7cb229a.txt  \n",
            " extracting: /content/roboflow/train/labels/2_jpeg_jpg.rf.777df9c56a10d95f2bbfd7e7c8325b6c.txt  \n",
            " extracting: /content/roboflow/train/labels/3_jpeg_jpg.rf.26516b7d192f0dd8c37ada7264e9003d.txt  \n",
            "  inflating: /content/roboflow/train/labels/3_jpeg_jpg.rf.612f20d5ba8799dcd0f645c441bc5cf8.txt  \n",
            "  inflating: /content/roboflow/train/labels/6_jpeg_jpg.rf.6a4bff5eddbe74e665e717a7acc7d07a.txt  \n",
            "  inflating: /content/roboflow/train/labels/6_jpeg_jpg.rf.f441fa96b569a328c35514b5721963ed.txt  \n",
            " extracting: /content/roboflow/train/labels/7_jpeg_jpg.rf.765196cc84d3f767f4f5f7d4bf84302a.txt  \n",
            "  inflating: /content/roboflow/train/labels/8_jpeg_jpg.rf.6e81381559dba2ab263810854ed45c31.txt  \n",
            "  inflating: /content/roboflow/train/labels/8_jpeg_jpg.rf.aad138b9d070b214542721f5c7356f32.txt  \n",
            "  inflating: /content/roboflow/train/labels/9_jpeg_jpg.rf.ba39d999904f815313a5830ad2e8876f.txt  \n",
            "  inflating: /content/roboflow/train/labels/9_jpeg_jpg.rf.c9cd67e16ba3d42a2e4723a88883a4ee.txt  \n",
            "  inflating: /content/roboflow/train/labels/WhatsApp-Image-2022-11-29-at-20-15-43-1-_jpeg_jpg.rf.31507fb8121932413b110321a9a85e91.txt  \n",
            "  inflating: /content/roboflow/train/labels/WhatsApp-Image-2022-11-29-at-20-15-43-1-_jpeg_jpg.rf.c30886217a852b20d14faaa690661e00.txt  \n",
            "  inflating: /content/roboflow/train/labels/WhatsApp-Image-2022-11-29-at-20-15-43-1-_jpeg_jpg.rf.d1a16f170c4afdc04ba2c6fb050f0eff.txt  \n",
            "  inflating: /content/roboflow/train/labels/WhatsApp-Image-2022-11-29-at-20-15-43_jpeg_jpg.rf.7aa5cb5d6828271a9ca35df49a6fb2af.txt  \n",
            "  inflating: /content/roboflow/train/labels/WhatsApp-Image-2022-11-29-at-20-15-44-1-_jpeg_jpg.rf.b107f61c54ffb94d9e48d83a14099afc.txt  \n",
            "  inflating: /content/roboflow/train/labels/WhatsApp-Image-2022-11-29-at-20-15-44_jpeg_jpg.rf.6fb626c0a66683e9b0b3c5e40b16416e.txt  \n",
            "  inflating: /content/roboflow/train/labels/WhatsApp-Image-2022-11-29-at-20-15-44_jpeg_jpg.rf.ad69fb9a642a9b24960fa3407413e74d.txt  \n",
            "  inflating: /content/roboflow/train/labels/WhatsApp-Image-2022-11-29-at-20-15-44_jpeg_jpg.rf.def70ec828570fe65fcd2d44649324ef.txt  \n",
            "  inflating: /content/roboflow/train/labels/WhatsApp-Image-2022-11-29-at-20-15-44_jpeg_jpg.rf.e492b34d12d20e626f3e337d9f8d1c3f.txt  \n",
            "  inflating: /content/roboflow/train/labels/WhatsApp-Image-2022-12-05-at-18-16-18_jpeg_jpg.rf.0e62567d9f6360ace6b1b64462473937.txt  \n",
            "  inflating: /content/roboflow/train/labels/WhatsApp-Image-2022-12-05-at-18-16-18_jpeg_jpg.rf.3a63a8fc5791deb097d6dede29621a5a.txt  \n",
            "  inflating: /content/roboflow/train/labels/WhatsApp-Image-2022-12-05-at-18-16-18_jpeg_jpg.rf.b717690e6209ba17c405b155f7398e0f.txt  \n",
            "  inflating: /content/roboflow/train/labels/WhatsApp-Image-2022-12-05-at-18-16-24_jpeg_jpg.rf.22d8eff80f8574c5938efbd80cc22556.txt  \n",
            "  inflating: /content/roboflow/train/labels/WhatsApp-Image-2022-12-05-at-18-16-24_jpeg_jpg.rf.3f3d242b1c734e0b240ad88b3726ca34.txt  \n",
            "  inflating: /content/roboflow/train/labels/WhatsApp-Image-2022-12-05-at-18-16-24_jpeg_jpg.rf.94b868d4eb554696c2811367cd8e074f.txt  \n",
            "  inflating: /content/roboflow/train/labels/WhatsApp-Image-2022-12-05-at-18-16-29_jpeg_jpg.rf.4f37fc4f4e0d50c060601587889468e9.txt  \n",
            "  inflating: /content/roboflow/train/labels/WhatsApp-Image-2022-12-05-at-18-16-29_jpeg_jpg.rf.9871dbcd811e5ce95526fc042bb06b58.txt  \n",
            "  inflating: /content/roboflow/train/labels/WhatsApp-Image-2022-12-05-at-18-16-29_jpeg_jpg.rf.b872dc6af242b9cb546c95d04ba2c9e3.txt  \n",
            "  inflating: /content/roboflow/train/labels/WhatsApp-Image-2022-12-05-at-18-16-29_jpeg_jpg.rf.c75e3771f0418e643e1540bba4d17aa3.txt  \n",
            "  inflating: /content/roboflow/train/labels/WhatsApp-Image-2022-12-05-at-18-16-39_jpeg_jpg.rf.37e6f42d16ddb0850c72541f513e177e.txt  \n",
            "  inflating: /content/roboflow/train/labels/WhatsApp-Image-2022-12-05-at-18-16-39_jpeg_jpg.rf.3f2934800368d8aefd70815a650246ca.txt  \n",
            "  inflating: /content/roboflow/train/labels/WhatsApp-Image-2022-12-05-at-18-16-39_jpeg_jpg.rf.42a6c4e2bbbff4d600d3d80a7c11f8a0.txt  \n",
            "  inflating: /content/roboflow/train/labels/WhatsApp-Image-2022-12-05-at-18-16-39_jpeg_jpg.rf.78e85dd7c9ee01f6ea6d954953afbce1.txt  \n",
            "  inflating: /content/roboflow/train/labels/WhatsApp-Image-2022-12-05-at-18-16-39_jpeg_jpg.rf.c6aa45f112a2062d17acb7c6318f425c.txt  \n",
            "  inflating: /content/roboflow/train/labels/WhatsApp-Image-2022-12-05-at-18-16-39_jpeg_jpg.rf.e68e4d43d07429feed7bbc6b69034ec4.txt  \n",
            "  inflating: /content/roboflow/train/labels/WhatsApp-Image-2022-12-05-at-18-16-39_jpeg_jpg.rf.f9b7f8c99afd9cd0eb5106f77abb7820.txt  \n",
            "  inflating: /content/roboflow/train/labels/WhatsApp-Image-2022-12-05-at-18-16-45_jpeg_jpg.rf.339c2e2739997bd101ed1fab12eaaea5.txt  \n",
            "  inflating: /content/roboflow/train/labels/WhatsApp-Image-2022-12-05-at-18-16-45_jpeg_jpg.rf.9dbaeaa9e6254857dbc3b1bf0608028f.txt  \n",
            "  inflating: /content/roboflow/train/labels/WhatsApp-Image-2022-12-05-at-18-16-45_jpeg_jpg.rf.dacae1e23b43712aa5d580185445a8f7.txt  \n",
            "  inflating: /content/roboflow/train/labels/WhatsApp-Image-2022-12-05-at-18-16-49_jpeg_jpg.rf.60c48c70ab20cecd2318554ae39504c0.txt  \n",
            "  inflating: /content/roboflow/train/labels/WhatsApp-Image-2022-12-05-at-18-16-49_jpeg_jpg.rf.9a2aecadc1b06cf83c5aa6f9d4be7786.txt  \n",
            "  inflating: /content/roboflow/train/labels/WhatsApp-Image-2022-12-05-at-18-16-49_jpeg_jpg.rf.ccb79e2283ca93bea705259f525b2941.txt  \n",
            "  inflating: /content/roboflow/train/labels/WhatsApp-Image-2022-12-05-at-18-16-50_jpeg_jpg.rf.4980782c84bd2c9c420f5ea62ea351e3.txt  \n",
            "  inflating: /content/roboflow/train/labels/WhatsApp-Image-2022-12-05-at-18-16-50_jpeg_jpg.rf.4cda5eba1b120047c6d0b9de61ce3024.txt  \n",
            "  inflating: /content/roboflow/train/labels/WhatsApp-Image-2022-12-05-at-18-16-50_jpeg_jpg.rf.7abd6ba29db38f675a02ad33a8a0503e.txt  \n",
            "  inflating: /content/roboflow/train/labels/WhatsApp-Image-2022-12-05-at-18-16-50_jpeg_jpg.rf.8be8c74f09e9049769e5c612a9c13c21.txt  \n",
            "  inflating: /content/roboflow/train/labels/WhatsApp-Image-2022-12-05-at-18-16-50_jpeg_jpg.rf.95041c24be4e0aaa3ad080d382a17af6.txt  \n",
            "  inflating: /content/roboflow/train/labels/WhatsApp-Image-2022-12-05-at-18-16-50_jpeg_jpg.rf.b03e8119b8f24825da451a299d1111ac.txt  \n",
            "  inflating: /content/roboflow/train/labels/WhatsApp-Image-2022-12-05-at-18-16-55_jpeg_jpg.rf.87fc03719872880b7e8d1cb3a6ded46a.txt  \n",
            "  inflating: /content/roboflow/train/labels/WhatsApp-Image-2022-12-05-at-18-16-55_jpeg_jpg.rf.8a1024bcfe658e88ab207ccead224c98.txt  \n",
            "  inflating: /content/roboflow/train/labels/WhatsApp-Image-2022-12-05-at-18-16-55_jpeg_jpg.rf.93af10518c1b6c5d9650f45c04121d29.txt  \n",
            "  inflating: /content/roboflow/train/labels/WhatsApp-Image-2022-12-05-at-18-17-00_jpeg_jpg.rf.b0110879dfcd966c0fcd0762849a526f.txt  \n",
            "  inflating: /content/roboflow/train/labels/WhatsApp-Image-2022-12-05-at-18-17-00_jpeg_jpg.rf.f9616f97151c5582df4fa7cd44b08ce6.txt  \n",
            "  inflating: /content/roboflow/train/labels/WhatsApp-Image-2022-12-05-at-18-17-08_jpeg_jpg.rf.75e0cd0197fe1fe39448ed121c36c4d1.txt  \n",
            "  inflating: /content/roboflow/train/labels/WhatsApp-Image-2022-12-05-at-18-17-08_jpeg_jpg.rf.7be655bbb80ff0fb255cfc4f71c5bf6b.txt  \n",
            "  inflating: /content/roboflow/train/labels/WhatsApp-Image-2022-12-05-at-18-17-08_jpeg_jpg.rf.c6d28a4bad347cf7e37d640d5d9f5913.txt  \n",
            "  inflating: /content/roboflow/train/labels/WhatsApp-Image-2022-12-05-at-18-17-08_jpeg_jpg.rf.e81d2fb9713017b6cafc2055fa42395c.txt  \n",
            "  inflating: /content/roboflow/train/labels/WhatsApp-Image-2022-12-05-at-18-17-08_jpeg_jpg.rf.ed8bf061a25dbfec31f36356b910a0dc.txt  \n",
            "  inflating: /content/roboflow/train/labels/WhatsApp-Image-2022-12-05-at-18-17-17_jpeg_jpg.rf.140b487d50e367d7ad893c02c1e0bbcf.txt  \n",
            "  inflating: /content/roboflow/train/labels/WhatsApp-Image-2022-12-05-at-18-17-30_jpeg_jpg.rf.2a127f0e65df3f2906cbea493ec37b5b.txt  \n",
            " extracting: /content/roboflow/train/labels/WhatsApp-Image-2022-12-05-at-18-17-30_jpeg_jpg.rf.6d9238db3cba083d85b343605f2f192f.txt  \n",
            "  inflating: /content/roboflow/train/labels/WhatsApp-Image-2022-12-05-at-18-17-30_jpeg_jpg.rf.c01b6dc3bc7205cb8890f9cb6a374341.txt  \n",
            " extracting: /content/roboflow/train/labels/WhatsApp-Image-2022-12-05-at-18-17-30_jpeg_jpg.rf.fb696c5f197c20400926a8f6942d95c7.txt  \n",
            "  inflating: /content/roboflow/train/labels/WhatsApp-Image-2022-12-05-at-18-17-36_jpeg_jpg.rf.4a45b1389d652fb7cbb91dc3d016ccc5.txt  \n",
            "  inflating: /content/roboflow/train/labels/WhatsApp-Image-2022-12-05-at-18-17-36_jpeg_jpg.rf.56e3f8610ffedcf3d5b4a698183beb1a.txt  \n",
            "  inflating: /content/roboflow/train/labels/WhatsApp-Image-2022-12-05-at-18-17-36_jpeg_jpg.rf.6b000d111c45d6d552bb9bbb2f2b5204.txt  \n",
            "  inflating: /content/roboflow/train/labels/WhatsApp-Image-2022-12-05-at-18-17-36_jpeg_jpg.rf.f11b51c99f94053627e6eae576e876d9.txt  \n",
            " extracting: /content/roboflow/train/labels/WhatsApp-Image-2022-12-05-at-18-17-48_jpeg_jpg.rf.119f260bf6962243c3a756dff3160204.txt  \n",
            " extracting: /content/roboflow/train/labels/WhatsApp-Image-2022-12-05-at-18-17-48_jpeg_jpg.rf.8d0e4fe09552e1bce92f2a0313a8324b.txt  \n",
            " extracting: /content/roboflow/train/labels/WhatsApp-Image-2022-12-05-at-18-17-48_jpeg_jpg.rf.dd1cb7ea950e1b5b2f88102df4c27a82.txt  \n",
            "  inflating: /content/roboflow/train/labels/WhatsApp-Image-2022-12-05-at-18-17-53_jpeg_jpg.rf.4d126995680148e3e6d751b97d7bf411.txt  \n",
            "  inflating: /content/roboflow/train/labels/WhatsApp-Image-2022-12-05-at-18-17-53_jpeg_jpg.rf.673a279fea267e9dd6ca73d11e833c94.txt  \n",
            "  inflating: /content/roboflow/train/labels/WhatsApp-Image-2022-12-05-at-18-17-53_jpeg_jpg.rf.e16f58d52bf1a6326cc83f0c57dd1328.txt  \n",
            "  inflating: /content/roboflow/train/labels/WhatsApp-Image-2022-12-05-at-18-17-53_jpeg_jpg.rf.e61c0e33c561e5aa38e1e4f2cc20658a.txt  \n",
            "  inflating: /content/roboflow/train/labels/WhatsApp-Image-2022-12-05-at-18-17-53_jpeg_jpg.rf.fc07a02ab70c46a79f11d930e187ddf6.txt  \n",
            "  inflating: /content/roboflow/train/labels/WhatsApp-Image-2022-12-05-at-18-17-58_jpeg_jpg.rf.47fcf08bd0de140c2747671c9d811347.txt  \n",
            "  inflating: /content/roboflow/train/labels/WhatsApp-Image-2022-12-05-at-18-17-58_jpeg_jpg.rf.4a1fbfd26dc0ee980403ffacbe44b762.txt  \n",
            "  inflating: /content/roboflow/train/labels/WhatsApp-Image-2022-12-05-at-18-17-58_jpeg_jpg.rf.75e0d00b6f3c6b38aae24816f9f8f0d8.txt  \n",
            "  inflating: /content/roboflow/train/labels/WhatsApp-Image-2022-12-05-at-18-17-58_jpeg_jpg.rf.85298184f0893b820742b2da786f1049.txt  \n",
            "  inflating: /content/roboflow/train/labels/WhatsApp-Image-2022-12-05-at-18-17-58_jpeg_jpg.rf.9df671f1adf77e57e8c0318cdf873da3.txt  \n",
            "  inflating: /content/roboflow/train/labels/WhatsApp-Image-2022-12-05-at-18-18-04_jpeg_jpg.rf.70f5555d0b2dd6ef2b18140357470161.txt  \n",
            "  inflating: /content/roboflow/train/labels/WhatsApp-Image-2022-12-05-at-18-18-04_jpeg_jpg.rf.93d4adc7ec143fd646f5dbb5ac306619.txt  \n",
            "  inflating: /content/roboflow/train/labels/WhatsApp-Image-2022-12-05-at-18-18-12_jpeg_jpg.rf.5f99a0b569e45fa436557a9e1af4aa78.txt  \n",
            "  inflating: /content/roboflow/train/labels/WhatsApp-Image-2022-12-05-at-18-18-12_jpeg_jpg.rf.a11c72526edabb5e3010cc5750ae85ef.txt  \n",
            "  inflating: /content/roboflow/train/labels/WhatsApp-Image-2022-12-05-at-18-18-12_jpeg_jpg.rf.cbce2aff9be063dccdede5f66386a6d0.txt  \n",
            "  inflating: /content/roboflow/train/labels/WhatsApp-Image-2022-12-05-at-18-18-12_jpeg_jpg.rf.d1697dce4fc250349591b46175f06cf3.txt  \n",
            "  inflating: /content/roboflow/train/labels/WhatsApp-Image-2022-12-05-at-18-18-16_jpeg_jpg.rf.45fab913a5e8ce2d0a740a88b227ccfc.txt  \n",
            "  inflating: /content/roboflow/train/labels/WhatsApp-Image-2022-12-05-at-18-18-16_jpeg_jpg.rf.ef431547209d894545198aca26ef6eaf.txt  \n",
            "  inflating: /content/roboflow/train/labels/WhatsApp-Image-2022-12-05-at-18-18-28_jpeg_jpg.rf.38502986508920e4fcd23bb6e02a0387.txt  \n",
            "  inflating: /content/roboflow/train/labels/WhatsApp-Image-2022-12-05-at-18-18-28_jpeg_jpg.rf.44ca25cbc61205179167ae155c7d56f1.txt  \n",
            "  inflating: /content/roboflow/train/labels/WhatsApp-Image-2022-12-05-at-18-18-28_jpeg_jpg.rf.69d249c22c06df9e1a3b04d53ba18b75.txt  \n",
            "  inflating: /content/roboflow/train/labels/WhatsApp-Image-2022-12-05-at-18-18-28_jpeg_jpg.rf.71f70495692c5cfb0f0f2a2bc91701dd.txt  \n",
            "  inflating: /content/roboflow/train/labels/WhatsApp-Image-2022-12-05-at-18-19-10_jpeg_jpg.rf.0f5943237a5e33b3392941ad48d7e6cc.txt  \n",
            "  inflating: /content/roboflow/train/labels/WhatsApp-Image-2022-12-05-at-18-19-10_jpeg_jpg.rf.254290a2abdef41a9cd4ef8e5547b650.txt  \n",
            "  inflating: /content/roboflow/train/labels/WhatsApp-Image-2022-12-05-at-18-19-10_jpeg_jpg.rf.62b778389ce67eecea071c29a4896938.txt  \n",
            "  inflating: /content/roboflow/train/labels/WhatsApp-Image-2022-12-05-at-18-19-10_jpeg_jpg.rf.db0ed802c1f4b890d5faacf64ebf3ecb.txt  \n",
            "  inflating: /content/roboflow/train/labels/WhatsApp-Image-2022-12-05-at-18-19-23_jpeg_jpg.rf.18bbbcf5aa2a6369e10ae881fbf48577.txt  \n",
            "  inflating: /content/roboflow/train/labels/WhatsApp-Image-2022-12-05-at-18-19-23_jpeg_jpg.rf.5d469f7d94ac761ebbe3e4b63c6c4882.txt  \n",
            "  inflating: /content/roboflow/train/labels/WhatsApp-Image-2022-12-05-at-18-19-23_jpeg_jpg.rf.5f6156762d9d21fcea46a60659c172a5.txt  \n",
            "  inflating: /content/roboflow/train/labels/WhatsApp-Image-2022-12-05-at-18-19-23_jpeg_jpg.rf.a1d23a425a94259dfe4c084478aa06f7.txt  \n",
            "  inflating: /content/roboflow/train/labels/WhatsApp-Image-2022-12-05-at-18-19-29_jpeg_jpg.rf.3b8da274982b2b2599e753bac4548905.txt  \n",
            "  inflating: /content/roboflow/train/labels/WhatsApp-Image-2022-12-05-at-18-19-29_jpeg_jpg.rf.4798a7d2a4a3ea25c943f05a819a84b5.txt  \n",
            "  inflating: /content/roboflow/train/labels/WhatsApp-Image-2022-12-05-at-18-19-29_jpeg_jpg.rf.fd3c531bc707109b25e60b810a0a554a.txt  \n",
            "  inflating: /content/roboflow/train/labels/WhatsApp-Image-2022-12-05-at-18-19-45_jpeg_jpg.rf.01765bd5657cb93c3b7a13b3415706f5.txt  \n",
            "  inflating: /content/roboflow/train/labels/WhatsApp-Image-2022-12-05-at-18-19-45_jpeg_jpg.rf.0987c85b79f24baf6090fe7df380fdc5.txt  \n",
            "  inflating: /content/roboflow/train/labels/WhatsApp-Image-2022-12-05-at-18-19-45_jpeg_jpg.rf.56fba56f2b16e97759a02ce4d04137fb.txt  \n",
            "  inflating: /content/roboflow/train/labels/WhatsApp-Image-2022-12-05-at-18-19-45_jpeg_jpg.rf.8b5ed961d98e6cac25df536b6bddd8d3.txt  \n",
            "  inflating: /content/roboflow/train/labels/WhatsApp-Image-2022-12-05-at-18-19-45_jpeg_jpg.rf.c77bf405c6712316900059a231955d14.txt  \n",
            "  inflating: /content/roboflow/train/labels/WhatsApp-Image-2022-12-05-at-18-20-03_jpeg_jpg.rf.0464bae644de868c492234474179d3d1.txt  \n",
            "  inflating: /content/roboflow/train/labels/WhatsApp-Image-2022-12-05-at-18-20-03_jpeg_jpg.rf.b4f5a338e7de589a75279c6e5748bf04.txt  \n",
            "  inflating: /content/roboflow/train/labels/WhatsApp-Image-2022-12-05-at-18-20-03_jpeg_jpg.rf.becf70bf562c38eddf004c389c520053.txt  \n",
            "  inflating: /content/roboflow/train/labels/WhatsApp-Image-2022-12-05-at-18-20-03_jpeg_jpg.rf.c3c2e9ee60564d33365cebc1e2accbe8.txt  \n",
            " extracting: /content/roboflow/train/labels/WhatsApp-Image-2022-12-05-at-18-20-09_jpeg_jpg.rf.23ab280edf9e0df2997c9bb461f5921b.txt  \n",
            " extracting: /content/roboflow/train/labels/WhatsApp-Image-2022-12-05-at-18-20-09_jpeg_jpg.rf.4232a2ad518d7d4a2cad3c5cc1933c04.txt  \n",
            " extracting: /content/roboflow/train/labels/WhatsApp-Image-2022-12-05-at-18-20-09_jpeg_jpg.rf.d2a980b3554dcc21f9b1e150bac6c1cc.txt  \n",
            " extracting: /content/roboflow/train/labels/WhatsApp-Image-2022-12-05-at-18-20-09_jpeg_jpg.rf.e6e26b2f714bf4722785ffaba57fb62d.txt  \n",
            "  inflating: /content/roboflow/train/labels/WhatsApp-Image-2022-12-05-at-18-21-15_jpeg_jpg.rf.2d1dce20657b26974f4a6b52a42ef162.txt  \n",
            "  inflating: /content/roboflow/train/labels/WhatsApp-Image-2022-12-05-at-18-21-15_jpeg_jpg.rf.88c8b47ab7a24ac4bc3a069db512c92a.txt  \n",
            "  inflating: /content/roboflow/train/labels/WhatsApp-Image-2022-12-05-at-18-21-15_jpeg_jpg.rf.c1f9074c412edde99e22e76ffb57115a.txt  \n",
            "  inflating: /content/roboflow/train/labels/WhatsApp-Image-2022-12-05-at-18-21-15_jpeg_jpg.rf.fadf6b7684e1f45a7eb727d80420aefa.txt  \n",
            "  inflating: /content/roboflow/train/labels/WhatsApp-Image-2022-12-05-at-18-21-16_jpeg_jpg.rf.495b107071c3da6c08f5a2bd1def18fa.txt  \n",
            "  inflating: /content/roboflow/train/labels/WhatsApp-Image-2022-12-05-at-18-21-42_jpeg_jpg.rf.556f72e2fb8805c439580bb54b60d0b4.txt  \n",
            "  inflating: /content/roboflow/train/labels/WhatsApp-Image-2022-12-05-at-18-21-42_jpeg_jpg.rf.9276338caa03a4a70eaa8bc9c830236b.txt  \n",
            "  inflating: /content/roboflow/train/labels/WhatsApp-Image-2022-12-05-at-18-21-42_jpeg_jpg.rf.f49cb899f239a98283ff8f659fead76b.txt  \n",
            "  inflating: /content/roboflow/train/labels/WhatsApp-Image-2022-12-05-at-18-21-58_jpeg_jpg.rf.6da313b6af916af922e36b57104e288c.txt  \n",
            "  inflating: /content/roboflow/train/labels/WhatsApp-Image-2022-12-05-at-18-21-58_jpeg_jpg.rf.863911f11c6eb3a37dea960f12631452.txt  \n",
            "  inflating: /content/roboflow/train/labels/WhatsApp-Image-2022-12-05-at-18-21-58_jpeg_jpg.rf.89e65f07348580faa0489e65dfe774cc.txt  \n",
            "  inflating: /content/roboflow/train/labels/WhatsApp-Image-2022-12-05-at-18-21-58_jpeg_jpg.rf.e082a86f3ef105423639670618444bfd.txt  \n",
            "  inflating: /content/roboflow/train/labels/WhatsApp-Image-2022-12-05-at-18-22-11_jpeg_jpg.rf.c133b6ff60eb30a702579fb5dcabd4ed.txt  \n",
            "  inflating: /content/roboflow/train/labels/WhatsApp-Image-2022-12-05-at-18-22-52_jpeg_jpg.rf.3406fc34b955523d4e2a3a2705123a6e.txt  \n",
            "  inflating: /content/roboflow/train/labels/WhatsApp-Image-2022-12-05-at-18-22-52_jpeg_jpg.rf.3e8b036fb29b2826a99b86c00fc6659e.txt  \n",
            "  inflating: /content/roboflow/train/labels/WhatsApp-Image-2022-12-05-at-18-22-52_jpeg_jpg.rf.9eb78ac50bbed906613e8c3c737b9fe7.txt  \n",
            "  inflating: /content/roboflow/train/labels/WhatsApp-Image-2022-12-05-at-18-22-52_jpeg_jpg.rf.b5d110d3fa16ee29c52636603a059310.txt  \n",
            "  inflating: /content/roboflow/train/labels/WhatsApp-Image-2022-12-05-at-18-22-52_jpeg_jpg.rf.c50cce80a8812d1786d1d2afe1c4c1d7.txt  \n",
            "  inflating: /content/roboflow/train/labels/WhatsApp-Image-2022-12-05-at-18-23-14_jpeg_jpg.rf.440f091cb39bfb8d978e13508acf61b2.txt  \n",
            "  inflating: /content/roboflow/train/labels/WhatsApp-Image-2022-12-05-at-18-23-14_jpeg_jpg.rf.4e47a294963353a0c7f0fb9d5dc72f30.txt  \n",
            "  inflating: /content/roboflow/train/labels/WhatsApp-Image-2022-12-05-at-18-23-14_jpeg_jpg.rf.7c5c21d724716729162daa204d74d536.txt  \n",
            "  inflating: /content/roboflow/train/labels/WhatsApp-Image-2022-12-05-at-18-23-14_jpeg_jpg.rf.d50a93fa3a48e46fb10be99c3bb61164.txt  \n",
            "  inflating: /content/roboflow/train/labels/WhatsApp-Image-2022-12-05-at-18-23-15_jpeg_jpg.rf.35fde6c7aceaacb74971d6e4ced788cc.txt  \n",
            "  inflating: /content/roboflow/train/labels/WhatsApp-Image-2022-12-05-at-18-23-15_jpeg_jpg.rf.77c723aacc847696cb28965240ebaef6.txt  \n",
            "  inflating: /content/roboflow/train/labels/WhatsApp-Image-2022-12-05-at-18-23-15_jpeg_jpg.rf.d250ed9b99ebc9261cd433141b46f228.txt  \n",
            "  inflating: /content/roboflow/train/labels/WhatsApp-Image-2022-12-05-at-18-24-10_jpeg_jpg.rf.5104fff9c6dce25fb3f26e0dc26e42d5.txt  \n",
            "  inflating: /content/roboflow/train/labels/WhatsApp-Image-2022-12-05-at-18-24-16_jpeg_jpg.rf.14660e42c668b2a92b32e254afbc0f97.txt  \n",
            "  inflating: /content/roboflow/train/labels/WhatsApp-Image-2022-12-05-at-18-24-16_jpeg_jpg.rf.7c0c8660f31a9e479f0f3fd421fad99c.txt  \n",
            "  inflating: /content/roboflow/train/labels/WhatsApp-Image-2022-12-05-at-18-24-16_jpeg_jpg.rf.b46cb9e0a701fdfb461c118fa190a432.txt  \n",
            "  inflating: /content/roboflow/train/labels/WhatsApp-Image-2022-12-05-at-18-24-17_jpeg_jpg.rf.3d86006101ffe50e2156d07c63721084.txt  \n",
            "  inflating: /content/roboflow/train/labels/WhatsApp-Image-2022-12-05-at-18-24-17_jpeg_jpg.rf.a6723fa59dbac2d67f1df5ca09b14ef3.txt  \n",
            "  inflating: /content/roboflow/train/labels/WhatsApp-Image-2022-12-05-at-18-24-27_jpeg_jpg.rf.1c82dbc4e6065f6384af9e11ddd7b270.txt  \n",
            "  inflating: /content/roboflow/train/labels/WhatsApp-Image-2022-12-05-at-18-24-27_jpeg_jpg.rf.2526be364f890ea0f1372cedfe4dad15.txt  \n",
            "  inflating: /content/roboflow/train/labels/WhatsApp-Image-2022-12-05-at-18-24-27_jpeg_jpg.rf.4d05fff2a0696f4603b3bf27469c22d7.txt  \n",
            "  inflating: /content/roboflow/train/labels/WhatsApp-Image-2022-12-05-at-18-24-27_jpeg_jpg.rf.804dec695891ce9cc673f6362ec474de.txt  \n",
            "  inflating: /content/roboflow/train/labels/WhatsApp-Image-2022-12-05-at-18-24-27_jpeg_jpg.rf.f7187efc6fe2f718efe93737a649303f.txt  \n",
            "  inflating: /content/roboflow/train/labels/WhatsApp-Image-2022-12-05-at-18-25-07_jpeg_jpg.rf.01bc8d5362b4ce110c91c3039be97949.txt  \n",
            "  inflating: /content/roboflow/train/labels/WhatsApp-Image-2022-12-05-at-18-25-07_jpeg_jpg.rf.0aa53d2a2978cb0225477554530988d4.txt  \n",
            "  inflating: /content/roboflow/train/labels/WhatsApp-Image-2022-12-05-at-18-25-07_jpeg_jpg.rf.29ddfecf825b12f16df651a2875ec6c0.txt  \n",
            "  inflating: /content/roboflow/train/labels/WhatsApp-Image-2022-12-05-at-18-25-07_jpeg_jpg.rf.723e8f326d57f5971bbfd8305627cfaf.txt  \n",
            "  inflating: /content/roboflow/train/labels/WhatsApp-Image-2022-12-05-at-18-25-08_jpeg_jpg.rf.8f577a1e4502bc1beb81a6aa66f3946f.txt  \n",
            "  inflating: /content/roboflow/train/labels/WhatsApp-Image-2022-12-05-at-18-25-23_jpeg_jpg.rf.3086c07471f6bfab6a852dbc16652f2a.txt  \n",
            "  inflating: /content/roboflow/train/labels/WhatsApp-Image-2022-12-05-at-18-25-23_jpeg_jpg.rf.7624ce5029446e8a81e7ffa4744b9e50.txt  \n",
            "  inflating: /content/roboflow/train/labels/WhatsApp-Image-2022-12-05-at-18-25-23_jpeg_jpg.rf.8a8cecfe0d25187f0b63fa60bcfef9b1.txt  \n",
            "  inflating: /content/roboflow/train/labels/WhatsApp-Image-2022-12-05-at-18-25-23_jpeg_jpg.rf.b3526229e91ef56a4cdd2599e8c35175.txt  \n",
            "  inflating: /content/roboflow/train/labels/WhatsApp-Image-2022-12-05-at-18-25-40_jpeg_jpg.rf.53cc9dcd93778bd40814ad5b7127f439.txt  \n",
            "  inflating: /content/roboflow/train/labels/WhatsApp-Image-2022-12-05-at-18-25-40_jpeg_jpg.rf.8a48d8ec1d1e9cd5253cb80f8f0e4568.txt  \n",
            "  inflating: /content/roboflow/train/labels/WhatsApp-Image-2022-12-05-at-18-25-40_jpeg_jpg.rf.9a505117c6c75d89d008109b23097d7f.txt  \n",
            "  inflating: /content/roboflow/train/labels/WhatsApp-Image-2022-12-05-at-18-25-40_jpeg_jpg.rf.d46b78f555d25e9f4d194aea2ae9dc81.txt  \n",
            "  inflating: /content/roboflow/train/labels/WhatsApp-Image-2022-12-05-at-18-25-42_jpeg_jpg.rf.82d26af4d8801d21ef63299e46adfe4d.txt  \n",
            "  inflating: /content/roboflow/train/labels/WhatsApp-Image-2022-12-05-at-18-25-42_jpeg_jpg.rf.85706d2418f265fd5559098054bbc1c0.txt  \n",
            "  inflating: /content/roboflow/train/labels/WhatsApp-Image-2022-12-05-at-18-25-42_jpeg_jpg.rf.bc83774bee208c19086300db6b705d2c.txt  \n",
            "  inflating: /content/roboflow/train/labels/WhatsApp-Image-2022-12-05-at-18-25-49_jpeg_jpg.rf.1feb3835dd1e2904d1110eaa1cd4732e.txt  \n",
            "  inflating: /content/roboflow/train/labels/WhatsApp-Image-2022-12-05-at-18-25-49_jpeg_jpg.rf.9db9cfe8914c545c0f4509dc74aa4f01.txt  \n",
            "  inflating: /content/roboflow/train/labels/WhatsApp-Image-2022-12-05-at-18-25-49_jpeg_jpg.rf.e8a3d3bc6e517702c8e210afe82c938d.txt  \n",
            "  inflating: /content/roboflow/train/labels/WhatsApp-Image-2022-12-05-at-18-26-10_jpeg_jpg.rf.0d395843045f8fbdc2d9825280c19535.txt  \n",
            "  inflating: /content/roboflow/train/labels/WhatsApp-Image-2022-12-05-at-18-26-10_jpeg_jpg.rf.66ab4cea1bdbfda67bb13f827360bca1.txt  \n",
            "  inflating: /content/roboflow/train/labels/WhatsApp-Image-2022-12-05-at-18-26-10_jpeg_jpg.rf.b253edc670370e17113d3a79c89f1132.txt  \n",
            "  inflating: /content/roboflow/train/labels/WhatsApp-Image-2022-12-05-at-18-26-29_jpeg_jpg.rf.2d0e143486f1223f361b91f913104f91.txt  \n",
            "  inflating: /content/roboflow/train/labels/WhatsApp-Image-2022-12-05-at-18-26-29_jpeg_jpg.rf.852fa3e11f8fdf59a672c36e08b09f9f.txt  \n",
            "  inflating: /content/roboflow/train/labels/WhatsApp-Image-2022-12-05-at-18-26-29_jpeg_jpg.rf.b70f6fbb81b11b965f0e9d73c87413a7.txt  \n",
            "  inflating: /content/roboflow/train/labels/WhatsApp-Image-2022-12-05-at-18-26-48_jpeg_jpg.rf.4841dfcd558adc016d9c114f082839c7.txt  \n",
            "  inflating: /content/roboflow/train/labels/WhatsApp-Image-2022-12-05-at-18-26-48_jpeg_jpg.rf.6e2e9c8332c0411f7f2eb2678a13ed28.txt  \n",
            "  inflating: /content/roboflow/train/labels/WhatsApp-Image-2022-12-05-at-18-27-00_jpeg_jpg.rf.3b694235e13263c462cc18084b4afdf9.txt  \n",
            "  inflating: /content/roboflow/train/labels/WhatsApp-Image-2022-12-05-at-18-27-00_jpeg_jpg.rf.9cac2ad68658d72e73eea264077298be.txt  \n",
            "  inflating: /content/roboflow/train/labels/WhatsApp-Image-2022-12-05-at-18-27-24_jpeg_jpg.rf.717383085d62a6dba0f8c7250ef1fee4.txt  \n",
            "  inflating: /content/roboflow/train/labels/WhatsApp-Image-2022-12-05-at-18-27-24_jpeg_jpg.rf.a3e4cb9c38e7b5e9da2758db6afc6759.txt  \n",
            "  inflating: /content/roboflow/train/labels/WhatsApp-Image-2022-12-05-at-18-27-24_jpeg_jpg.rf.cd0fcaed6e1fe6fa7e76237e3792387c.txt  \n",
            "  inflating: /content/roboflow/train/labels/WhatsApp-Image-2022-12-05-at-18-27-24_jpeg_jpg.rf.ed7042677add439239f0c9b87a2793c2.txt  \n",
            "  inflating: /content/roboflow/train/labels/WhatsApp-Image-2022-12-05-at-18-27-24_jpeg_jpg.rf.ef2e870a36f5e2e896e0163af61d7ee5.txt  \n",
            "  inflating: /content/roboflow/train/labels/WhatsApp-Image-2022-12-05-at-18-28-06_jpeg_jpg.rf.1415b2a882c4f77deea5e7eecf8702d3.txt  \n",
            "  inflating: /content/roboflow/train/labels/WhatsApp-Image-2022-12-05-at-18-28-06_jpeg_jpg.rf.51ef8809a9843da68a1ef262087bf213.txt  \n",
            "  inflating: /content/roboflow/train/labels/WhatsApp-Image-2022-12-05-at-18-28-06_jpeg_jpg.rf.5a353abe394b1b6d7c8349cfee735db5.txt  \n",
            "  inflating: /content/roboflow/train/labels/WhatsApp-Image-2022-12-05-at-18-28-56_jpeg_jpg.rf.9255110109beb962038b419f251eee56.txt  \n",
            "  inflating: /content/roboflow/train/labels/WhatsApp-Image-2022-12-05-at-18-28-56_jpeg_jpg.rf.98b48cfb656b6f9a899fa3b7732e99b3.txt  \n",
            "  inflating: /content/roboflow/train/labels/WhatsApp-Image-2022-12-05-at-18-28-57_jpeg_jpg.rf.090c958674097bc1659eb8d3d7e12699.txt  \n",
            "  inflating: /content/roboflow/train/labels/WhatsApp-Image-2022-12-05-at-18-28-57_jpeg_jpg.rf.13be9c86660de2c7ea04c9c1962e8951.txt  \n",
            "  inflating: /content/roboflow/train/labels/WhatsApp-Image-2022-12-05-at-18-28-57_jpeg_jpg.rf.2cf11cb2ed6a8d4309fb8f3d991f6cad.txt  \n",
            "  inflating: /content/roboflow/train/labels/WhatsApp-Image-2022-12-05-at-18-28-57_jpeg_jpg.rf.dc8cb0fe446b467998c5d733af1ec3c8.txt  \n",
            "  inflating: /content/roboflow/train/labels/WhatsApp-Image-2022-12-05-at-18-29-12_jpeg_jpg.rf.214916aa0013c7f890ac1651e3d7605b.txt  \n",
            "  inflating: /content/roboflow/train/labels/WhatsApp-Image-2022-12-05-at-18-29-12_jpeg_jpg.rf.5f3583e8b330c19d93a207624c09dbc4.txt  \n",
            "  inflating: /content/roboflow/train/labels/WhatsApp-Image-2022-12-05-at-18-29-12_jpeg_jpg.rf.669e0b76998609daf907047064b1ff52.txt  \n",
            "  inflating: /content/roboflow/train/labels/WhatsApp-Image-2022-12-05-at-18-29-12_jpeg_jpg.rf.e52190bd5970cb9c5af1e048e2e6be1d.txt  \n",
            "  inflating: /content/roboflow/train/labels/WhatsApp-Image-2022-12-05-at-18-29-12_jpeg_jpg.rf.f7dc356d6623adf01bf514a292fa1f13.txt  \n",
            "  inflating: /content/roboflow/train/labels/WhatsApp-Video-2022-11-29-at-20_15_43_mp4-0_jpg.rf.125b458818c7f3c7014e27a25c4e93fc.txt  \n",
            "  inflating: /content/roboflow/train/labels/WhatsApp-Video-2022-11-29-at-20_15_43_mp4-0_jpg.rf.3ebde5d82e254ea99056e12c71a27170.txt  \n",
            "  inflating: /content/roboflow/train/labels/WhatsApp-Video-2022-11-29-at-20_15_43_mp4-0_jpg.rf.41deb4e7e7b377cc0165fa31375fb97b.txt  \n",
            "  inflating: /content/roboflow/train/labels/WhatsApp-Video-2022-11-29-at-20_15_43_mp4-0_jpg.rf.84d11756ad0c7fa28eb22ffae22759a0.txt  \n",
            "  inflating: /content/roboflow/train/labels/WhatsApp-Video-2022-11-29-at-20_15_43_mp4-0_jpg.rf.a1d4308195096a0660d1036476791159.txt  \n",
            " extracting: /content/roboflow/train/labels/WhatsApp-Video-2022-11-29-at-20_15_43_mp4-1_jpg.rf.113920f1af81f21ecd1d08c2bc39fb75.txt  \n",
            " extracting: /content/roboflow/train/labels/WhatsApp-Video-2022-11-29-at-20_15_43_mp4-1_jpg.rf.cea73d734dd73666d0bf15d7f68697fb.txt  \n",
            "  inflating: /content/roboflow/train/labels/WhatsApp-Video-2022-11-29-at-20_15_43_mp4-2_jpg.rf.b29d8e88d6df43e8498f25310c881586.txt  \n",
            "  inflating: /content/roboflow/train/labels/WhatsApp-Video-2022-11-29-at-20_15_43_mp4-3_jpg.rf.19e33c4c534ca57335a0baeb300ef47d.txt  \n",
            "  inflating: /content/roboflow/train/labels/WhatsApp-Video-2022-11-29-at-20_15_43_mp4-3_jpg.rf.cd2095e901652412154827e6e3519c27.txt  \n",
            "  inflating: /content/roboflow/train/labels/WhatsApp-Video-2022-11-29-at-20_15_43_mp4-4_jpg.rf.2927a60af6eaf1e7e39abba951065e8e.txt  \n",
            "  inflating: /content/roboflow/train/labels/WhatsApp-Video-2022-11-29-at-20_15_43_mp4-4_jpg.rf.a2573a71e1c8bcfd315feba6cbc49e6d.txt  \n",
            "  inflating: /content/roboflow/train/labels/WhatsApp-Video-2022-11-29-at-20_15_43_mp4-4_jpg.rf.bf13a38531c6d72d7a13e602a970236f.txt  \n",
            "  inflating: /content/roboflow/train/labels/WhatsApp-Video-2022-11-29-at-20_15_43_mp4-4_jpg.rf.d189106012451863600ea7a4cd32e08b.txt  \n",
            "  inflating: /content/roboflow/train/labels/WhatsApp-Video-2022-11-29-at-20_15_43_mp4-5_jpg.rf.0ad2568729d0ce993caa5f100544a59f.txt  \n",
            "  inflating: /content/roboflow/train/labels/WhatsApp-Video-2022-11-29-at-20_15_43_mp4-5_jpg.rf.1ab08f18a0e58775225646e0bcb50a8a.txt  \n",
            "  inflating: /content/roboflow/train/labels/WhatsApp-Video-2022-11-29-at-20_15_43_mp4-5_jpg.rf.3263cf27fd33e68b92147017bfebcdbd.txt  \n",
            "  inflating: /content/roboflow/train/labels/WhatsApp-Video-2022-11-29-at-20_15_43_mp4-5_jpg.rf.45b4f318ff998ee3c5ab156c63ff82cb.txt  \n",
            "  inflating: /content/roboflow/train/labels/WhatsApp-Video-2022-11-29-at-20_15_43_mp4-5_jpg.rf.47ec1252ba333a509a71ccf3298b60fa.txt  \n",
            "  inflating: /content/roboflow/train/labels/WhatsApp-Video-2022-11-29-at-20_15_43_mp4-5_jpg.rf.e8943921f54b327cfe62dfbc5ee81a32.txt  \n",
            " extracting: /content/roboflow/train/labels/WhatsApp-Video-2022-11-29-at-20_15_43_mp4-6_jpg.rf.4d1a068f9dab54c2afbe30fef29747dc.txt  \n",
            " extracting: /content/roboflow/train/labels/WhatsApp-Video-2022-11-29-at-20_15_43_mp4-6_jpg.rf.698077feb506851946947bd672ff66ba.txt  \n",
            " extracting: /content/roboflow/train/labels/WhatsApp-Video-2022-11-29-at-20_15_43_mp4-6_jpg.rf.fb7c4695c14ee3c01e3ebf2b5cc186d8.txt  \n",
            "  inflating: /content/roboflow/train/labels/WhatsApp-Video-2022-11-29-at-20_15_43_mp4-7_jpg.rf.adaa4be19d865a9cf8dc86f5f9530c20.txt  \n",
            "  inflating: /content/roboflow/train/labels/WhatsApp-Video-2022-11-29-at-20_15_43_mp4-7_jpg.rf.fb817b404909910198f6fbe634ba0e03.txt  \n",
            "  inflating: /content/roboflow/train/labels/youtube-21_jpg.rf.71a9b13849ea4dec3b1e4948385eb552.txt  \n",
            "  inflating: /content/roboflow/train/labels/youtube-21_jpg.rf.8fe73844adde7cbe2a92cc98f23d1db1.txt  \n",
            "  inflating: /content/roboflow/train/labels/youtube-21_jpg.rf.94f31585c693324894f7f1841a7bdb49.txt  \n",
            "  inflating: /content/roboflow/train/labels/youtube-25_jpg.rf.1ec6904ce8d4168208d694a656096fda.txt  \n",
            "  inflating: /content/roboflow/train/labels/youtube-25_jpg.rf.647f2bbe76c15076dd71a4087ba5e1b6.txt  \n",
            "  inflating: /content/roboflow/train/labels/youtube-26_jpg.rf.15ebf24cec5a47f4473b9676e98a9763.txt  \n",
            "  inflating: /content/roboflow/train/labels/youtube-26_jpg.rf.1c9f6e56b265786375ac765c802200a2.txt  \n",
            "  inflating: /content/roboflow/train/labels/youtube-26_jpg.rf.3bf7749a9bf73c52761bf35bdbaff41c.txt  \n",
            "  inflating: /content/roboflow/train/labels/youtube-26_jpg.rf.e5a4a626f6296402d1559d5a6ba20138.txt  \n",
            "  inflating: /content/roboflow/train/labels/youtube-27_jpg.rf.714d0f5610058801d6eccbb7a24fcf1c.txt  \n",
            "  inflating: /content/roboflow/train/labels/youtube-27_jpg.rf.a124c7728c728d1ed1930682fd028008.txt  \n",
            "  inflating: /content/roboflow/train/labels/youtube-27_jpg.rf.e30dafbc55f6dd09a622b6836cfa60bd.txt  \n",
            "  inflating: /content/roboflow/train/labels/youtube-27_jpg.rf.e8cf4f23d595e892e2b5143d79584870.txt  \n",
            "  inflating: /content/roboflow/train/labels/youtube-28_jpg.rf.0414c0ddbdbf3905e81daf99923fe611.txt  \n",
            "  inflating: /content/roboflow/train/labels/youtube-28_jpg.rf.6be2dcba87489c6c0ffe472c3c4da1e0.txt  \n",
            "  inflating: /content/roboflow/train/labels/youtube-28_jpg.rf.8d1483cf740b9963731949666f62b2de.txt  \n",
            "  inflating: /content/roboflow/train/labels/youtube-28_jpg.rf.d9bfb12e06ad852de1c3aa0e073089d0.txt  \n",
            "  inflating: /content/roboflow/train/labels/youtube-29_jpg.rf.9512e8467decc50f8ef90a3f2d8df3a8.txt  \n",
            "  inflating: /content/roboflow/train/labels/youtube-29_jpg.rf.b345423c0a978a54f466df9f3fa82508.txt  \n",
            " extracting: /content/roboflow/train/labels/youtube-30_jpg.rf.3d82efe9e3e01479f0e6460d267a74f4.txt  \n",
            " extracting: /content/roboflow/train/labels/youtube-30_jpg.rf.60633b05c0b193524bb21a8dd0346196.txt  \n",
            " extracting: /content/roboflow/train/labels/youtube-30_jpg.rf.9f161c72360f89f0fbba4ebfba1ebf33.txt  \n",
            " extracting: /content/roboflow/train/labels/youtube-30_jpg.rf.df0e13be2971575dfc56d633abfaf867.txt  \n",
            "  inflating: /content/roboflow/train/labels/youtube-35_jpg.rf.479fe9ea8f291ab8f08cda3164d2f855.txt  \n",
            "  inflating: /content/roboflow/train/labels/youtube-35_jpg.rf.81b0cb2d7a5aaeff69a35662583b8eb0.txt  \n",
            "  inflating: /content/roboflow/train/labels/youtube-35_jpg.rf.9ef6375a64e17150acabe3fc18d9c59b.txt  \n",
            " extracting: /content/roboflow/train/labels/youtube-36_jpg.rf.5818e0891d63d1df4ba4207e1dcf3310.txt  \n",
            "  inflating: /content/roboflow/train/labels/youtube-36_jpg.rf.674a936260623d01079e9ffa2ee8f29e.txt  \n",
            "  inflating: /content/roboflow/train/labels/youtube-36_jpg.rf.728affd514960e18d8c33614aaecdeec.txt  \n",
            "  inflating: /content/roboflow/train/labels/youtube-36_jpg.rf.78ffae1c9be180a68f3f9725f3184560.txt  \n",
            " extracting: /content/roboflow/train/labels/youtube-36_jpg.rf.e74767249287310ea61fb4b7af842794.txt  \n",
            "  inflating: /content/roboflow/train/labels/youtube-37_jpg.rf.330df940bd5ec3ea7a860c808b066315.txt  \n",
            " extracting: /content/roboflow/train/labels/youtube-37_jpg.rf.5d42c3cc4be1e889c7991ce636f23cf9.txt  \n",
            "  inflating: /content/roboflow/train/labels/youtube-37_jpg.rf.6e0f0ac5eb1eec17826a426193119886.txt  \n",
            "  inflating: /content/roboflow/train/labels/youtube-37_jpg.rf.cc57e073dadeb7abaac4396b5cdbcd58.txt  \n",
            "  inflating: /content/roboflow/train/labels/youtube-37_jpg.rf.d61b393b6de6fb172fcb9e6699cc8c07.txt  \n",
            "  inflating: /content/roboflow/train/labels/youtube-38_jpg.rf.13a8281e4cf6e2899480cef5b769b18b.txt  \n",
            "  inflating: /content/roboflow/train/labels/youtube-38_jpg.rf.2916846a2e97a221495274b2d6567454.txt  \n",
            "  inflating: /content/roboflow/train/labels/youtube-38_jpg.rf.ceb6af9f83685859f24d20b994601869.txt  \n",
            "  inflating: /content/roboflow/train/labels/youtube-39_jpg.rf.7e2ef4c075d8e3c8cfc5867f6f5a761c.txt  \n",
            "  inflating: /content/roboflow/train/labels/youtube-40_jpg.rf.6ce9a83f634b21beb14cb6222f4e7f11.txt  \n",
            "  inflating: /content/roboflow/train/labels/youtube-41_jpg.rf.4ba17ec262832dea4cfa3d1f355e6a0c.txt  \n",
            "  inflating: /content/roboflow/train/labels/youtube-42_jpg.rf.0d543659b048201c8150158268cba1ae.txt  \n",
            "  inflating: /content/roboflow/train/labels/youtube-42_jpg.rf.66ccf14ed6a17d49e707bc467c2dfa01.txt  \n",
            "  inflating: /content/roboflow/train/labels/youtube-42_jpg.rf.6b6549fb0622664e6bb1a4bd0994705e.txt  \n",
            "  inflating: /content/roboflow/train/labels/youtube-43_jpg.rf.d49f3e83ca494b914ac9defc526a1097.txt  \n",
            " extracting: /content/roboflow/train/labels/youtube-44_jpg.rf.011fe13b2ad5fcf60a6ac6cbd81c68b4.txt  \n",
            "  inflating: /content/roboflow/train/labels/youtube-44_jpg.rf.2c44d965511b19503888568f5c03bf8c.txt  \n",
            " extracting: /content/roboflow/train/labels/youtube-44_jpg.rf.3b4da3fe6a582dcf70c1da2be445d041.txt  \n",
            "  inflating: /content/roboflow/train/labels/youtube-44_jpg.rf.4bbc24d1d050e923871104a0b4bc9897.txt  \n",
            "  inflating: /content/roboflow/train/labels/youtube-44_jpg.rf.534b44fb0f619ce9e932af30db71c2b3.txt  \n",
            "  inflating: /content/roboflow/train/labels/youtube-44_jpg.rf.99459e1b566d3bb388bec8c3e0675f28.txt  \n",
            " extracting: /content/roboflow/train/labels/youtube-44_jpg.rf.acb7494ba5a8702dfe23e69184250f80.txt  \n",
            " extracting: /content/roboflow/train/labels/youtube-44_jpg.rf.c3df40d7d1e3c7830458f46dfb194eb0.txt  \n",
            " extracting: /content/roboflow/train/labels/youtube-44_jpg.rf.d3ecf9062baa35a5564ba825484fcc9d.txt  \n",
            "  inflating: /content/roboflow/train/labels/youtube-45_jpg.rf.2a953967baaad10c27f878406ec12781.txt  \n",
            "  inflating: /content/roboflow/train/labels/youtube-46_jpg.rf.b12180fa59b0102679132d94c22d3018.txt  \n",
            "  inflating: /content/roboflow/train/labels/youtube-46_jpg.rf.c031861e2f3f5963b5c24b2f64cd12bd.txt  \n",
            "  inflating: /content/roboflow/train/labels/youtube-46_jpg.rf.e7a43987a7f2480ff062e47e53655b67.txt  \n",
            "  inflating: /content/roboflow/train/labels/youtube-47_jpg.rf.68f3a29b9f7b12ff5c691dab40cf318c.txt  \n",
            "  inflating: /content/roboflow/train/labels/youtube-47_jpg.rf.b59c4ff4396bba5d7ab69583baf11a91.txt  \n",
            "  inflating: /content/roboflow/train/labels/youtube-47_jpg.rf.d3dc1da81ebe28974661adcaf95f06e7.txt  \n",
            "  inflating: /content/roboflow/train/labels/youtube-47_jpg.rf.e251722ed2542ed0bf0f87d56982ed23.txt  \n",
            "  inflating: /content/roboflow/train/labels/youtube-47_jpg.rf.ffdaebb7a288ebcd543bf1c166982e4a.txt  \n",
            "  inflating: /content/roboflow/train/labels/youtube-52_jpg.rf.37ac3f5edb4553932a9b6d61cdb80173.txt  \n",
            "  inflating: /content/roboflow/train/labels/youtube-52_jpg.rf.696aed6a73fdb3db1c8524dbad773840.txt  \n",
            "  inflating: /content/roboflow/train/labels/youtube-52_jpg.rf.feaa8c32cdc6b8af9923978c7c741be7.txt  \n",
            "  inflating: /content/roboflow/train/labels/youtube-53_jpg.rf.0fd0c31de621660c0dfa7bfc9c52d417.txt  \n",
            "  inflating: /content/roboflow/train/labels/youtube-53_jpg.rf.a80f74ba78a1c56684cbf56a9b0b9193.txt  \n",
            "  inflating: /content/roboflow/train/labels/youtube-53_jpg.rf.a8428ec6f475ae77f4dda4346163e7c7.txt  \n",
            "  inflating: /content/roboflow/train/labels/youtube-53_jpg.rf.e5ed1b5f8020242e5bc679f52c1feb14.txt  \n",
            "  inflating: /content/roboflow/train/labels/youtube-54_jpg.rf.421977b6fc8abc4e422dd4f5a261ddec.txt  \n",
            "  inflating: /content/roboflow/train/labels/youtube-54_jpg.rf.6e0d5ed7d0ecbf59c201a03761fe705c.txt  \n",
            "  inflating: /content/roboflow/train/labels/youtube-55_jpg.rf.2f3a3689b33a2c288ee06dfd2ad09fc0.txt  \n",
            "  inflating: /content/roboflow/train/labels/youtube-55_jpg.rf.f16ddccb7f0ac2414a4010859f5add8c.txt  \n",
            "  inflating: /content/roboflow/train/labels/youtube-56_jpg.rf.5080ccc314974a4e2be773193fd80771.txt  \n",
            " extracting: /content/roboflow/train/labels/youtube-56_jpg.rf.c01fa65386c05a29ce8dbd338ffeba87.txt  \n",
            " extracting: /content/roboflow/train/labels/youtube-56_jpg.rf.c4d8c3280a8e38584b07a304666dd572.txt  \n",
            "  inflating: /content/roboflow/train/labels/youtube-56_jpg.rf.c9d0422eb875ceb57dd72be37b502fc8.txt  \n",
            "  inflating: /content/roboflow/train/labels/youtube-57_jpg.rf.0085a63cb132bbc51a36921c363b43b2.txt  \n",
            "  inflating: /content/roboflow/train/labels/youtube-57_jpg.rf.23ef72e9d1c87615251f69144aedc344.txt  \n",
            "  inflating: /content/roboflow/train/labels/youtube-57_jpg.rf.3ed138ecd5a91e514207009e7b15cee7.txt  \n",
            "  inflating: /content/roboflow/train/labels/youtube-57_jpg.rf.8d7be36923547a400405760ce44e8bbf.txt  \n",
            "  inflating: /content/roboflow/train/labels/youtube-57_jpg.rf.f004b7b30d03f4251e6781fce6a6df9e.txt  \n",
            "  inflating: /content/roboflow/train/labels/youtube-58_jpg.rf.22f0dc083e1f84b8ced379669c441bd2.txt  \n",
            "  inflating: /content/roboflow/train/labels/youtube-58_jpg.rf.36544b5a38b7061855afd6afa2f3b2b6.txt  \n",
            "  inflating: /content/roboflow/train/labels/youtube-58_jpg.rf.84d75ffe1591e9a5d668c53f49d1836e.txt  \n",
            "  inflating: /content/roboflow/train/labels/youtube-58_jpg.rf.b3e53a195b54118bde726199b7d86682.txt  \n",
            "  inflating: /content/roboflow/train/labels/youtube-58_jpg.rf.cdfb4bac9b94debf29da3f60b1a1725c.txt  \n",
            "  inflating: /content/roboflow/train/labels/youtube-59_jpg.rf.198a8f02dae1201a25dee29da957bc59.txt  \n",
            "  inflating: /content/roboflow/train/labels/youtube-59_jpg.rf.2c999c075f38b599967bef7cc202fd2d.txt  \n",
            "  inflating: /content/roboflow/train/labels/youtube-59_jpg.rf.ba70aa460caa1ed870f147f8ed70dfaa.txt  \n",
            "  inflating: /content/roboflow/train/labels/youtube-60_jpg.rf.4a78fa83393fcd52a044fc8836bc6f62.txt  \n",
            "  inflating: /content/roboflow/train/labels/youtube-60_jpg.rf.9909ca5a41bd171cc19432852061f45f.txt  \n",
            "  inflating: /content/roboflow/train/labels/youtube-62_jpg.rf.65b29c83cdce01cfcba8a1cba2bf0559.txt  \n",
            "  inflating: /content/roboflow/train/labels/youtube-62_jpg.rf.b64f1f5d2cc2ce68e4f5db4722b7f36d.txt  \n",
            "   creating: /content/roboflow/valid/\n",
            "   creating: /content/roboflow/valid/images/\n",
            " extracting: /content/roboflow/valid/images/-0471C451-8CA5-4CEA-8EFD-3B0F147BF4B7-png_jpg.rf.70bbfdafd191020f3b2315330c0aae39.jpg  \n",
            " extracting: /content/roboflow/valid/images/-0573F94C-289D-4503-A571-94C6C8C5674C-png_jpg.rf.85ae35ba3ec10645ea7ec201b87fa587.jpg  \n",
            " extracting: /content/roboflow/valid/images/-0585CFA0-7CD6-45D3-B7EB-1A109425F90D-png_jpg.rf.3707b2a042ab85d0dc193d71748ba3a1.jpg  \n",
            " extracting: /content/roboflow/valid/images/-0585CFA0-7CD6-45D3-B7EB-1A109425F90D-png_jpg.rf.f381e477088475860c40aaf085368565.jpg  \n",
            " extracting: /content/roboflow/valid/images/-0C60C602-CF70-4679-BB4E-5A1CA33EF472-png_jpg.rf.326870726812f2331d2c1b6966f87ac5.jpg  \n",
            " extracting: /content/roboflow/valid/images/-0D39FCF1-152A-4C52-A0F2-64670E54DB6D-png_jpg.rf.1e49090b9dd1a2929e145f946e7426c4.jpg  \n",
            " extracting: /content/roboflow/valid/images/-0D39FCF1-152A-4C52-A0F2-64670E54DB6D-png_jpg.rf.db647c56f8266cc2ac3e4958abec3a1e.jpg  \n",
            " extracting: /content/roboflow/valid/images/-1058CFB8-55AA-4270-937C-FAB55C49F17A-png_jpg.rf.b2af3e6b04c8d8a8a3439fa3be8f889f.jpg  \n",
            " extracting: /content/roboflow/valid/images/-192C4A31-07E9-4438-9D0D-63CF545747C8-png_jpg.rf.449cde647ee500f50231cf64828c9e64.jpg  \n",
            " extracting: /content/roboflow/valid/images/-192C4A31-07E9-4438-9D0D-63CF545747C8-png_jpg.rf.6175907aeb9755884f635689c5c9b38b.jpg  \n",
            " extracting: /content/roboflow/valid/images/-1AED8217-3B98-4458-83DD-32F5CA3851FF-png_jpg.rf.cddde38f5473873330cd876a928ec86c.jpg  \n",
            " extracting: /content/roboflow/valid/images/-1D5949D1-5187-454E-8ACC-924AD82CAC9C-png_jpg.rf.5e55face0e862724c48166f3b56353af.jpg  \n",
            " extracting: /content/roboflow/valid/images/-232CA389-A176-4AB7-A513-8D2D5E477CC2-png_jpg.rf.b239a44dfaf27f445d226de438ec8307.jpg  \n",
            " extracting: /content/roboflow/valid/images/-232CA389-A176-4AB7-A513-8D2D5E477CC2-png_jpg.rf.d5db8c6bf2d9dc68c3a9bade2ae5c022.jpg  \n",
            " extracting: /content/roboflow/valid/images/-24FFED69-CE70-43C8-8E00-90684987BD32-png_jpg.rf.35dab4007f7c5dd3eadf05ff889123e1.jpg  \n",
            " extracting: /content/roboflow/valid/images/-251A7DC4-47FA-45BF-8F18-8C933578D147-png_jpg.rf.eaff7a6e9b75c2fef7dd3488005be2a9.jpg  \n",
            " extracting: /content/roboflow/valid/images/-26A4102E-9D99-421D-91DC-9E66089FF2F6-png_jpg.rf.9e2d17748cb942f82bc2952201e9d54b.jpg  \n",
            " extracting: /content/roboflow/valid/images/-26A4102E-9D99-421D-91DC-9E66089FF2F6-png_jpg.rf.f8aebc5906f67fd0833826649e61b0a9.jpg  \n",
            " extracting: /content/roboflow/valid/images/-2846226C-6A55-4876-B717-7F8A5FA4E560-png_jpg.rf.c0215cd7b7ba474babf54aad76b23da2.jpg  \n",
            " extracting: /content/roboflow/valid/images/-3130BF7E-8143-44C3-AC0D-8068C9108560-png_jpg.rf.9841b91686086a9b81e189edeb9d6f6c.jpg  \n",
            " extracting: /content/roboflow/valid/images/-332D2462-631E-4F9D-914E-9EA5A217A8FA-png_jpg.rf.2c7ac6d4d6688b4f8490bbcc64d58c54.jpg  \n",
            " extracting: /content/roboflow/valid/images/-332D2462-631E-4F9D-914E-9EA5A217A8FA-png_jpg.rf.4099767d810e596b57f2e0d745483db7.jpg  \n",
            " extracting: /content/roboflow/valid/images/-344A5C5C-CF3A-48B7-BE2F-7373A99B6465-png_jpg.rf.8866f7bb6b6a42545474c69df4523255.jpg  \n",
            " extracting: /content/roboflow/valid/images/-3827C0BE-B55D-4ADE-9938-9DC7D50A32DD-png_jpg.rf.d2451748885ea51591fac2f661e7908b.jpg  \n",
            " extracting: /content/roboflow/valid/images/-3827C0BE-B55D-4ADE-9938-9DC7D50A32DD-png_jpg.rf.ea8bae92e13eef5417dd1b934837bccb.jpg  \n",
            " extracting: /content/roboflow/valid/images/-3947B75C-299F-46E6-84AF-947CB4AE712E-png_jpg.rf.890e1341425df7c108ecacec0d7a7347.jpg  \n",
            " extracting: /content/roboflow/valid/images/-398D11E1-12E9-4FE1-83DA-198B0C1A0D9D-png_jpg.rf.f10aaf8aa3531ec4ac018ac29451cebc.jpg  \n",
            " extracting: /content/roboflow/valid/images/-3B056DBB-3097-4BCB-A38A-F66FA7470A6C-png_jpg.rf.5e62e9c06e09bcc35ff174acc634d13c.jpg  \n",
            " extracting: /content/roboflow/valid/images/-3B056DBB-3097-4BCB-A38A-F66FA7470A6C-png_jpg.rf.615672fd91261707780b09ad6318b08a.jpg  \n",
            " extracting: /content/roboflow/valid/images/-3B056DBB-3097-4BCB-A38A-F66FA7470A6C-png_jpg.rf.6f455796e87a89948c564861e5f03624.jpg  \n",
            " extracting: /content/roboflow/valid/images/-3B056DBB-3097-4BCB-A38A-F66FA7470A6C-png_jpg.rf.cbcfd7c671de904ff75a0e8b1fc7344a.jpg  \n",
            " extracting: /content/roboflow/valid/images/-3C758EB2-E016-4C89-93CE-0E4FF51161C2-png_jpg.rf.cd752bf36d049fd79129daa3e88eba9c.jpg  \n",
            " extracting: /content/roboflow/valid/images/-3C758EB2-E016-4C89-93CE-0E4FF51161C2-png_jpg.rf.ef5955e2f36cfa73ae6b83a20f81ed63.jpg  \n",
            " extracting: /content/roboflow/valid/images/-3D5128F1-30BE-4617-87D6-DBA1B7BF88DF-png_jpg.rf.611275449239d4729b802f92af66de57.jpg  \n",
            " extracting: /content/roboflow/valid/images/-420B178A-1068-4C65-B00F-763738FCB982-png_jpg.rf.5231d0fbb6d48f71e8af3459e3329d97.jpg  \n",
            " extracting: /content/roboflow/valid/images/-431A51B8-216A-4491-8839-72DCD54029AD-png_jpg.rf.8b86326573628161305ec3ead3ad936c.jpg  \n",
            " extracting: /content/roboflow/valid/images/-44DB40B6-D520-4654-A07D-E87A49846F12-png_jpg.rf.66c09d7797d0b79d254e3ec23232f5f0.jpg  \n",
            " extracting: /content/roboflow/valid/images/-4B733FC3-CEF8-427E-B4A1-7C1E04168672-png_jpg.rf.66511c02dc79088f18ebb542043f0639.jpg  \n",
            " extracting: /content/roboflow/valid/images/-4FB14832-DB4E-41E9-B8FC-9D33DEB67AAA-png_jpg.rf.9de3a7cac1a7c6ff60c87213b219090a.jpg  \n",
            " extracting: /content/roboflow/valid/images/-50894A9D-DA2D-4049-9C7B-6006F32452BC-png_jpg.rf.0789d4b641b3940a5f2ee05cbd3bb3e8.jpg  \n",
            " extracting: /content/roboflow/valid/images/-50894A9D-DA2D-4049-9C7B-6006F32452BC-png_jpg.rf.1e216c580ed452e4e686367ed5ba330d.jpg  \n",
            " extracting: /content/roboflow/valid/images/-50894A9D-DA2D-4049-9C7B-6006F32452BC-png_jpg.rf.47bb616d68aac9f7e8ce849b41f29735.jpg  \n",
            " extracting: /content/roboflow/valid/images/-50894A9D-DA2D-4049-9C7B-6006F32452BC-png_jpg.rf.62999b1657bb5a539362006dc769772a.jpg  \n",
            " extracting: /content/roboflow/valid/images/-51FFF967-684D-4519-8EC0-A9C7CC6F2280-png_jpg.rf.031763109d20e7909a95345147326901.jpg  \n",
            " extracting: /content/roboflow/valid/images/-51FFF967-684D-4519-8EC0-A9C7CC6F2280-png_jpg.rf.9f5033523b0b11293db7d3b589fb5a0e.jpg  \n",
            " extracting: /content/roboflow/valid/images/-52262D73-8B4E-4F06-883D-4C6E2E6ADED2-png_jpg.rf.b8faf0540e1ff319de3df04650b250a4.jpg  \n",
            " extracting: /content/roboflow/valid/images/-52262D73-8B4E-4F06-883D-4C6E2E6ADED2-png_jpg.rf.fdc5567f4a6cb129acbf477111f3ff0c.jpg  \n",
            " extracting: /content/roboflow/valid/images/-526B0491-0C42-4F0F-A201-ECFD6ED3DD6E-png_jpg.rf.6c3140d75d47fd5fe826fc58a787de2b.jpg  \n",
            " extracting: /content/roboflow/valid/images/-52D877A5-D9D5-4B8F-848F-E449684E4869-png_jpg.rf.c188311c589467548231451e61de7344.jpg  \n",
            " extracting: /content/roboflow/valid/images/-53C40FB0-F866-4F4A-A410-D32C65C75BB4-png_jpg.rf.e71eb69dcbad39c59e19963604f6af08.jpg  \n",
            " extracting: /content/roboflow/valid/images/-53D41263-2FA3-40DF-9556-1EB08D19D5F1-png_jpg.rf.1414a2ade9a74400aebb86a4355f39b7.jpg  \n",
            " extracting: /content/roboflow/valid/images/-541C6E4C-DEC9-4725-97C0-B773CF5182AB-png_jpg.rf.1e52ea0087232109b4fbe08c7128ed64.jpg  \n",
            " extracting: /content/roboflow/valid/images/-541C6E4C-DEC9-4725-97C0-B773CF5182AB-png_jpg.rf.e80333647e66590c16bfda6b5b4ae8d4.jpg  \n",
            " extracting: /content/roboflow/valid/images/-5481DCB8-6595-495C-BFEB-5B74B2345808-png_jpg.rf.771690f700dd2267f34c8ba228e6987b.jpg  \n",
            " extracting: /content/roboflow/valid/images/-56EAA0B9-41EA-46F5-99F9-433F614E42FB-png_jpg.rf.200162e9e5282d5e69423c59a8864c82.jpg  \n",
            " extracting: /content/roboflow/valid/images/-56EF2068-CDF4-4068-80A1-E567375D4AE6-png_jpg.rf.c7277b65229ae68e95abe671c122bed4.jpg  \n",
            " extracting: /content/roboflow/valid/images/-59D02DDC-DB49-41DA-8B1F-33712FDE8CEE-png_jpg.rf.3bc9f7976ef2b102c64501e6c143e5d9.jpg  \n",
            " extracting: /content/roboflow/valid/images/-5A06964D-6D40-4132-A769-F21A3B8E1DAA-png_jpg.rf.f361c3e2d43790830a5554207f312ba0.jpg  \n",
            " extracting: /content/roboflow/valid/images/-5AD2C6FA-9814-4CB1-822E-3A617443C49E-png_jpg.rf.015d7ac06642f9587687ad6b64420d8e.jpg  \n",
            " extracting: /content/roboflow/valid/images/-5CEE3337-3AF2-49E4-AE4E-42B9E2E44512-png_jpg.rf.3be142f55f54c457f72a0073f2af93f4.jpg  \n",
            " extracting: /content/roboflow/valid/images/-5D5BA3F7-FDD8-4C19-8DAC-D5384A81B407-png_jpg.rf.4f3ce8eb5328ce6583c1b8c261572188.jpg  \n",
            " extracting: /content/roboflow/valid/images/-5D5BA3F7-FDD8-4C19-8DAC-D5384A81B407-png_jpg.rf.634919b8da8af2161ed432e87d284d2f.jpg  \n",
            " extracting: /content/roboflow/valid/images/-62DA7C7D-C50D-40A7-87D1-DB8633F1F29D-png_jpg.rf.77eb639212ba0982b07d9ef1b13565fa.jpg  \n",
            " extracting: /content/roboflow/valid/images/-62DA7C7D-C50D-40A7-87D1-DB8633F1F29D-png_jpg.rf.ceed86eb000df05207b439c2bcfe08f1.jpg  \n",
            " extracting: /content/roboflow/valid/images/-63A3759B-1595-4A66-BB62-1E7F580BA753-png_jpg.rf.b566c288d95bce87c63922672dee2cbf.jpg  \n",
            " extracting: /content/roboflow/valid/images/-6895811E-6E26-4DBD-A7ED-F7A529684BBA-png_jpg.rf.5245072c697cfa875578f8de20a41574.jpg  \n",
            " extracting: /content/roboflow/valid/images/-8561227C-3731-4CFC-9FE9-2715B581C159-png_jpg.rf.201e62177e83756dc7d34018f844f31f.jpg  \n",
            " extracting: /content/roboflow/valid/images/-8561227C-3731-4CFC-9FE9-2715B581C159-png_jpg.rf.346d71f70aae413a5c17dd029e5b15d8.jpg  \n",
            " extracting: /content/roboflow/valid/images/-B3FF9CBC-6C9F-4BDD-B814-790723E32E98-png_jpg.rf.60e0e64d7f612613c1e8646fdc4d9e62.jpg  \n",
            " extracting: /content/roboflow/valid/images/-B3FF9CBC-6C9F-4BDD-B814-790723E32E98-png_jpg.rf.cb6d8d1024790c5fc396c660d4364c64.jpg  \n",
            " extracting: /content/roboflow/valid/images/-B41BBCCE-A512-4CBA-94C0-D236EC1DEBA1-png_jpg.rf.a55eb4d80d52cea42844133ec0bc449d.jpg  \n",
            " extracting: /content/roboflow/valid/images/-B83337D2-1F91-4346-B7A4-222F8A45CBF0-png_jpg.rf.48267143d49a33e7230cecebeac85dbf.jpg  \n",
            " extracting: /content/roboflow/valid/images/-B83337D2-1F91-4346-B7A4-222F8A45CBF0-png_jpg.rf.ab272d030df28dad8ed8215df3b1e8d2.jpg  \n",
            " extracting: /content/roboflow/valid/images/-BABD5091-6597-40E1-82D1-29A0F4DCD9E0-png_jpg.rf.a01e27aaa610cd5fa069924ad437b437.jpg  \n",
            " extracting: /content/roboflow/valid/images/-BAE1D45C-2B9A-4C23-AB1D-BD0C25964678-png_jpg.rf.847508c220de18bf5a5e216744fa8e3a.jpg  \n",
            " extracting: /content/roboflow/valid/images/-BAE1D45C-2B9A-4C23-AB1D-BD0C25964678-png_jpg.rf.baf4aae646257ce300023e7f736a8c9a.jpg  \n",
            " extracting: /content/roboflow/valid/images/-BBC6D213-1075-48CE-B772-FDD44F34A3E7-png_jpg.rf.ae7c07a046483eadf6556fc17b90815c.jpg  \n",
            " extracting: /content/roboflow/valid/images/-BD499523-8602-4C68-8E63-FCE23A82AA16-png_jpg.rf.664322c2a1c2bf759f1832681087003d.jpg  \n",
            " extracting: /content/roboflow/valid/images/-BD499523-8602-4C68-8E63-FCE23A82AA16-png_jpg.rf.69f2fbaa7c1e1da85551376f148c4c90.jpg  \n",
            " extracting: /content/roboflow/valid/images/-BD499523-8602-4C68-8E63-FCE23A82AA16-png_jpg.rf.c365279c551e19ff3a48f18e04a1d0f5.jpg  \n",
            " extracting: /content/roboflow/valid/images/-BD499523-8602-4C68-8E63-FCE23A82AA16-png_jpg.rf.df5ef693ab5ba511bd6804a9b9aa7deb.jpg  \n",
            " extracting: /content/roboflow/valid/images/-BE1B7E1A-3BF4-44E6-A49D-E46AC48D77B0-png_jpg.rf.2da87a24b5cd40cfbd0145b86f5f5a09.jpg  \n",
            " extracting: /content/roboflow/valid/images/-BE1B7E1A-3BF4-44E6-A49D-E46AC48D77B0-png_jpg.rf.affaba22654a83d6e8cb34a07dfaf4f2.jpg  \n",
            " extracting: /content/roboflow/valid/images/-BF27E7F2-0C42-45C0-A751-91723B77D799-png_jpg.rf.489103f9f6bfe25d4a580590f3f1a97d.jpg  \n",
            " extracting: /content/roboflow/valid/images/-C006FC45-64AF-4FA9-B836-17F1DE49F186-png_jpg.rf.b77082e563d44e5da519217e1053bb50.jpg  \n",
            " extracting: /content/roboflow/valid/images/-C04C7AD3-AEAC-4250-9856-9D1606800D44-png_jpg.rf.13c6e4ce6fb3c45927724db8751f3ae1.jpg  \n",
            " extracting: /content/roboflow/valid/images/-C04C7AD3-AEAC-4250-9856-9D1606800D44-png_jpg.rf.5bc74c35695ce103c0092e71e2362828.jpg  \n",
            " extracting: /content/roboflow/valid/images/-C182A49E-641F-4C62-A54F-86397CBD2780-png_jpg.rf.70279f2e39b4ab3688f73723c7f0a3f5.jpg  \n",
            " extracting: /content/roboflow/valid/images/-C3D83141-091E-44E3-B5AF-321A93A32FD2-png_jpg.rf.6e10ffe7bf43665ec979e4723a62d96a.jpg  \n",
            " extracting: /content/roboflow/valid/images/-C4FB6EE5-2134-4252-A3E7-FCE53E7F5D62-png_jpg.rf.6691ab455325446dd2804bb4c16c5e37.jpg  \n",
            " extracting: /content/roboflow/valid/images/-C4FB6EE5-2134-4252-A3E7-FCE53E7F5D62-png_jpg.rf.a055d1587c77a5e426b7d76d277a5e7b.jpg  \n",
            " extracting: /content/roboflow/valid/images/-C6E3BB9A-DF12-4C1E-B325-8480F9DDDF74-png_jpg.rf.d6c17172c66bf5d07e64ef96f968706c.jpg  \n",
            " extracting: /content/roboflow/valid/images/-C6E3BB9A-DF12-4C1E-B325-8480F9DDDF74-png_jpg.rf.f62f53316e8fbe5ee815ef0801f5341f.jpg  \n",
            " extracting: /content/roboflow/valid/images/-C8A077AE-C474-4AAB-A0E4-24F4F9266447-png_jpg.rf.2053db17e0d0c1742829eefc92df936e.jpg  \n",
            " extracting: /content/roboflow/valid/images/-C96EB60C-375E-476D-8D20-3643A20C26B5-png_jpg.rf.4f2169d0aa58a67e3970c189ecd0e8aa.jpg  \n",
            " extracting: /content/roboflow/valid/images/-CCEF01A1-0F47-495F-A37B-F77800A03B07-png_jpg.rf.8c2f277f19a1f0e7db7e5b6358f34814.jpg  \n",
            " extracting: /content/roboflow/valid/images/-CCFB44DE-C25D-4C37-981B-6DBCB4F963AB-png_jpg.rf.e1815c1f0301656e40bce7a20d15e381.jpg  \n",
            " extracting: /content/roboflow/valid/images/-D033F88A-8CE6-40D3-9005-E2697DC83F11-png_jpg.rf.59fd1e5e6007ac3da82d7ab036c015e9.jpg  \n",
            " extracting: /content/roboflow/valid/images/-DC6190CE-238A-4C11-A283-27ADC0D9C646-png_jpg.rf.dcad86f22ae5ae0f0ab42df05b599a17.jpg  \n",
            " extracting: /content/roboflow/valid/images/-DD01F5C8-2930-4A6A-A022-E44F4091A9D7-png_jpg.rf.1773102ac6bbc8f5799f69d1848f6c9d.jpg  \n",
            " extracting: /content/roboflow/valid/images/-DE1082FD-0948-4DF8-ABB3-902022027FE2-png_jpg.rf.0ab49b0d3926c7bd19549dc143b866fe.jpg  \n",
            " extracting: /content/roboflow/valid/images/-DE1082FD-0948-4DF8-ABB3-902022027FE2-png_jpg.rf.dc01cbec99f990adff2f4bd479bba698.jpg  \n",
            " extracting: /content/roboflow/valid/images/-DE24E442-B2F4-43B7-8741-6AA037A20D4E-png_jpg.rf.472c1a60c97b31c6d5ad37f01ee10e6b.jpg  \n",
            " extracting: /content/roboflow/valid/images/-DE24E442-B2F4-43B7-8741-6AA037A20D4E-png_jpg.rf.cb466bc367c97a94e4482cf8aaaa5d22.jpg  \n",
            " extracting: /content/roboflow/valid/images/-E1655382-7FF5-4725-9C33-D894A3A0881E-png_jpg.rf.2ee4860c25cad18b84ba5b04ba33a197.jpg  \n",
            " extracting: /content/roboflow/valid/images/14_jpeg_jpg.rf.54053d365351213b14363c7706f44696.jpg  \n",
            " extracting: /content/roboflow/valid/images/14_jpeg_jpg.rf.e8205bfef96edc74bdba0d1c73dafa1c.jpg  \n",
            " extracting: /content/roboflow/valid/images/15_jpeg_jpg.rf.906bc46f1b058c93bd4749569d7b5929.jpg  \n",
            " extracting: /content/roboflow/valid/images/15_jpeg_jpg.rf.e9e74f79eb45947fcef324163ebbff1d.jpg  \n",
            " extracting: /content/roboflow/valid/images/2_jpeg_jpg.rf.455ef9fd1641b9ff73eb45cb4a8aff35.jpg  \n",
            " extracting: /content/roboflow/valid/images/3_jpeg_jpg.rf.701932bbc22d14d7aa1da636a3a78078.jpg  \n",
            " extracting: /content/roboflow/valid/images/3_jpeg_jpg.rf.a74712b25b2e57545010cf5c66421302.jpg  \n",
            " extracting: /content/roboflow/valid/images/6_jpeg_jpg.rf.faa39c76d07b4c4b37f50ece188ee04c.jpg  \n",
            " extracting: /content/roboflow/valid/images/WhatsApp-Image-2022-11-29-at-20-15-44-1-_jpeg_jpg.rf.44c688153b4cc0f28e6024d36855e5a7.jpg  \n",
            " extracting: /content/roboflow/valid/images/WhatsApp-Image-2022-11-29-at-20-15-44_jpeg_jpg.rf.9d96d68a69ab2dd6a102efe6fa97336b.jpg  \n",
            " extracting: /content/roboflow/valid/images/WhatsApp-Image-2022-12-05-at-18-16-24_jpeg_jpg.rf.4dfe08ac349736648d79bdf677f16af6.jpg  \n",
            " extracting: /content/roboflow/valid/images/WhatsApp-Image-2022-12-05-at-18-16-24_jpeg_jpg.rf.632fe02b0d828eb297d7d433c4a7c5e4.jpg  \n",
            " extracting: /content/roboflow/valid/images/WhatsApp-Image-2022-12-05-at-18-16-24_jpeg_jpg.rf.abdd70900d84b8f41c4e81863c960388.jpg  \n",
            " extracting: /content/roboflow/valid/images/WhatsApp-Image-2022-12-05-at-18-16-34_jpeg_jpg.rf.d3ee3b50f9b1b546d22baecb1e3aa29f.jpg  \n",
            " extracting: /content/roboflow/valid/images/WhatsApp-Image-2022-12-05-at-18-16-45_jpeg_jpg.rf.9582f0acef404ca388c3e09f9fac2540.jpg  \n",
            " extracting: /content/roboflow/valid/images/WhatsApp-Image-2022-12-05-at-18-16-49_jpeg_jpg.rf.7194dabee1d96f0bc0a2f1c09778d578.jpg  \n",
            " extracting: /content/roboflow/valid/images/WhatsApp-Image-2022-12-05-at-18-16-55_jpeg_jpg.rf.637dec8ae948245e3366e9acb69643a9.jpg  \n",
            " extracting: /content/roboflow/valid/images/WhatsApp-Image-2022-12-05-at-18-17-00_jpeg_jpg.rf.92727176c9f6204c659da2ab2b8f8539.jpg  \n",
            " extracting: /content/roboflow/valid/images/WhatsApp-Image-2022-12-05-at-18-17-36_jpeg_jpg.rf.11f4d6eeb30542bb300f40863183c8af.jpg  \n",
            " extracting: /content/roboflow/valid/images/WhatsApp-Image-2022-12-05-at-18-17-36_jpeg_jpg.rf.f36b2808308c838e57dc331a15e72f76.jpg  \n",
            " extracting: /content/roboflow/valid/images/WhatsApp-Image-2022-12-05-at-18-17-48_jpeg_jpg.rf.b05e1da4ef48ff33b8fd051d624082cd.jpg  \n",
            " extracting: /content/roboflow/valid/images/WhatsApp-Image-2022-12-05-at-18-17-48_jpeg_jpg.rf.bafff53dd8008d608ef9688953ada7ec.jpg  \n",
            " extracting: /content/roboflow/valid/images/WhatsApp-Image-2022-12-05-at-18-17-53_jpeg_jpg.rf.c09e9cd6f096caa88365a8f82e328afd.jpg  \n",
            " extracting: /content/roboflow/valid/images/WhatsApp-Image-2022-12-05-at-18-18-22_jpeg_jpg.rf.58fa2f2a8f1d75b97969e83296a8eac6.jpg  \n",
            " extracting: /content/roboflow/valid/images/WhatsApp-Image-2022-12-05-at-18-18-28_jpeg_jpg.rf.b155080095d7fd781bd90887e033563d.jpg  \n",
            " extracting: /content/roboflow/valid/images/WhatsApp-Image-2022-12-05-at-18-18-28_jpeg_jpg.rf.b458e48851603a91771e7db27d8d8f5a.jpg  \n",
            " extracting: /content/roboflow/valid/images/WhatsApp-Image-2022-12-05-at-18-19-10_jpeg_jpg.rf.27a46a7a5c6f7c326726426c075eba74.jpg  \n",
            " extracting: /content/roboflow/valid/images/WhatsApp-Image-2022-12-05-at-18-19-10_jpeg_jpg.rf.2e709759fb91bc781fb36530147dc814.jpg  \n",
            " extracting: /content/roboflow/valid/images/WhatsApp-Image-2022-12-05-at-18-19-45_jpeg_jpg.rf.0761e68b249fd689e7b1a7d9810170a8.jpg  \n",
            " extracting: /content/roboflow/valid/images/WhatsApp-Image-2022-12-05-at-18-19-45_jpeg_jpg.rf.8578579a3d5c34d6220e87d9f75edc88.jpg  \n",
            " extracting: /content/roboflow/valid/images/WhatsApp-Image-2022-12-05-at-18-20-03_jpeg_jpg.rf.52f57fe7de231618268684870fc88e23.jpg  \n",
            " extracting: /content/roboflow/valid/images/WhatsApp-Image-2022-12-05-at-18-20-09_jpeg_jpg.rf.a356c14dbd030cbbd8e0e68fc38e3142.jpg  \n",
            " extracting: /content/roboflow/valid/images/WhatsApp-Image-2022-12-05-at-18-21-16_jpeg_jpg.rf.d1e407084d22bf056dff290b01adac87.jpg  \n",
            " extracting: /content/roboflow/valid/images/WhatsApp-Image-2022-12-05-at-18-21-58_jpeg_jpg.rf.1aab57e4eca055ebb458fc4216052b61.jpg  \n",
            " extracting: /content/roboflow/valid/images/WhatsApp-Image-2022-12-05-at-18-21-58_jpeg_jpg.rf.c2d3d48167df95c3065141442b3a7305.jpg  \n",
            " extracting: /content/roboflow/valid/images/WhatsApp-Image-2022-12-05-at-18-22-11_jpeg_jpg.rf.c1bcaea48087d8e83f6f67b8477fe74d.jpg  \n",
            " extracting: /content/roboflow/valid/images/WhatsApp-Image-2022-12-05-at-18-22-24_jpeg_jpg.rf.9fdd001924801500743973502fc55d59.jpg  \n",
            " extracting: /content/roboflow/valid/images/WhatsApp-Image-2022-12-05-at-18-22-52_jpeg_jpg.rf.2f3751e264695c4ce194351c46f00f26.jpg  \n",
            " extracting: /content/roboflow/valid/images/WhatsApp-Image-2022-12-05-at-18-24-10_jpeg_jpg.rf.49b26683d40252c0309da8d8a07a23d3.jpg  \n",
            " extracting: /content/roboflow/valid/images/WhatsApp-Image-2022-12-05-at-18-24-16_jpeg_jpg.rf.84117840fefc3e1db0e07de3a0cd6ae3.jpg  \n",
            " extracting: /content/roboflow/valid/images/WhatsApp-Image-2022-12-05-at-18-24-16_jpeg_jpg.rf.ccde4902685da2f15c2e756a17af4edb.jpg  \n",
            " extracting: /content/roboflow/valid/images/WhatsApp-Image-2022-12-05-at-18-24-27_jpeg_jpg.rf.80a02f36f23c8edf7a4dcf1e6c0c9fd6.jpg  \n",
            " extracting: /content/roboflow/valid/images/WhatsApp-Image-2022-12-05-at-18-25-07_jpeg_jpg.rf.aa3fa31572237feb52dbdec1a27db2fa.jpg  \n",
            " extracting: /content/roboflow/valid/images/WhatsApp-Image-2022-12-05-at-18-25-08_jpeg_jpg.rf.923ad9ed8605395954e188e55982f86b.jpg  \n",
            " extracting: /content/roboflow/valid/images/WhatsApp-Image-2022-12-05-at-18-25-23_jpeg_jpg.rf.f72931126c6c3a3a3bb8488f7baa3cb9.jpg  \n",
            " extracting: /content/roboflow/valid/images/WhatsApp-Image-2022-12-05-at-18-26-29_jpeg_jpg.rf.eba1b01b72d45874ff9d79db073fbdda.jpg  \n",
            " extracting: /content/roboflow/valid/images/WhatsApp-Image-2022-12-05-at-18-28-06_jpeg_jpg.rf.2c3731507c2d07702ddb70655f081cce.jpg  \n",
            " extracting: /content/roboflow/valid/images/WhatsApp-Image-2022-12-05-at-18-29-12_jpeg_jpg.rf.9bb0d8f0c0dc4f9d1f62b4c15a32be79.jpg  \n",
            " extracting: /content/roboflow/valid/images/WhatsApp-Image-2022-12-05-at-18-29-12_jpeg_jpg.rf.9dadb7c914228544621778c536d73918.jpg  \n",
            " extracting: /content/roboflow/valid/images/WhatsApp-Video-2022-11-29-at-20_15_43_mp4-0_jpg.rf.ebedc39520c49d635a1aab6ce84140a9.jpg  \n",
            " extracting: /content/roboflow/valid/images/WhatsApp-Video-2022-11-29-at-20_15_43_mp4-2_jpg.rf.c4b48043f0215bb4d560086015f75831.jpg  \n",
            " extracting: /content/roboflow/valid/images/WhatsApp-Video-2022-11-29-at-20_15_43_mp4-4_jpg.rf.33c873af57070f3d50631cbd5551c65d.jpg  \n",
            " extracting: /content/roboflow/valid/images/WhatsApp-Video-2022-11-29-at-20_15_43_mp4-4_jpg.rf.f4ddab91d3ef1d265719c64891a06068.jpg  \n",
            " extracting: /content/roboflow/valid/images/WhatsApp-Video-2022-11-29-at-20_15_43_mp4-6_jpg.rf.aa70cae3801a65fdc7fe6780451ddfa3.jpg  \n",
            " extracting: /content/roboflow/valid/images/youtube-21_jpg.rf.47f2af8cb5989227eaf28481e4e8ddc9.jpg  \n",
            " extracting: /content/roboflow/valid/images/youtube-21_jpg.rf.b9c3a081c73fdfb7f302f242ba86f14b.jpg  \n",
            " extracting: /content/roboflow/valid/images/youtube-25_jpg.rf.093abcab4d654dab9b1bff19f53d6ec1.jpg  \n",
            " extracting: /content/roboflow/valid/images/youtube-26_jpg.rf.2def549df1242921ce77bd4b89730613.jpg  \n",
            " extracting: /content/roboflow/valid/images/youtube-27_jpg.rf.b2838e1613a5a049c28c51af93bde549.jpg  \n",
            " extracting: /content/roboflow/valid/images/youtube-29_jpg.rf.124fa52b414358febf0d5783c12da69c.jpg  \n",
            " extracting: /content/roboflow/valid/images/youtube-29_jpg.rf.6a0fc6e077d7948edeee5c92e5de1ca3.jpg  \n",
            " extracting: /content/roboflow/valid/images/youtube-29_jpg.rf.f2d824b9fd7dff139b3aefaf7521d7d5.jpg  \n",
            " extracting: /content/roboflow/valid/images/youtube-38_jpg.rf.8f4831f9873e1dc88828781abd89b5d1.jpg  \n",
            " extracting: /content/roboflow/valid/images/youtube-38_jpg.rf.f197b9e93efdb8e4503c7d4a04477dea.jpg  \n",
            " extracting: /content/roboflow/valid/images/youtube-39_jpg.rf.b34779d611d8f9deced9ff710b349d15.jpg  \n",
            " extracting: /content/roboflow/valid/images/youtube-40_jpg.rf.40bd21969d3f20e25479c2a3e736769f.jpg  \n",
            " extracting: /content/roboflow/valid/images/youtube-42_jpg.rf.fa858d19f9278248b74763499d39c6e4.jpg  \n",
            " extracting: /content/roboflow/valid/images/youtube-44_jpg.rf.a59bce85f25fce0336b8c5b3c17ba6fb.jpg  \n",
            " extracting: /content/roboflow/valid/images/youtube-44_jpg.rf.b53bdc75aa96dd17f4fc741a69a04362.jpg  \n",
            " extracting: /content/roboflow/valid/images/youtube-44_jpg.rf.e47036ff7400a1175ce16fa9039e1143.jpg  \n",
            " extracting: /content/roboflow/valid/images/youtube-47_jpg.rf.39ee1d2795c1b91ac684b45d24ec6b5b.jpg  \n",
            " extracting: /content/roboflow/valid/images/youtube-47_jpg.rf.97e7dcdba5eecc556a73cc088762f80b.jpg  \n",
            " extracting: /content/roboflow/valid/images/youtube-52_jpg.rf.aa94873111b245b3158b97b5f11b6bd2.jpg  \n",
            " extracting: /content/roboflow/valid/images/youtube-53_jpg.rf.297c3208afa3cb499506a5fd6cd09e06.jpg  \n",
            " extracting: /content/roboflow/valid/images/youtube-55_jpg.rf.70b8466b9d963f63b3eae11fce8c54f8.jpg  \n",
            " extracting: /content/roboflow/valid/images/youtube-56_jpg.rf.6eae812cc8cac80126d1ebc5019cd497.jpg  \n",
            " extracting: /content/roboflow/valid/images/youtube-56_jpg.rf.744f6d5e017458a750f174fcf5f755f6.jpg  \n",
            " extracting: /content/roboflow/valid/images/youtube-57_jpg.rf.a975eb9caf2c657dcfbc6f2a14180424.jpg  \n",
            " extracting: /content/roboflow/valid/images/youtube-59_jpg.rf.b2d2a82f95f88ce991b83a094ec631e5.jpg  \n",
            " extracting: /content/roboflow/valid/images/youtube-61_jpg.rf.f9f0a3aa0a01a639604052b8dcc93556.jpg  \n",
            " extracting: /content/roboflow/valid/images/youtube-62_jpg.rf.2714d07be40b27efc13887d333c052fe.jpg  \n",
            " extracting: /content/roboflow/valid/images/youtube-62_jpg.rf.6cc1d2b5c00d9e8d5a6576379ef7f326.jpg  \n",
            "   creating: /content/roboflow/valid/labels/\n",
            "  inflating: /content/roboflow/valid/labels/-0471C451-8CA5-4CEA-8EFD-3B0F147BF4B7-png_jpg.rf.70bbfdafd191020f3b2315330c0aae39.txt  \n",
            "  inflating: /content/roboflow/valid/labels/-0573F94C-289D-4503-A571-94C6C8C5674C-png_jpg.rf.85ae35ba3ec10645ea7ec201b87fa587.txt  \n",
            "  inflating: /content/roboflow/valid/labels/-0585CFA0-7CD6-45D3-B7EB-1A109425F90D-png_jpg.rf.3707b2a042ab85d0dc193d71748ba3a1.txt  \n",
            " extracting: /content/roboflow/valid/labels/-0585CFA0-7CD6-45D3-B7EB-1A109425F90D-png_jpg.rf.f381e477088475860c40aaf085368565.txt  \n",
            "  inflating: /content/roboflow/valid/labels/-0C60C602-CF70-4679-BB4E-5A1CA33EF472-png_jpg.rf.326870726812f2331d2c1b6966f87ac5.txt  \n",
            "  inflating: /content/roboflow/valid/labels/-0D39FCF1-152A-4C52-A0F2-64670E54DB6D-png_jpg.rf.1e49090b9dd1a2929e145f946e7426c4.txt  \n",
            "  inflating: /content/roboflow/valid/labels/-0D39FCF1-152A-4C52-A0F2-64670E54DB6D-png_jpg.rf.db647c56f8266cc2ac3e4958abec3a1e.txt  \n",
            " extracting: /content/roboflow/valid/labels/-1058CFB8-55AA-4270-937C-FAB55C49F17A-png_jpg.rf.b2af3e6b04c8d8a8a3439fa3be8f889f.txt  \n",
            "  inflating: /content/roboflow/valid/labels/-192C4A31-07E9-4438-9D0D-63CF545747C8-png_jpg.rf.449cde647ee500f50231cf64828c9e64.txt  \n",
            "  inflating: /content/roboflow/valid/labels/-192C4A31-07E9-4438-9D0D-63CF545747C8-png_jpg.rf.6175907aeb9755884f635689c5c9b38b.txt  \n",
            "  inflating: /content/roboflow/valid/labels/-1AED8217-3B98-4458-83DD-32F5CA3851FF-png_jpg.rf.cddde38f5473873330cd876a928ec86c.txt  \n",
            "  inflating: /content/roboflow/valid/labels/-1D5949D1-5187-454E-8ACC-924AD82CAC9C-png_jpg.rf.5e55face0e862724c48166f3b56353af.txt  \n",
            "  inflating: /content/roboflow/valid/labels/-232CA389-A176-4AB7-A513-8D2D5E477CC2-png_jpg.rf.b239a44dfaf27f445d226de438ec8307.txt  \n",
            "  inflating: /content/roboflow/valid/labels/-232CA389-A176-4AB7-A513-8D2D5E477CC2-png_jpg.rf.d5db8c6bf2d9dc68c3a9bade2ae5c022.txt  \n",
            "  inflating: /content/roboflow/valid/labels/-24FFED69-CE70-43C8-8E00-90684987BD32-png_jpg.rf.35dab4007f7c5dd3eadf05ff889123e1.txt  \n",
            "  inflating: /content/roboflow/valid/labels/-251A7DC4-47FA-45BF-8F18-8C933578D147-png_jpg.rf.eaff7a6e9b75c2fef7dd3488005be2a9.txt  \n",
            "  inflating: /content/roboflow/valid/labels/-26A4102E-9D99-421D-91DC-9E66089FF2F6-png_jpg.rf.9e2d17748cb942f82bc2952201e9d54b.txt  \n",
            "  inflating: /content/roboflow/valid/labels/-26A4102E-9D99-421D-91DC-9E66089FF2F6-png_jpg.rf.f8aebc5906f67fd0833826649e61b0a9.txt  \n",
            "  inflating: /content/roboflow/valid/labels/-2846226C-6A55-4876-B717-7F8A5FA4E560-png_jpg.rf.c0215cd7b7ba474babf54aad76b23da2.txt  \n",
            "  inflating: /content/roboflow/valid/labels/-3130BF7E-8143-44C3-AC0D-8068C9108560-png_jpg.rf.9841b91686086a9b81e189edeb9d6f6c.txt  \n",
            " extracting: /content/roboflow/valid/labels/-332D2462-631E-4F9D-914E-9EA5A217A8FA-png_jpg.rf.2c7ac6d4d6688b4f8490bbcc64d58c54.txt  \n",
            "  inflating: /content/roboflow/valid/labels/-332D2462-631E-4F9D-914E-9EA5A217A8FA-png_jpg.rf.4099767d810e596b57f2e0d745483db7.txt  \n",
            "  inflating: /content/roboflow/valid/labels/-344A5C5C-CF3A-48B7-BE2F-7373A99B6465-png_jpg.rf.8866f7bb6b6a42545474c69df4523255.txt  \n",
            "  inflating: /content/roboflow/valid/labels/-3827C0BE-B55D-4ADE-9938-9DC7D50A32DD-png_jpg.rf.d2451748885ea51591fac2f661e7908b.txt  \n",
            "  inflating: /content/roboflow/valid/labels/-3827C0BE-B55D-4ADE-9938-9DC7D50A32DD-png_jpg.rf.ea8bae92e13eef5417dd1b934837bccb.txt  \n",
            "  inflating: /content/roboflow/valid/labels/-3947B75C-299F-46E6-84AF-947CB4AE712E-png_jpg.rf.890e1341425df7c108ecacec0d7a7347.txt  \n",
            "  inflating: /content/roboflow/valid/labels/-398D11E1-12E9-4FE1-83DA-198B0C1A0D9D-png_jpg.rf.f10aaf8aa3531ec4ac018ac29451cebc.txt  \n",
            "  inflating: /content/roboflow/valid/labels/-3B056DBB-3097-4BCB-A38A-F66FA7470A6C-png_jpg.rf.5e62e9c06e09bcc35ff174acc634d13c.txt  \n",
            "  inflating: /content/roboflow/valid/labels/-3B056DBB-3097-4BCB-A38A-F66FA7470A6C-png_jpg.rf.615672fd91261707780b09ad6318b08a.txt  \n",
            "  inflating: /content/roboflow/valid/labels/-3B056DBB-3097-4BCB-A38A-F66FA7470A6C-png_jpg.rf.6f455796e87a89948c564861e5f03624.txt  \n",
            "  inflating: /content/roboflow/valid/labels/-3B056DBB-3097-4BCB-A38A-F66FA7470A6C-png_jpg.rf.cbcfd7c671de904ff75a0e8b1fc7344a.txt  \n",
            "  inflating: /content/roboflow/valid/labels/-3C758EB2-E016-4C89-93CE-0E4FF51161C2-png_jpg.rf.cd752bf36d049fd79129daa3e88eba9c.txt  \n",
            "  inflating: /content/roboflow/valid/labels/-3C758EB2-E016-4C89-93CE-0E4FF51161C2-png_jpg.rf.ef5955e2f36cfa73ae6b83a20f81ed63.txt  \n",
            "  inflating: /content/roboflow/valid/labels/-3D5128F1-30BE-4617-87D6-DBA1B7BF88DF-png_jpg.rf.611275449239d4729b802f92af66de57.txt  \n",
            "  inflating: /content/roboflow/valid/labels/-420B178A-1068-4C65-B00F-763738FCB982-png_jpg.rf.5231d0fbb6d48f71e8af3459e3329d97.txt  \n",
            "  inflating: /content/roboflow/valid/labels/-431A51B8-216A-4491-8839-72DCD54029AD-png_jpg.rf.8b86326573628161305ec3ead3ad936c.txt  \n",
            "  inflating: /content/roboflow/valid/labels/-44DB40B6-D520-4654-A07D-E87A49846F12-png_jpg.rf.66c09d7797d0b79d254e3ec23232f5f0.txt  \n",
            "  inflating: /content/roboflow/valid/labels/-4B733FC3-CEF8-427E-B4A1-7C1E04168672-png_jpg.rf.66511c02dc79088f18ebb542043f0639.txt  \n",
            "  inflating: /content/roboflow/valid/labels/-4FB14832-DB4E-41E9-B8FC-9D33DEB67AAA-png_jpg.rf.9de3a7cac1a7c6ff60c87213b219090a.txt  \n",
            "  inflating: /content/roboflow/valid/labels/-50894A9D-DA2D-4049-9C7B-6006F32452BC-png_jpg.rf.0789d4b641b3940a5f2ee05cbd3bb3e8.txt  \n",
            "  inflating: /content/roboflow/valid/labels/-50894A9D-DA2D-4049-9C7B-6006F32452BC-png_jpg.rf.1e216c580ed452e4e686367ed5ba330d.txt  \n",
            "  inflating: /content/roboflow/valid/labels/-50894A9D-DA2D-4049-9C7B-6006F32452BC-png_jpg.rf.47bb616d68aac9f7e8ce849b41f29735.txt  \n",
            "  inflating: /content/roboflow/valid/labels/-50894A9D-DA2D-4049-9C7B-6006F32452BC-png_jpg.rf.62999b1657bb5a539362006dc769772a.txt  \n",
            "  inflating: /content/roboflow/valid/labels/-51FFF967-684D-4519-8EC0-A9C7CC6F2280-png_jpg.rf.031763109d20e7909a95345147326901.txt  \n",
            "  inflating: /content/roboflow/valid/labels/-51FFF967-684D-4519-8EC0-A9C7CC6F2280-png_jpg.rf.9f5033523b0b11293db7d3b589fb5a0e.txt  \n",
            " extracting: /content/roboflow/valid/labels/-52262D73-8B4E-4F06-883D-4C6E2E6ADED2-png_jpg.rf.b8faf0540e1ff319de3df04650b250a4.txt  \n",
            "  inflating: /content/roboflow/valid/labels/-52262D73-8B4E-4F06-883D-4C6E2E6ADED2-png_jpg.rf.fdc5567f4a6cb129acbf477111f3ff0c.txt  \n",
            "  inflating: /content/roboflow/valid/labels/-526B0491-0C42-4F0F-A201-ECFD6ED3DD6E-png_jpg.rf.6c3140d75d47fd5fe826fc58a787de2b.txt  \n",
            "  inflating: /content/roboflow/valid/labels/-52D877A5-D9D5-4B8F-848F-E449684E4869-png_jpg.rf.c188311c589467548231451e61de7344.txt  \n",
            "  inflating: /content/roboflow/valid/labels/-53C40FB0-F866-4F4A-A410-D32C65C75BB4-png_jpg.rf.e71eb69dcbad39c59e19963604f6af08.txt  \n",
            "  inflating: /content/roboflow/valid/labels/-53D41263-2FA3-40DF-9556-1EB08D19D5F1-png_jpg.rf.1414a2ade9a74400aebb86a4355f39b7.txt  \n",
            "  inflating: /content/roboflow/valid/labels/-541C6E4C-DEC9-4725-97C0-B773CF5182AB-png_jpg.rf.1e52ea0087232109b4fbe08c7128ed64.txt  \n",
            "  inflating: /content/roboflow/valid/labels/-541C6E4C-DEC9-4725-97C0-B773CF5182AB-png_jpg.rf.e80333647e66590c16bfda6b5b4ae8d4.txt  \n",
            "  inflating: /content/roboflow/valid/labels/-5481DCB8-6595-495C-BFEB-5B74B2345808-png_jpg.rf.771690f700dd2267f34c8ba228e6987b.txt  \n",
            "  inflating: /content/roboflow/valid/labels/-56EAA0B9-41EA-46F5-99F9-433F614E42FB-png_jpg.rf.200162e9e5282d5e69423c59a8864c82.txt  \n",
            "  inflating: /content/roboflow/valid/labels/-56EF2068-CDF4-4068-80A1-E567375D4AE6-png_jpg.rf.c7277b65229ae68e95abe671c122bed4.txt  \n",
            "  inflating: /content/roboflow/valid/labels/-59D02DDC-DB49-41DA-8B1F-33712FDE8CEE-png_jpg.rf.3bc9f7976ef2b102c64501e6c143e5d9.txt  \n",
            "  inflating: /content/roboflow/valid/labels/-5A06964D-6D40-4132-A769-F21A3B8E1DAA-png_jpg.rf.f361c3e2d43790830a5554207f312ba0.txt  \n",
            "  inflating: /content/roboflow/valid/labels/-5AD2C6FA-9814-4CB1-822E-3A617443C49E-png_jpg.rf.015d7ac06642f9587687ad6b64420d8e.txt  \n",
            "  inflating: /content/roboflow/valid/labels/-5CEE3337-3AF2-49E4-AE4E-42B9E2E44512-png_jpg.rf.3be142f55f54c457f72a0073f2af93f4.txt  \n",
            "  inflating: /content/roboflow/valid/labels/-5D5BA3F7-FDD8-4C19-8DAC-D5384A81B407-png_jpg.rf.4f3ce8eb5328ce6583c1b8c261572188.txt  \n",
            "  inflating: /content/roboflow/valid/labels/-5D5BA3F7-FDD8-4C19-8DAC-D5384A81B407-png_jpg.rf.634919b8da8af2161ed432e87d284d2f.txt  \n",
            "  inflating: /content/roboflow/valid/labels/-62DA7C7D-C50D-40A7-87D1-DB8633F1F29D-png_jpg.rf.77eb639212ba0982b07d9ef1b13565fa.txt  \n",
            "  inflating: /content/roboflow/valid/labels/-62DA7C7D-C50D-40A7-87D1-DB8633F1F29D-png_jpg.rf.ceed86eb000df05207b439c2bcfe08f1.txt  \n",
            "  inflating: /content/roboflow/valid/labels/-63A3759B-1595-4A66-BB62-1E7F580BA753-png_jpg.rf.b566c288d95bce87c63922672dee2cbf.txt  \n",
            "  inflating: /content/roboflow/valid/labels/-6895811E-6E26-4DBD-A7ED-F7A529684BBA-png_jpg.rf.5245072c697cfa875578f8de20a41574.txt  \n",
            "  inflating: /content/roboflow/valid/labels/-8561227C-3731-4CFC-9FE9-2715B581C159-png_jpg.rf.201e62177e83756dc7d34018f844f31f.txt  \n",
            "  inflating: /content/roboflow/valid/labels/-8561227C-3731-4CFC-9FE9-2715B581C159-png_jpg.rf.346d71f70aae413a5c17dd029e5b15d8.txt  \n",
            "  inflating: /content/roboflow/valid/labels/-B3FF9CBC-6C9F-4BDD-B814-790723E32E98-png_jpg.rf.60e0e64d7f612613c1e8646fdc4d9e62.txt  \n",
            "  inflating: /content/roboflow/valid/labels/-B3FF9CBC-6C9F-4BDD-B814-790723E32E98-png_jpg.rf.cb6d8d1024790c5fc396c660d4364c64.txt  \n",
            "  inflating: /content/roboflow/valid/labels/-B41BBCCE-A512-4CBA-94C0-D236EC1DEBA1-png_jpg.rf.a55eb4d80d52cea42844133ec0bc449d.txt  \n",
            "  inflating: /content/roboflow/valid/labels/-B83337D2-1F91-4346-B7A4-222F8A45CBF0-png_jpg.rf.48267143d49a33e7230cecebeac85dbf.txt  \n",
            "  inflating: /content/roboflow/valid/labels/-B83337D2-1F91-4346-B7A4-222F8A45CBF0-png_jpg.rf.ab272d030df28dad8ed8215df3b1e8d2.txt  \n",
            "  inflating: /content/roboflow/valid/labels/-BABD5091-6597-40E1-82D1-29A0F4DCD9E0-png_jpg.rf.a01e27aaa610cd5fa069924ad437b437.txt  \n",
            "  inflating: /content/roboflow/valid/labels/-BAE1D45C-2B9A-4C23-AB1D-BD0C25964678-png_jpg.rf.847508c220de18bf5a5e216744fa8e3a.txt  \n",
            " extracting: /content/roboflow/valid/labels/-BAE1D45C-2B9A-4C23-AB1D-BD0C25964678-png_jpg.rf.baf4aae646257ce300023e7f736a8c9a.txt  \n",
            "  inflating: /content/roboflow/valid/labels/-BBC6D213-1075-48CE-B772-FDD44F34A3E7-png_jpg.rf.ae7c07a046483eadf6556fc17b90815c.txt  \n",
            "  inflating: /content/roboflow/valid/labels/-BD499523-8602-4C68-8E63-FCE23A82AA16-png_jpg.rf.664322c2a1c2bf759f1832681087003d.txt  \n",
            "  inflating: /content/roboflow/valid/labels/-BD499523-8602-4C68-8E63-FCE23A82AA16-png_jpg.rf.69f2fbaa7c1e1da85551376f148c4c90.txt  \n",
            "  inflating: /content/roboflow/valid/labels/-BD499523-8602-4C68-8E63-FCE23A82AA16-png_jpg.rf.c365279c551e19ff3a48f18e04a1d0f5.txt  \n",
            "  inflating: /content/roboflow/valid/labels/-BD499523-8602-4C68-8E63-FCE23A82AA16-png_jpg.rf.df5ef693ab5ba511bd6804a9b9aa7deb.txt  \n",
            "  inflating: /content/roboflow/valid/labels/-BE1B7E1A-3BF4-44E6-A49D-E46AC48D77B0-png_jpg.rf.2da87a24b5cd40cfbd0145b86f5f5a09.txt  \n",
            "  inflating: /content/roboflow/valid/labels/-BE1B7E1A-3BF4-44E6-A49D-E46AC48D77B0-png_jpg.rf.affaba22654a83d6e8cb34a07dfaf4f2.txt  \n",
            "  inflating: /content/roboflow/valid/labels/-BF27E7F2-0C42-45C0-A751-91723B77D799-png_jpg.rf.489103f9f6bfe25d4a580590f3f1a97d.txt  \n",
            "  inflating: /content/roboflow/valid/labels/-C006FC45-64AF-4FA9-B836-17F1DE49F186-png_jpg.rf.b77082e563d44e5da519217e1053bb50.txt  \n",
            "  inflating: /content/roboflow/valid/labels/-C04C7AD3-AEAC-4250-9856-9D1606800D44-png_jpg.rf.13c6e4ce6fb3c45927724db8751f3ae1.txt  \n",
            "  inflating: /content/roboflow/valid/labels/-C04C7AD3-AEAC-4250-9856-9D1606800D44-png_jpg.rf.5bc74c35695ce103c0092e71e2362828.txt  \n",
            "  inflating: /content/roboflow/valid/labels/-C182A49E-641F-4C62-A54F-86397CBD2780-png_jpg.rf.70279f2e39b4ab3688f73723c7f0a3f5.txt  \n",
            "  inflating: /content/roboflow/valid/labels/-C3D83141-091E-44E3-B5AF-321A93A32FD2-png_jpg.rf.6e10ffe7bf43665ec979e4723a62d96a.txt  \n",
            "  inflating: /content/roboflow/valid/labels/-C4FB6EE5-2134-4252-A3E7-FCE53E7F5D62-png_jpg.rf.6691ab455325446dd2804bb4c16c5e37.txt  \n",
            "  inflating: /content/roboflow/valid/labels/-C4FB6EE5-2134-4252-A3E7-FCE53E7F5D62-png_jpg.rf.a055d1587c77a5e426b7d76d277a5e7b.txt  \n",
            " extracting: /content/roboflow/valid/labels/-C6E3BB9A-DF12-4C1E-B325-8480F9DDDF74-png_jpg.rf.d6c17172c66bf5d07e64ef96f968706c.txt  \n",
            " extracting: /content/roboflow/valid/labels/-C6E3BB9A-DF12-4C1E-B325-8480F9DDDF74-png_jpg.rf.f62f53316e8fbe5ee815ef0801f5341f.txt  \n",
            "  inflating: /content/roboflow/valid/labels/-C8A077AE-C474-4AAB-A0E4-24F4F9266447-png_jpg.rf.2053db17e0d0c1742829eefc92df936e.txt  \n",
            "  inflating: /content/roboflow/valid/labels/-C96EB60C-375E-476D-8D20-3643A20C26B5-png_jpg.rf.4f2169d0aa58a67e3970c189ecd0e8aa.txt  \n",
            "  inflating: /content/roboflow/valid/labels/-CCEF01A1-0F47-495F-A37B-F77800A03B07-png_jpg.rf.8c2f277f19a1f0e7db7e5b6358f34814.txt  \n",
            "  inflating: /content/roboflow/valid/labels/-CCFB44DE-C25D-4C37-981B-6DBCB4F963AB-png_jpg.rf.e1815c1f0301656e40bce7a20d15e381.txt  \n",
            "  inflating: /content/roboflow/valid/labels/-D033F88A-8CE6-40D3-9005-E2697DC83F11-png_jpg.rf.59fd1e5e6007ac3da82d7ab036c015e9.txt  \n",
            "  inflating: /content/roboflow/valid/labels/-DC6190CE-238A-4C11-A283-27ADC0D9C646-png_jpg.rf.dcad86f22ae5ae0f0ab42df05b599a17.txt  \n",
            "  inflating: /content/roboflow/valid/labels/-DD01F5C8-2930-4A6A-A022-E44F4091A9D7-png_jpg.rf.1773102ac6bbc8f5799f69d1848f6c9d.txt  \n",
            "  inflating: /content/roboflow/valid/labels/-DE1082FD-0948-4DF8-ABB3-902022027FE2-png_jpg.rf.0ab49b0d3926c7bd19549dc143b866fe.txt  \n",
            "  inflating: /content/roboflow/valid/labels/-DE1082FD-0948-4DF8-ABB3-902022027FE2-png_jpg.rf.dc01cbec99f990adff2f4bd479bba698.txt  \n",
            "  inflating: /content/roboflow/valid/labels/-DE24E442-B2F4-43B7-8741-6AA037A20D4E-png_jpg.rf.472c1a60c97b31c6d5ad37f01ee10e6b.txt  \n",
            " extracting: /content/roboflow/valid/labels/-DE24E442-B2F4-43B7-8741-6AA037A20D4E-png_jpg.rf.cb466bc367c97a94e4482cf8aaaa5d22.txt  \n",
            "  inflating: /content/roboflow/valid/labels/-E1655382-7FF5-4725-9C33-D894A3A0881E-png_jpg.rf.2ee4860c25cad18b84ba5b04ba33a197.txt  \n",
            "  inflating: /content/roboflow/valid/labels/14_jpeg_jpg.rf.54053d365351213b14363c7706f44696.txt  \n",
            "  inflating: /content/roboflow/valid/labels/14_jpeg_jpg.rf.e8205bfef96edc74bdba0d1c73dafa1c.txt  \n",
            "  inflating: /content/roboflow/valid/labels/15_jpeg_jpg.rf.906bc46f1b058c93bd4749569d7b5929.txt  \n",
            "  inflating: /content/roboflow/valid/labels/15_jpeg_jpg.rf.e9e74f79eb45947fcef324163ebbff1d.txt  \n",
            "  inflating: /content/roboflow/valid/labels/2_jpeg_jpg.rf.455ef9fd1641b9ff73eb45cb4a8aff35.txt  \n",
            "  inflating: /content/roboflow/valid/labels/3_jpeg_jpg.rf.701932bbc22d14d7aa1da636a3a78078.txt  \n",
            " extracting: /content/roboflow/valid/labels/3_jpeg_jpg.rf.a74712b25b2e57545010cf5c66421302.txt  \n",
            "  inflating: /content/roboflow/valid/labels/6_jpeg_jpg.rf.faa39c76d07b4c4b37f50ece188ee04c.txt  \n",
            "  inflating: /content/roboflow/valid/labels/WhatsApp-Image-2022-11-29-at-20-15-44-1-_jpeg_jpg.rf.44c688153b4cc0f28e6024d36855e5a7.txt  \n",
            "  inflating: /content/roboflow/valid/labels/WhatsApp-Image-2022-11-29-at-20-15-44_jpeg_jpg.rf.9d96d68a69ab2dd6a102efe6fa97336b.txt  \n",
            "  inflating: /content/roboflow/valid/labels/WhatsApp-Image-2022-12-05-at-18-16-24_jpeg_jpg.rf.4dfe08ac349736648d79bdf677f16af6.txt  \n",
            "  inflating: /content/roboflow/valid/labels/WhatsApp-Image-2022-12-05-at-18-16-24_jpeg_jpg.rf.632fe02b0d828eb297d7d433c4a7c5e4.txt  \n",
            "  inflating: /content/roboflow/valid/labels/WhatsApp-Image-2022-12-05-at-18-16-24_jpeg_jpg.rf.abdd70900d84b8f41c4e81863c960388.txt  \n",
            "  inflating: /content/roboflow/valid/labels/WhatsApp-Image-2022-12-05-at-18-16-34_jpeg_jpg.rf.d3ee3b50f9b1b546d22baecb1e3aa29f.txt  \n",
            "  inflating: /content/roboflow/valid/labels/WhatsApp-Image-2022-12-05-at-18-16-45_jpeg_jpg.rf.9582f0acef404ca388c3e09f9fac2540.txt  \n",
            "  inflating: /content/roboflow/valid/labels/WhatsApp-Image-2022-12-05-at-18-16-49_jpeg_jpg.rf.7194dabee1d96f0bc0a2f1c09778d578.txt  \n",
            "  inflating: /content/roboflow/valid/labels/WhatsApp-Image-2022-12-05-at-18-16-55_jpeg_jpg.rf.637dec8ae948245e3366e9acb69643a9.txt  \n",
            "  inflating: /content/roboflow/valid/labels/WhatsApp-Image-2022-12-05-at-18-17-00_jpeg_jpg.rf.92727176c9f6204c659da2ab2b8f8539.txt  \n",
            "  inflating: /content/roboflow/valid/labels/WhatsApp-Image-2022-12-05-at-18-17-36_jpeg_jpg.rf.11f4d6eeb30542bb300f40863183c8af.txt  \n",
            "  inflating: /content/roboflow/valid/labels/WhatsApp-Image-2022-12-05-at-18-17-36_jpeg_jpg.rf.f36b2808308c838e57dc331a15e72f76.txt  \n",
            " extracting: /content/roboflow/valid/labels/WhatsApp-Image-2022-12-05-at-18-17-48_jpeg_jpg.rf.b05e1da4ef48ff33b8fd051d624082cd.txt  \n",
            " extracting: /content/roboflow/valid/labels/WhatsApp-Image-2022-12-05-at-18-17-48_jpeg_jpg.rf.bafff53dd8008d608ef9688953ada7ec.txt  \n",
            "  inflating: /content/roboflow/valid/labels/WhatsApp-Image-2022-12-05-at-18-17-53_jpeg_jpg.rf.c09e9cd6f096caa88365a8f82e328afd.txt  \n",
            " extracting: /content/roboflow/valid/labels/WhatsApp-Image-2022-12-05-at-18-18-22_jpeg_jpg.rf.58fa2f2a8f1d75b97969e83296a8eac6.txt  \n",
            "  inflating: /content/roboflow/valid/labels/WhatsApp-Image-2022-12-05-at-18-18-28_jpeg_jpg.rf.b155080095d7fd781bd90887e033563d.txt  \n",
            "  inflating: /content/roboflow/valid/labels/WhatsApp-Image-2022-12-05-at-18-18-28_jpeg_jpg.rf.b458e48851603a91771e7db27d8d8f5a.txt  \n",
            "  inflating: /content/roboflow/valid/labels/WhatsApp-Image-2022-12-05-at-18-19-10_jpeg_jpg.rf.27a46a7a5c6f7c326726426c075eba74.txt  \n",
            "  inflating: /content/roboflow/valid/labels/WhatsApp-Image-2022-12-05-at-18-19-10_jpeg_jpg.rf.2e709759fb91bc781fb36530147dc814.txt  \n",
            "  inflating: /content/roboflow/valid/labels/WhatsApp-Image-2022-12-05-at-18-19-45_jpeg_jpg.rf.0761e68b249fd689e7b1a7d9810170a8.txt  \n",
            "  inflating: /content/roboflow/valid/labels/WhatsApp-Image-2022-12-05-at-18-19-45_jpeg_jpg.rf.8578579a3d5c34d6220e87d9f75edc88.txt  \n",
            "  inflating: /content/roboflow/valid/labels/WhatsApp-Image-2022-12-05-at-18-20-03_jpeg_jpg.rf.52f57fe7de231618268684870fc88e23.txt  \n",
            " extracting: /content/roboflow/valid/labels/WhatsApp-Image-2022-12-05-at-18-20-09_jpeg_jpg.rf.a356c14dbd030cbbd8e0e68fc38e3142.txt  \n",
            "  inflating: /content/roboflow/valid/labels/WhatsApp-Image-2022-12-05-at-18-21-16_jpeg_jpg.rf.d1e407084d22bf056dff290b01adac87.txt  \n",
            "  inflating: /content/roboflow/valid/labels/WhatsApp-Image-2022-12-05-at-18-21-58_jpeg_jpg.rf.1aab57e4eca055ebb458fc4216052b61.txt  \n",
            "  inflating: /content/roboflow/valid/labels/WhatsApp-Image-2022-12-05-at-18-21-58_jpeg_jpg.rf.c2d3d48167df95c3065141442b3a7305.txt  \n",
            "  inflating: /content/roboflow/valid/labels/WhatsApp-Image-2022-12-05-at-18-22-11_jpeg_jpg.rf.c1bcaea48087d8e83f6f67b8477fe74d.txt  \n",
            "  inflating: /content/roboflow/valid/labels/WhatsApp-Image-2022-12-05-at-18-22-24_jpeg_jpg.rf.9fdd001924801500743973502fc55d59.txt  \n",
            "  inflating: /content/roboflow/valid/labels/WhatsApp-Image-2022-12-05-at-18-22-52_jpeg_jpg.rf.2f3751e264695c4ce194351c46f00f26.txt  \n",
            "  inflating: /content/roboflow/valid/labels/WhatsApp-Image-2022-12-05-at-18-24-10_jpeg_jpg.rf.49b26683d40252c0309da8d8a07a23d3.txt  \n",
            "  inflating: /content/roboflow/valid/labels/WhatsApp-Image-2022-12-05-at-18-24-16_jpeg_jpg.rf.84117840fefc3e1db0e07de3a0cd6ae3.txt  \n",
            "  inflating: /content/roboflow/valid/labels/WhatsApp-Image-2022-12-05-at-18-24-16_jpeg_jpg.rf.ccde4902685da2f15c2e756a17af4edb.txt  \n",
            "  inflating: /content/roboflow/valid/labels/WhatsApp-Image-2022-12-05-at-18-24-27_jpeg_jpg.rf.80a02f36f23c8edf7a4dcf1e6c0c9fd6.txt  \n",
            "  inflating: /content/roboflow/valid/labels/WhatsApp-Image-2022-12-05-at-18-25-07_jpeg_jpg.rf.aa3fa31572237feb52dbdec1a27db2fa.txt  \n",
            "  inflating: /content/roboflow/valid/labels/WhatsApp-Image-2022-12-05-at-18-25-08_jpeg_jpg.rf.923ad9ed8605395954e188e55982f86b.txt  \n",
            "  inflating: /content/roboflow/valid/labels/WhatsApp-Image-2022-12-05-at-18-25-23_jpeg_jpg.rf.f72931126c6c3a3a3bb8488f7baa3cb9.txt  \n",
            "  inflating: /content/roboflow/valid/labels/WhatsApp-Image-2022-12-05-at-18-26-29_jpeg_jpg.rf.eba1b01b72d45874ff9d79db073fbdda.txt  \n",
            "  inflating: /content/roboflow/valid/labels/WhatsApp-Image-2022-12-05-at-18-28-06_jpeg_jpg.rf.2c3731507c2d07702ddb70655f081cce.txt  \n",
            "  inflating: /content/roboflow/valid/labels/WhatsApp-Image-2022-12-05-at-18-29-12_jpeg_jpg.rf.9bb0d8f0c0dc4f9d1f62b4c15a32be79.txt  \n",
            "  inflating: /content/roboflow/valid/labels/WhatsApp-Image-2022-12-05-at-18-29-12_jpeg_jpg.rf.9dadb7c914228544621778c536d73918.txt  \n",
            "  inflating: /content/roboflow/valid/labels/WhatsApp-Video-2022-11-29-at-20_15_43_mp4-0_jpg.rf.ebedc39520c49d635a1aab6ce84140a9.txt  \n",
            "  inflating: /content/roboflow/valid/labels/WhatsApp-Video-2022-11-29-at-20_15_43_mp4-2_jpg.rf.c4b48043f0215bb4d560086015f75831.txt  \n",
            "  inflating: /content/roboflow/valid/labels/WhatsApp-Video-2022-11-29-at-20_15_43_mp4-4_jpg.rf.33c873af57070f3d50631cbd5551c65d.txt  \n",
            "  inflating: /content/roboflow/valid/labels/WhatsApp-Video-2022-11-29-at-20_15_43_mp4-4_jpg.rf.f4ddab91d3ef1d265719c64891a06068.txt  \n",
            " extracting: /content/roboflow/valid/labels/WhatsApp-Video-2022-11-29-at-20_15_43_mp4-6_jpg.rf.aa70cae3801a65fdc7fe6780451ddfa3.txt  \n",
            "  inflating: /content/roboflow/valid/labels/youtube-21_jpg.rf.47f2af8cb5989227eaf28481e4e8ddc9.txt  \n",
            "  inflating: /content/roboflow/valid/labels/youtube-21_jpg.rf.b9c3a081c73fdfb7f302f242ba86f14b.txt  \n",
            "  inflating: /content/roboflow/valid/labels/youtube-25_jpg.rf.093abcab4d654dab9b1bff19f53d6ec1.txt  \n",
            "  inflating: /content/roboflow/valid/labels/youtube-26_jpg.rf.2def549df1242921ce77bd4b89730613.txt  \n",
            "  inflating: /content/roboflow/valid/labels/youtube-27_jpg.rf.b2838e1613a5a049c28c51af93bde549.txt  \n",
            "  inflating: /content/roboflow/valid/labels/youtube-29_jpg.rf.124fa52b414358febf0d5783c12da69c.txt  \n",
            "  inflating: /content/roboflow/valid/labels/youtube-29_jpg.rf.6a0fc6e077d7948edeee5c92e5de1ca3.txt  \n",
            "  inflating: /content/roboflow/valid/labels/youtube-29_jpg.rf.f2d824b9fd7dff139b3aefaf7521d7d5.txt  \n",
            "  inflating: /content/roboflow/valid/labels/youtube-38_jpg.rf.8f4831f9873e1dc88828781abd89b5d1.txt  \n",
            "  inflating: /content/roboflow/valid/labels/youtube-38_jpg.rf.f197b9e93efdb8e4503c7d4a04477dea.txt  \n",
            "  inflating: /content/roboflow/valid/labels/youtube-39_jpg.rf.b34779d611d8f9deced9ff710b349d15.txt  \n",
            "  inflating: /content/roboflow/valid/labels/youtube-40_jpg.rf.40bd21969d3f20e25479c2a3e736769f.txt  \n",
            "  inflating: /content/roboflow/valid/labels/youtube-42_jpg.rf.fa858d19f9278248b74763499d39c6e4.txt  \n",
            " extracting: /content/roboflow/valid/labels/youtube-44_jpg.rf.a59bce85f25fce0336b8c5b3c17ba6fb.txt  \n",
            " extracting: /content/roboflow/valid/labels/youtube-44_jpg.rf.b53bdc75aa96dd17f4fc741a69a04362.txt  \n",
            " extracting: /content/roboflow/valid/labels/youtube-44_jpg.rf.e47036ff7400a1175ce16fa9039e1143.txt  \n",
            "  inflating: /content/roboflow/valid/labels/youtube-47_jpg.rf.39ee1d2795c1b91ac684b45d24ec6b5b.txt  \n",
            "  inflating: /content/roboflow/valid/labels/youtube-47_jpg.rf.97e7dcdba5eecc556a73cc088762f80b.txt  \n",
            "  inflating: /content/roboflow/valid/labels/youtube-52_jpg.rf.aa94873111b245b3158b97b5f11b6bd2.txt  \n",
            "  inflating: /content/roboflow/valid/labels/youtube-53_jpg.rf.297c3208afa3cb499506a5fd6cd09e06.txt  \n",
            "  inflating: /content/roboflow/valid/labels/youtube-55_jpg.rf.70b8466b9d963f63b3eae11fce8c54f8.txt  \n",
            " extracting: /content/roboflow/valid/labels/youtube-56_jpg.rf.6eae812cc8cac80126d1ebc5019cd497.txt  \n",
            "  inflating: /content/roboflow/valid/labels/youtube-56_jpg.rf.744f6d5e017458a750f174fcf5f755f6.txt  \n",
            "  inflating: /content/roboflow/valid/labels/youtube-57_jpg.rf.a975eb9caf2c657dcfbc6f2a14180424.txt  \n",
            "  inflating: /content/roboflow/valid/labels/youtube-59_jpg.rf.b2d2a82f95f88ce991b83a094ec631e5.txt  \n",
            "  inflating: /content/roboflow/valid/labels/youtube-61_jpg.rf.f9f0a3aa0a01a639604052b8dcc93556.txt  \n",
            "  inflating: /content/roboflow/valid/labels/youtube-62_jpg.rf.2714d07be40b27efc13887d333c052fe.txt  \n",
            "  inflating: /content/roboflow/valid/labels/youtube-62_jpg.rf.6cc1d2b5c00d9e8d5a6576379ef7f326.txt  \n"
          ]
        }
      ]
    },
    {
      "cell_type": "code",
      "source": [
        "# 압축 파일 삭제\n",
        "!rm /content/roboflow.zip"
      ],
      "metadata": {
        "id": "zFK9icOGzquS"
      },
      "execution_count": 9,
      "outputs": []
    },
    {
      "cell_type": "code",
      "source": [
        "# /content/roboflow 디렉토리의 파일 확인\n",
        "!ls /content/roboflow"
      ],
      "metadata": {
        "colab": {
          "base_uri": "https://localhost:8080/"
        },
        "collapsed": true,
        "id": "l_Jplub30VCq",
        "outputId": "6f92848d-41c7-453e-a074-71644f35fdab"
      },
      "execution_count": 10,
      "outputs": [
        {
          "output_type": "stream",
          "name": "stdout",
          "text": [
            "data.yaml  README.dataset.txt  README.roboflow.txt  test  train  valid\n"
          ]
        }
      ]
    },
    {
      "cell_type": "code",
      "source": [
        "!ls"
      ],
      "metadata": {
        "colab": {
          "base_uri": "https://localhost:8080/"
        },
        "collapsed": true,
        "id": "QvHb-vW40x6z",
        "outputId": "ad005540-0077-454a-fc6f-faeb461d8203"
      },
      "execution_count": 12,
      "outputs": [
        {
          "output_type": "stream",
          "name": "stdout",
          "text": [
            "drive  roboflow  sample_data  yolov8n.pt\n"
          ]
        }
      ]
    },
    {
      "cell_type": "code",
      "source": [
        "import os\n",
        "\n",
        "# 파일을 읽고 수정하여 저장하는 방법\n",
        "file_path = '/content/roboflow/data.yaml'\n",
        "\n",
        "# 파일이 이미 존재하는 경우 내용을 읽어 출력\n",
        "if os.path.exists(file_path):\n",
        "    with open(file_path, 'r') as f:\n",
        "        print(f.read())\n",
        "\n",
        "# 파일을 수정하여 저장 (roboflow에서 다운로드 받은 데이터를 저장한 경로로 수정)\n",
        "data_yaml_content = \"\"\"\n",
        "train: /content/roboflow/train/images\n",
        "val: /content/roboflow/valid/images\n",
        "test: /content/roboflow/test/images\n",
        "\n",
        "nc: 1  # number of classes\n",
        "names: ['car']  # class names\n",
        "\"\"\"\n",
        "\n",
        "with open(file_path, 'w') as f:\n",
        "    f.write(data_yaml_content)\n",
        "\n",
        "# 수정된 내용을 출력\n",
        "with open(file_path, 'r') as f:\n",
        "    print(f.read())\n"
      ],
      "metadata": {
        "colab": {
          "base_uri": "https://localhost:8080/"
        },
        "collapsed": true,
        "id": "2jwows0Z026q",
        "outputId": "840ccb88-ca22-43e5-d33f-39570f1a2e9e"
      },
      "execution_count": 14,
      "outputs": [
        {
          "output_type": "stream",
          "name": "stdout",
          "text": [
            "\n",
            "train: /content/roboflow/train/images\n",
            "val: /content/roboflow/valid/images\n",
            "test: /content/roboflow/test/images\n",
            "\n",
            "nc: 1  # number of classes\n",
            "names: ['car']  # class names\n",
            "\n",
            "\n",
            "train: /content/roboflow/train/images\n",
            "val: /content/roboflow/valid/images\n",
            "test: /content/roboflow/test/images\n",
            "\n",
            "nc: 1  # number of classes\n",
            "names: ['car']  # class names\n",
            "\n"
          ]
        }
      ]
    },
    {
      "cell_type": "code",
      "source": [
        "from ultralytics import YOLO\n",
        "import os\n",
        "\n",
        "# 필요한 디렉토리 생성\n",
        "os.makedirs('/content/runs', exist_ok=True)\n",
        "\n",
        "# YOLOv8 모델 로드\n",
        "model = YOLO('yolov8n.yaml')  # 'yolov8n.yaml'는 YOLOv8의 기본 설정 파일입니다.\n",
        "\n",
        "# 모델 학습\n",
        "model.train(\n",
        "    data='/content/roboflow/data.yaml',  # 데이터셋 설정 파일 경로\n",
        "    epochs=50,       # 학습 epoch 수\n",
        "    imgsz=640,        # 입력 이미지 크기\n",
        "    batch=16,     # 배치 크기\n",
        "    workers=4,        # 데이터 로딩을 위한 병렬 작업 수\n",
        "    project='/content/runs',  # 결과를 저장할 디렉토리\n",
        "    name='exp'  # 실험 이름\n",
        ")\n"
      ],
      "metadata": {
        "colab": {
          "base_uri": "https://localhost:8080/"
        },
        "collapsed": true,
        "id": "zwHhPpAz06Mr",
        "outputId": "21cf4daa-17cb-4eff-e1bb-037d4ed03c1f"
      },
      "execution_count": 15,
      "outputs": [
        {
          "output_type": "stream",
          "name": "stdout",
          "text": [
            "Ultralytics YOLOv8.2.55 🚀 Python-3.10.12 torch-2.3.0+cu121 CUDA:0 (Tesla T4, 15102MiB)\n",
            "\u001b[34m\u001b[1mengine/trainer: \u001b[0mtask=detect, mode=train, model=yolov8n.yaml, data=/content/roboflow/data.yaml, epochs=50, time=None, patience=100, batch=16, imgsz=640, save=True, save_period=-1, cache=False, device=None, workers=4, project=/content/runs, name=exp, exist_ok=False, pretrained=True, optimizer=auto, verbose=True, seed=0, deterministic=True, single_cls=False, rect=False, cos_lr=False, close_mosaic=10, resume=False, amp=True, fraction=1.0, profile=False, freeze=None, multi_scale=False, overlap_mask=True, mask_ratio=4, dropout=0.0, val=True, split=val, save_json=False, save_hybrid=False, conf=None, iou=0.7, max_det=300, half=False, dnn=False, plots=True, source=None, vid_stride=1, stream_buffer=False, visualize=False, augment=False, agnostic_nms=False, classes=None, retina_masks=False, embed=None, show=False, save_frames=False, save_txt=False, save_conf=False, save_crop=False, show_labels=True, show_conf=True, show_boxes=True, line_width=None, format=torchscript, keras=False, optimize=False, int8=False, dynamic=False, simplify=False, opset=None, workspace=4, nms=False, lr0=0.01, lrf=0.01, momentum=0.937, weight_decay=0.0005, warmup_epochs=3.0, warmup_momentum=0.8, warmup_bias_lr=0.1, box=7.5, cls=0.5, dfl=1.5, pose=12.0, kobj=1.0, label_smoothing=0.0, nbs=64, hsv_h=0.015, hsv_s=0.7, hsv_v=0.4, degrees=0.0, translate=0.1, scale=0.5, shear=0.0, perspective=0.0, flipud=0.0, fliplr=0.5, bgr=0.0, mosaic=1.0, mixup=0.0, copy_paste=0.0, auto_augment=randaugment, erasing=0.4, crop_fraction=1.0, cfg=None, tracker=botsort.yaml, save_dir=/content/runs/exp\n",
            "Downloading https://ultralytics.com/assets/Arial.ttf to '/root/.config/Ultralytics/Arial.ttf'...\n"
          ]
        },
        {
          "output_type": "stream",
          "name": "stderr",
          "text": [
            "100%|██████████| 755k/755k [00:00<00:00, 23.5MB/s]\n"
          ]
        },
        {
          "output_type": "stream",
          "name": "stdout",
          "text": [
            "Overriding model.yaml nc=80 with nc=1\n",
            "\n",
            "                   from  n    params  module                                       arguments                     \n",
            "  0                  -1  1       464  ultralytics.nn.modules.conv.Conv             [3, 16, 3, 2]                 \n",
            "  1                  -1  1      4672  ultralytics.nn.modules.conv.Conv             [16, 32, 3, 2]                \n",
            "  2                  -1  1      7360  ultralytics.nn.modules.block.C2f             [32, 32, 1, True]             \n",
            "  3                  -1  1     18560  ultralytics.nn.modules.conv.Conv             [32, 64, 3, 2]                \n",
            "  4                  -1  2     49664  ultralytics.nn.modules.block.C2f             [64, 64, 2, True]             \n",
            "  5                  -1  1     73984  ultralytics.nn.modules.conv.Conv             [64, 128, 3, 2]               \n",
            "  6                  -1  2    197632  ultralytics.nn.modules.block.C2f             [128, 128, 2, True]           \n",
            "  7                  -1  1    295424  ultralytics.nn.modules.conv.Conv             [128, 256, 3, 2]              \n",
            "  8                  -1  1    460288  ultralytics.nn.modules.block.C2f             [256, 256, 1, True]           \n",
            "  9                  -1  1    164608  ultralytics.nn.modules.block.SPPF            [256, 256, 5]                 \n",
            " 10                  -1  1         0  torch.nn.modules.upsampling.Upsample         [None, 2, 'nearest']          \n",
            " 11             [-1, 6]  1         0  ultralytics.nn.modules.conv.Concat           [1]                           \n",
            " 12                  -1  1    148224  ultralytics.nn.modules.block.C2f             [384, 128, 1]                 \n",
            " 13                  -1  1         0  torch.nn.modules.upsampling.Upsample         [None, 2, 'nearest']          \n",
            " 14             [-1, 4]  1         0  ultralytics.nn.modules.conv.Concat           [1]                           \n",
            " 15                  -1  1     37248  ultralytics.nn.modules.block.C2f             [192, 64, 1]                  \n",
            " 16                  -1  1     36992  ultralytics.nn.modules.conv.Conv             [64, 64, 3, 2]                \n",
            " 17            [-1, 12]  1         0  ultralytics.nn.modules.conv.Concat           [1]                           \n",
            " 18                  -1  1    123648  ultralytics.nn.modules.block.C2f             [192, 128, 1]                 \n",
            " 19                  -1  1    147712  ultralytics.nn.modules.conv.Conv             [128, 128, 3, 2]              \n",
            " 20             [-1, 9]  1         0  ultralytics.nn.modules.conv.Concat           [1]                           \n",
            " 21                  -1  1    493056  ultralytics.nn.modules.block.C2f             [384, 256, 1]                 \n",
            " 22        [15, 18, 21]  1    751507  ultralytics.nn.modules.head.Detect           [1, [64, 128, 256]]           \n",
            "YOLOv8n summary: 225 layers, 3,011,043 parameters, 3,011,027 gradients, 8.2 GFLOPs\n",
            "\n",
            "\u001b[34m\u001b[1mTensorBoard: \u001b[0mStart with 'tensorboard --logdir /content/runs/exp', view at http://localhost:6006/\n",
            "Freezing layer 'model.22.dfl.conv.weight'\n",
            "\u001b[34m\u001b[1mAMP: \u001b[0mrunning Automatic Mixed Precision (AMP) checks with YOLOv8n...\n"
          ]
        },
        {
          "output_type": "stream",
          "name": "stderr",
          "text": [
            "/usr/local/lib/python3.10/dist-packages/torch/nn/modules/conv.py:456: UserWarning: Plan failed with a cudnnException: CUDNN_BACKEND_EXECUTION_PLAN_DESCRIPTOR: cudnnFinalize Descriptor Failed cudnn_status: CUDNN_STATUS_NOT_SUPPORTED (Triggered internally at ../aten/src/ATen/native/cudnn/Conv_v8.cpp:919.)\n",
            "  return F.conv2d(input, weight, bias, self.stride,\n"
          ]
        },
        {
          "output_type": "stream",
          "name": "stdout",
          "text": [
            "\u001b[34m\u001b[1mAMP: \u001b[0mchecks passed ✅\n"
          ]
        },
        {
          "output_type": "stream",
          "name": "stderr",
          "text": [
            "\u001b[34m\u001b[1mtrain: \u001b[0mScanning /content/roboflow/train/labels... 875 images, 0 backgrounds, 0 corrupt: 100%|██████████| 875/875 [00:00<00:00, 2121.38it/s]"
          ]
        },
        {
          "output_type": "stream",
          "name": "stdout",
          "text": [
            "\u001b[34m\u001b[1mtrain: \u001b[0mNew cache created: /content/roboflow/train/labels.cache\n"
          ]
        },
        {
          "output_type": "stream",
          "name": "stderr",
          "text": [
            "\n"
          ]
        },
        {
          "output_type": "stream",
          "name": "stdout",
          "text": [
            "\u001b[34m\u001b[1malbumentations: \u001b[0mBlur(p=0.01, blur_limit=(3, 7)), MedianBlur(p=0.01, blur_limit=(3, 7)), ToGray(p=0.01), CLAHE(p=0.01, clip_limit=(1, 4.0), tile_grid_size=(8, 8))\n"
          ]
        },
        {
          "output_type": "stream",
          "name": "stderr",
          "text": [
            "/usr/lib/python3.10/multiprocessing/popen_fork.py:66: RuntimeWarning: os.fork() was called. os.fork() is incompatible with multithreaded code, and JAX is multithreaded, so this will likely lead to a deadlock.\n",
            "  self.pid = os.fork()\n",
            "\u001b[34m\u001b[1mval: \u001b[0mScanning /content/roboflow/valid/labels... 187 images, 0 backgrounds, 0 corrupt: 100%|██████████| 187/187 [00:00<00:00, 1249.54it/s]"
          ]
        },
        {
          "output_type": "stream",
          "name": "stdout",
          "text": [
            "\u001b[34m\u001b[1mval: \u001b[0mNew cache created: /content/roboflow/valid/labels.cache\n"
          ]
        },
        {
          "output_type": "stream",
          "name": "stderr",
          "text": [
            "\n"
          ]
        },
        {
          "output_type": "stream",
          "name": "stdout",
          "text": [
            "Plotting labels to /content/runs/exp/labels.jpg... \n",
            "\u001b[34m\u001b[1moptimizer:\u001b[0m 'optimizer=auto' found, ignoring 'lr0=0.01' and 'momentum=0.937' and determining best 'optimizer', 'lr0' and 'momentum' automatically... \n",
            "\u001b[34m\u001b[1moptimizer:\u001b[0m AdamW(lr=0.002, momentum=0.9) with parameter groups 57 weight(decay=0.0), 64 weight(decay=0.0005), 63 bias(decay=0.0)\n",
            "\u001b[34m\u001b[1mTensorBoard: \u001b[0mmodel graph visualization added ✅\n",
            "Image sizes 640 train, 640 val\n",
            "Using 2 dataloader workers\n",
            "Logging results to \u001b[1m/content/runs/exp\u001b[0m\n",
            "Starting training for 50 epochs...\n",
            "\n",
            "      Epoch    GPU_mem   box_loss   cls_loss   dfl_loss  Instances       Size\n"
          ]
        },
        {
          "output_type": "stream",
          "name": "stderr",
          "text": [
            "       1/50      2.45G      3.136      3.556      4.172         24        640: 100%|██████████| 55/55 [00:22<00:00,  2.39it/s]\n",
            "                 Class     Images  Instances      Box(P          R      mAP50  mAP50-95): 100%|██████████| 6/6 [00:03<00:00,  1.72it/s]"
          ]
        },
        {
          "output_type": "stream",
          "name": "stdout",
          "text": [
            "                   all        187        238    0.00289      0.681     0.0145    0.00588\n"
          ]
        },
        {
          "output_type": "stream",
          "name": "stderr",
          "text": [
            "\n"
          ]
        },
        {
          "output_type": "stream",
          "name": "stdout",
          "text": [
            "\n",
            "      Epoch    GPU_mem   box_loss   cls_loss   dfl_loss  Instances       Size\n"
          ]
        },
        {
          "output_type": "stream",
          "name": "stderr",
          "text": [
            "       2/50      2.25G      3.045      3.247      3.716         24        640: 100%|██████████| 55/55 [00:19<00:00,  2.79it/s]\n",
            "                 Class     Images  Instances      Box(P          R      mAP50  mAP50-95): 100%|██████████| 6/6 [00:02<00:00,  2.60it/s]"
          ]
        },
        {
          "output_type": "stream",
          "name": "stdout",
          "text": [
            "                   all        187        238     0.0415      0.349     0.0685     0.0162\n"
          ]
        },
        {
          "output_type": "stream",
          "name": "stderr",
          "text": [
            "\n"
          ]
        },
        {
          "output_type": "stream",
          "name": "stdout",
          "text": [
            "\n",
            "      Epoch    GPU_mem   box_loss   cls_loss   dfl_loss  Instances       Size\n"
          ]
        },
        {
          "output_type": "stream",
          "name": "stderr",
          "text": [
            "       3/50      2.26G      2.814      3.035      3.378         24        640: 100%|██████████| 55/55 [00:18<00:00,  2.94it/s]\n",
            "                 Class     Images  Instances      Box(P          R      mAP50  mAP50-95): 100%|██████████| 6/6 [00:03<00:00,  1.75it/s]"
          ]
        },
        {
          "output_type": "stream",
          "name": "stdout",
          "text": [
            "                   all        187        238     0.0339      0.134     0.0175    0.00461\n"
          ]
        },
        {
          "output_type": "stream",
          "name": "stderr",
          "text": [
            "\n"
          ]
        },
        {
          "output_type": "stream",
          "name": "stdout",
          "text": [
            "\n",
            "      Epoch    GPU_mem   box_loss   cls_loss   dfl_loss  Instances       Size\n"
          ]
        },
        {
          "output_type": "stream",
          "name": "stderr",
          "text": [
            "       4/50      2.26G      2.549       2.79      3.178         30        640: 100%|██████████| 55/55 [00:25<00:00,  2.17it/s]\n",
            "                 Class     Images  Instances      Box(P          R      mAP50  mAP50-95): 100%|██████████| 6/6 [00:02<00:00,  2.27it/s]"
          ]
        },
        {
          "output_type": "stream",
          "name": "stdout",
          "text": [
            "                   all        187        238      0.068      0.319     0.0447     0.0162\n"
          ]
        },
        {
          "output_type": "stream",
          "name": "stderr",
          "text": [
            "\n"
          ]
        },
        {
          "output_type": "stream",
          "name": "stdout",
          "text": [
            "\n",
            "      Epoch    GPU_mem   box_loss   cls_loss   dfl_loss  Instances       Size\n"
          ]
        },
        {
          "output_type": "stream",
          "name": "stderr",
          "text": [
            "       5/50      2.25G      2.373      2.582      3.015         32        640: 100%|██████████| 55/55 [00:19<00:00,  2.84it/s]\n",
            "                 Class     Images  Instances      Box(P          R      mAP50  mAP50-95): 100%|██████████| 6/6 [00:02<00:00,  2.80it/s]"
          ]
        },
        {
          "output_type": "stream",
          "name": "stdout",
          "text": [
            "                   all        187        238       0.13      0.168     0.0617      0.017\n"
          ]
        },
        {
          "output_type": "stream",
          "name": "stderr",
          "text": [
            "\n"
          ]
        },
        {
          "output_type": "stream",
          "name": "stdout",
          "text": [
            "\n",
            "      Epoch    GPU_mem   box_loss   cls_loss   dfl_loss  Instances       Size\n"
          ]
        },
        {
          "output_type": "stream",
          "name": "stderr",
          "text": [
            "       6/50      2.27G      2.245      2.373      2.855         26        640: 100%|██████████| 55/55 [00:18<00:00,  2.95it/s]\n",
            "                 Class     Images  Instances      Box(P          R      mAP50  mAP50-95): 100%|██████████| 6/6 [00:02<00:00,  2.68it/s]"
          ]
        },
        {
          "output_type": "stream",
          "name": "stdout",
          "text": [
            "                   all        187        238      0.194      0.433      0.148     0.0497\n"
          ]
        },
        {
          "output_type": "stream",
          "name": "stderr",
          "text": [
            "\n"
          ]
        },
        {
          "output_type": "stream",
          "name": "stdout",
          "text": [
            "\n",
            "      Epoch    GPU_mem   box_loss   cls_loss   dfl_loss  Instances       Size\n"
          ]
        },
        {
          "output_type": "stream",
          "name": "stderr",
          "text": [
            "       7/50      2.25G      2.145      2.248      2.754         27        640: 100%|██████████| 55/55 [00:19<00:00,  2.83it/s]\n",
            "                 Class     Images  Instances      Box(P          R      mAP50  mAP50-95): 100%|██████████| 6/6 [00:02<00:00,  2.91it/s]"
          ]
        },
        {
          "output_type": "stream",
          "name": "stdout",
          "text": [
            "                   all        187        238      0.397      0.466      0.276      0.118\n"
          ]
        },
        {
          "output_type": "stream",
          "name": "stderr",
          "text": [
            "\n"
          ]
        },
        {
          "output_type": "stream",
          "name": "stdout",
          "text": [
            "\n",
            "      Epoch    GPU_mem   box_loss   cls_loss   dfl_loss  Instances       Size\n"
          ]
        },
        {
          "output_type": "stream",
          "name": "stderr",
          "text": [
            "       8/50      2.24G      2.054      2.091      2.639         34        640: 100%|██████████| 55/55 [00:19<00:00,  2.88it/s]\n",
            "                 Class     Images  Instances      Box(P          R      mAP50  mAP50-95): 100%|██████████| 6/6 [00:02<00:00,  2.67it/s]"
          ]
        },
        {
          "output_type": "stream",
          "name": "stdout",
          "text": [
            "                   all        187        238      0.527        0.5      0.481      0.254\n"
          ]
        },
        {
          "output_type": "stream",
          "name": "stderr",
          "text": [
            "\n"
          ]
        },
        {
          "output_type": "stream",
          "name": "stdout",
          "text": [
            "\n",
            "      Epoch    GPU_mem   box_loss   cls_loss   dfl_loss  Instances       Size\n"
          ]
        },
        {
          "output_type": "stream",
          "name": "stderr",
          "text": [
            "       9/50      2.27G      1.936      1.938      2.496         28        640: 100%|██████████| 55/55 [00:18<00:00,  3.00it/s]\n",
            "                 Class     Images  Instances      Box(P          R      mAP50  mAP50-95): 100%|██████████| 6/6 [00:03<00:00,  1.71it/s]"
          ]
        },
        {
          "output_type": "stream",
          "name": "stdout",
          "text": [
            "                   all        187        238      0.625      0.475      0.522      0.245\n"
          ]
        },
        {
          "output_type": "stream",
          "name": "stderr",
          "text": [
            "\n"
          ]
        },
        {
          "output_type": "stream",
          "name": "stdout",
          "text": [
            "\n",
            "      Epoch    GPU_mem   box_loss   cls_loss   dfl_loss  Instances       Size\n"
          ]
        },
        {
          "output_type": "stream",
          "name": "stderr",
          "text": [
            "      10/50      2.25G       1.83      1.783      2.365         33        640: 100%|██████████| 55/55 [00:26<00:00,  2.04it/s]\n",
            "                 Class     Images  Instances      Box(P          R      mAP50  mAP50-95): 100%|██████████| 6/6 [00:02<00:00,  2.98it/s]"
          ]
        },
        {
          "output_type": "stream",
          "name": "stdout",
          "text": [
            "                   all        187        238      0.592      0.576      0.597       0.33\n"
          ]
        },
        {
          "output_type": "stream",
          "name": "stderr",
          "text": [
            "\n"
          ]
        },
        {
          "output_type": "stream",
          "name": "stdout",
          "text": [
            "\n",
            "      Epoch    GPU_mem   box_loss   cls_loss   dfl_loss  Instances       Size\n"
          ]
        },
        {
          "output_type": "stream",
          "name": "stderr",
          "text": [
            "      11/50      2.25G      1.771      1.738        2.3         26        640: 100%|██████████| 55/55 [00:23<00:00,  2.34it/s]\n",
            "                 Class     Images  Instances      Box(P          R      mAP50  mAP50-95): 100%|██████████| 6/6 [00:01<00:00,  3.01it/s]"
          ]
        },
        {
          "output_type": "stream",
          "name": "stdout",
          "text": [
            "                   all        187        238      0.666      0.571      0.646      0.345\n"
          ]
        },
        {
          "output_type": "stream",
          "name": "stderr",
          "text": [
            "\n"
          ]
        },
        {
          "output_type": "stream",
          "name": "stdout",
          "text": [
            "\n",
            "      Epoch    GPU_mem   box_loss   cls_loss   dfl_loss  Instances       Size\n"
          ]
        },
        {
          "output_type": "stream",
          "name": "stderr",
          "text": [
            "      12/50      2.24G      1.751      1.711      2.251         34        640: 100%|██████████| 55/55 [00:24<00:00,  2.27it/s]\n",
            "                 Class     Images  Instances      Box(P          R      mAP50  mAP50-95): 100%|██████████| 6/6 [00:04<00:00,  1.47it/s]"
          ]
        },
        {
          "output_type": "stream",
          "name": "stdout",
          "text": [
            "                   all        187        238      0.764      0.517      0.675      0.359\n"
          ]
        },
        {
          "output_type": "stream",
          "name": "stderr",
          "text": [
            "\n"
          ]
        },
        {
          "output_type": "stream",
          "name": "stdout",
          "text": [
            "\n",
            "      Epoch    GPU_mem   box_loss   cls_loss   dfl_loss  Instances       Size\n"
          ]
        },
        {
          "output_type": "stream",
          "name": "stderr",
          "text": [
            "      13/50      2.25G      1.676      1.552      2.171         34        640: 100%|██████████| 55/55 [00:18<00:00,  2.97it/s]\n",
            "                 Class     Images  Instances      Box(P          R      mAP50  mAP50-95): 100%|██████████| 6/6 [00:04<00:00,  1.50it/s]"
          ]
        },
        {
          "output_type": "stream",
          "name": "stdout",
          "text": [
            "                   all        187        238      0.729      0.647      0.737      0.411\n"
          ]
        },
        {
          "output_type": "stream",
          "name": "stderr",
          "text": [
            "\n"
          ]
        },
        {
          "output_type": "stream",
          "name": "stdout",
          "text": [
            "\n",
            "      Epoch    GPU_mem   box_loss   cls_loss   dfl_loss  Instances       Size\n"
          ]
        },
        {
          "output_type": "stream",
          "name": "stderr",
          "text": [
            "      14/50      2.25G      1.636      1.528      2.132         25        640: 100%|██████████| 55/55 [00:22<00:00,  2.41it/s]\n",
            "                 Class     Images  Instances      Box(P          R      mAP50  mAP50-95): 100%|██████████| 6/6 [00:02<00:00,  2.60it/s]"
          ]
        },
        {
          "output_type": "stream",
          "name": "stdout",
          "text": [
            "                   all        187        238      0.827      0.624      0.782      0.478\n"
          ]
        },
        {
          "output_type": "stream",
          "name": "stderr",
          "text": [
            "\n"
          ]
        },
        {
          "output_type": "stream",
          "name": "stdout",
          "text": [
            "\n",
            "      Epoch    GPU_mem   box_loss   cls_loss   dfl_loss  Instances       Size\n"
          ]
        },
        {
          "output_type": "stream",
          "name": "stderr",
          "text": [
            "      15/50      2.25G      1.586      1.442      2.063         32        640: 100%|██████████| 55/55 [00:21<00:00,  2.58it/s]\n",
            "                 Class     Images  Instances      Box(P          R      mAP50  mAP50-95): 100%|██████████| 6/6 [00:02<00:00,  2.47it/s]"
          ]
        },
        {
          "output_type": "stream",
          "name": "stdout",
          "text": [
            "                   all        187        238      0.723      0.584       0.68      0.395\n"
          ]
        },
        {
          "output_type": "stream",
          "name": "stderr",
          "text": [
            "\n"
          ]
        },
        {
          "output_type": "stream",
          "name": "stdout",
          "text": [
            "\n",
            "      Epoch    GPU_mem   box_loss   cls_loss   dfl_loss  Instances       Size\n"
          ]
        },
        {
          "output_type": "stream",
          "name": "stderr",
          "text": [
            "      16/50      2.28G      1.564      1.406      2.034         23        640: 100%|██████████| 55/55 [00:21<00:00,  2.60it/s]\n",
            "                 Class     Images  Instances      Box(P          R      mAP50  mAP50-95): 100%|██████████| 6/6 [00:03<00:00,  1.72it/s]"
          ]
        },
        {
          "output_type": "stream",
          "name": "stdout",
          "text": [
            "                   all        187        238      0.781      0.719       0.81      0.508\n"
          ]
        },
        {
          "output_type": "stream",
          "name": "stderr",
          "text": [
            "\n"
          ]
        },
        {
          "output_type": "stream",
          "name": "stdout",
          "text": [
            "\n",
            "      Epoch    GPU_mem   box_loss   cls_loss   dfl_loss  Instances       Size\n"
          ]
        },
        {
          "output_type": "stream",
          "name": "stderr",
          "text": [
            "      17/50      2.25G      1.536      1.371      2.014         32        640: 100%|██████████| 55/55 [00:19<00:00,  2.83it/s]\n",
            "                 Class     Images  Instances      Box(P          R      mAP50  mAP50-95): 100%|██████████| 6/6 [00:03<00:00,  1.86it/s]"
          ]
        },
        {
          "output_type": "stream",
          "name": "stdout",
          "text": [
            "                   all        187        238      0.864      0.697      0.811      0.524\n"
          ]
        },
        {
          "output_type": "stream",
          "name": "stderr",
          "text": [
            "\n"
          ]
        },
        {
          "output_type": "stream",
          "name": "stdout",
          "text": [
            "\n",
            "      Epoch    GPU_mem   box_loss   cls_loss   dfl_loss  Instances       Size\n"
          ]
        },
        {
          "output_type": "stream",
          "name": "stderr",
          "text": [
            "      18/50      2.25G      1.443      1.295       1.93         29        640: 100%|██████████| 55/55 [00:19<00:00,  2.86it/s]\n",
            "                 Class     Images  Instances      Box(P          R      mAP50  mAP50-95): 100%|██████████| 6/6 [00:02<00:00,  2.51it/s]"
          ]
        },
        {
          "output_type": "stream",
          "name": "stdout",
          "text": [
            "                   all        187        238      0.741      0.768      0.809      0.544\n"
          ]
        },
        {
          "output_type": "stream",
          "name": "stderr",
          "text": [
            "\n"
          ]
        },
        {
          "output_type": "stream",
          "name": "stdout",
          "text": [
            "\n",
            "      Epoch    GPU_mem   box_loss   cls_loss   dfl_loss  Instances       Size\n"
          ]
        },
        {
          "output_type": "stream",
          "name": "stderr",
          "text": [
            "      19/50      2.25G      1.442      1.261      1.922         25        640: 100%|██████████| 55/55 [00:20<00:00,  2.74it/s]\n",
            "                 Class     Images  Instances      Box(P          R      mAP50  mAP50-95): 100%|██████████| 6/6 [00:02<00:00,  2.51it/s]"
          ]
        },
        {
          "output_type": "stream",
          "name": "stdout",
          "text": [
            "                   all        187        238      0.833      0.773      0.859      0.584\n"
          ]
        },
        {
          "output_type": "stream",
          "name": "stderr",
          "text": [
            "\n"
          ]
        },
        {
          "output_type": "stream",
          "name": "stdout",
          "text": [
            "\n",
            "      Epoch    GPU_mem   box_loss   cls_loss   dfl_loss  Instances       Size\n"
          ]
        },
        {
          "output_type": "stream",
          "name": "stderr",
          "text": [
            "      20/50      2.26G      1.385      1.241      1.892         30        640: 100%|██████████| 55/55 [00:23<00:00,  2.31it/s]\n",
            "                 Class     Images  Instances      Box(P          R      mAP50  mAP50-95): 100%|██████████| 6/6 [00:02<00:00,  2.78it/s]"
          ]
        },
        {
          "output_type": "stream",
          "name": "stdout",
          "text": [
            "                   all        187        238      0.852       0.75      0.871      0.611\n"
          ]
        },
        {
          "output_type": "stream",
          "name": "stderr",
          "text": [
            "\n"
          ]
        },
        {
          "output_type": "stream",
          "name": "stdout",
          "text": [
            "\n",
            "      Epoch    GPU_mem   box_loss   cls_loss   dfl_loss  Instances       Size\n"
          ]
        },
        {
          "output_type": "stream",
          "name": "stderr",
          "text": [
            "      21/50      2.25G      1.361      1.192      1.844         34        640: 100%|██████████| 55/55 [00:19<00:00,  2.81it/s]\n",
            "                 Class     Images  Instances      Box(P          R      mAP50  mAP50-95): 100%|██████████| 6/6 [00:02<00:00,  2.65it/s]"
          ]
        },
        {
          "output_type": "stream",
          "name": "stdout",
          "text": [
            "                   all        187        238      0.897      0.752      0.873      0.599\n"
          ]
        },
        {
          "output_type": "stream",
          "name": "stderr",
          "text": [
            "\n"
          ]
        },
        {
          "output_type": "stream",
          "name": "stdout",
          "text": [
            "\n",
            "      Epoch    GPU_mem   box_loss   cls_loss   dfl_loss  Instances       Size\n"
          ]
        },
        {
          "output_type": "stream",
          "name": "stderr",
          "text": [
            "      22/50      2.25G      1.368      1.146      1.827         28        640: 100%|██████████| 55/55 [00:18<00:00,  2.96it/s]\n",
            "                 Class     Images  Instances      Box(P          R      mAP50  mAP50-95): 100%|██████████| 6/6 [00:03<00:00,  1.69it/s]"
          ]
        },
        {
          "output_type": "stream",
          "name": "stdout",
          "text": [
            "                   all        187        238      0.793      0.794      0.842      0.582\n"
          ]
        },
        {
          "output_type": "stream",
          "name": "stderr",
          "text": [
            "\n"
          ]
        },
        {
          "output_type": "stream",
          "name": "stdout",
          "text": [
            "\n",
            "      Epoch    GPU_mem   box_loss   cls_loss   dfl_loss  Instances       Size\n"
          ]
        },
        {
          "output_type": "stream",
          "name": "stderr",
          "text": [
            "      23/50      2.25G      1.339      1.134      1.817         31        640: 100%|██████████| 55/55 [00:18<00:00,  3.02it/s]\n",
            "                 Class     Images  Instances      Box(P          R      mAP50  mAP50-95): 100%|██████████| 6/6 [00:04<00:00,  1.49it/s]"
          ]
        },
        {
          "output_type": "stream",
          "name": "stdout",
          "text": [
            "                   all        187        238      0.873      0.782      0.882      0.597\n"
          ]
        },
        {
          "output_type": "stream",
          "name": "stderr",
          "text": [
            "\n"
          ]
        },
        {
          "output_type": "stream",
          "name": "stdout",
          "text": [
            "\n",
            "      Epoch    GPU_mem   box_loss   cls_loss   dfl_loss  Instances       Size\n"
          ]
        },
        {
          "output_type": "stream",
          "name": "stderr",
          "text": [
            "      24/50      2.26G      1.327      1.125      1.804         25        640: 100%|██████████| 55/55 [00:18<00:00,  2.93it/s]\n",
            "                 Class     Images  Instances      Box(P          R      mAP50  mAP50-95): 100%|██████████| 6/6 [00:02<00:00,  2.08it/s]"
          ]
        },
        {
          "output_type": "stream",
          "name": "stdout",
          "text": [
            "                   all        187        238      0.853      0.777      0.879       0.62\n"
          ]
        },
        {
          "output_type": "stream",
          "name": "stderr",
          "text": [
            "\n"
          ]
        },
        {
          "output_type": "stream",
          "name": "stdout",
          "text": [
            "\n",
            "      Epoch    GPU_mem   box_loss   cls_loss   dfl_loss  Instances       Size\n"
          ]
        },
        {
          "output_type": "stream",
          "name": "stderr",
          "text": [
            "      25/50      2.29G      1.291      1.085       1.76         29        640: 100%|██████████| 55/55 [00:19<00:00,  2.87it/s]\n",
            "                 Class     Images  Instances      Box(P          R      mAP50  mAP50-95): 100%|██████████| 6/6 [00:02<00:00,  2.94it/s]"
          ]
        },
        {
          "output_type": "stream",
          "name": "stdout",
          "text": [
            "                   all        187        238      0.834      0.861      0.906      0.629\n"
          ]
        },
        {
          "output_type": "stream",
          "name": "stderr",
          "text": [
            "\n"
          ]
        },
        {
          "output_type": "stream",
          "name": "stdout",
          "text": [
            "\n",
            "      Epoch    GPU_mem   box_loss   cls_loss   dfl_loss  Instances       Size\n"
          ]
        },
        {
          "output_type": "stream",
          "name": "stderr",
          "text": [
            "      26/50      2.25G      1.259      1.062      1.757         36        640: 100%|██████████| 55/55 [00:19<00:00,  2.81it/s]\n",
            "                 Class     Images  Instances      Box(P          R      mAP50  mAP50-95): 100%|██████████| 6/6 [00:01<00:00,  3.05it/s]"
          ]
        },
        {
          "output_type": "stream",
          "name": "stdout",
          "text": [
            "                   all        187        238      0.908      0.828      0.925      0.672\n"
          ]
        },
        {
          "output_type": "stream",
          "name": "stderr",
          "text": [
            "\n"
          ]
        },
        {
          "output_type": "stream",
          "name": "stdout",
          "text": [
            "\n",
            "      Epoch    GPU_mem   box_loss   cls_loss   dfl_loss  Instances       Size\n"
          ]
        },
        {
          "output_type": "stream",
          "name": "stderr",
          "text": [
            "      27/50      2.25G      1.245      1.013      1.735         26        640: 100%|██████████| 55/55 [00:19<00:00,  2.81it/s]\n",
            "                 Class     Images  Instances      Box(P          R      mAP50  mAP50-95): 100%|██████████| 6/6 [00:02<00:00,  2.76it/s]"
          ]
        },
        {
          "output_type": "stream",
          "name": "stdout",
          "text": [
            "                   all        187        238      0.896      0.815      0.889       0.62\n"
          ]
        },
        {
          "output_type": "stream",
          "name": "stderr",
          "text": [
            "\n"
          ]
        },
        {
          "output_type": "stream",
          "name": "stdout",
          "text": [
            "\n",
            "      Epoch    GPU_mem   box_loss   cls_loss   dfl_loss  Instances       Size\n"
          ]
        },
        {
          "output_type": "stream",
          "name": "stderr",
          "text": [
            "      28/50      2.24G      1.241      1.029      1.735         25        640: 100%|██████████| 55/55 [00:20<00:00,  2.73it/s]\n",
            "                 Class     Images  Instances      Box(P          R      mAP50  mAP50-95): 100%|██████████| 6/6 [00:03<00:00,  1.53it/s]"
          ]
        },
        {
          "output_type": "stream",
          "name": "stdout",
          "text": [
            "                   all        187        238      0.921      0.877       0.93      0.646\n"
          ]
        },
        {
          "output_type": "stream",
          "name": "stderr",
          "text": [
            "\n"
          ]
        },
        {
          "output_type": "stream",
          "name": "stdout",
          "text": [
            "\n",
            "      Epoch    GPU_mem   box_loss   cls_loss   dfl_loss  Instances       Size\n"
          ]
        },
        {
          "output_type": "stream",
          "name": "stderr",
          "text": [
            "      29/50      2.25G      1.223     0.9966      1.703         35        640: 100%|██████████| 55/55 [00:19<00:00,  2.88it/s]\n",
            "                 Class     Images  Instances      Box(P          R      mAP50  mAP50-95): 100%|██████████| 6/6 [00:03<00:00,  1.97it/s]"
          ]
        },
        {
          "output_type": "stream",
          "name": "stdout",
          "text": [
            "                   all        187        238       0.91      0.804      0.908      0.628\n"
          ]
        },
        {
          "output_type": "stream",
          "name": "stderr",
          "text": [
            "\n"
          ]
        },
        {
          "output_type": "stream",
          "name": "stdout",
          "text": [
            "\n",
            "      Epoch    GPU_mem   box_loss   cls_loss   dfl_loss  Instances       Size\n"
          ]
        },
        {
          "output_type": "stream",
          "name": "stderr",
          "text": [
            "      30/50      2.25G      1.238     0.9695      1.704         28        640: 100%|██████████| 55/55 [00:19<00:00,  2.89it/s]\n",
            "                 Class     Images  Instances      Box(P          R      mAP50  mAP50-95): 100%|██████████| 6/6 [00:03<00:00,  1.63it/s]"
          ]
        },
        {
          "output_type": "stream",
          "name": "stdout",
          "text": [
            "                   all        187        238      0.878      0.819      0.889       0.57\n"
          ]
        },
        {
          "output_type": "stream",
          "name": "stderr",
          "text": [
            "\n"
          ]
        },
        {
          "output_type": "stream",
          "name": "stdout",
          "text": [
            "\n",
            "      Epoch    GPU_mem   box_loss   cls_loss   dfl_loss  Instances       Size\n"
          ]
        },
        {
          "output_type": "stream",
          "name": "stderr",
          "text": [
            "      31/50      2.25G      1.166     0.9443      1.657         26        640: 100%|██████████| 55/55 [00:18<00:00,  3.01it/s]\n",
            "                 Class     Images  Instances      Box(P          R      mAP50  mAP50-95): 100%|██████████| 6/6 [00:02<00:00,  2.09it/s]"
          ]
        },
        {
          "output_type": "stream",
          "name": "stdout",
          "text": [
            "                   all        187        238      0.927      0.854      0.943      0.694\n"
          ]
        },
        {
          "output_type": "stream",
          "name": "stderr",
          "text": [
            "\n"
          ]
        },
        {
          "output_type": "stream",
          "name": "stdout",
          "text": [
            "\n",
            "      Epoch    GPU_mem   box_loss   cls_loss   dfl_loss  Instances       Size\n"
          ]
        },
        {
          "output_type": "stream",
          "name": "stderr",
          "text": [
            "      32/50      2.26G      1.169     0.9464      1.665         27        640: 100%|██████████| 55/55 [00:19<00:00,  2.88it/s]\n",
            "                 Class     Images  Instances      Box(P          R      mAP50  mAP50-95): 100%|██████████| 6/6 [00:02<00:00,  2.99it/s]"
          ]
        },
        {
          "output_type": "stream",
          "name": "stdout",
          "text": [
            "                   all        187        238      0.973      0.849      0.946       0.69\n"
          ]
        },
        {
          "output_type": "stream",
          "name": "stderr",
          "text": [
            "\n"
          ]
        },
        {
          "output_type": "stream",
          "name": "stdout",
          "text": [
            "\n",
            "      Epoch    GPU_mem   box_loss   cls_loss   dfl_loss  Instances       Size\n"
          ]
        },
        {
          "output_type": "stream",
          "name": "stderr",
          "text": [
            "      33/50      2.25G      1.131     0.9062       1.61         25        640: 100%|██████████| 55/55 [00:19<00:00,  2.83it/s]\n",
            "                 Class     Images  Instances      Box(P          R      mAP50  mAP50-95): 100%|██████████| 6/6 [00:02<00:00,  2.72it/s]"
          ]
        },
        {
          "output_type": "stream",
          "name": "stdout",
          "text": [
            "                   all        187        238      0.943      0.878      0.951      0.685\n"
          ]
        },
        {
          "output_type": "stream",
          "name": "stderr",
          "text": [
            "\n"
          ]
        },
        {
          "output_type": "stream",
          "name": "stdout",
          "text": [
            "\n",
            "      Epoch    GPU_mem   box_loss   cls_loss   dfl_loss  Instances       Size\n"
          ]
        },
        {
          "output_type": "stream",
          "name": "stderr",
          "text": [
            "      34/50      2.26G      1.135      0.919      1.634         25        640: 100%|██████████| 55/55 [00:21<00:00,  2.55it/s]\n",
            "                 Class     Images  Instances      Box(P          R      mAP50  mAP50-95): 100%|██████████| 6/6 [00:02<00:00,  2.63it/s]"
          ]
        },
        {
          "output_type": "stream",
          "name": "stdout",
          "text": [
            "                   all        187        238      0.947      0.898       0.95      0.719\n"
          ]
        },
        {
          "output_type": "stream",
          "name": "stderr",
          "text": [
            "\n"
          ]
        },
        {
          "output_type": "stream",
          "name": "stdout",
          "text": [
            "\n",
            "      Epoch    GPU_mem   box_loss   cls_loss   dfl_loss  Instances       Size\n"
          ]
        },
        {
          "output_type": "stream",
          "name": "stderr",
          "text": [
            "      35/50      2.25G      1.101     0.8824      1.595         29        640: 100%|██████████| 55/55 [00:21<00:00,  2.54it/s]\n",
            "                 Class     Images  Instances      Box(P          R      mAP50  mAP50-95): 100%|██████████| 6/6 [00:03<00:00,  1.67it/s]"
          ]
        },
        {
          "output_type": "stream",
          "name": "stdout",
          "text": [
            "                   all        187        238      0.968      0.899      0.956      0.706\n"
          ]
        },
        {
          "output_type": "stream",
          "name": "stderr",
          "text": [
            "\n"
          ]
        },
        {
          "output_type": "stream",
          "name": "stdout",
          "text": [
            "\n",
            "      Epoch    GPU_mem   box_loss   cls_loss   dfl_loss  Instances       Size\n"
          ]
        },
        {
          "output_type": "stream",
          "name": "stderr",
          "text": [
            "      36/50      2.24G      1.079     0.8439      1.573         34        640: 100%|██████████| 55/55 [00:21<00:00,  2.52it/s]\n",
            "                 Class     Images  Instances      Box(P          R      mAP50  mAP50-95): 100%|██████████| 6/6 [00:02<00:00,  2.11it/s]"
          ]
        },
        {
          "output_type": "stream",
          "name": "stdout",
          "text": [
            "                   all        187        238      0.956      0.907      0.955      0.731\n"
          ]
        },
        {
          "output_type": "stream",
          "name": "stderr",
          "text": [
            "\n"
          ]
        },
        {
          "output_type": "stream",
          "name": "stdout",
          "text": [
            "\n",
            "      Epoch    GPU_mem   box_loss   cls_loss   dfl_loss  Instances       Size\n"
          ]
        },
        {
          "output_type": "stream",
          "name": "stderr",
          "text": [
            "      37/50      2.25G      1.084     0.8649      1.576         26        640: 100%|██████████| 55/55 [00:24<00:00,  2.25it/s]\n",
            "                 Class     Images  Instances      Box(P          R      mAP50  mAP50-95): 100%|██████████| 6/6 [00:02<00:00,  2.72it/s]"
          ]
        },
        {
          "output_type": "stream",
          "name": "stdout",
          "text": [
            "                   all        187        238      0.929      0.857      0.933      0.656\n"
          ]
        },
        {
          "output_type": "stream",
          "name": "stderr",
          "text": [
            "\n"
          ]
        },
        {
          "output_type": "stream",
          "name": "stdout",
          "text": [
            "\n",
            "      Epoch    GPU_mem   box_loss   cls_loss   dfl_loss  Instances       Size\n"
          ]
        },
        {
          "output_type": "stream",
          "name": "stderr",
          "text": [
            "      38/50      2.25G      1.082     0.8478      1.579         29        640: 100%|██████████| 55/55 [00:22<00:00,  2.46it/s]\n",
            "                 Class     Images  Instances      Box(P          R      mAP50  mAP50-95): 100%|██████████| 6/6 [00:03<00:00,  1.83it/s]"
          ]
        },
        {
          "output_type": "stream",
          "name": "stdout",
          "text": [
            "                   all        187        238      0.983      0.899      0.965      0.732\n"
          ]
        },
        {
          "output_type": "stream",
          "name": "stderr",
          "text": [
            "\n"
          ]
        },
        {
          "output_type": "stream",
          "name": "stdout",
          "text": [
            "\n",
            "      Epoch    GPU_mem   box_loss   cls_loss   dfl_loss  Instances       Size\n"
          ]
        },
        {
          "output_type": "stream",
          "name": "stderr",
          "text": [
            "      39/50      2.25G      1.041     0.8365      1.549         27        640: 100%|██████████| 55/55 [00:19<00:00,  2.82it/s]\n",
            "                 Class     Images  Instances      Box(P          R      mAP50  mAP50-95): 100%|██████████| 6/6 [00:03<00:00,  1.68it/s]"
          ]
        },
        {
          "output_type": "stream",
          "name": "stdout",
          "text": [
            "                   all        187        238      0.918      0.916      0.948      0.717\n"
          ]
        },
        {
          "output_type": "stream",
          "name": "stderr",
          "text": [
            "\n"
          ]
        },
        {
          "output_type": "stream",
          "name": "stdout",
          "text": [
            "\n",
            "      Epoch    GPU_mem   box_loss   cls_loss   dfl_loss  Instances       Size\n"
          ]
        },
        {
          "output_type": "stream",
          "name": "stderr",
          "text": [
            "      40/50      2.24G      1.022     0.7998      1.534         26        640: 100%|██████████| 55/55 [00:18<00:00,  2.91it/s]\n",
            "                 Class     Images  Instances      Box(P          R      mAP50  mAP50-95): 100%|██████████| 6/6 [00:02<00:00,  2.44it/s]"
          ]
        },
        {
          "output_type": "stream",
          "name": "stdout",
          "text": [
            "                   all        187        238      0.985      0.912      0.965      0.742\n"
          ]
        },
        {
          "output_type": "stream",
          "name": "stderr",
          "text": [
            "\n"
          ]
        },
        {
          "output_type": "stream",
          "name": "stdout",
          "text": [
            "Closing dataloader mosaic\n",
            "\u001b[34m\u001b[1malbumentations: \u001b[0mBlur(p=0.01, blur_limit=(3, 7)), MedianBlur(p=0.01, blur_limit=(3, 7)), ToGray(p=0.01), CLAHE(p=0.01, clip_limit=(1, 4.0), tile_grid_size=(8, 8))\n"
          ]
        },
        {
          "output_type": "stream",
          "name": "stderr",
          "text": [
            "/usr/lib/python3.10/multiprocessing/popen_fork.py:66: RuntimeWarning: os.fork() was called. os.fork() is incompatible with multithreaded code, and JAX is multithreaded, so this will likely lead to a deadlock.\n",
            "  self.pid = os.fork()\n"
          ]
        },
        {
          "output_type": "stream",
          "name": "stdout",
          "text": [
            "\n",
            "      Epoch    GPU_mem   box_loss   cls_loss   dfl_loss  Instances       Size\n"
          ]
        },
        {
          "output_type": "stream",
          "name": "stderr",
          "text": [
            "      41/50      2.41G      0.866     0.6693      1.431         14        640: 100%|██████████| 55/55 [00:20<00:00,  2.62it/s]\n",
            "                 Class     Images  Instances      Box(P          R      mAP50  mAP50-95): 100%|██████████| 6/6 [00:02<00:00,  2.77it/s]"
          ]
        },
        {
          "output_type": "stream",
          "name": "stdout",
          "text": [
            "                   all        187        238      0.957      0.895       0.96      0.723\n"
          ]
        },
        {
          "output_type": "stream",
          "name": "stderr",
          "text": [
            "\n"
          ]
        },
        {
          "output_type": "stream",
          "name": "stdout",
          "text": [
            "\n",
            "      Epoch    GPU_mem   box_loss   cls_loss   dfl_loss  Instances       Size\n"
          ]
        },
        {
          "output_type": "stream",
          "name": "stderr",
          "text": [
            "      42/50      2.25G     0.8304     0.6105       1.41         11        640: 100%|██████████| 55/55 [00:17<00:00,  3.12it/s]\n",
            "                 Class     Images  Instances      Box(P          R      mAP50  mAP50-95): 100%|██████████| 6/6 [00:02<00:00,  2.73it/s]"
          ]
        },
        {
          "output_type": "stream",
          "name": "stdout",
          "text": [
            "                   all        187        238      0.941      0.912      0.962      0.734\n"
          ]
        },
        {
          "output_type": "stream",
          "name": "stderr",
          "text": [
            "\n"
          ]
        },
        {
          "output_type": "stream",
          "name": "stdout",
          "text": [
            "\n",
            "      Epoch    GPU_mem   box_loss   cls_loss   dfl_loss  Instances       Size\n"
          ]
        },
        {
          "output_type": "stream",
          "name": "stderr",
          "text": [
            "      43/50      2.25G     0.8047     0.5796      1.367         13        640: 100%|██████████| 55/55 [00:18<00:00,  2.92it/s]\n",
            "                 Class     Images  Instances      Box(P          R      mAP50  mAP50-95): 100%|██████████| 6/6 [00:01<00:00,  3.07it/s]"
          ]
        },
        {
          "output_type": "stream",
          "name": "stdout",
          "text": [
            "                   all        187        238      0.951      0.901      0.963       0.76\n"
          ]
        },
        {
          "output_type": "stream",
          "name": "stderr",
          "text": [
            "\n"
          ]
        },
        {
          "output_type": "stream",
          "name": "stdout",
          "text": [
            "\n",
            "      Epoch    GPU_mem   box_loss   cls_loss   dfl_loss  Instances       Size\n"
          ]
        },
        {
          "output_type": "stream",
          "name": "stderr",
          "text": [
            "      44/50      2.24G     0.7718     0.5549      1.333         11        640: 100%|██████████| 55/55 [00:19<00:00,  2.82it/s]\n",
            "                 Class     Images  Instances      Box(P          R      mAP50  mAP50-95): 100%|██████████| 6/6 [00:02<00:00,  2.89it/s]"
          ]
        },
        {
          "output_type": "stream",
          "name": "stdout",
          "text": [
            "                   all        187        238      0.969      0.917      0.971      0.774\n"
          ]
        },
        {
          "output_type": "stream",
          "name": "stderr",
          "text": [
            "\n"
          ]
        },
        {
          "output_type": "stream",
          "name": "stdout",
          "text": [
            "\n",
            "      Epoch    GPU_mem   box_loss   cls_loss   dfl_loss  Instances       Size\n"
          ]
        },
        {
          "output_type": "stream",
          "name": "stderr",
          "text": [
            "      45/50      2.25G     0.7462      0.546      1.319         13        640: 100%|██████████| 55/55 [00:23<00:00,  2.39it/s]\n",
            "                 Class     Images  Instances      Box(P          R      mAP50  mAP50-95): 100%|██████████| 6/6 [00:03<00:00,  1.65it/s]"
          ]
        },
        {
          "output_type": "stream",
          "name": "stdout",
          "text": [
            "                   all        187        238      0.944      0.917      0.969      0.772\n"
          ]
        },
        {
          "output_type": "stream",
          "name": "stderr",
          "text": [
            "\n"
          ]
        },
        {
          "output_type": "stream",
          "name": "stdout",
          "text": [
            "\n",
            "      Epoch    GPU_mem   box_loss   cls_loss   dfl_loss  Instances       Size\n"
          ]
        },
        {
          "output_type": "stream",
          "name": "stderr",
          "text": [
            "      46/50      2.25G     0.7134      0.519       1.29         14        640: 100%|██████████| 55/55 [00:17<00:00,  3.07it/s]\n",
            "                 Class     Images  Instances      Box(P          R      mAP50  mAP50-95): 100%|██████████| 6/6 [00:02<00:00,  2.35it/s]"
          ]
        },
        {
          "output_type": "stream",
          "name": "stdout",
          "text": [
            "                   all        187        238      0.961      0.932      0.974      0.786\n"
          ]
        },
        {
          "output_type": "stream",
          "name": "stderr",
          "text": [
            "\n"
          ]
        },
        {
          "output_type": "stream",
          "name": "stdout",
          "text": [
            "\n",
            "      Epoch    GPU_mem   box_loss   cls_loss   dfl_loss  Instances       Size\n"
          ]
        },
        {
          "output_type": "stream",
          "name": "stderr",
          "text": [
            "      47/50      2.25G     0.7173     0.5209      1.286         15        640: 100%|██████████| 55/55 [00:18<00:00,  2.99it/s]\n",
            "                 Class     Images  Instances      Box(P          R      mAP50  mAP50-95): 100%|██████████| 6/6 [00:01<00:00,  3.02it/s]"
          ]
        },
        {
          "output_type": "stream",
          "name": "stdout",
          "text": [
            "                   all        187        238      0.964      0.945      0.975      0.793\n"
          ]
        },
        {
          "output_type": "stream",
          "name": "stderr",
          "text": [
            "\n"
          ]
        },
        {
          "output_type": "stream",
          "name": "stdout",
          "text": [
            "\n",
            "      Epoch    GPU_mem   box_loss   cls_loss   dfl_loss  Instances       Size\n"
          ]
        },
        {
          "output_type": "stream",
          "name": "stderr",
          "text": [
            "      48/50      2.24G     0.6915     0.5054      1.261         19        640: 100%|██████████| 55/55 [00:19<00:00,  2.86it/s]\n",
            "                 Class     Images  Instances      Box(P          R      mAP50  mAP50-95): 100%|██████████| 6/6 [00:01<00:00,  3.01it/s]"
          ]
        },
        {
          "output_type": "stream",
          "name": "stdout",
          "text": [
            "                   all        187        238      0.972      0.937      0.974      0.795\n"
          ]
        },
        {
          "output_type": "stream",
          "name": "stderr",
          "text": [
            "\n"
          ]
        },
        {
          "output_type": "stream",
          "name": "stdout",
          "text": [
            "\n",
            "      Epoch    GPU_mem   box_loss   cls_loss   dfl_loss  Instances       Size\n"
          ]
        },
        {
          "output_type": "stream",
          "name": "stderr",
          "text": [
            "      49/50      2.25G     0.6917     0.5002      1.265         11        640: 100%|██████████| 55/55 [00:18<00:00,  3.02it/s]\n",
            "                 Class     Images  Instances      Box(P          R      mAP50  mAP50-95): 100%|██████████| 6/6 [00:01<00:00,  3.09it/s]"
          ]
        },
        {
          "output_type": "stream",
          "name": "stdout",
          "text": [
            "                   all        187        238      0.974      0.933      0.976      0.794\n"
          ]
        },
        {
          "output_type": "stream",
          "name": "stderr",
          "text": [
            "\n"
          ]
        },
        {
          "output_type": "stream",
          "name": "stdout",
          "text": [
            "\n",
            "      Epoch    GPU_mem   box_loss   cls_loss   dfl_loss  Instances       Size\n"
          ]
        },
        {
          "output_type": "stream",
          "name": "stderr",
          "text": [
            "      50/50      2.25G     0.6795     0.4949      1.244         14        640: 100%|██████████| 55/55 [00:18<00:00,  2.99it/s]\n",
            "                 Class     Images  Instances      Box(P          R      mAP50  mAP50-95): 100%|██████████| 6/6 [00:02<00:00,  2.81it/s]"
          ]
        },
        {
          "output_type": "stream",
          "name": "stdout",
          "text": [
            "                   all        187        238      0.979      0.929      0.982      0.796\n"
          ]
        },
        {
          "output_type": "stream",
          "name": "stderr",
          "text": [
            "\n"
          ]
        },
        {
          "output_type": "stream",
          "name": "stdout",
          "text": [
            "\n",
            "50 epochs completed in 0.334 hours.\n",
            "Optimizer stripped from /content/runs/exp/weights/last.pt, 6.2MB\n",
            "Optimizer stripped from /content/runs/exp/weights/best.pt, 6.2MB\n",
            "\n",
            "Validating /content/runs/exp/weights/best.pt...\n",
            "Ultralytics YOLOv8.2.55 🚀 Python-3.10.12 torch-2.3.0+cu121 CUDA:0 (Tesla T4, 15102MiB)\n",
            "YOLOv8n summary (fused): 168 layers, 3,005,843 parameters, 0 gradients, 8.1 GFLOPs\n"
          ]
        },
        {
          "output_type": "stream",
          "name": "stderr",
          "text": [
            "                 Class     Images  Instances      Box(P          R      mAP50  mAP50-95): 100%|██████████| 6/6 [00:05<00:00,  1.01it/s]\n"
          ]
        },
        {
          "output_type": "stream",
          "name": "stdout",
          "text": [
            "                   all        187        238      0.979      0.929      0.982      0.797\n",
            "Speed: 0.4ms preprocess, 3.3ms inference, 0.0ms loss, 7.8ms postprocess per image\n",
            "Results saved to \u001b[1m/content/runs/exp\u001b[0m\n"
          ]
        },
        {
          "output_type": "execute_result",
          "data": {
            "text/plain": [
              "ultralytics.utils.metrics.DetMetrics object with attributes:\n",
              "\n",
              "ap_class_index: array([0])\n",
              "box: ultralytics.utils.metrics.Metric object\n",
              "confusion_matrix: <ultralytics.utils.metrics.ConfusionMatrix object at 0x7fe492a87160>\n",
              "curves: ['Precision-Recall(B)', 'F1-Confidence(B)', 'Precision-Confidence(B)', 'Recall-Confidence(B)']\n",
              "curves_results: [[array([          0,    0.001001,    0.002002,    0.003003,    0.004004,    0.005005,    0.006006,    0.007007,    0.008008,    0.009009,     0.01001,    0.011011,    0.012012,    0.013013,    0.014014,    0.015015,    0.016016,    0.017017,    0.018018,    0.019019,     0.02002,    0.021021,    0.022022,    0.023023,\n",
              "          0.024024,    0.025025,    0.026026,    0.027027,    0.028028,    0.029029,     0.03003,    0.031031,    0.032032,    0.033033,    0.034034,    0.035035,    0.036036,    0.037037,    0.038038,    0.039039,     0.04004,    0.041041,    0.042042,    0.043043,    0.044044,    0.045045,    0.046046,    0.047047,\n",
              "          0.048048,    0.049049,     0.05005,    0.051051,    0.052052,    0.053053,    0.054054,    0.055055,    0.056056,    0.057057,    0.058058,    0.059059,     0.06006,    0.061061,    0.062062,    0.063063,    0.064064,    0.065065,    0.066066,    0.067067,    0.068068,    0.069069,     0.07007,    0.071071,\n",
              "          0.072072,    0.073073,    0.074074,    0.075075,    0.076076,    0.077077,    0.078078,    0.079079,     0.08008,    0.081081,    0.082082,    0.083083,    0.084084,    0.085085,    0.086086,    0.087087,    0.088088,    0.089089,     0.09009,    0.091091,    0.092092,    0.093093,    0.094094,    0.095095,\n",
              "          0.096096,    0.097097,    0.098098,    0.099099,      0.1001,      0.1011,      0.1021,      0.1031,      0.1041,     0.10511,     0.10611,     0.10711,     0.10811,     0.10911,     0.11011,     0.11111,     0.11211,     0.11311,     0.11411,     0.11512,     0.11612,     0.11712,     0.11812,     0.11912,\n",
              "           0.12012,     0.12112,     0.12212,     0.12312,     0.12412,     0.12513,     0.12613,     0.12713,     0.12813,     0.12913,     0.13013,     0.13113,     0.13213,     0.13313,     0.13413,     0.13514,     0.13614,     0.13714,     0.13814,     0.13914,     0.14014,     0.14114,     0.14214,     0.14314,\n",
              "           0.14414,     0.14515,     0.14615,     0.14715,     0.14815,     0.14915,     0.15015,     0.15115,     0.15215,     0.15315,     0.15415,     0.15516,     0.15616,     0.15716,     0.15816,     0.15916,     0.16016,     0.16116,     0.16216,     0.16316,     0.16416,     0.16517,     0.16617,     0.16717,\n",
              "           0.16817,     0.16917,     0.17017,     0.17117,     0.17217,     0.17317,     0.17417,     0.17518,     0.17618,     0.17718,     0.17818,     0.17918,     0.18018,     0.18118,     0.18218,     0.18318,     0.18418,     0.18519,     0.18619,     0.18719,     0.18819,     0.18919,     0.19019,     0.19119,\n",
              "           0.19219,     0.19319,     0.19419,      0.1952,      0.1962,      0.1972,      0.1982,      0.1992,      0.2002,      0.2012,      0.2022,      0.2032,      0.2042,     0.20521,     0.20621,     0.20721,     0.20821,     0.20921,     0.21021,     0.21121,     0.21221,     0.21321,     0.21421,     0.21522,\n",
              "           0.21622,     0.21722,     0.21822,     0.21922,     0.22022,     0.22122,     0.22222,     0.22322,     0.22422,     0.22523,     0.22623,     0.22723,     0.22823,     0.22923,     0.23023,     0.23123,     0.23223,     0.23323,     0.23423,     0.23524,     0.23624,     0.23724,     0.23824,     0.23924,\n",
              "           0.24024,     0.24124,     0.24224,     0.24324,     0.24424,     0.24525,     0.24625,     0.24725,     0.24825,     0.24925,     0.25025,     0.25125,     0.25225,     0.25325,     0.25425,     0.25526,     0.25626,     0.25726,     0.25826,     0.25926,     0.26026,     0.26126,     0.26226,     0.26326,\n",
              "           0.26426,     0.26527,     0.26627,     0.26727,     0.26827,     0.26927,     0.27027,     0.27127,     0.27227,     0.27327,     0.27427,     0.27528,     0.27628,     0.27728,     0.27828,     0.27928,     0.28028,     0.28128,     0.28228,     0.28328,     0.28428,     0.28529,     0.28629,     0.28729,\n",
              "           0.28829,     0.28929,     0.29029,     0.29129,     0.29229,     0.29329,     0.29429,      0.2953,      0.2963,      0.2973,      0.2983,      0.2993,      0.3003,      0.3013,      0.3023,      0.3033,      0.3043,     0.30531,     0.30631,     0.30731,     0.30831,     0.30931,     0.31031,     0.31131,\n",
              "           0.31231,     0.31331,     0.31431,     0.31532,     0.31632,     0.31732,     0.31832,     0.31932,     0.32032,     0.32132,     0.32232,     0.32332,     0.32432,     0.32533,     0.32633,     0.32733,     0.32833,     0.32933,     0.33033,     0.33133,     0.33233,     0.33333,     0.33433,     0.33534,\n",
              "           0.33634,     0.33734,     0.33834,     0.33934,     0.34034,     0.34134,     0.34234,     0.34334,     0.34434,     0.34535,     0.34635,     0.34735,     0.34835,     0.34935,     0.35035,     0.35135,     0.35235,     0.35335,     0.35435,     0.35536,     0.35636,     0.35736,     0.35836,     0.35936,\n",
              "           0.36036,     0.36136,     0.36236,     0.36336,     0.36436,     0.36537,     0.36637,     0.36737,     0.36837,     0.36937,     0.37037,     0.37137,     0.37237,     0.37337,     0.37437,     0.37538,     0.37638,     0.37738,     0.37838,     0.37938,     0.38038,     0.38138,     0.38238,     0.38338,\n",
              "           0.38438,     0.38539,     0.38639,     0.38739,     0.38839,     0.38939,     0.39039,     0.39139,     0.39239,     0.39339,     0.39439,      0.3954,      0.3964,      0.3974,      0.3984,      0.3994,      0.4004,      0.4014,      0.4024,      0.4034,      0.4044,     0.40541,     0.40641,     0.40741,\n",
              "           0.40841,     0.40941,     0.41041,     0.41141,     0.41241,     0.41341,     0.41441,     0.41542,     0.41642,     0.41742,     0.41842,     0.41942,     0.42042,     0.42142,     0.42242,     0.42342,     0.42442,     0.42543,     0.42643,     0.42743,     0.42843,     0.42943,     0.43043,     0.43143,\n",
              "           0.43243,     0.43343,     0.43443,     0.43544,     0.43644,     0.43744,     0.43844,     0.43944,     0.44044,     0.44144,     0.44244,     0.44344,     0.44444,     0.44545,     0.44645,     0.44745,     0.44845,     0.44945,     0.45045,     0.45145,     0.45245,     0.45345,     0.45445,     0.45546,\n",
              "           0.45646,     0.45746,     0.45846,     0.45946,     0.46046,     0.46146,     0.46246,     0.46346,     0.46446,     0.46547,     0.46647,     0.46747,     0.46847,     0.46947,     0.47047,     0.47147,     0.47247,     0.47347,     0.47447,     0.47548,     0.47648,     0.47748,     0.47848,     0.47948,\n",
              "           0.48048,     0.48148,     0.48248,     0.48348,     0.48448,     0.48549,     0.48649,     0.48749,     0.48849,     0.48949,     0.49049,     0.49149,     0.49249,     0.49349,     0.49449,      0.4955,      0.4965,      0.4975,      0.4985,      0.4995,      0.5005,      0.5015,      0.5025,      0.5035,\n",
              "            0.5045,     0.50551,     0.50651,     0.50751,     0.50851,     0.50951,     0.51051,     0.51151,     0.51251,     0.51351,     0.51451,     0.51552,     0.51652,     0.51752,     0.51852,     0.51952,     0.52052,     0.52152,     0.52252,     0.52352,     0.52452,     0.52553,     0.52653,     0.52753,\n",
              "           0.52853,     0.52953,     0.53053,     0.53153,     0.53253,     0.53353,     0.53453,     0.53554,     0.53654,     0.53754,     0.53854,     0.53954,     0.54054,     0.54154,     0.54254,     0.54354,     0.54454,     0.54555,     0.54655,     0.54755,     0.54855,     0.54955,     0.55055,     0.55155,\n",
              "           0.55255,     0.55355,     0.55455,     0.55556,     0.55656,     0.55756,     0.55856,     0.55956,     0.56056,     0.56156,     0.56256,     0.56356,     0.56456,     0.56557,     0.56657,     0.56757,     0.56857,     0.56957,     0.57057,     0.57157,     0.57257,     0.57357,     0.57457,     0.57558,\n",
              "           0.57658,     0.57758,     0.57858,     0.57958,     0.58058,     0.58158,     0.58258,     0.58358,     0.58458,     0.58559,     0.58659,     0.58759,     0.58859,     0.58959,     0.59059,     0.59159,     0.59259,     0.59359,     0.59459,      0.5956,      0.5966,      0.5976,      0.5986,      0.5996,\n",
              "            0.6006,      0.6016,      0.6026,      0.6036,      0.6046,     0.60561,     0.60661,     0.60761,     0.60861,     0.60961,     0.61061,     0.61161,     0.61261,     0.61361,     0.61461,     0.61562,     0.61662,     0.61762,     0.61862,     0.61962,     0.62062,     0.62162,     0.62262,     0.62362,\n",
              "           0.62462,     0.62563,     0.62663,     0.62763,     0.62863,     0.62963,     0.63063,     0.63163,     0.63263,     0.63363,     0.63463,     0.63564,     0.63664,     0.63764,     0.63864,     0.63964,     0.64064,     0.64164,     0.64264,     0.64364,     0.64464,     0.64565,     0.64665,     0.64765,\n",
              "           0.64865,     0.64965,     0.65065,     0.65165,     0.65265,     0.65365,     0.65465,     0.65566,     0.65666,     0.65766,     0.65866,     0.65966,     0.66066,     0.66166,     0.66266,     0.66366,     0.66466,     0.66567,     0.66667,     0.66767,     0.66867,     0.66967,     0.67067,     0.67167,\n",
              "           0.67267,     0.67367,     0.67467,     0.67568,     0.67668,     0.67768,     0.67868,     0.67968,     0.68068,     0.68168,     0.68268,     0.68368,     0.68468,     0.68569,     0.68669,     0.68769,     0.68869,     0.68969,     0.69069,     0.69169,     0.69269,     0.69369,     0.69469,      0.6957,\n",
              "            0.6967,      0.6977,      0.6987,      0.6997,      0.7007,      0.7017,      0.7027,      0.7037,      0.7047,     0.70571,     0.70671,     0.70771,     0.70871,     0.70971,     0.71071,     0.71171,     0.71271,     0.71371,     0.71471,     0.71572,     0.71672,     0.71772,     0.71872,     0.71972,\n",
              "           0.72072,     0.72172,     0.72272,     0.72372,     0.72472,     0.72573,     0.72673,     0.72773,     0.72873,     0.72973,     0.73073,     0.73173,     0.73273,     0.73373,     0.73473,     0.73574,     0.73674,     0.73774,     0.73874,     0.73974,     0.74074,     0.74174,     0.74274,     0.74374,\n",
              "           0.74474,     0.74575,     0.74675,     0.74775,     0.74875,     0.74975,     0.75075,     0.75175,     0.75275,     0.75375,     0.75475,     0.75576,     0.75676,     0.75776,     0.75876,     0.75976,     0.76076,     0.76176,     0.76276,     0.76376,     0.76476,     0.76577,     0.76677,     0.76777,\n",
              "           0.76877,     0.76977,     0.77077,     0.77177,     0.77277,     0.77377,     0.77477,     0.77578,     0.77678,     0.77778,     0.77878,     0.77978,     0.78078,     0.78178,     0.78278,     0.78378,     0.78478,     0.78579,     0.78679,     0.78779,     0.78879,     0.78979,     0.79079,     0.79179,\n",
              "           0.79279,     0.79379,     0.79479,      0.7958,      0.7968,      0.7978,      0.7988,      0.7998,      0.8008,      0.8018,      0.8028,      0.8038,      0.8048,     0.80581,     0.80681,     0.80781,     0.80881,     0.80981,     0.81081,     0.81181,     0.81281,     0.81381,     0.81481,     0.81582,\n",
              "           0.81682,     0.81782,     0.81882,     0.81982,     0.82082,     0.82182,     0.82282,     0.82382,     0.82482,     0.82583,     0.82683,     0.82783,     0.82883,     0.82983,     0.83083,     0.83183,     0.83283,     0.83383,     0.83483,     0.83584,     0.83684,     0.83784,     0.83884,     0.83984,\n",
              "           0.84084,     0.84184,     0.84284,     0.84384,     0.84484,     0.84585,     0.84685,     0.84785,     0.84885,     0.84985,     0.85085,     0.85185,     0.85285,     0.85385,     0.85485,     0.85586,     0.85686,     0.85786,     0.85886,     0.85986,     0.86086,     0.86186,     0.86286,     0.86386,\n",
              "           0.86486,     0.86587,     0.86687,     0.86787,     0.86887,     0.86987,     0.87087,     0.87187,     0.87287,     0.87387,     0.87487,     0.87588,     0.87688,     0.87788,     0.87888,     0.87988,     0.88088,     0.88188,     0.88288,     0.88388,     0.88488,     0.88589,     0.88689,     0.88789,\n",
              "           0.88889,     0.88989,     0.89089,     0.89189,     0.89289,     0.89389,     0.89489,      0.8959,      0.8969,      0.8979,      0.8989,      0.8999,      0.9009,      0.9019,      0.9029,      0.9039,      0.9049,     0.90591,     0.90691,     0.90791,     0.90891,     0.90991,     0.91091,     0.91191,\n",
              "           0.91291,     0.91391,     0.91491,     0.91592,     0.91692,     0.91792,     0.91892,     0.91992,     0.92092,     0.92192,     0.92292,     0.92392,     0.92492,     0.92593,     0.92693,     0.92793,     0.92893,     0.92993,     0.93093,     0.93193,     0.93293,     0.93393,     0.93493,     0.93594,\n",
              "           0.93694,     0.93794,     0.93894,     0.93994,     0.94094,     0.94194,     0.94294,     0.94394,     0.94494,     0.94595,     0.94695,     0.94795,     0.94895,     0.94995,     0.95095,     0.95195,     0.95295,     0.95395,     0.95495,     0.95596,     0.95696,     0.95796,     0.95896,     0.95996,\n",
              "           0.96096,     0.96196,     0.96296,     0.96396,     0.96496,     0.96597,     0.96697,     0.96797,     0.96897,     0.96997,     0.97097,     0.97197,     0.97297,     0.97397,     0.97497,     0.97598,     0.97698,     0.97798,     0.97898,     0.97998,     0.98098,     0.98198,     0.98298,     0.98398,\n",
              "           0.98498,     0.98599,     0.98699,     0.98799,     0.98899,     0.98999,     0.99099,     0.99199,     0.99299,     0.99399,     0.99499,       0.996,       0.997,       0.998,       0.999,           1]), array([[          1,           1,           1,           1,           1,           1,           1,           1,           1,           1,           1,           1,           1,           1,           1,           1,           1,           1,           1,           1,           1,           1,           1,\n",
              "                  1,           1,           1,           1,           1,           1,           1,           1,           1,           1,           1,           1,           1,           1,           1,           1,           1,           1,           1,           1,           1,           1,           1,\n",
              "                  1,           1,           1,           1,           1,           1,           1,           1,           1,           1,           1,           1,           1,           1,           1,           1,           1,           1,           1,           1,           1,           1,           1,\n",
              "                  1,           1,           1,           1,           1,           1,           1,           1,           1,           1,           1,           1,           1,           1,           1,           1,           1,           1,           1,           1,           1,           1,           1,\n",
              "                  1,           1,           1,           1,           1,           1,           1,           1,           1,           1,           1,           1,           1,           1,           1,           1,           1,           1,           1,           1,           1,           1,           1,\n",
              "                  1,           1,           1,           1,           1,           1,           1,           1,           1,           1,           1,           1,           1,           1,           1,           1,           1,           1,           1,           1,           1,           1,           1,\n",
              "                  1,           1,           1,           1,           1,           1,           1,           1,           1,           1,           1,           1,           1,           1,           1,           1,           1,           1,           1,           1,           1,           1,           1,\n",
              "                  1,           1,           1,           1,           1,           1,           1,           1,           1,           1,           1,           1,           1,           1,           1,           1,           1,           1,           1,           1,           1,           1,           1,\n",
              "                  1,           1,           1,           1,           1,           1,           1,           1,           1,           1,           1,           1,           1,           1,           1,           1,           1,           1,           1,           1,           1,           1,           1,\n",
              "                  1,           1,           1,           1,           1,           1,           1,           1,           1,           1,           1,           1,           1,           1,           1,           1,           1,           1,           1,           1,           1,           1,           1,\n",
              "                  1,           1,           1,           1,           1,           1,           1,           1,           1,           1,           1,           1,           1,           1,           1,           1,           1,           1,           1,           1,           1,           1,           1,\n",
              "                  1,           1,           1,           1,           1,           1,           1,           1,           1,           1,           1,           1,           1,           1,           1,           1,           1,           1,           1,           1,           1,           1,           1,\n",
              "                  1,           1,           1,           1,           1,           1,           1,           1,           1,           1,           1,           1,           1,           1,           1,           1,           1,           1,           1,           1,           1,           1,           1,\n",
              "                  1,           1,           1,           1,           1,           1,           1,           1,           1,           1,           1,           1,           1,           1,           1,           1,           1,           1,           1,           1,           1,           1,           1,\n",
              "                  1,           1,           1,           1,           1,           1,           1,           1,           1,           1,           1,           1,           1,           1,           1,           1,           1,           1,           1,           1,           1,           1,           1,\n",
              "                  1,           1,           1,           1,           1,           1,           1,           1,           1,           1,           1,           1,           1,           1,           1,           1,           1,           1,           1,           1,           1,           1,           1,\n",
              "                  1,           1,           1,           1,           1,           1,           1,           1,           1,           1,           1,           1,           1,           1,           1,           1,           1,           1,           1,           1,           1,           1,           1,\n",
              "                  1,           1,           1,           1,           1,           1,           1,           1,           1,           1,           1,           1,           1,           1,           1,           1,           1,           1,           1,           1,           1,           1,           1,\n",
              "                  1,           1,           1,           1,           1,           1,           1,           1,           1,           1,           1,           1,           1,           1,           1,           1,           1,           1,           1,           1,           1,           1,           1,\n",
              "                  1,           1,           1,           1,           1,           1,           1,           1,           1,           1,           1,           1,           1,           1,           1,           1,           1,           1,           1,           1,           1,           1,           1,\n",
              "                  1,           1,           1,           1,           1,           1,           1,           1,           1,           1,           1,           1,           1,           1,           1,           1,           1,           1,           1,           1,           1,           1,           1,\n",
              "                  1,           1,           1,           1,           1,           1,           1,           1,           1,           1,           1,           1,           1,           1,           1,           1,           1,           1,           1,           1,           1,           1,           1,\n",
              "                  1,           1,           1,           1,           1,           1,           1,           1,           1,           1,           1,           1,           1,           1,           1,           1,           1,           1,           1,           1,           1,           1,           1,\n",
              "                  1,           1,           1,           1,           1,           1,           1,           1,           1,           1,           1,           1,           1,           1,           1,           1,           1,           1,           1,           1,           1,           1,           1,\n",
              "                  1,           1,           1,           1,           1,           1,           1,           1,           1,           1,           1,           1,           1,           1,           1,           1,           1,           1,           1,           1,           1,           1,           1,\n",
              "                  1,           1,           1,           1,           1,           1,           1,           1,           1,           1,           1,           1,           1,           1,           1,           1,           1,           1,           1,           1,           1,           1,           1,\n",
              "                  1,           1,           1,           1,           1,           1,           1,           1,           1,           1,           1,           1,           1,           1,           1,           1,           1,           1,           1,           1,           1,           1,           1,\n",
              "                  1,           1,           1,           1,           1,           1,           1,           1,           1,           1,           1,           1,           1,           1,           1,           1,           1,           1,           1,           1,           1,           1,           1,\n",
              "                  1,           1,           1,           1,           1,           1,           1,           1,           1,           1,           1,           1,           1,           1,           1,           1,           1,           1,           1,           1,           1,           1,           1,\n",
              "                  1,           1,           1,           1,           1,           1,           1,           1,           1,           1,           1,           1,           1,           1,           1,           1,           1,           1,           1,           1,           1,           1,           1,\n",
              "                  1,           1,           1,           1,           1,           1,           1,           1,           1,           1,           1,           1,           1,           1,           1,           1,           1,           1,           1,           1,           1,           1,           1,\n",
              "                  1,           1,           1,           1,           1,           1,           1,           1,           1,           1,           1,           1,           1,           1,           1,           1,           1,           1,           1,           1,           1,           1,           1,\n",
              "                  1,           1,           1,           1,           1,           1,           1,           1,           1,           1,           1,           1,           1,           1,           1,           1,           1,           1,           1,           1,           1,           1,           1,\n",
              "                  1,           1,           1,           1,           1,           1,           1,           1,           1,           1,           1,           1,           1,           1,           1,           1,           1,           1,           1,           1,           1,           1,           1,\n",
              "                  1,           1,           1,           1,           1,           1,           1,           1,           1,           1,           1,           1,           1,           1,           1,           1,           1,           1,           1,           1,           1,           1,           1,\n",
              "                  1,           1,           1,           1,           1,           1,           1,           1,           1,           1,           1,           1,           1,           1,           1,           1,           1,           1,           1,           1,           1,           1,           1,\n",
              "                  1,           1,           1,           1,           1,           1,           1,           1,           1,           1,           1,           1,           1,           1,           1,           1,           1,           1,           1,           1,           1,           1,           1,\n",
              "                  1,           1,           1,           1,           1,           1,           1,           1,           1,           1,           1,           1,           1,           1,           1,           1,           1,           1,           1,           1,           1,           1,           1,\n",
              "                  1,           1,           1,           1,           1,           1,           1,           1,           1,           1,           1,           1,           1,           1,           1,           1,           1,           1,           1,           1,           1,           1,           1,\n",
              "                  1,           1,           1,           1,           1,           1,     0.99541,     0.99541,     0.99541,     0.99541,     0.99541,     0.99541,     0.99541,     0.99541,     0.98222,     0.98222,     0.98222,     0.98222,     0.98222,     0.98222,     0.98222,     0.98222,     0.98222,\n",
              "            0.98222,     0.98222,     0.98222,     0.98222,     0.98222,     0.98222,     0.98222,     0.98222,     0.97368,     0.97368,     0.97368,     0.97368,     0.96957,     0.96957,     0.96957,     0.96957,     0.96957,     0.96137,     0.96137,     0.96137,     0.96137,      0.9187,      0.9187,\n",
              "             0.9187,      0.9187,      0.9187,      0.9187,      0.9187,      0.9187,     0.91532,     0.91532,     0.91532,     0.91532,     0.89412,     0.89412,     0.89412,     0.89412,     0.89412,     0.85768,     0.85768,     0.85768,     0.85768,     0.85185,     0.85185,     0.85185,     0.85185,\n",
              "            0.84307,     0.84307,     0.84307,     0.84307,     0.84058,     0.84058,     0.84058,     0.84058,     0.77926,     0.77926,     0.77926,     0.77926,     0.77926,     0.68023,     0.68023,     0.68023,     0.68023,     0.50647,     0.50647,     0.50647,     0.50647,     0.48963,     0.48963,\n",
              "            0.48963,     0.48963,     0.15192,     0.15192,     0.15192,     0.15192,     0.13516,     0.10137,    0.067579,     0.03379,           0]]), 'Recall', 'Precision'], [array([          0,    0.001001,    0.002002,    0.003003,    0.004004,    0.005005,    0.006006,    0.007007,    0.008008,    0.009009,     0.01001,    0.011011,    0.012012,    0.013013,    0.014014,    0.015015,    0.016016,    0.017017,    0.018018,    0.019019,     0.02002,    0.021021,    0.022022,    0.023023,\n",
              "          0.024024,    0.025025,    0.026026,    0.027027,    0.028028,    0.029029,     0.03003,    0.031031,    0.032032,    0.033033,    0.034034,    0.035035,    0.036036,    0.037037,    0.038038,    0.039039,     0.04004,    0.041041,    0.042042,    0.043043,    0.044044,    0.045045,    0.046046,    0.047047,\n",
              "          0.048048,    0.049049,     0.05005,    0.051051,    0.052052,    0.053053,    0.054054,    0.055055,    0.056056,    0.057057,    0.058058,    0.059059,     0.06006,    0.061061,    0.062062,    0.063063,    0.064064,    0.065065,    0.066066,    0.067067,    0.068068,    0.069069,     0.07007,    0.071071,\n",
              "          0.072072,    0.073073,    0.074074,    0.075075,    0.076076,    0.077077,    0.078078,    0.079079,     0.08008,    0.081081,    0.082082,    0.083083,    0.084084,    0.085085,    0.086086,    0.087087,    0.088088,    0.089089,     0.09009,    0.091091,    0.092092,    0.093093,    0.094094,    0.095095,\n",
              "          0.096096,    0.097097,    0.098098,    0.099099,      0.1001,      0.1011,      0.1021,      0.1031,      0.1041,     0.10511,     0.10611,     0.10711,     0.10811,     0.10911,     0.11011,     0.11111,     0.11211,     0.11311,     0.11411,     0.11512,     0.11612,     0.11712,     0.11812,     0.11912,\n",
              "           0.12012,     0.12112,     0.12212,     0.12312,     0.12412,     0.12513,     0.12613,     0.12713,     0.12813,     0.12913,     0.13013,     0.13113,     0.13213,     0.13313,     0.13413,     0.13514,     0.13614,     0.13714,     0.13814,     0.13914,     0.14014,     0.14114,     0.14214,     0.14314,\n",
              "           0.14414,     0.14515,     0.14615,     0.14715,     0.14815,     0.14915,     0.15015,     0.15115,     0.15215,     0.15315,     0.15415,     0.15516,     0.15616,     0.15716,     0.15816,     0.15916,     0.16016,     0.16116,     0.16216,     0.16316,     0.16416,     0.16517,     0.16617,     0.16717,\n",
              "           0.16817,     0.16917,     0.17017,     0.17117,     0.17217,     0.17317,     0.17417,     0.17518,     0.17618,     0.17718,     0.17818,     0.17918,     0.18018,     0.18118,     0.18218,     0.18318,     0.18418,     0.18519,     0.18619,     0.18719,     0.18819,     0.18919,     0.19019,     0.19119,\n",
              "           0.19219,     0.19319,     0.19419,      0.1952,      0.1962,      0.1972,      0.1982,      0.1992,      0.2002,      0.2012,      0.2022,      0.2032,      0.2042,     0.20521,     0.20621,     0.20721,     0.20821,     0.20921,     0.21021,     0.21121,     0.21221,     0.21321,     0.21421,     0.21522,\n",
              "           0.21622,     0.21722,     0.21822,     0.21922,     0.22022,     0.22122,     0.22222,     0.22322,     0.22422,     0.22523,     0.22623,     0.22723,     0.22823,     0.22923,     0.23023,     0.23123,     0.23223,     0.23323,     0.23423,     0.23524,     0.23624,     0.23724,     0.23824,     0.23924,\n",
              "           0.24024,     0.24124,     0.24224,     0.24324,     0.24424,     0.24525,     0.24625,     0.24725,     0.24825,     0.24925,     0.25025,     0.25125,     0.25225,     0.25325,     0.25425,     0.25526,     0.25626,     0.25726,     0.25826,     0.25926,     0.26026,     0.26126,     0.26226,     0.26326,\n",
              "           0.26426,     0.26527,     0.26627,     0.26727,     0.26827,     0.26927,     0.27027,     0.27127,     0.27227,     0.27327,     0.27427,     0.27528,     0.27628,     0.27728,     0.27828,     0.27928,     0.28028,     0.28128,     0.28228,     0.28328,     0.28428,     0.28529,     0.28629,     0.28729,\n",
              "           0.28829,     0.28929,     0.29029,     0.29129,     0.29229,     0.29329,     0.29429,      0.2953,      0.2963,      0.2973,      0.2983,      0.2993,      0.3003,      0.3013,      0.3023,      0.3033,      0.3043,     0.30531,     0.30631,     0.30731,     0.30831,     0.30931,     0.31031,     0.31131,\n",
              "           0.31231,     0.31331,     0.31431,     0.31532,     0.31632,     0.31732,     0.31832,     0.31932,     0.32032,     0.32132,     0.32232,     0.32332,     0.32432,     0.32533,     0.32633,     0.32733,     0.32833,     0.32933,     0.33033,     0.33133,     0.33233,     0.33333,     0.33433,     0.33534,\n",
              "           0.33634,     0.33734,     0.33834,     0.33934,     0.34034,     0.34134,     0.34234,     0.34334,     0.34434,     0.34535,     0.34635,     0.34735,     0.34835,     0.34935,     0.35035,     0.35135,     0.35235,     0.35335,     0.35435,     0.35536,     0.35636,     0.35736,     0.35836,     0.35936,\n",
              "           0.36036,     0.36136,     0.36236,     0.36336,     0.36436,     0.36537,     0.36637,     0.36737,     0.36837,     0.36937,     0.37037,     0.37137,     0.37237,     0.37337,     0.37437,     0.37538,     0.37638,     0.37738,     0.37838,     0.37938,     0.38038,     0.38138,     0.38238,     0.38338,\n",
              "           0.38438,     0.38539,     0.38639,     0.38739,     0.38839,     0.38939,     0.39039,     0.39139,     0.39239,     0.39339,     0.39439,      0.3954,      0.3964,      0.3974,      0.3984,      0.3994,      0.4004,      0.4014,      0.4024,      0.4034,      0.4044,     0.40541,     0.40641,     0.40741,\n",
              "           0.40841,     0.40941,     0.41041,     0.41141,     0.41241,     0.41341,     0.41441,     0.41542,     0.41642,     0.41742,     0.41842,     0.41942,     0.42042,     0.42142,     0.42242,     0.42342,     0.42442,     0.42543,     0.42643,     0.42743,     0.42843,     0.42943,     0.43043,     0.43143,\n",
              "           0.43243,     0.43343,     0.43443,     0.43544,     0.43644,     0.43744,     0.43844,     0.43944,     0.44044,     0.44144,     0.44244,     0.44344,     0.44444,     0.44545,     0.44645,     0.44745,     0.44845,     0.44945,     0.45045,     0.45145,     0.45245,     0.45345,     0.45445,     0.45546,\n",
              "           0.45646,     0.45746,     0.45846,     0.45946,     0.46046,     0.46146,     0.46246,     0.46346,     0.46446,     0.46547,     0.46647,     0.46747,     0.46847,     0.46947,     0.47047,     0.47147,     0.47247,     0.47347,     0.47447,     0.47548,     0.47648,     0.47748,     0.47848,     0.47948,\n",
              "           0.48048,     0.48148,     0.48248,     0.48348,     0.48448,     0.48549,     0.48649,     0.48749,     0.48849,     0.48949,     0.49049,     0.49149,     0.49249,     0.49349,     0.49449,      0.4955,      0.4965,      0.4975,      0.4985,      0.4995,      0.5005,      0.5015,      0.5025,      0.5035,\n",
              "            0.5045,     0.50551,     0.50651,     0.50751,     0.50851,     0.50951,     0.51051,     0.51151,     0.51251,     0.51351,     0.51451,     0.51552,     0.51652,     0.51752,     0.51852,     0.51952,     0.52052,     0.52152,     0.52252,     0.52352,     0.52452,     0.52553,     0.52653,     0.52753,\n",
              "           0.52853,     0.52953,     0.53053,     0.53153,     0.53253,     0.53353,     0.53453,     0.53554,     0.53654,     0.53754,     0.53854,     0.53954,     0.54054,     0.54154,     0.54254,     0.54354,     0.54454,     0.54555,     0.54655,     0.54755,     0.54855,     0.54955,     0.55055,     0.55155,\n",
              "           0.55255,     0.55355,     0.55455,     0.55556,     0.55656,     0.55756,     0.55856,     0.55956,     0.56056,     0.56156,     0.56256,     0.56356,     0.56456,     0.56557,     0.56657,     0.56757,     0.56857,     0.56957,     0.57057,     0.57157,     0.57257,     0.57357,     0.57457,     0.57558,\n",
              "           0.57658,     0.57758,     0.57858,     0.57958,     0.58058,     0.58158,     0.58258,     0.58358,     0.58458,     0.58559,     0.58659,     0.58759,     0.58859,     0.58959,     0.59059,     0.59159,     0.59259,     0.59359,     0.59459,      0.5956,      0.5966,      0.5976,      0.5986,      0.5996,\n",
              "            0.6006,      0.6016,      0.6026,      0.6036,      0.6046,     0.60561,     0.60661,     0.60761,     0.60861,     0.60961,     0.61061,     0.61161,     0.61261,     0.61361,     0.61461,     0.61562,     0.61662,     0.61762,     0.61862,     0.61962,     0.62062,     0.62162,     0.62262,     0.62362,\n",
              "           0.62462,     0.62563,     0.62663,     0.62763,     0.62863,     0.62963,     0.63063,     0.63163,     0.63263,     0.63363,     0.63463,     0.63564,     0.63664,     0.63764,     0.63864,     0.63964,     0.64064,     0.64164,     0.64264,     0.64364,     0.64464,     0.64565,     0.64665,     0.64765,\n",
              "           0.64865,     0.64965,     0.65065,     0.65165,     0.65265,     0.65365,     0.65465,     0.65566,     0.65666,     0.65766,     0.65866,     0.65966,     0.66066,     0.66166,     0.66266,     0.66366,     0.66466,     0.66567,     0.66667,     0.66767,     0.66867,     0.66967,     0.67067,     0.67167,\n",
              "           0.67267,     0.67367,     0.67467,     0.67568,     0.67668,     0.67768,     0.67868,     0.67968,     0.68068,     0.68168,     0.68268,     0.68368,     0.68468,     0.68569,     0.68669,     0.68769,     0.68869,     0.68969,     0.69069,     0.69169,     0.69269,     0.69369,     0.69469,      0.6957,\n",
              "            0.6967,      0.6977,      0.6987,      0.6997,      0.7007,      0.7017,      0.7027,      0.7037,      0.7047,     0.70571,     0.70671,     0.70771,     0.70871,     0.70971,     0.71071,     0.71171,     0.71271,     0.71371,     0.71471,     0.71572,     0.71672,     0.71772,     0.71872,     0.71972,\n",
              "           0.72072,     0.72172,     0.72272,     0.72372,     0.72472,     0.72573,     0.72673,     0.72773,     0.72873,     0.72973,     0.73073,     0.73173,     0.73273,     0.73373,     0.73473,     0.73574,     0.73674,     0.73774,     0.73874,     0.73974,     0.74074,     0.74174,     0.74274,     0.74374,\n",
              "           0.74474,     0.74575,     0.74675,     0.74775,     0.74875,     0.74975,     0.75075,     0.75175,     0.75275,     0.75375,     0.75475,     0.75576,     0.75676,     0.75776,     0.75876,     0.75976,     0.76076,     0.76176,     0.76276,     0.76376,     0.76476,     0.76577,     0.76677,     0.76777,\n",
              "           0.76877,     0.76977,     0.77077,     0.77177,     0.77277,     0.77377,     0.77477,     0.77578,     0.77678,     0.77778,     0.77878,     0.77978,     0.78078,     0.78178,     0.78278,     0.78378,     0.78478,     0.78579,     0.78679,     0.78779,     0.78879,     0.78979,     0.79079,     0.79179,\n",
              "           0.79279,     0.79379,     0.79479,      0.7958,      0.7968,      0.7978,      0.7988,      0.7998,      0.8008,      0.8018,      0.8028,      0.8038,      0.8048,     0.80581,     0.80681,     0.80781,     0.80881,     0.80981,     0.81081,     0.81181,     0.81281,     0.81381,     0.81481,     0.81582,\n",
              "           0.81682,     0.81782,     0.81882,     0.81982,     0.82082,     0.82182,     0.82282,     0.82382,     0.82482,     0.82583,     0.82683,     0.82783,     0.82883,     0.82983,     0.83083,     0.83183,     0.83283,     0.83383,     0.83483,     0.83584,     0.83684,     0.83784,     0.83884,     0.83984,\n",
              "           0.84084,     0.84184,     0.84284,     0.84384,     0.84484,     0.84585,     0.84685,     0.84785,     0.84885,     0.84985,     0.85085,     0.85185,     0.85285,     0.85385,     0.85485,     0.85586,     0.85686,     0.85786,     0.85886,     0.85986,     0.86086,     0.86186,     0.86286,     0.86386,\n",
              "           0.86486,     0.86587,     0.86687,     0.86787,     0.86887,     0.86987,     0.87087,     0.87187,     0.87287,     0.87387,     0.87487,     0.87588,     0.87688,     0.87788,     0.87888,     0.87988,     0.88088,     0.88188,     0.88288,     0.88388,     0.88488,     0.88589,     0.88689,     0.88789,\n",
              "           0.88889,     0.88989,     0.89089,     0.89189,     0.89289,     0.89389,     0.89489,      0.8959,      0.8969,      0.8979,      0.8989,      0.8999,      0.9009,      0.9019,      0.9029,      0.9039,      0.9049,     0.90591,     0.90691,     0.90791,     0.90891,     0.90991,     0.91091,     0.91191,\n",
              "           0.91291,     0.91391,     0.91491,     0.91592,     0.91692,     0.91792,     0.91892,     0.91992,     0.92092,     0.92192,     0.92292,     0.92392,     0.92492,     0.92593,     0.92693,     0.92793,     0.92893,     0.92993,     0.93093,     0.93193,     0.93293,     0.93393,     0.93493,     0.93594,\n",
              "           0.93694,     0.93794,     0.93894,     0.93994,     0.94094,     0.94194,     0.94294,     0.94394,     0.94494,     0.94595,     0.94695,     0.94795,     0.94895,     0.94995,     0.95095,     0.95195,     0.95295,     0.95395,     0.95495,     0.95596,     0.95696,     0.95796,     0.95896,     0.95996,\n",
              "           0.96096,     0.96196,     0.96296,     0.96396,     0.96496,     0.96597,     0.96697,     0.96797,     0.96897,     0.96997,     0.97097,     0.97197,     0.97297,     0.97397,     0.97497,     0.97598,     0.97698,     0.97798,     0.97898,     0.97998,     0.98098,     0.98198,     0.98298,     0.98398,\n",
              "           0.98498,     0.98599,     0.98699,     0.98799,     0.98899,     0.98999,     0.99099,     0.99199,     0.99299,     0.99399,     0.99499,       0.996,       0.997,       0.998,       0.999,           1]), array([[     0.2483,      0.2483,      0.3393,     0.39828,     0.43809,     0.47447,     0.50442,     0.53143,     0.55233,     0.56589,     0.57986,      0.5898,      0.6076,     0.61927,     0.63281,     0.64174,     0.65219,      0.6597,     0.66613,     0.66766,     0.67749,     0.68508,     0.69488,\n",
              "            0.70137,     0.70661,     0.71243,      0.7182,     0.72215,     0.73056,     0.73759,     0.74136,     0.74766,     0.75194,     0.75456,     0.75885,     0.76247,     0.76662,     0.76969,     0.77366,     0.77931,     0.79068,     0.79488,     0.79794,     0.80034,     0.80146,      0.8039,\n",
              "            0.80267,     0.80373,     0.80832,     0.80998,      0.8147,     0.82352,     0.82411,      0.8247,      0.8293,     0.83158,     0.83526,     0.83557,     0.83588,     0.83618,     0.83649,     0.84274,     0.84341,     0.84409,     0.84763,     0.84943,     0.85033,     0.85312,     0.85468,\n",
              "            0.85584,      0.8568,     0.85754,     0.85825,     0.85872,     0.85919,     0.85966,     0.86017,      0.8607,     0.86122,     0.86302,      0.8644,     0.86546,     0.86574,     0.86603,     0.86639,     0.86674,      0.8671,     0.86933,     0.87239,     0.87342,     0.87547,     0.87632,\n",
              "            0.87714,      0.8775,     0.87786,     0.87822,     0.87858,      0.8789,     0.87916,     0.87942,     0.87969,     0.87995,     0.88021,     0.88222,     0.88336,     0.88522,     0.88578,      0.8861,     0.88643,     0.88675,     0.88707,     0.88812,       0.889,     0.88924,     0.88948,\n",
              "            0.88972,     0.88996,      0.8902,     0.89044,     0.89074,     0.89115,     0.89156,     0.89198,     0.89257,     0.89392,     0.89609,     0.89676,     0.89744,     0.89782,     0.89817,     0.89853,     0.89889,     0.89927,     0.90023,     0.90104,     0.90133,     0.90162,     0.90192,\n",
              "            0.90221,      0.9025,      0.9025,     0.90157,     0.90065,     0.90096,     0.90136,     0.90176,     0.90216,       0.902,     0.90138,     0.90075,     0.90027,     0.90085,     0.90143,     0.90199,     0.90233,     0.90268,     0.90303,     0.90337,     0.90372,      0.9042,     0.90468,\n",
              "            0.90517,     0.90511,     0.90375,     0.90375,     0.90432,     0.90488,     0.90543,     0.90598,     0.90652,     0.90684,      0.9065,     0.90615,      0.9058,     0.90545,      0.9051,     0.90661,     0.90825,     0.91025,     0.91046,     0.91067,     0.91088,     0.91109,      0.9113,\n",
              "            0.91151,     0.91172,     0.91193,     0.91209,     0.91222,     0.91235,     0.91248,     0.91261,     0.91274,     0.91287,       0.913,     0.91313,     0.91326,     0.91339,     0.91352,     0.91365,     0.91378,     0.91944,      0.9218,     0.92316,     0.92418,     0.92406,     0.92288,\n",
              "            0.92306,     0.92324,     0.92342,      0.9236,     0.92378,     0.92395,     0.92413,     0.92431,     0.92449,     0.92473,      0.9253,     0.92588,     0.92645,     0.92883,     0.92965,     0.93037,      0.9306,     0.93084,     0.93107,     0.93131,     0.93154,     0.93177,     0.93201,\n",
              "            0.93224,     0.93263,     0.93303,     0.93342,     0.93381,     0.93402,     0.93296,     0.93198,     0.93237,     0.93275,     0.93314,     0.93352,     0.93387,     0.93366,     0.93344,     0.93323,     0.93301,      0.9328,     0.93258,     0.93236,     0.93215,     0.93193,     0.93172,\n",
              "            0.93158,     0.93146,     0.93135,     0.93123,     0.93111,     0.93099,     0.93087,     0.93076,     0.93064,     0.93052,      0.9304,     0.93028,     0.93017,     0.93005,     0.92993,     0.92981,     0.92969,     0.92958,     0.92948,     0.93009,      0.9307,     0.93131,     0.93157,\n",
              "            0.93178,     0.93199,      0.9322,     0.93241,     0.93262,     0.93283,     0.93304,     0.93325,     0.93349,     0.93376,     0.93402,     0.93429,     0.93456,     0.93482,     0.93509,      0.9353,     0.93536,     0.93543,     0.93549,     0.93555,     0.93562,     0.93568,     0.93575,\n",
              "            0.93581,     0.93587,     0.93594,       0.936,     0.93606,     0.93613,     0.93619,     0.93626,     0.93632,     0.93638,     0.93645,     0.93651,     0.93657,     0.93664,      0.9367,     0.93676,     0.93683,     0.93689,     0.93696,     0.93702,     0.93708,     0.93715,     0.93721,\n",
              "            0.93738,     0.93764,      0.9379,     0.93816,     0.93842,     0.93868,     0.93894,      0.9392,     0.93993,     0.94066,     0.94121,     0.94134,     0.94147,      0.9416,     0.94172,     0.94185,     0.94198,      0.9421,     0.94223,     0.94236,     0.94248,     0.94261,     0.94274,\n",
              "            0.94287,     0.94299,     0.94312,     0.94331,     0.94353,     0.94375,     0.94397,     0.94419,     0.94441,     0.94463,     0.94485,     0.94507,     0.94551,     0.94606,     0.94661,     0.94715,     0.94733,     0.94752,     0.94771,      0.9479,     0.94808,     0.94827,     0.94846,\n",
              "            0.94864,     0.94883,     0.94902,     0.95114,     0.95103,     0.95092,     0.95081,      0.9507,     0.95059,     0.95048,     0.95037,     0.95026,     0.95015,     0.95004,     0.94993,     0.94982,     0.94971,     0.94959,     0.94948,     0.94937,     0.94926,     0.94915,     0.94904,\n",
              "            0.94894,     0.94903,     0.94911,      0.9492,     0.94929,     0.94937,     0.94946,     0.94954,     0.94963,     0.94972,      0.9498,     0.94989,     0.94998,     0.95006,     0.95015,     0.95024,     0.95032,     0.95041,      0.9505,     0.95058,     0.95067,     0.95075,     0.95084,\n",
              "            0.95093,     0.95112,     0.95138,     0.95164,      0.9519,     0.95216,     0.95242,     0.95268,     0.95294,     0.95282,      0.9526,     0.95239,     0.95218,     0.95196,     0.95175,     0.95154,     0.95132,     0.95111,     0.95089,      0.9508,     0.95097,     0.95113,      0.9513,\n",
              "            0.95146,     0.95162,     0.95179,     0.95195,     0.95212,     0.95228,     0.95244,     0.95261,     0.95277,     0.95267,     0.95253,     0.95239,     0.95225,     0.95212,     0.95198,     0.95184,      0.9517,     0.95157,     0.95143,     0.95129,     0.95115,     0.95101,     0.95088,\n",
              "            0.95074,      0.9506,     0.95092,     0.95162,     0.95232,     0.95262,     0.95268,     0.95274,      0.9528,     0.95287,     0.95293,     0.95299,     0.95305,     0.95311,     0.95317,     0.95323,     0.95329,     0.95335,     0.95341,     0.95347,     0.95353,     0.95359,     0.95365,\n",
              "            0.95371,     0.95377,     0.95383,     0.95389,     0.95395,     0.95401,     0.95407,     0.95413,     0.95419,     0.95425,     0.95431,     0.95437,     0.95443,     0.95449,     0.95455,     0.95461,      0.9546,      0.9545,      0.9544,     0.95431,     0.95421,     0.95412,     0.95402,\n",
              "            0.95392,     0.95383,     0.95373,     0.95363,     0.95354,     0.95344,     0.95334,     0.95325,     0.95315,     0.95305,     0.95296,     0.95286,     0.95276,     0.95267,     0.95257,     0.95247,     0.95237,     0.95219,     0.95201,     0.95183,     0.95165,     0.95148,      0.9513,\n",
              "            0.95112,     0.95094,     0.95076,     0.95058,      0.9504,     0.95022,     0.94922,     0.94778,     0.94765,     0.94753,     0.94741,     0.94728,     0.94716,     0.94704,     0.94691,     0.94679,     0.94666,     0.94654,     0.94642,     0.94629,     0.94617,     0.94605,     0.94592,\n",
              "             0.9458,     0.94567,     0.94555,     0.94594,     0.94641,     0.94688,     0.94735,     0.94861,     0.95074,      0.9516,      0.9513,     0.95101,     0.95071,     0.95042,     0.95012,     0.94983,     0.94953,     0.94941,     0.94936,      0.9493,     0.94925,     0.94919,     0.94914,\n",
              "            0.94908,     0.94903,     0.94898,     0.94892,     0.94887,     0.94881,     0.94876,      0.9487,     0.94865,     0.94859,     0.94854,     0.94849,     0.94843,     0.94838,     0.94832,     0.94827,     0.94821,     0.94816,      0.9481,     0.94805,     0.94799,     0.94794,     0.94789,\n",
              "            0.94783,     0.94778,     0.94772,     0.94767,     0.94761,     0.94756,      0.9475,     0.94745,     0.94739,     0.94734,     0.94729,     0.94723,     0.94718,     0.94922,     0.94918,     0.94914,     0.94911,     0.94907,     0.94903,     0.94899,     0.94896,     0.94892,     0.94888,\n",
              "            0.94885,     0.94881,     0.94877,     0.94873,      0.9487,     0.94866,     0.94862,     0.94858,     0.94855,     0.94851,     0.94847,     0.94844,      0.9484,     0.94836,     0.94832,     0.94829,     0.94825,     0.94821,     0.94818,     0.94814,      0.9481,     0.94806,     0.94803,\n",
              "            0.94799,     0.94795,     0.94791,     0.94788,     0.94784,      0.9478,     0.94777,     0.94773,     0.94769,     0.94765,     0.94762,     0.94758,     0.94754,     0.94751,     0.94747,     0.94743,     0.94739,     0.94736,     0.94732,     0.94728,     0.94724,     0.94721,     0.94717,\n",
              "            0.94713,     0.94709,     0.94706,     0.94702,     0.94698,     0.94695,     0.94691,     0.94668,     0.94641,     0.94615,     0.94588,     0.94562,     0.94535,     0.94508,     0.94482,     0.94453,       0.944,     0.94347,     0.94293,      0.9424,     0.94114,     0.93984,     0.93974,\n",
              "            0.93963,     0.93952,     0.93941,     0.93931,      0.9392,     0.93909,     0.93898,     0.93887,     0.93877,     0.93866,     0.93855,     0.93844,     0.93834,     0.93823,     0.93812,     0.93801,      0.9379,      0.9378,     0.93769,     0.93758,     0.93737,     0.93689,      0.9364,\n",
              "            0.93591,     0.93542,     0.93505,     0.93487,     0.93469,     0.93451,     0.93433,     0.93415,     0.93397,     0.93379,      0.9336,     0.93342,     0.93324,     0.93306,     0.93288,     0.93023,     0.92974,     0.92925,     0.92875,     0.92826,     0.92627,     0.92491,     0.92419,\n",
              "            0.92348,     0.92009,     0.91883,     0.91801,     0.91765,     0.91729,     0.91693,     0.91657,      0.9162,     0.91584,     0.91406,     0.91275,     0.91202,     0.91129,     0.91072,     0.91061,     0.91049,     0.91038,     0.91026,     0.91014,     0.91003,     0.90991,     0.90979,\n",
              "            0.90968,     0.90956,     0.90945,     0.90933,     0.90921,      0.9091,     0.90898,     0.90886,     0.90875,     0.90863,     0.90851,      0.9084,     0.90828,     0.90785,     0.90733,     0.90682,      0.9063,     0.90579,       0.903,     0.90275,      0.9025,     0.90226,     0.90201,\n",
              "            0.90176,     0.90152,     0.90127,     0.90102,     0.90077,     0.89726,     0.89595,     0.89464,     0.89332,       0.892,     0.89068,     0.88565,     0.88187,     0.88097,     0.88007,     0.87636,     0.87527,     0.87383,     0.87202,     0.87111,     0.87019,     0.86919,     0.86735,\n",
              "            0.86317,      0.8611,     0.86089,     0.86067,     0.86046,     0.86024,     0.86003,     0.85981,      0.8596,     0.85938,     0.85917,     0.85895,     0.85874,     0.85852,     0.85812,     0.85772,     0.85732,     0.85692,     0.85652,     0.85611,     0.85497,     0.85177,     0.84691,\n",
              "            0.84448,     0.84366,     0.84284,     0.84201,     0.84092,     0.83976,     0.83797,     0.83506,     0.83006,     0.82908,      0.8281,     0.82701,     0.82583,     0.82462,     0.82314,      0.8216,      0.8196,     0.81838,     0.81763,     0.81688,     0.81613,     0.81482,     0.81331,\n",
              "            0.81061,     0.80647,     0.80579,     0.80511,     0.80442,     0.80275,      0.7983,     0.79345,     0.79188,     0.78867,     0.78402,     0.77913,     0.77849,     0.77784,      0.7772,     0.77656,     0.76877,      0.7653,     0.76205,     0.75659,     0.75437,     0.75124,      0.7488,\n",
              "            0.74614,     0.74143,      0.7278,     0.72335,     0.72218,     0.72101,     0.71863,     0.71509,     0.70802,     0.70442,     0.69502,     0.68764,     0.68264,     0.67889,     0.66584,     0.66106,      0.6533,     0.64311,     0.64046,     0.63052,     0.62849,     0.61923,     0.61649,\n",
              "            0.60043,     0.59195,      0.5785,     0.57726,     0.57601,     0.57026,     0.56584,     0.55704,     0.54845,     0.54618,      0.5381,     0.52428,     0.51135,     0.50528,     0.49225,     0.48252,     0.47585,     0.46018,     0.45506,     0.42984,     0.42576,     0.41362,     0.40271,\n",
              "            0.37517,     0.35808,     0.34967,     0.34033,     0.32838,     0.31117,     0.30396,     0.29148,     0.27257,     0.26595,     0.25466,     0.24615,      0.2129,      0.2048,     0.17494,     0.17135,     0.16724,     0.16241,      0.1587,     0.15504,     0.14045,     0.13298,     0.12562,\n",
              "            0.12056,     0.10312,    0.099236,    0.093351,    0.086205,    0.083045,    0.076787,    0.069851,    0.065832,    0.062445,    0.059206,    0.055659,     0.05158,    0.048333,     0.04628,    0.044223,    0.042161,    0.039461,    0.036145,    0.032948,    0.031432,    0.029914,    0.028393,\n",
              "            0.02687,    0.025344,    0.020931,    0.012539,           0,           0,           0,           0,           0,           0,           0,           0,           0,           0,           0,           0,           0,           0,           0,           0,           0,           0,           0,\n",
              "                  0,           0,           0,           0,           0,           0,           0,           0,           0,           0,           0]]), 'Confidence', 'F1'], [array([          0,    0.001001,    0.002002,    0.003003,    0.004004,    0.005005,    0.006006,    0.007007,    0.008008,    0.009009,     0.01001,    0.011011,    0.012012,    0.013013,    0.014014,    0.015015,    0.016016,    0.017017,    0.018018,    0.019019,     0.02002,    0.021021,    0.022022,    0.023023,\n",
              "          0.024024,    0.025025,    0.026026,    0.027027,    0.028028,    0.029029,     0.03003,    0.031031,    0.032032,    0.033033,    0.034034,    0.035035,    0.036036,    0.037037,    0.038038,    0.039039,     0.04004,    0.041041,    0.042042,    0.043043,    0.044044,    0.045045,    0.046046,    0.047047,\n",
              "          0.048048,    0.049049,     0.05005,    0.051051,    0.052052,    0.053053,    0.054054,    0.055055,    0.056056,    0.057057,    0.058058,    0.059059,     0.06006,    0.061061,    0.062062,    0.063063,    0.064064,    0.065065,    0.066066,    0.067067,    0.068068,    0.069069,     0.07007,    0.071071,\n",
              "          0.072072,    0.073073,    0.074074,    0.075075,    0.076076,    0.077077,    0.078078,    0.079079,     0.08008,    0.081081,    0.082082,    0.083083,    0.084084,    0.085085,    0.086086,    0.087087,    0.088088,    0.089089,     0.09009,    0.091091,    0.092092,    0.093093,    0.094094,    0.095095,\n",
              "          0.096096,    0.097097,    0.098098,    0.099099,      0.1001,      0.1011,      0.1021,      0.1031,      0.1041,     0.10511,     0.10611,     0.10711,     0.10811,     0.10911,     0.11011,     0.11111,     0.11211,     0.11311,     0.11411,     0.11512,     0.11612,     0.11712,     0.11812,     0.11912,\n",
              "           0.12012,     0.12112,     0.12212,     0.12312,     0.12412,     0.12513,     0.12613,     0.12713,     0.12813,     0.12913,     0.13013,     0.13113,     0.13213,     0.13313,     0.13413,     0.13514,     0.13614,     0.13714,     0.13814,     0.13914,     0.14014,     0.14114,     0.14214,     0.14314,\n",
              "           0.14414,     0.14515,     0.14615,     0.14715,     0.14815,     0.14915,     0.15015,     0.15115,     0.15215,     0.15315,     0.15415,     0.15516,     0.15616,     0.15716,     0.15816,     0.15916,     0.16016,     0.16116,     0.16216,     0.16316,     0.16416,     0.16517,     0.16617,     0.16717,\n",
              "           0.16817,     0.16917,     0.17017,     0.17117,     0.17217,     0.17317,     0.17417,     0.17518,     0.17618,     0.17718,     0.17818,     0.17918,     0.18018,     0.18118,     0.18218,     0.18318,     0.18418,     0.18519,     0.18619,     0.18719,     0.18819,     0.18919,     0.19019,     0.19119,\n",
              "           0.19219,     0.19319,     0.19419,      0.1952,      0.1962,      0.1972,      0.1982,      0.1992,      0.2002,      0.2012,      0.2022,      0.2032,      0.2042,     0.20521,     0.20621,     0.20721,     0.20821,     0.20921,     0.21021,     0.21121,     0.21221,     0.21321,     0.21421,     0.21522,\n",
              "           0.21622,     0.21722,     0.21822,     0.21922,     0.22022,     0.22122,     0.22222,     0.22322,     0.22422,     0.22523,     0.22623,     0.22723,     0.22823,     0.22923,     0.23023,     0.23123,     0.23223,     0.23323,     0.23423,     0.23524,     0.23624,     0.23724,     0.23824,     0.23924,\n",
              "           0.24024,     0.24124,     0.24224,     0.24324,     0.24424,     0.24525,     0.24625,     0.24725,     0.24825,     0.24925,     0.25025,     0.25125,     0.25225,     0.25325,     0.25425,     0.25526,     0.25626,     0.25726,     0.25826,     0.25926,     0.26026,     0.26126,     0.26226,     0.26326,\n",
              "           0.26426,     0.26527,     0.26627,     0.26727,     0.26827,     0.26927,     0.27027,     0.27127,     0.27227,     0.27327,     0.27427,     0.27528,     0.27628,     0.27728,     0.27828,     0.27928,     0.28028,     0.28128,     0.28228,     0.28328,     0.28428,     0.28529,     0.28629,     0.28729,\n",
              "           0.28829,     0.28929,     0.29029,     0.29129,     0.29229,     0.29329,     0.29429,      0.2953,      0.2963,      0.2973,      0.2983,      0.2993,      0.3003,      0.3013,      0.3023,      0.3033,      0.3043,     0.30531,     0.30631,     0.30731,     0.30831,     0.30931,     0.31031,     0.31131,\n",
              "           0.31231,     0.31331,     0.31431,     0.31532,     0.31632,     0.31732,     0.31832,     0.31932,     0.32032,     0.32132,     0.32232,     0.32332,     0.32432,     0.32533,     0.32633,     0.32733,     0.32833,     0.32933,     0.33033,     0.33133,     0.33233,     0.33333,     0.33433,     0.33534,\n",
              "           0.33634,     0.33734,     0.33834,     0.33934,     0.34034,     0.34134,     0.34234,     0.34334,     0.34434,     0.34535,     0.34635,     0.34735,     0.34835,     0.34935,     0.35035,     0.35135,     0.35235,     0.35335,     0.35435,     0.35536,     0.35636,     0.35736,     0.35836,     0.35936,\n",
              "           0.36036,     0.36136,     0.36236,     0.36336,     0.36436,     0.36537,     0.36637,     0.36737,     0.36837,     0.36937,     0.37037,     0.37137,     0.37237,     0.37337,     0.37437,     0.37538,     0.37638,     0.37738,     0.37838,     0.37938,     0.38038,     0.38138,     0.38238,     0.38338,\n",
              "           0.38438,     0.38539,     0.38639,     0.38739,     0.38839,     0.38939,     0.39039,     0.39139,     0.39239,     0.39339,     0.39439,      0.3954,      0.3964,      0.3974,      0.3984,      0.3994,      0.4004,      0.4014,      0.4024,      0.4034,      0.4044,     0.40541,     0.40641,     0.40741,\n",
              "           0.40841,     0.40941,     0.41041,     0.41141,     0.41241,     0.41341,     0.41441,     0.41542,     0.41642,     0.41742,     0.41842,     0.41942,     0.42042,     0.42142,     0.42242,     0.42342,     0.42442,     0.42543,     0.42643,     0.42743,     0.42843,     0.42943,     0.43043,     0.43143,\n",
              "           0.43243,     0.43343,     0.43443,     0.43544,     0.43644,     0.43744,     0.43844,     0.43944,     0.44044,     0.44144,     0.44244,     0.44344,     0.44444,     0.44545,     0.44645,     0.44745,     0.44845,     0.44945,     0.45045,     0.45145,     0.45245,     0.45345,     0.45445,     0.45546,\n",
              "           0.45646,     0.45746,     0.45846,     0.45946,     0.46046,     0.46146,     0.46246,     0.46346,     0.46446,     0.46547,     0.46647,     0.46747,     0.46847,     0.46947,     0.47047,     0.47147,     0.47247,     0.47347,     0.47447,     0.47548,     0.47648,     0.47748,     0.47848,     0.47948,\n",
              "           0.48048,     0.48148,     0.48248,     0.48348,     0.48448,     0.48549,     0.48649,     0.48749,     0.48849,     0.48949,     0.49049,     0.49149,     0.49249,     0.49349,     0.49449,      0.4955,      0.4965,      0.4975,      0.4985,      0.4995,      0.5005,      0.5015,      0.5025,      0.5035,\n",
              "            0.5045,     0.50551,     0.50651,     0.50751,     0.50851,     0.50951,     0.51051,     0.51151,     0.51251,     0.51351,     0.51451,     0.51552,     0.51652,     0.51752,     0.51852,     0.51952,     0.52052,     0.52152,     0.52252,     0.52352,     0.52452,     0.52553,     0.52653,     0.52753,\n",
              "           0.52853,     0.52953,     0.53053,     0.53153,     0.53253,     0.53353,     0.53453,     0.53554,     0.53654,     0.53754,     0.53854,     0.53954,     0.54054,     0.54154,     0.54254,     0.54354,     0.54454,     0.54555,     0.54655,     0.54755,     0.54855,     0.54955,     0.55055,     0.55155,\n",
              "           0.55255,     0.55355,     0.55455,     0.55556,     0.55656,     0.55756,     0.55856,     0.55956,     0.56056,     0.56156,     0.56256,     0.56356,     0.56456,     0.56557,     0.56657,     0.56757,     0.56857,     0.56957,     0.57057,     0.57157,     0.57257,     0.57357,     0.57457,     0.57558,\n",
              "           0.57658,     0.57758,     0.57858,     0.57958,     0.58058,     0.58158,     0.58258,     0.58358,     0.58458,     0.58559,     0.58659,     0.58759,     0.58859,     0.58959,     0.59059,     0.59159,     0.59259,     0.59359,     0.59459,      0.5956,      0.5966,      0.5976,      0.5986,      0.5996,\n",
              "            0.6006,      0.6016,      0.6026,      0.6036,      0.6046,     0.60561,     0.60661,     0.60761,     0.60861,     0.60961,     0.61061,     0.61161,     0.61261,     0.61361,     0.61461,     0.61562,     0.61662,     0.61762,     0.61862,     0.61962,     0.62062,     0.62162,     0.62262,     0.62362,\n",
              "           0.62462,     0.62563,     0.62663,     0.62763,     0.62863,     0.62963,     0.63063,     0.63163,     0.63263,     0.63363,     0.63463,     0.63564,     0.63664,     0.63764,     0.63864,     0.63964,     0.64064,     0.64164,     0.64264,     0.64364,     0.64464,     0.64565,     0.64665,     0.64765,\n",
              "           0.64865,     0.64965,     0.65065,     0.65165,     0.65265,     0.65365,     0.65465,     0.65566,     0.65666,     0.65766,     0.65866,     0.65966,     0.66066,     0.66166,     0.66266,     0.66366,     0.66466,     0.66567,     0.66667,     0.66767,     0.66867,     0.66967,     0.67067,     0.67167,\n",
              "           0.67267,     0.67367,     0.67467,     0.67568,     0.67668,     0.67768,     0.67868,     0.67968,     0.68068,     0.68168,     0.68268,     0.68368,     0.68468,     0.68569,     0.68669,     0.68769,     0.68869,     0.68969,     0.69069,     0.69169,     0.69269,     0.69369,     0.69469,      0.6957,\n",
              "            0.6967,      0.6977,      0.6987,      0.6997,      0.7007,      0.7017,      0.7027,      0.7037,      0.7047,     0.70571,     0.70671,     0.70771,     0.70871,     0.70971,     0.71071,     0.71171,     0.71271,     0.71371,     0.71471,     0.71572,     0.71672,     0.71772,     0.71872,     0.71972,\n",
              "           0.72072,     0.72172,     0.72272,     0.72372,     0.72472,     0.72573,     0.72673,     0.72773,     0.72873,     0.72973,     0.73073,     0.73173,     0.73273,     0.73373,     0.73473,     0.73574,     0.73674,     0.73774,     0.73874,     0.73974,     0.74074,     0.74174,     0.74274,     0.74374,\n",
              "           0.74474,     0.74575,     0.74675,     0.74775,     0.74875,     0.74975,     0.75075,     0.75175,     0.75275,     0.75375,     0.75475,     0.75576,     0.75676,     0.75776,     0.75876,     0.75976,     0.76076,     0.76176,     0.76276,     0.76376,     0.76476,     0.76577,     0.76677,     0.76777,\n",
              "           0.76877,     0.76977,     0.77077,     0.77177,     0.77277,     0.77377,     0.77477,     0.77578,     0.77678,     0.77778,     0.77878,     0.77978,     0.78078,     0.78178,     0.78278,     0.78378,     0.78478,     0.78579,     0.78679,     0.78779,     0.78879,     0.78979,     0.79079,     0.79179,\n",
              "           0.79279,     0.79379,     0.79479,      0.7958,      0.7968,      0.7978,      0.7988,      0.7998,      0.8008,      0.8018,      0.8028,      0.8038,      0.8048,     0.80581,     0.80681,     0.80781,     0.80881,     0.80981,     0.81081,     0.81181,     0.81281,     0.81381,     0.81481,     0.81582,\n",
              "           0.81682,     0.81782,     0.81882,     0.81982,     0.82082,     0.82182,     0.82282,     0.82382,     0.82482,     0.82583,     0.82683,     0.82783,     0.82883,     0.82983,     0.83083,     0.83183,     0.83283,     0.83383,     0.83483,     0.83584,     0.83684,     0.83784,     0.83884,     0.83984,\n",
              "           0.84084,     0.84184,     0.84284,     0.84384,     0.84484,     0.84585,     0.84685,     0.84785,     0.84885,     0.84985,     0.85085,     0.85185,     0.85285,     0.85385,     0.85485,     0.85586,     0.85686,     0.85786,     0.85886,     0.85986,     0.86086,     0.86186,     0.86286,     0.86386,\n",
              "           0.86486,     0.86587,     0.86687,     0.86787,     0.86887,     0.86987,     0.87087,     0.87187,     0.87287,     0.87387,     0.87487,     0.87588,     0.87688,     0.87788,     0.87888,     0.87988,     0.88088,     0.88188,     0.88288,     0.88388,     0.88488,     0.88589,     0.88689,     0.88789,\n",
              "           0.88889,     0.88989,     0.89089,     0.89189,     0.89289,     0.89389,     0.89489,      0.8959,      0.8969,      0.8979,      0.8989,      0.8999,      0.9009,      0.9019,      0.9029,      0.9039,      0.9049,     0.90591,     0.90691,     0.90791,     0.90891,     0.90991,     0.91091,     0.91191,\n",
              "           0.91291,     0.91391,     0.91491,     0.91592,     0.91692,     0.91792,     0.91892,     0.91992,     0.92092,     0.92192,     0.92292,     0.92392,     0.92492,     0.92593,     0.92693,     0.92793,     0.92893,     0.92993,     0.93093,     0.93193,     0.93293,     0.93393,     0.93493,     0.93594,\n",
              "           0.93694,     0.93794,     0.93894,     0.93994,     0.94094,     0.94194,     0.94294,     0.94394,     0.94494,     0.94595,     0.94695,     0.94795,     0.94895,     0.94995,     0.95095,     0.95195,     0.95295,     0.95395,     0.95495,     0.95596,     0.95696,     0.95796,     0.95896,     0.95996,\n",
              "           0.96096,     0.96196,     0.96296,     0.96396,     0.96496,     0.96597,     0.96697,     0.96797,     0.96897,     0.96997,     0.97097,     0.97197,     0.97297,     0.97397,     0.97497,     0.97598,     0.97698,     0.97798,     0.97898,     0.97998,     0.98098,     0.98198,     0.98298,     0.98398,\n",
              "           0.98498,     0.98599,     0.98699,     0.98799,     0.98899,     0.98999,     0.99099,     0.99199,     0.99299,     0.99399,     0.99499,       0.996,       0.997,       0.998,       0.999,           1]), array([[    0.14183,     0.14183,     0.20467,     0.24918,     0.28115,     0.31184,     0.33824,     0.36298,     0.38276,     0.39591,     0.40973,     0.41972,     0.43799,     0.45022,     0.46468,     0.47438,     0.48588,     0.49532,      0.5026,     0.50545,      0.5168,     0.52568,     0.53732,\n",
              "            0.54512,     0.55148,      0.5586,     0.56572,     0.57064,     0.58121,     0.59016,     0.59501,     0.60316,     0.60876,     0.61219,     0.61786,     0.62268,     0.62823,     0.63238,     0.63775,     0.64547,     0.66121,      0.6671,     0.67143,     0.67484,     0.67643,     0.68013,\n",
              "            0.67957,     0.68169,     0.68833,     0.69073,     0.69763,     0.71066,     0.71154,     0.71242,     0.71932,     0.72275,     0.72834,      0.7288,     0.72927,     0.72973,      0.7302,     0.73977,     0.74082,     0.74186,     0.74735,     0.75015,     0.75156,     0.75593,     0.75838,\n",
              "            0.76021,     0.76173,      0.7629,     0.76402,     0.76477,     0.76552,     0.76627,     0.76708,     0.76791,     0.76874,     0.77161,     0.77382,     0.77552,     0.77855,      0.7791,     0.77968,     0.78026,     0.78084,     0.78447,     0.78945,     0.79115,     0.79452,     0.79592,\n",
              "            0.79728,     0.79787,     0.79847,     0.79906,     0.79965,     0.80018,     0.80062,     0.80106,     0.80149,     0.80193,     0.80236,      0.8057,     0.80762,     0.81073,     0.81167,     0.81221,     0.81275,      0.8133,     0.81384,     0.81561,     0.81709,      0.8175,      0.8179,\n",
              "            0.81831,     0.81871,     0.81912,     0.81952,     0.82003,     0.82073,     0.82143,     0.82213,     0.82315,     0.82543,     0.82914,      0.8303,     0.83146,     0.83211,     0.83272,     0.83334,     0.83395,     0.83462,     0.83627,     0.83766,     0.83817,     0.83867,     0.83918,\n",
              "            0.83969,      0.8402,     0.84052,     0.84027,     0.84002,     0.84065,     0.84135,     0.84205,     0.84274,     0.84297,     0.84281,     0.84264,     0.84262,     0.84363,     0.84465,     0.84564,     0.84624,     0.84685,     0.84746,     0.84807,     0.84868,     0.84953,     0.85039,\n",
              "            0.85125,     0.85175,      0.8514,     0.85201,     0.85302,     0.85402,       0.855,     0.85598,     0.85695,     0.85766,     0.85757,     0.85748,      0.8574,     0.85731,     0.85723,     0.86046,     0.86343,     0.86704,     0.86743,     0.86781,     0.86819,     0.86857,     0.86895,\n",
              "            0.86934,     0.86972,      0.8701,     0.87039,     0.87062,     0.87086,      0.8711,     0.87134,     0.87158,     0.87181,     0.87205,     0.87229,     0.87253,     0.87276,       0.873,     0.87324,     0.87348,     0.88389,     0.88824,     0.89077,     0.89268,     0.89395,     0.89392,\n",
              "            0.89425,     0.89459,     0.89493,     0.89526,      0.8956,     0.89594,     0.89627,     0.89661,     0.89695,      0.8974,     0.89848,     0.89956,     0.90064,     0.90515,     0.90671,     0.90808,     0.90852,     0.90897,     0.90942,     0.90986,     0.91031,     0.91076,      0.9112,\n",
              "            0.91165,      0.9124,     0.91316,     0.91391,     0.91467,      0.9153,     0.91514,     0.91502,     0.91576,     0.91651,     0.91725,       0.918,      0.9187,     0.91867,     0.91863,      0.9186,     0.91857,     0.91854,      0.9185,     0.91847,     0.91844,     0.91841,     0.91837,\n",
              "            0.91835,     0.91834,     0.91832,      0.9183,     0.91828,     0.91826,     0.91825,     0.91823,     0.91821,     0.91819,     0.91817,     0.91816,     0.91814,     0.91812,      0.9181,     0.91809,     0.91807,     0.91805,     0.91807,     0.91926,     0.92045,     0.92164,     0.92216,\n",
              "            0.92258,     0.92299,      0.9234,     0.92381,     0.92422,     0.92463,     0.92504,     0.92545,     0.92593,     0.92646,     0.92698,     0.92751,     0.92803,     0.92856,     0.92908,      0.9295,     0.92962,     0.92975,     0.92987,        0.93,     0.93013,     0.93025,     0.93038,\n",
              "             0.9305,     0.93063,     0.93076,     0.93088,     0.93101,     0.93113,     0.93126,     0.93139,     0.93151,     0.93164,     0.93176,     0.93189,     0.93202,     0.93214,     0.93227,     0.93239,     0.93252,     0.93265,     0.93277,      0.9329,     0.93302,     0.93315,     0.93328,\n",
              "            0.93361,     0.93413,     0.93465,     0.93516,     0.93568,      0.9362,     0.93671,     0.93723,     0.93868,     0.94015,     0.94125,     0.94151,     0.94176,     0.94202,     0.94227,     0.94253,     0.94278,     0.94303,     0.94329,     0.94354,      0.9438,     0.94405,     0.94431,\n",
              "            0.94456,     0.94481,     0.94507,     0.94545,      0.9459,     0.94634,     0.94679,     0.94723,     0.94767,     0.94812,     0.94856,       0.949,     0.94989,     0.95099,      0.9521,     0.95319,     0.95357,     0.95395,     0.95433,     0.95471,     0.95509,     0.95547,     0.95585,\n",
              "            0.95623,     0.95661,     0.95699,     0.96137,     0.96136,     0.96135,     0.96135,     0.96134,     0.96133,     0.96132,     0.96131,     0.96131,      0.9613,     0.96129,     0.96128,     0.96127,     0.96126,     0.96126,     0.96125,     0.96124,     0.96123,     0.96122,     0.96121,\n",
              "            0.96121,     0.96139,     0.96157,     0.96175,     0.96192,      0.9621,     0.96228,     0.96246,     0.96263,     0.96281,     0.96299,     0.96317,     0.96335,     0.96352,      0.9637,     0.96388,     0.96406,     0.96423,     0.96441,     0.96459,     0.96477,     0.96494,     0.96512,\n",
              "             0.9653,      0.9657,     0.96624,     0.96678,     0.96731,     0.96785,     0.96839,     0.96893,     0.96947,     0.96955,     0.96954,     0.96953,     0.96952,      0.9695,     0.96949,     0.96948,     0.96947,     0.96945,     0.96944,     0.96954,     0.96989,     0.97023,     0.97057,\n",
              "            0.97091,     0.97125,      0.9716,     0.97194,     0.97228,     0.97262,     0.97296,      0.9733,     0.97365,     0.97368,     0.97367,     0.97366,     0.97366,     0.97365,     0.97364,     0.97364,     0.97363,     0.97362,     0.97361,     0.97361,      0.9736,     0.97359,     0.97359,\n",
              "            0.97358,     0.97357,     0.97437,     0.97585,     0.97732,     0.97796,     0.97808,     0.97821,     0.97834,     0.97846,     0.97859,     0.97872,     0.97885,     0.97897,      0.9791,     0.97923,     0.97936,     0.97948,     0.97961,     0.97974,     0.97986,     0.97999,     0.98012,\n",
              "            0.98025,     0.98037,      0.9805,     0.98063,     0.98076,     0.98088,     0.98101,     0.98114,     0.98126,     0.98139,     0.98152,     0.98165,     0.98177,      0.9819,     0.98203,     0.98216,     0.98222,     0.98222,     0.98221,     0.98221,     0.98221,      0.9822,      0.9822,\n",
              "             0.9822,     0.98219,     0.98219,     0.98219,     0.98218,     0.98218,     0.98218,     0.98217,     0.98217,     0.98217,     0.98216,     0.98216,     0.98216,     0.98215,     0.98215,     0.98215,     0.98214,     0.98214,     0.98213,     0.98212,     0.98212,     0.98211,      0.9821,\n",
              "             0.9821,     0.98209,     0.98209,     0.98208,     0.98207,     0.98207,     0.98203,     0.98198,     0.98198,     0.98197,     0.98197,     0.98196,     0.98196,     0.98195,     0.98195,     0.98195,     0.98194,     0.98194,     0.98193,     0.98193,     0.98192,     0.98192,     0.98191,\n",
              "            0.98191,     0.98191,      0.9819,     0.98278,      0.9838,     0.98482,     0.98583,     0.98857,      0.9932,     0.99541,     0.99541,     0.99541,      0.9954,      0.9954,      0.9954,      0.9954,     0.99539,     0.99539,     0.99539,     0.99539,     0.99539,     0.99539,     0.99539,\n",
              "            0.99539,     0.99539,     0.99539,     0.99539,     0.99539,     0.99539,     0.99539,     0.99538,     0.99538,     0.99538,     0.99538,     0.99538,     0.99538,     0.99538,     0.99538,     0.99538,     0.99538,     0.99538,     0.99538,     0.99538,     0.99538,     0.99538,     0.99538,\n",
              "            0.99538,     0.99538,     0.99538,     0.99538,     0.99537,     0.99537,     0.99537,     0.99537,     0.99537,     0.99537,     0.99537,     0.99537,     0.99537,           1,           1,           1,           1,           1,           1,           1,           1,           1,           1,\n",
              "                  1,           1,           1,           1,           1,           1,           1,           1,           1,           1,           1,           1,           1,           1,           1,           1,           1,           1,           1,           1,           1,           1,           1,\n",
              "                  1,           1,           1,           1,           1,           1,           1,           1,           1,           1,           1,           1,           1,           1,           1,           1,           1,           1,           1,           1,           1,           1,           1,\n",
              "                  1,           1,           1,           1,           1,           1,           1,           1,           1,           1,           1,           1,           1,           1,           1,           1,           1,           1,           1,           1,           1,           1,           1,\n",
              "                  1,           1,           1,           1,           1,           1,           1,           1,           1,           1,           1,           1,           1,           1,           1,           1,           1,           1,           1,           1,           1,           1,           1,\n",
              "                  1,           1,           1,           1,           1,           1,           1,           1,           1,           1,           1,           1,           1,           1,           1,           1,           1,           1,           1,           1,           1,           1,           1,\n",
              "                  1,           1,           1,           1,           1,           1,           1,           1,           1,           1,           1,           1,           1,           1,           1,           1,           1,           1,           1,           1,           1,           1,           1,\n",
              "                  1,           1,           1,           1,           1,           1,           1,           1,           1,           1,           1,           1,           1,           1,           1,           1,           1,           1,           1,           1,           1,           1,           1,\n",
              "                  1,           1,           1,           1,           1,           1,           1,           1,           1,           1,           1,           1,           1,           1,           1,           1,           1,           1,           1,           1,           1,           1,           1,\n",
              "                  1,           1,           1,           1,           1,           1,           1,           1,           1,           1,           1,           1,           1,           1,           1,           1,           1,           1,           1,           1,           1,           1,           1,\n",
              "                  1,           1,           1,           1,           1,           1,           1,           1,           1,           1,           1,           1,           1,           1,           1,           1,           1,           1,           1,           1,           1,           1,           1,\n",
              "                  1,           1,           1,           1,           1,           1,           1,           1,           1,           1,           1,           1,           1,           1,           1,           1,           1,           1,           1,           1,           1,           1,           1,\n",
              "                  1,           1,           1,           1,           1,           1,           1,           1,           1,           1,           1,           1,           1,           1,           1,           1,           1,           1,           1,           1,           1,           1,           1,\n",
              "                  1,           1,           1,           1,           1,           1,           1,           1,           1,           1,           1,           1,           1,           1,           1,           1,           1,           1,           1,           1,           1,           1,           1,\n",
              "                  1,           1,           1,           1,           1,           1,           1,           1,           1,           1,           1,           1,           1,           1,           1,           1,           1,           1,           1,           1,           1,           1,           1,\n",
              "                  1,           1,           1,           1,           1,           1,           1,           1,           1,           1,           1,           1,           1,           1,           1,           1,           1,           1,           1,           1,           1,           1,           1,\n",
              "                  1,           1,           1,           1,           1,           1,           1,           1,           1,           1,           1,           1,           1,           1,           1,           1,           1,           1,           1,           1,           1,           1,           1,\n",
              "                  1,           1,           1,           1,           1,           1,           1,           1,           1,           1,           1]]), 'Confidence', 'Precision'], [array([          0,    0.001001,    0.002002,    0.003003,    0.004004,    0.005005,    0.006006,    0.007007,    0.008008,    0.009009,     0.01001,    0.011011,    0.012012,    0.013013,    0.014014,    0.015015,    0.016016,    0.017017,    0.018018,    0.019019,     0.02002,    0.021021,    0.022022,    0.023023,\n",
              "          0.024024,    0.025025,    0.026026,    0.027027,    0.028028,    0.029029,     0.03003,    0.031031,    0.032032,    0.033033,    0.034034,    0.035035,    0.036036,    0.037037,    0.038038,    0.039039,     0.04004,    0.041041,    0.042042,    0.043043,    0.044044,    0.045045,    0.046046,    0.047047,\n",
              "          0.048048,    0.049049,     0.05005,    0.051051,    0.052052,    0.053053,    0.054054,    0.055055,    0.056056,    0.057057,    0.058058,    0.059059,     0.06006,    0.061061,    0.062062,    0.063063,    0.064064,    0.065065,    0.066066,    0.067067,    0.068068,    0.069069,     0.07007,    0.071071,\n",
              "          0.072072,    0.073073,    0.074074,    0.075075,    0.076076,    0.077077,    0.078078,    0.079079,     0.08008,    0.081081,    0.082082,    0.083083,    0.084084,    0.085085,    0.086086,    0.087087,    0.088088,    0.089089,     0.09009,    0.091091,    0.092092,    0.093093,    0.094094,    0.095095,\n",
              "          0.096096,    0.097097,    0.098098,    0.099099,      0.1001,      0.1011,      0.1021,      0.1031,      0.1041,     0.10511,     0.10611,     0.10711,     0.10811,     0.10911,     0.11011,     0.11111,     0.11211,     0.11311,     0.11411,     0.11512,     0.11612,     0.11712,     0.11812,     0.11912,\n",
              "           0.12012,     0.12112,     0.12212,     0.12312,     0.12412,     0.12513,     0.12613,     0.12713,     0.12813,     0.12913,     0.13013,     0.13113,     0.13213,     0.13313,     0.13413,     0.13514,     0.13614,     0.13714,     0.13814,     0.13914,     0.14014,     0.14114,     0.14214,     0.14314,\n",
              "           0.14414,     0.14515,     0.14615,     0.14715,     0.14815,     0.14915,     0.15015,     0.15115,     0.15215,     0.15315,     0.15415,     0.15516,     0.15616,     0.15716,     0.15816,     0.15916,     0.16016,     0.16116,     0.16216,     0.16316,     0.16416,     0.16517,     0.16617,     0.16717,\n",
              "           0.16817,     0.16917,     0.17017,     0.17117,     0.17217,     0.17317,     0.17417,     0.17518,     0.17618,     0.17718,     0.17818,     0.17918,     0.18018,     0.18118,     0.18218,     0.18318,     0.18418,     0.18519,     0.18619,     0.18719,     0.18819,     0.18919,     0.19019,     0.19119,\n",
              "           0.19219,     0.19319,     0.19419,      0.1952,      0.1962,      0.1972,      0.1982,      0.1992,      0.2002,      0.2012,      0.2022,      0.2032,      0.2042,     0.20521,     0.20621,     0.20721,     0.20821,     0.20921,     0.21021,     0.21121,     0.21221,     0.21321,     0.21421,     0.21522,\n",
              "           0.21622,     0.21722,     0.21822,     0.21922,     0.22022,     0.22122,     0.22222,     0.22322,     0.22422,     0.22523,     0.22623,     0.22723,     0.22823,     0.22923,     0.23023,     0.23123,     0.23223,     0.23323,     0.23423,     0.23524,     0.23624,     0.23724,     0.23824,     0.23924,\n",
              "           0.24024,     0.24124,     0.24224,     0.24324,     0.24424,     0.24525,     0.24625,     0.24725,     0.24825,     0.24925,     0.25025,     0.25125,     0.25225,     0.25325,     0.25425,     0.25526,     0.25626,     0.25726,     0.25826,     0.25926,     0.26026,     0.26126,     0.26226,     0.26326,\n",
              "           0.26426,     0.26527,     0.26627,     0.26727,     0.26827,     0.26927,     0.27027,     0.27127,     0.27227,     0.27327,     0.27427,     0.27528,     0.27628,     0.27728,     0.27828,     0.27928,     0.28028,     0.28128,     0.28228,     0.28328,     0.28428,     0.28529,     0.28629,     0.28729,\n",
              "           0.28829,     0.28929,     0.29029,     0.29129,     0.29229,     0.29329,     0.29429,      0.2953,      0.2963,      0.2973,      0.2983,      0.2993,      0.3003,      0.3013,      0.3023,      0.3033,      0.3043,     0.30531,     0.30631,     0.30731,     0.30831,     0.30931,     0.31031,     0.31131,\n",
              "           0.31231,     0.31331,     0.31431,     0.31532,     0.31632,     0.31732,     0.31832,     0.31932,     0.32032,     0.32132,     0.32232,     0.32332,     0.32432,     0.32533,     0.32633,     0.32733,     0.32833,     0.32933,     0.33033,     0.33133,     0.33233,     0.33333,     0.33433,     0.33534,\n",
              "           0.33634,     0.33734,     0.33834,     0.33934,     0.34034,     0.34134,     0.34234,     0.34334,     0.34434,     0.34535,     0.34635,     0.34735,     0.34835,     0.34935,     0.35035,     0.35135,     0.35235,     0.35335,     0.35435,     0.35536,     0.35636,     0.35736,     0.35836,     0.35936,\n",
              "           0.36036,     0.36136,     0.36236,     0.36336,     0.36436,     0.36537,     0.36637,     0.36737,     0.36837,     0.36937,     0.37037,     0.37137,     0.37237,     0.37337,     0.37437,     0.37538,     0.37638,     0.37738,     0.37838,     0.37938,     0.38038,     0.38138,     0.38238,     0.38338,\n",
              "           0.38438,     0.38539,     0.38639,     0.38739,     0.38839,     0.38939,     0.39039,     0.39139,     0.39239,     0.39339,     0.39439,      0.3954,      0.3964,      0.3974,      0.3984,      0.3994,      0.4004,      0.4014,      0.4024,      0.4034,      0.4044,     0.40541,     0.40641,     0.40741,\n",
              "           0.40841,     0.40941,     0.41041,     0.41141,     0.41241,     0.41341,     0.41441,     0.41542,     0.41642,     0.41742,     0.41842,     0.41942,     0.42042,     0.42142,     0.42242,     0.42342,     0.42442,     0.42543,     0.42643,     0.42743,     0.42843,     0.42943,     0.43043,     0.43143,\n",
              "           0.43243,     0.43343,     0.43443,     0.43544,     0.43644,     0.43744,     0.43844,     0.43944,     0.44044,     0.44144,     0.44244,     0.44344,     0.44444,     0.44545,     0.44645,     0.44745,     0.44845,     0.44945,     0.45045,     0.45145,     0.45245,     0.45345,     0.45445,     0.45546,\n",
              "           0.45646,     0.45746,     0.45846,     0.45946,     0.46046,     0.46146,     0.46246,     0.46346,     0.46446,     0.46547,     0.46647,     0.46747,     0.46847,     0.46947,     0.47047,     0.47147,     0.47247,     0.47347,     0.47447,     0.47548,     0.47648,     0.47748,     0.47848,     0.47948,\n",
              "           0.48048,     0.48148,     0.48248,     0.48348,     0.48448,     0.48549,     0.48649,     0.48749,     0.48849,     0.48949,     0.49049,     0.49149,     0.49249,     0.49349,     0.49449,      0.4955,      0.4965,      0.4975,      0.4985,      0.4995,      0.5005,      0.5015,      0.5025,      0.5035,\n",
              "            0.5045,     0.50551,     0.50651,     0.50751,     0.50851,     0.50951,     0.51051,     0.51151,     0.51251,     0.51351,     0.51451,     0.51552,     0.51652,     0.51752,     0.51852,     0.51952,     0.52052,     0.52152,     0.52252,     0.52352,     0.52452,     0.52553,     0.52653,     0.52753,\n",
              "           0.52853,     0.52953,     0.53053,     0.53153,     0.53253,     0.53353,     0.53453,     0.53554,     0.53654,     0.53754,     0.53854,     0.53954,     0.54054,     0.54154,     0.54254,     0.54354,     0.54454,     0.54555,     0.54655,     0.54755,     0.54855,     0.54955,     0.55055,     0.55155,\n",
              "           0.55255,     0.55355,     0.55455,     0.55556,     0.55656,     0.55756,     0.55856,     0.55956,     0.56056,     0.56156,     0.56256,     0.56356,     0.56456,     0.56557,     0.56657,     0.56757,     0.56857,     0.56957,     0.57057,     0.57157,     0.57257,     0.57357,     0.57457,     0.57558,\n",
              "           0.57658,     0.57758,     0.57858,     0.57958,     0.58058,     0.58158,     0.58258,     0.58358,     0.58458,     0.58559,     0.58659,     0.58759,     0.58859,     0.58959,     0.59059,     0.59159,     0.59259,     0.59359,     0.59459,      0.5956,      0.5966,      0.5976,      0.5986,      0.5996,\n",
              "            0.6006,      0.6016,      0.6026,      0.6036,      0.6046,     0.60561,     0.60661,     0.60761,     0.60861,     0.60961,     0.61061,     0.61161,     0.61261,     0.61361,     0.61461,     0.61562,     0.61662,     0.61762,     0.61862,     0.61962,     0.62062,     0.62162,     0.62262,     0.62362,\n",
              "           0.62462,     0.62563,     0.62663,     0.62763,     0.62863,     0.62963,     0.63063,     0.63163,     0.63263,     0.63363,     0.63463,     0.63564,     0.63664,     0.63764,     0.63864,     0.63964,     0.64064,     0.64164,     0.64264,     0.64364,     0.64464,     0.64565,     0.64665,     0.64765,\n",
              "           0.64865,     0.64965,     0.65065,     0.65165,     0.65265,     0.65365,     0.65465,     0.65566,     0.65666,     0.65766,     0.65866,     0.65966,     0.66066,     0.66166,     0.66266,     0.66366,     0.66466,     0.66567,     0.66667,     0.66767,     0.66867,     0.66967,     0.67067,     0.67167,\n",
              "           0.67267,     0.67367,     0.67467,     0.67568,     0.67668,     0.67768,     0.67868,     0.67968,     0.68068,     0.68168,     0.68268,     0.68368,     0.68468,     0.68569,     0.68669,     0.68769,     0.68869,     0.68969,     0.69069,     0.69169,     0.69269,     0.69369,     0.69469,      0.6957,\n",
              "            0.6967,      0.6977,      0.6987,      0.6997,      0.7007,      0.7017,      0.7027,      0.7037,      0.7047,     0.70571,     0.70671,     0.70771,     0.70871,     0.70971,     0.71071,     0.71171,     0.71271,     0.71371,     0.71471,     0.71572,     0.71672,     0.71772,     0.71872,     0.71972,\n",
              "           0.72072,     0.72172,     0.72272,     0.72372,     0.72472,     0.72573,     0.72673,     0.72773,     0.72873,     0.72973,     0.73073,     0.73173,     0.73273,     0.73373,     0.73473,     0.73574,     0.73674,     0.73774,     0.73874,     0.73974,     0.74074,     0.74174,     0.74274,     0.74374,\n",
              "           0.74474,     0.74575,     0.74675,     0.74775,     0.74875,     0.74975,     0.75075,     0.75175,     0.75275,     0.75375,     0.75475,     0.75576,     0.75676,     0.75776,     0.75876,     0.75976,     0.76076,     0.76176,     0.76276,     0.76376,     0.76476,     0.76577,     0.76677,     0.76777,\n",
              "           0.76877,     0.76977,     0.77077,     0.77177,     0.77277,     0.77377,     0.77477,     0.77578,     0.77678,     0.77778,     0.77878,     0.77978,     0.78078,     0.78178,     0.78278,     0.78378,     0.78478,     0.78579,     0.78679,     0.78779,     0.78879,     0.78979,     0.79079,     0.79179,\n",
              "           0.79279,     0.79379,     0.79479,      0.7958,      0.7968,      0.7978,      0.7988,      0.7998,      0.8008,      0.8018,      0.8028,      0.8038,      0.8048,     0.80581,     0.80681,     0.80781,     0.80881,     0.80981,     0.81081,     0.81181,     0.81281,     0.81381,     0.81481,     0.81582,\n",
              "           0.81682,     0.81782,     0.81882,     0.81982,     0.82082,     0.82182,     0.82282,     0.82382,     0.82482,     0.82583,     0.82683,     0.82783,     0.82883,     0.82983,     0.83083,     0.83183,     0.83283,     0.83383,     0.83483,     0.83584,     0.83684,     0.83784,     0.83884,     0.83984,\n",
              "           0.84084,     0.84184,     0.84284,     0.84384,     0.84484,     0.84585,     0.84685,     0.84785,     0.84885,     0.84985,     0.85085,     0.85185,     0.85285,     0.85385,     0.85485,     0.85586,     0.85686,     0.85786,     0.85886,     0.85986,     0.86086,     0.86186,     0.86286,     0.86386,\n",
              "           0.86486,     0.86587,     0.86687,     0.86787,     0.86887,     0.86987,     0.87087,     0.87187,     0.87287,     0.87387,     0.87487,     0.87588,     0.87688,     0.87788,     0.87888,     0.87988,     0.88088,     0.88188,     0.88288,     0.88388,     0.88488,     0.88589,     0.88689,     0.88789,\n",
              "           0.88889,     0.88989,     0.89089,     0.89189,     0.89289,     0.89389,     0.89489,      0.8959,      0.8969,      0.8979,      0.8989,      0.8999,      0.9009,      0.9019,      0.9029,      0.9039,      0.9049,     0.90591,     0.90691,     0.90791,     0.90891,     0.90991,     0.91091,     0.91191,\n",
              "           0.91291,     0.91391,     0.91491,     0.91592,     0.91692,     0.91792,     0.91892,     0.91992,     0.92092,     0.92192,     0.92292,     0.92392,     0.92492,     0.92593,     0.92693,     0.92793,     0.92893,     0.92993,     0.93093,     0.93193,     0.93293,     0.93393,     0.93493,     0.93594,\n",
              "           0.93694,     0.93794,     0.93894,     0.93994,     0.94094,     0.94194,     0.94294,     0.94394,     0.94494,     0.94595,     0.94695,     0.94795,     0.94895,     0.94995,     0.95095,     0.95195,     0.95295,     0.95395,     0.95495,     0.95596,     0.95696,     0.95796,     0.95896,     0.95996,\n",
              "           0.96096,     0.96196,     0.96296,     0.96396,     0.96496,     0.96597,     0.96697,     0.96797,     0.96897,     0.96997,     0.97097,     0.97197,     0.97297,     0.97397,     0.97497,     0.97598,     0.97698,     0.97798,     0.97898,     0.97998,     0.98098,     0.98198,     0.98298,     0.98398,\n",
              "           0.98498,     0.98599,     0.98699,     0.98799,     0.98899,     0.98999,     0.99099,     0.99199,     0.99299,     0.99399,     0.99499,       0.996,       0.997,       0.998,       0.999,           1]), array([[     0.9958,      0.9958,      0.9916,      0.9916,      0.9916,      0.9916,      0.9916,      0.9916,      0.9916,      0.9916,      0.9916,      0.9916,      0.9916,      0.9916,      0.9916,      0.9916,      0.9916,     0.98739,     0.98739,     0.98319,     0.98319,     0.98319,     0.98319,\n",
              "            0.98319,     0.98319,     0.98319,     0.98319,     0.98319,     0.98319,     0.98319,     0.98319,     0.98319,     0.98319,     0.98319,     0.98319,     0.98319,     0.98319,     0.98319,     0.98319,     0.98319,     0.98319,     0.98319,     0.98319,     0.98319,     0.98319,     0.98273,\n",
              "            0.98023,     0.97899,     0.97899,     0.97899,     0.97899,     0.97899,     0.97899,     0.97899,     0.97899,     0.97899,     0.97899,     0.97899,     0.97899,     0.97899,     0.97899,     0.97899,     0.97899,     0.97899,     0.97899,     0.97899,     0.97899,     0.97899,     0.97899,\n",
              "            0.97899,     0.97899,     0.97899,     0.97899,     0.97899,     0.97899,     0.97899,     0.97899,     0.97899,     0.97899,     0.97899,     0.97899,     0.97899,     0.97493,     0.97479,     0.97479,     0.97479,     0.97479,     0.97479,     0.97479,     0.97479,     0.97479,     0.97479,\n",
              "            0.97479,     0.97479,     0.97479,     0.97479,     0.97479,     0.97479,     0.97479,     0.97479,     0.97479,     0.97479,     0.97479,     0.97479,     0.97479,     0.97479,     0.97479,     0.97479,     0.97479,     0.97479,     0.97479,     0.97479,     0.97479,     0.97479,     0.97479,\n",
              "            0.97479,     0.97479,     0.97479,     0.97479,     0.97479,     0.97479,     0.97479,     0.97479,     0.97479,     0.97479,     0.97479,     0.97479,     0.97479,     0.97479,     0.97479,     0.97479,     0.97479,     0.97479,     0.97479,     0.97479,     0.97479,     0.97479,     0.97479,\n",
              "            0.97479,     0.97479,     0.97434,     0.97253,     0.97071,     0.97059,     0.97059,     0.97059,     0.97059,     0.96992,     0.96869,     0.96746,     0.96639,     0.96639,     0.96639,     0.96639,     0.96639,     0.96639,     0.96639,     0.96639,     0.96639,     0.96639,     0.96639,\n",
              "            0.96639,      0.9656,     0.96295,     0.96218,     0.96218,     0.96218,     0.96218,     0.96218,     0.96218,     0.96202,     0.96134,     0.96067,     0.95999,     0.95931,     0.95864,     0.95798,     0.95798,     0.95798,     0.95798,     0.95798,     0.95798,     0.95798,     0.95798,\n",
              "            0.95798,     0.95798,     0.95798,     0.95798,     0.95798,     0.95798,     0.95798,     0.95798,     0.95798,     0.95798,     0.95798,     0.95798,     0.95798,     0.95798,     0.95798,     0.95798,     0.95798,     0.95798,     0.95798,     0.95798,     0.95798,     0.95627,     0.95378,\n",
              "            0.95378,     0.95378,     0.95378,     0.95378,     0.95378,     0.95378,     0.95378,     0.95378,     0.95378,     0.95378,     0.95378,     0.95378,     0.95378,     0.95378,     0.95378,     0.95378,     0.95378,     0.95378,     0.95378,     0.95378,     0.95378,     0.95378,     0.95378,\n",
              "            0.95378,     0.95378,     0.95378,     0.95378,     0.95378,     0.95352,      0.9515,     0.94958,     0.94958,     0.94958,     0.94958,     0.94958,     0.94956,     0.94915,     0.94874,     0.94833,     0.94792,     0.94751,      0.9471,     0.94669,     0.94628,     0.94587,     0.94546,\n",
              "             0.9452,     0.94497,     0.94475,     0.94453,      0.9443,     0.94408,     0.94385,     0.94363,     0.94341,     0.94318,     0.94296,     0.94274,     0.94251,     0.94229,     0.94206,     0.94184,     0.94162,     0.94139,     0.94118,     0.94118,     0.94118,     0.94118,     0.94118,\n",
              "            0.94118,     0.94118,     0.94118,     0.94118,     0.94118,     0.94118,     0.94118,     0.94118,     0.94118,     0.94118,     0.94118,     0.94118,     0.94118,     0.94118,     0.94118,     0.94118,     0.94118,     0.94118,     0.94118,     0.94118,     0.94118,     0.94118,     0.94118,\n",
              "            0.94118,     0.94118,     0.94118,     0.94118,     0.94118,     0.94118,     0.94118,     0.94118,     0.94118,     0.94118,     0.94118,     0.94118,     0.94118,     0.94118,     0.94118,     0.94118,     0.94118,     0.94118,     0.94118,     0.94118,     0.94118,     0.94118,     0.94118,\n",
              "            0.94118,     0.94118,     0.94118,     0.94118,     0.94118,     0.94118,     0.94118,     0.94118,     0.94118,     0.94118,     0.94118,     0.94118,     0.94118,     0.94118,     0.94118,     0.94118,     0.94118,     0.94118,     0.94118,     0.94118,     0.94118,     0.94118,     0.94118,\n",
              "            0.94118,     0.94118,     0.94118,     0.94118,     0.94118,     0.94118,     0.94118,     0.94118,     0.94118,     0.94118,     0.94118,     0.94118,     0.94118,     0.94118,     0.94118,     0.94118,     0.94118,     0.94118,     0.94118,     0.94118,     0.94118,     0.94118,     0.94118,\n",
              "            0.94118,     0.94118,     0.94118,     0.94112,     0.94091,      0.9407,      0.9405,     0.94029,     0.94008,     0.93987,     0.93967,     0.93946,     0.93925,     0.93904,     0.93884,     0.93863,     0.93842,     0.93821,     0.93801,      0.9378,     0.93759,     0.93738,     0.93718,\n",
              "            0.93697,     0.93697,     0.93697,     0.93697,     0.93697,     0.93697,     0.93697,     0.93697,     0.93697,     0.93697,     0.93697,     0.93697,     0.93697,     0.93697,     0.93697,     0.93697,     0.93697,     0.93697,     0.93697,     0.93697,     0.93697,     0.93697,     0.93697,\n",
              "            0.93697,     0.93697,     0.93697,     0.93697,     0.93697,     0.93697,     0.93697,     0.93697,     0.93697,     0.93665,     0.93625,     0.93585,     0.93545,     0.93505,     0.93465,     0.93424,     0.93384,     0.93344,     0.93304,     0.93277,     0.93277,     0.93277,     0.93277,\n",
              "            0.93277,     0.93277,     0.93277,     0.93277,     0.93277,     0.93277,     0.93277,     0.93277,     0.93277,     0.93254,     0.93229,     0.93203,     0.93177,     0.93152,     0.93126,       0.931,     0.93074,     0.93049,     0.93023,     0.92997,     0.92972,     0.92946,      0.9292,\n",
              "            0.92894,     0.92869,     0.92857,     0.92857,     0.92857,     0.92857,     0.92857,     0.92857,     0.92857,     0.92857,     0.92857,     0.92857,     0.92857,     0.92857,     0.92857,     0.92857,     0.92857,     0.92857,     0.92857,     0.92857,     0.92857,     0.92857,     0.92857,\n",
              "            0.92857,     0.92857,     0.92857,     0.92857,     0.92857,     0.92857,     0.92857,     0.92857,     0.92857,     0.92857,     0.92857,     0.92857,     0.92857,     0.92857,     0.92857,     0.92857,     0.92849,     0.92831,     0.92813,     0.92795,     0.92777,     0.92759,     0.92741,\n",
              "            0.92723,     0.92705,     0.92687,     0.92669,     0.92651,     0.92633,     0.92615,     0.92597,     0.92579,     0.92561,     0.92544,     0.92526,     0.92508,      0.9249,     0.92472,     0.92454,     0.92435,     0.92402,     0.92369,     0.92336,     0.92302,     0.92269,     0.92236,\n",
              "            0.92203,      0.9217,     0.92137,     0.92104,     0.92071,     0.92037,     0.91854,     0.91587,     0.91565,     0.91542,     0.91519,     0.91497,     0.91474,     0.91451,     0.91429,     0.91406,     0.91383,     0.91361,     0.91338,     0.91315,     0.91293,      0.9127,     0.91247,\n",
              "            0.91225,     0.91202,     0.91179,     0.91176,     0.91176,     0.91176,     0.91176,     0.91176,     0.91176,     0.91148,     0.91094,      0.9104,     0.90987,     0.90933,     0.90879,     0.90825,     0.90771,     0.90749,     0.90739,     0.90729,     0.90719,      0.9071,       0.907,\n",
              "             0.9069,      0.9068,      0.9067,      0.9066,      0.9065,      0.9064,      0.9063,      0.9062,     0.90611,     0.90601,     0.90591,     0.90581,     0.90571,     0.90561,     0.90551,     0.90541,     0.90531,     0.90521,     0.90512,     0.90502,     0.90492,     0.90482,     0.90472,\n",
              "            0.90462,     0.90452,     0.90442,     0.90432,     0.90422,     0.90413,     0.90403,     0.90393,     0.90383,     0.90373,     0.90363,     0.90353,     0.90343,     0.90334,     0.90327,     0.90321,     0.90314,     0.90307,     0.90301,     0.90294,     0.90287,      0.9028,     0.90274,\n",
              "            0.90267,      0.9026,     0.90253,     0.90247,      0.9024,     0.90233,     0.90227,      0.9022,     0.90213,     0.90206,       0.902,     0.90193,     0.90186,     0.90179,     0.90173,     0.90166,     0.90159,     0.90153,     0.90146,     0.90139,     0.90132,     0.90126,     0.90119,\n",
              "            0.90112,     0.90105,     0.90099,     0.90092,     0.90085,     0.90079,     0.90072,     0.90065,     0.90058,     0.90052,     0.90045,     0.90038,     0.90031,     0.90025,     0.90018,     0.90011,     0.90004,     0.89998,     0.89991,     0.89984,     0.89978,     0.89971,     0.89964,\n",
              "            0.89957,     0.89951,     0.89944,     0.89937,      0.8993,     0.89924,     0.89917,     0.89875,     0.89828,      0.8978,     0.89732,     0.89684,     0.89636,     0.89588,     0.89541,      0.8949,     0.89394,     0.89298,     0.89202,     0.89107,     0.88882,     0.88651,     0.88632,\n",
              "            0.88613,     0.88594,     0.88575,     0.88556,     0.88537,     0.88517,     0.88498,     0.88479,      0.8846,     0.88441,     0.88422,     0.88403,     0.88383,     0.88364,     0.88345,     0.88326,     0.88307,     0.88288,     0.88269,     0.88249,     0.88213,     0.88127,     0.88041,\n",
              "            0.87954,     0.87868,     0.87803,     0.87771,     0.87739,     0.87707,     0.87675,     0.87643,     0.87611,      0.8758,     0.87548,     0.87516,     0.87484,     0.87452,      0.8742,     0.86956,      0.8687,     0.86784,     0.86698,     0.86612,     0.86266,      0.8603,     0.85907,\n",
              "            0.85784,     0.85201,     0.84986,     0.84844,     0.84783,     0.84721,      0.8466,     0.84598,     0.84537,     0.84475,     0.84173,      0.8395,     0.83827,     0.83704,     0.83608,     0.83589,     0.83569,      0.8355,      0.8353,      0.8351,     0.83491,     0.83471,     0.83452,\n",
              "            0.83432,     0.83413,     0.83393,     0.83373,     0.83354,     0.83334,     0.83315,     0.83295,     0.83276,     0.83256,     0.83236,     0.83217,     0.83197,     0.83124,     0.83038,     0.82952,     0.82866,      0.8278,     0.82315,     0.82274,     0.82233,     0.82192,     0.82151,\n",
              "             0.8211,     0.82069,     0.82028,     0.81987,     0.81946,     0.81367,     0.81151,     0.80936,     0.80721,     0.80505,      0.8029,     0.79477,      0.7887,     0.78726,     0.78583,     0.77992,      0.7782,     0.77592,     0.77308,     0.77165,     0.77021,     0.76864,     0.76577,\n",
              "            0.75928,     0.75609,     0.75575,     0.75542,     0.75509,     0.75476,     0.75443,      0.7541,     0.75377,     0.75344,      0.7531,     0.75277,     0.75244,     0.75211,      0.7515,     0.75089,     0.75027,     0.74966,     0.74904,     0.74843,     0.74668,     0.74182,     0.73447,\n",
              "            0.73083,      0.7296,     0.72837,     0.72714,     0.72551,     0.72379,     0.72113,     0.71682,     0.70949,     0.70806,     0.70662,     0.70505,     0.70333,     0.70158,     0.69943,     0.69721,     0.69434,      0.6926,     0.69152,     0.69045,     0.68937,     0.68751,     0.68535,\n",
              "            0.68153,      0.6757,     0.67475,     0.67379,     0.67283,      0.6705,     0.66432,     0.65762,     0.65547,     0.65108,     0.64476,     0.63818,     0.63731,     0.63645,     0.63559,     0.63473,      0.6244,     0.61983,     0.61557,     0.60848,     0.60561,     0.60159,     0.59847,\n",
              "            0.59508,      0.5891,     0.57208,      0.5666,     0.56517,     0.56373,     0.56083,     0.55653,     0.54802,     0.54371,     0.53259,     0.52397,     0.51818,     0.51388,     0.49907,     0.49372,     0.48511,     0.47396,     0.47109,      0.4604,     0.45825,     0.44847,      0.4456,\n",
              "            0.42901,      0.4204,     0.40697,     0.40574,      0.4045,     0.39885,     0.39455,     0.38604,     0.37784,     0.37569,     0.36809,     0.35527,      0.3435,     0.33804,     0.32648,     0.31797,      0.3122,     0.29885,     0.29455,     0.27376,     0.27045,     0.26073,     0.25212,\n",
              "             0.2309,     0.21808,     0.21188,     0.20506,     0.19644,     0.18425,     0.17922,      0.1706,     0.15779,     0.15337,     0.14591,     0.14035,     0.11913,     0.11408,    0.095854,    0.093701,    0.091251,     0.08838,     0.08619,    0.084037,    0.075531,    0.071225,    0.067021,\n",
              "            0.06415,    0.054362,    0.052209,    0.048961,    0.045044,    0.043321,    0.039926,     0.03619,    0.034036,    0.032229,    0.030506,    0.028626,    0.026473,    0.024765,    0.023688,    0.022611,    0.021535,    0.020128,    0.018405,     0.01675,    0.015967,    0.015184,    0.014401,\n",
              "           0.013618,    0.012835,    0.010576,   0.0063088,           0,           0,           0,           0,           0,           0,           0,           0,           0,           0,           0,           0,           0,           0,           0,           0,           0,           0,           0,\n",
              "                  0,           0,           0,           0,           0,           0,           0,           0,           0,           0,           0]]), 'Confidence', 'Recall']]\n",
              "fitness: 0.8154529970711661\n",
              "keys: ['metrics/precision(B)', 'metrics/recall(B)', 'metrics/mAP50(B)', 'metrics/mAP50-95(B)']\n",
              "maps: array([    0.79695])\n",
              "names: {0: 'car'}\n",
              "plot: True\n",
              "results_dict: {'metrics/precision(B)': 0.9787188537041044, 'metrics/recall(B)': 0.9285714285714286, 'metrics/mAP50(B)': 0.9819861795819685, 'metrics/mAP50-95(B)': 0.7969493101255214, 'fitness': 0.8154529970711661}\n",
              "save_dir: PosixPath('/content/runs/exp')\n",
              "speed: {'preprocess': 0.3805708757696305, 'inference': 3.326954051135058, 'loss': 0.000581384342621992, 'postprocess': 7.817556513822014}\n",
              "task: 'detect'"
            ]
          },
          "metadata": {},
          "execution_count": 15
        }
      ]
    },
    {
      "cell_type": "code",
      "source": [
        "from ultralytics import YOLO\n",
        "import matplotlib.pyplot as plt\n",
        "import seaborn as sns\n",
        "import cv2\n",
        "\n",
        "# 학습된 모델 로드\n",
        "model = YOLO('/content/runs/exp/weights/best.pt')\n",
        "\n",
        "# 검증 데이터셋 설정 (예: coco128.yaml 파일)\n",
        "validation_data = '/content/roboflow/data.yaml'\n",
        "\n",
        "# 모델 검증\n",
        "metrics = model.val(data=validation_data)\n",
        "\n",
        "# 성능 지표 출력\n",
        "# 'Precision' = 정확도\n",
        "#  => 'Precision'은 모델이 예측한 객체 중 실제로 올바르게 예측된 객체의 비율을 의미\n",
        "# 'Recall' = 재현율\n",
        "#  => 'Recall'은 실제 객체 중 모델이 올바르게 검출한 객체의 비율을 의미\n",
        "# 'mAP@0.5' = Mean Average Precision (IoU=0.5에서의 mAP)\n",
        "# 'mAP@0.5:0.95' = Mean Average Precision (IoU=0.5에서 0.95까지의 mAP)\n",
        "#  => 'mAP'는 객체 검출 모델의 성능을 평가하는 대표적인 지표로,\n",
        "#      해당 값을 통해 모델의 성능을 판별할 수 있음. (높을수록 학습이 잘 된 모델)\n",
        "\n",
        "precision = metrics.box.p\n",
        "recall = metrics.box.r\n",
        "map_50 = metrics.box.map50\n",
        "map_50_95 = metrics.box.map\n",
        "\n",
        "print(f\"Precision: {precision}\")\n",
        "print(f\"Recall: {recall}\")\n",
        "print(f\"mAP@0.5: {map_50}\")\n",
        "print(f\"mAP@0.5:0.95: {map_50_95}\")\n",
        "\n",
        "metrics.confusion_matrix.matrix\n"
      ],
      "metadata": {
        "colab": {
          "base_uri": "https://localhost:8080/"
        },
        "id": "FuJNpfuF7iTj",
        "outputId": "4ea13776-8446-4bc9-956d-94ab828df861"
      },
      "execution_count": 47,
      "outputs": [
        {
          "output_type": "stream",
          "name": "stdout",
          "text": [
            "Ultralytics YOLOv8.2.55 🚀 Python-3.10.12 torch-2.3.0+cu121 CUDA:0 (Tesla T4, 15102MiB)\n",
            "YOLOv8n summary (fused): 168 layers, 3,005,843 parameters, 0 gradients, 8.1 GFLOPs\n"
          ]
        },
        {
          "output_type": "stream",
          "name": "stderr",
          "text": [
            "\u001b[34m\u001b[1mval: \u001b[0mScanning /content/roboflow/valid/labels.cache... 187 images, 0 backgrounds, 0 corrupt: 100%|██████████| 187/187 [00:00<?, ?it/s]\n",
            "/usr/lib/python3.10/multiprocessing/popen_fork.py:66: RuntimeWarning: os.fork() was called. os.fork() is incompatible with multithreaded code, and JAX is multithreaded, so this will likely lead to a deadlock.\n",
            "  self.pid = os.fork()\n",
            "                 Class     Images  Instances      Box(P          R      mAP50  mAP50-95): 100%|██████████| 12/12 [00:07<00:00,  1.66it/s]\n"
          ]
        },
        {
          "output_type": "stream",
          "name": "stdout",
          "text": [
            "                   all        187        238      0.979      0.929      0.982      0.796\n",
            "Speed: 0.6ms preprocess, 6.3ms inference, 0.0ms loss, 6.2ms postprocess per image\n",
            "Results saved to \u001b[1mruns/detect/val23\u001b[0m\n",
            "Precision: [    0.97875]\n",
            "Recall: [    0.92857]\n",
            "mAP@0.5: 0.982032413254485\n",
            "mAP@0.5:0.95: 0.7958917054224899\n"
          ]
        },
        {
          "output_type": "execute_result",
          "data": {
            "text/plain": [
              "array([[        225,          20],\n",
              "       [         13,           0]])"
            ]
          },
          "metadata": {},
          "execution_count": 47
        }
      ]
    },
    {
      "cell_type": "code",
      "source": [
        "pwd"
      ],
      "metadata": {
        "colab": {
          "base_uri": "https://localhost:8080/",
          "height": 35
        },
        "id": "PBzc_U8HJC6L",
        "outputId": "05f88112-cb82-4141-c204-174608a1bb68"
      },
      "execution_count": 49,
      "outputs": [
        {
          "output_type": "execute_result",
          "data": {
            "text/plain": [
              "'/content'"
            ],
            "application/vnd.google.colaboratory.intrinsic+json": {
              "type": "string"
            }
          },
          "metadata": {},
          "execution_count": 49
        }
      ]
    },
    {
      "cell_type": "code",
      "source": [
        "cd /content/runs/detect"
      ],
      "metadata": {
        "colab": {
          "base_uri": "https://localhost:8080/"
        },
        "id": "QT7HQd61JHpU",
        "outputId": "742de1f8-83c2-4f19-d313-95eb0b0147c6"
      },
      "execution_count": 50,
      "outputs": [
        {
          "output_type": "stream",
          "name": "stdout",
          "text": [
            "/content/runs/detect\n"
          ]
        }
      ]
    },
    {
      "cell_type": "code",
      "source": [
        "import locale\n",
        "locale.getpreferredencoding = lambda: \"UTF-8\"\n",
        "\n",
        "!pip install pillow"
      ],
      "metadata": {
        "colab": {
          "base_uri": "https://localhost:8080/"
        },
        "id": "pCOckjMMJ4kL",
        "outputId": "d1c76dd0-def8-4094-b2cc-b8442d75963f"
      },
      "execution_count": 58,
      "outputs": [
        {
          "output_type": "stream",
          "name": "stdout",
          "text": [
            "Requirement already satisfied: pillow in /usr/local/lib/python3.10/dist-packages (9.4.0)\n"
          ]
        }
      ]
    },
    {
      "cell_type": "code",
      "source": [
        "!ls"
      ],
      "metadata": {
        "colab": {
          "base_uri": "https://localhost:8080/"
        },
        "id": "q3QKr21KKEdX",
        "outputId": "68fbd293-7246-497b-e836-12c6c20915cb"
      },
      "execution_count": 60,
      "outputs": [
        {
          "output_type": "stream",
          "name": "stdout",
          "text": [
            "val    val11  val13  val15  val17  val19  val20  val22\tval3  val5  val7  val9\n",
            "val10  val12  val14  val16  val18  val2   val21  val23\tval4  val6  val8\n"
          ]
        }
      ]
    },
    {
      "cell_type": "code",
      "source": [
        "cd val23/"
      ],
      "metadata": {
        "colab": {
          "base_uri": "https://localhost:8080/"
        },
        "id": "G6BmYEemKJaL",
        "outputId": "48a35941-198f-4c0a-bfc8-b11d11ed4415"
      },
      "execution_count": 61,
      "outputs": [
        {
          "output_type": "stream",
          "name": "stdout",
          "text": [
            "/content/runs/detect/val23\n"
          ]
        }
      ]
    },
    {
      "cell_type": "code",
      "source": [
        "!ls"
      ],
      "metadata": {
        "colab": {
          "base_uri": "https://localhost:8080/"
        },
        "id": "Gr_DFjoRKMz5",
        "outputId": "df03f4d9-9ee0-40fe-a6e8-50e0dee3d22f"
      },
      "execution_count": 62,
      "outputs": [
        {
          "output_type": "stream",
          "name": "stdout",
          "text": [
            "confusion_matrix_normalized.png  P_curve.png   val_batch0_labels.jpg  val_batch1_pred.jpg\n",
            "confusion_matrix.png\t\t PR_curve.png  val_batch0_pred.jpg    val_batch2_labels.jpg\n",
            "F1_curve.png\t\t\t R_curve.png   val_batch1_labels.jpg  val_batch2_pred.jpg\n"
          ]
        }
      ]
    },
    {
      "cell_type": "code",
      "source": [
        "from PIL import Image\n",
        "import matplotlib.pyplot as plt\n",
        "\n",
        "# 이미지 파일 경로 설정 (예: 'example.jpg')\n",
        "image_path = 'val_batch2_labels.jpg'\n",
        "\n",
        "# 이미지 열기\n",
        "img = Image.open(image_path)\n",
        "\n",
        "# 이미지 표시\n",
        "plt.imshow(img)\n",
        "plt.axis('off')  # 축 숨기기\n",
        "plt.show()"
      ],
      "metadata": {
        "colab": {
          "base_uri": "https://localhost:8080/",
          "height": 406
        },
        "id": "SeT-Kw4GKA9Z",
        "outputId": "e1194ede-a3cc-48e2-e721-aff5484bb959"
      },
      "execution_count": 64,
      "outputs": [
        {
          "output_type": "display_data",
          "data": {
            "text/plain": [
              "<Figure size 640x480 with 1 Axes>"
            ],
            "image/png": "[encoded data removed]"
          },
          "metadata": {}
        }
      ]
    }
  ]
}